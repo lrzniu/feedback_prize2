{
 "cells": [
  {
   "cell_type": "markdown",
   "id": "925b6644",
   "metadata": {
    "_cell_guid": "b1076dfc-b9ad-4769-8c92-a6c4dae69d19",
    "_uuid": "8f2839f25d086af736a60e9eeb907d3b93b6e0e5",
    "papermill": {
     "duration": 0.176757,
     "end_time": "2022-06-25T05:27:17.158237",
     "exception": false,
     "start_time": "2022-06-25T05:27:16.981480",
     "status": "completed"
    },
    "tags": []
   },
   "source": [
    "Welcome to the [Feedback Prize - Predicting Effective Arguments](https://www.kaggle.com/competitions/feedback-prize-effectiveness) competition by [Georgia State University](https://www.gsu.edu/) on Kaggle.\n",
    "\n",
    " <img alt=\"An example of inference on an essay\" src=\"https://i.imgur.com/uZIST9f.png\" width=\"750px\"/>\n",
    "\n",
    "In this notebook, I give an overview of the competition and explore the dataset before training a baseline model. I also perform additional analysis using the trained model.\n",
    "\n",
    "The notebook includes:\n",
    "* An example of using pseudo-labels on the larger [2021 Feedback Prize Competition](https://www.kaggle.com/competitions/feedback-prize-2021) dataset.\n",
    "* A custom head for the [HuggingFace Transformers](https://huggingface.co/docs/transformers/index) framework.\n",
    "* An implementation of [multi-sample dropout](https://arxiv.org/abs/1905.09788).\n",
    "\n",
    "If you find this helpful notebook, I would appreciate an upvote! ❤️\n",
    "\n",
    "* For inference on the test set, see [Feedback Prize - DeBERTa-v3 Inference](https://www.kaggle.com/code/lextoumbourou/feedback-prize-deberta-v3-inference).\n",
    "* For inference on the 2021 data, see [Feedback Prize - Inference on 2021 Dataset](https://www.kaggle.com/code/lextoumbourou/feedback-prize-inference-on-2021-dataset)."
   ]
  },
  {
   "cell_type": "markdown",
   "id": "ab91dd0b",
   "metadata": {
    "papermill": {
     "duration": 0.158601,
     "end_time": "2022-06-25T05:27:17.477471",
     "exception": false,
     "start_time": "2022-06-25T05:27:17.318870",
     "status": "completed"
    },
    "tags": []
   },
   "source": [
    "# Changelog\n",
    "\n",
    "* **2022-06-25**\n",
    "\n",
    "  Reduce Dropout and validate 2x each epoch. Also some changes for faster training.\n",
    " \n",
    "* **2022-06-19**\n",
    "\n",
    "  Include essay text.\n",
    " \n",
    "* **2022-06-17**\n",
    "\n",
    "  Pseudo-labels appear to be making results a bit worse. Reducing the number. Soft labels or inference with a more accurate model will likely help here.\n",
    "  \n",
    "  Also tuned the multi-sample dropout params.\n",
    " \n",
    "* **2022-06-11**\n",
    "\n",
    "  Add Mean Pooling taken from [this](https://www.kaggle.com/code/debarshichanda/pytorch-feedback-deberta-v3-baseline) notebook by [@debarshichanda](https://www.kaggle.com/debarshichanda).\n",
    " \n",
    "* **2022-06-07**\n",
    "\n",
    "  Clean up.\n",
    "\n",
    "* **2022-06-05**\n",
    "\n",
    "  Add topics to improve EDA.\n",
    "  \n",
    "  Revert label smoothing.\n",
    "\n",
    "* **2022-06-02**\n",
    "\n",
    "  Revert to Deberta Base for iteration speed.\n",
    "  \n",
    "  Add label smoothing.\n",
    "  \n",
    "  Also, update Model Interpretation.\n",
    " \n",
    "* **2022-05-31**\n",
    "\n",
    "  Try Deberta Large.\n",
    " \n",
    "* **2022-05-29**\n",
    "\n",
    "  Add 2021 competition data experiment."
   ]
  },
  {
   "cell_type": "markdown",
   "id": "1ece22f2",
   "metadata": {
    "papermill": {
     "duration": 0.156047,
     "end_time": "2022-06-25T05:27:17.790730",
     "exception": false,
     "start_time": "2022-06-25T05:27:17.634683",
     "status": "completed"
    },
    "tags": []
   },
   "source": [
    "# Competition Overview"
   ]
  },
  {
   "cell_type": "markdown",
   "id": "0bdecfd4",
   "metadata": {
    "papermill": {
     "duration": 0.156547,
     "end_time": "2022-06-25T05:27:18.103719",
     "exception": false,
     "start_time": "2022-06-25T05:27:17.947172",
     "status": "completed"
    },
    "tags": []
   },
   "source": [
    "From the [competition description](https://www.kaggle.com/competitions/feedback-prize-effectiveness/overview/description):\n",
    "\n",
    "*Writing is crucial for success.  In particular, argumentative writing fosters critical thinking and civic engagement skills, and can be strengthened by practice. However, only 13 percent of eighth-grade teachers ask their students to write persuasively each week. Additionally, resource constraints disproportionately impact Black and Hispanic students, so they are more likely to write at the “below basic” level as compared to their white peers. An automated feedback tool is one way to make it easier for teachers to grade writing tasks assigned to their students that will also improve their writing skills.*\n",
    "\n",
    "Our goal in this competition is to classify sections (or \"*elements*\") of student's essays, in 3 categories: `Ineffective` or `Adequate` or `Effective`.\n",
    "\n",
    "The essays were written by 6th-12th grade students located in the USA.\n",
    "\n",
    "The competition is a Code Competition, which means that you must submit your kernel to get a leaderboard score. The unseen test set contains around 3000 essays."
   ]
  },
  {
   "cell_type": "markdown",
   "id": "b1c14e9f",
   "metadata": {
    "papermill": {
     "duration": 0.164958,
     "end_time": "2022-06-25T05:27:18.425073",
     "exception": false,
     "start_time": "2022-06-25T05:27:18.260115",
     "status": "completed"
    },
    "tags": []
   },
   "source": [
    "# Related Competitions\n",
    "\n",
    "## Feedback Prize (2021)\n",
    "\n",
    "The original [Feedback Prize competition](https://www.kaggle.com/competitions/feedback-prize-2021) finished earlier this year. Though a [Named Entity Recognition](https://en.wikipedia.org/wiki/Named-entity_recognition) competition as opposed to classification, the dataset contains 11,403 additional essays and 70,763 additional essay sections.\n",
    "\n",
    "I have done some analysis on that dataset [here](https://www.kaggle.com/code/lextoumbourou/feedback-prize-inference-on-2021-dataset).\n",
    "\n",
    "* [1st solution with code(cv:0.748 lb:0.742)](https://www.kaggle.com/c/feedback-prize-2021/discussion/313177)\n",
    "* [2nd Place - Weighted Box Fusion and Post Process](https://www.kaggle.com/competitions/feedback-prize-2021/discussion/313389)\n",
    "* [3rd Place Solution w code and notebook](https://www.kaggle.com/competitions/feedback-prize-2021/discussion/313235)\n",
    "* [4th place solution - 🎖️ my first gold medal 🎖️ (+source code available!)](https://www.kaggle.com/competitions/feedback-prize-2021/discussion/313330)\n",
    "* [5'th place : simultaneous span segmentation and classification + WBF](https://www.kaggle.com/competitions/feedback-prize-2021/discussion/313478)\n",
    "* [6th place solution. A YOLO-like text span detector.](https://www.kaggle.com/c/feedback-prize-2021/discussion/313424)\n",
    "* [7th place solution](https://www.kaggle.com/competitions/feedback-prize-2021/discussion/315887)\n",
    "* [9th solution, deberta is the king, pure ensemble of bert models](https://www.kaggle.com/competitions/feedback-prize-2021/discussion/313201)\n",
    "* [10th solution](https://www.kaggle.com/c/feedback-prize-2021/discussion/313718)\n",
    "\n",
    "## U.S. Patent Phrase to Phrase Matching\n",
    "\n",
    "https://www.kaggle.com/competitions/us-patent-phrase-to-phrase-matching\n",
    "\n",
    "An NLP competition that finished very recently on June 20.\n",
    "\n",
    "* [1st place solution](https://www.kaggle.com/competitions/us-patent-phrase-to-phrase-matching/discussion/332243)\n",
    "* [2nd Place Solution](https://www.kaggle.com/competitions/us-patent-phrase-to-phrase-matching/discussion/332234)\n",
    "* [3rd place solution](https://www.kaggle.com/competitions/us-patent-phrase-to-phrase-matching/discussion/332420)\n",
    "* [5th solution: prompt is all you need](https://www.kaggle.com/competitions/us-patent-phrase-to-phrase-matching/discussion/332418)\n",
    "* [7th place solution - the power of randomness](https://www.kaggle.com/competitions/us-patent-phrase-to-phrase-matching/discussion/332928)\n",
    "* [8th place solution: Predicting Targets at Once Led Us to Gold](https://www.kaggle.com/competitions/us-patent-phrase-to-phrase-matching/discussion/332492)\n",
    "* [10th place Solution : Single model public lb 0.8562, private lb 0.8717](https://www.kaggle.com/competitions/us-patent-phrase-to-phrase-matching/discussion/332273)\n",
    "* [12th Place Solution](https://www.kaggle.com/competitions/us-patent-phrase-to-phrase-matching/discussion/332567)\n",
    "\n",
    "## NBME Score Clinical Patients\n",
    "\n",
    "https://www.kaggle.com/competitions/nbme-score-clinical-patient-notes\n",
    "\n",
    "A recent NLP competition that finished in May 2022.\n",
    "\n",
    "* [1st solution](https://www.kaggle.com/competitions/nbme-score-clinical-patient-notes/discussion/323095)\n",
    "* [#2 solution](https://www.kaggle.com/competitions/nbme-score-clinical-patient-notes/discussion/323085)\n",
    "* [3rd Place Solution: Meta Pseudo Labels + Knowledge Distillation](https://www.kaggle.com/competitions/nbme-score-clinical-patient-notes/discussion/322832)\n",
    "* [4th place solution: Deberta models & postprocess](https://www.kaggle.com/competitions/nbme-score-clinical-patient-notes/discussion/322799)\n",
    "* [5th place solution](https://www.kaggle.com/competitions/nbme-score-clinical-patient-notes/discussion/322875)\n",
    "* [6th place solution](https://www.kaggle.com/competitions/nbme-score-clinical-patient-notes/discussion/323237)\n",
    "* [7th place solution: Get 0.892 in just 10 minutes](https://www.kaggle.com/competitions/nbme-score-clinical-patient-notes/discussion/322829)\n",
    "* [8th place solution](https://www.kaggle.com/competitions/nbme-score-clinical-patient-notes/discussion/322962)\n",
    "* [9th Weight search and threshold modification](https://www.kaggle.com/competitions/nbme-score-clinical-patient-notes/discussion/322891)\n",
    "\n",
    "## Jigsaw Rate Severity of Toxic Comments\n",
    "\n",
    "https://www.kaggle.com/competitions/jigsaw-toxic-severity-rating\n",
    "\n",
    "Another recent NLP competition with a similar problem statement that finished in February 2022. \n",
    "\n",
    "* [1st place solution with code](https://www.kaggle.com/competitions/jigsaw-toxic-severity-rating/discussion/306274)\n",
    "* [Toxic Solution and Review (2nd Place)](https://www.kaggle.com/competitions/jigsaw-toxic-severity-rating/discussion/308938)\n",
    "* [4th - This is Great! - Shared Solution](https://www.kaggle.com/competitions/jigsaw-toxic-severity-rating/discussion/306084)\n",
    "* [5th place solution](https://www.kaggle.com/competitions/jigsaw-toxic-severity-rating/discussion/306390)\n",
    "* [7th Place Solution](https://www.kaggle.com/competitions/jigsaw-toxic-severity-rating/discussion/306366)\n",
    "\n",
    "See also: [Every single Jigsaw competition solution write up in history](https://www.kaggle.com/competitions/jigsaw-toxic-severity-rating/discussion/286333)\n",
    "\n"
   ]
  },
  {
   "cell_type": "markdown",
   "id": "7799d68c",
   "metadata": {
    "papermill": {
     "duration": 0.156963,
     "end_time": "2022-06-25T05:27:18.739094",
     "exception": false,
     "start_time": "2022-06-25T05:27:18.582131",
     "status": "completed"
    },
    "tags": []
   },
   "source": [
    "# Competition Metric"
   ]
  },
  {
   "cell_type": "markdown",
   "id": "04fe55b3",
   "metadata": {
    "papermill": {
     "duration": 0.160751,
     "end_time": "2022-06-25T05:27:19.057432",
     "exception": false,
     "start_time": "2022-06-25T05:27:18.896681",
     "status": "completed"
    },
    "tags": []
   },
   "source": [
    "Solutions are evaluated using multi-class log loss (also known as negative log-likelihood).\n",
    "\n",
    "$$\\text{log loss} = -\\frac{1}{\\color{magenta}{N}} \\sum\\limits_{i=1}^{\\color{magenta}{N}} \\sum\\limits_{j=1}^{\\color{purple}{M}} \\color{olive}{y_{ij}} \\color{orange}{\\log}(\\color{teal}{p_{ij}})$$\n",
    "\n",
    "Where:\n",
    "* $\\color{magenta}{N}$ = number of rows.\n",
    "* $\\color{purple}{M}$ = number of class labels.\n",
    "* $\\color{olive}{y_{ij}}$ = 1 if $i$ is in class $j$, else 0.\n",
    "* $\\color{orange}{\\log}$ = natural logarithm.\n",
    "* $\\color{teal}{p_{ij}}$ is the predicted probability that $i$ belongs to class $j$.\n",
    "\n",
    "\n",
    "You can think of log loss as the negative log of your prediction for the correct class.\n",
    "\n",
    "The negative log has a range where at 0 the function returns ∞ `−log(0)= ∞` and at 1 returns 0 `−log(1) = 0`\n",
    "\n",
    "This means confidentally wrong answers are heavily penalised.\n",
    "\n",
    "Here I plot the range of the `-log(x)` function."
   ]
  },
  {
   "cell_type": "code",
   "execution_count": 1,
   "id": "8a8b1763",
   "metadata": {
    "_kg_hide-input": true,
    "execution": {
     "iopub.execute_input": "2022-06-25T05:27:19.381863Z",
     "iopub.status.busy": "2022-06-25T05:27:19.381410Z",
     "iopub.status.idle": "2022-06-25T05:27:19.674613Z",
     "shell.execute_reply": "2022-06-25T05:27:19.673629Z"
    },
    "papermill": {
     "duration": 0.459667,
     "end_time": "2022-06-25T05:27:19.678175",
     "exception": false,
     "start_time": "2022-06-25T05:27:19.218508",
     "status": "completed"
    },
    "tags": []
   },
   "outputs": [
    {
     "data": {
      "image/png": "[encoded data removed]",
      "text/plain": [
       "<Figure size 432x288 with 1 Axes>"
      ]
     },
     "metadata": {
      "needs_background": "light"
     },
     "output_type": "display_data"
    }
   ],
   "source": [
    "import numpy as np\n",
    "import matplotlib.pyplot as plt\n",
    "\n",
    "x = np.arange(0.001, 1.0, 0.001)\n",
    "y = -np.log(x)\n",
    "\n",
    "fig,ax = plt.subplots(figsize=(6,4))\n",
    "ax.plot(x,y)\n",
    "plt.ylabel('-log(x)')\n",
    "plt.xlabel('x')\n",
    "plt.title('Range of negative log-likelihood function')\n",
    "plt.show()"
   ]
  },
  {
   "cell_type": "markdown",
   "id": "f5f142c6",
   "metadata": {
    "papermill": {
     "duration": 0.137866,
     "end_time": "2022-06-25T05:27:19.955491",
     "exception": false,
     "start_time": "2022-06-25T05:27:19.817625",
     "status": "completed"
    },
    "tags": []
   },
   "source": [
    "# Imports\n",
    "\n",
    "On top of the standard data science libraries: Pandas, Numpy and Matplotlib, I'm importing these additional libraries for training neural networks:\n",
    "\n",
    "* [HuggingFace Transfomers](https://github.com/huggingface/transformers) library for pre-trained models and training framework.\n",
    "* [PyTorch](https://pytorch.org/) for GPU computation.\n",
    "* [Weights and Biases](https://wandb.ai) for experiment tracking."
   ]
  },
  {
   "cell_type": "code",
   "execution_count": 2,
   "id": "9c51a64c",
   "metadata": {
    "_kg_hide-input": false,
    "execution": {
     "iopub.execute_input": "2022-06-25T05:27:20.231627Z",
     "iopub.status.busy": "2022-06-25T05:27:20.231317Z",
     "iopub.status.idle": "2022-06-25T05:27:31.251720Z",
     "shell.execute_reply": "2022-06-25T05:27:31.250471Z"
    },
    "papermill": {
     "duration": 11.16202,
     "end_time": "2022-06-25T05:27:31.254710",
     "exception": false,
     "start_time": "2022-06-25T05:27:20.092690",
     "status": "completed"
    },
    "tags": []
   },
   "outputs": [],
   "source": [
    "import os\n",
    "\n",
    "run_type = os.environ.get('KAGGLE_KERNEL_RUN_TYPE', '')\n",
    "\n",
    "import logging\n",
    "from types import SimpleNamespace\n",
    "from pathlib import Path\n",
    "from datetime import datetime\n",
    "import math\n",
    "\n",
    "import pandas as pd\n",
    "import numpy as np\n",
    "import seaborn as sns\n",
    "from sklearn.model_selection import StratifiedKFold\n",
    "from sklearn.metrics import log_loss\n",
    "from torch.utils.data import DataLoader, Dataset\n",
    "from transformers import AutoModelForSequenceClassification, AutoTokenizer, AutoConfig\n",
    "from transformers import TrainingArguments, Trainer\n",
    "from tqdm import tqdm\n",
    "from scipy.special import softmax\n",
    "from IPython.core.display import display, HTML\n",
    "\n",
    "from transformers import DataCollatorWithPadding\n",
    "from datasets import Dataset, load_metric\n",
    "\n",
    "import wandb\n",
    "\n",
    "# From this Gist: https://gist.github.com/ihoromi4/b681a9088f348942b01711f251e5f964\n",
    "def seed_everything(seed: int):\n",
    "    import random, os\n",
    "    import numpy as np\n",
    "    import torch\n",
    "    \n",
    "    random.seed(seed)\n",
    "    os.environ['PYTHONHASHSEED'] = str(seed)\n",
    "    np.random.seed(seed)\n",
    "    torch.manual_seed(seed)\n",
    "    torch.cuda.manual_seed(seed)\n",
    "    torch.backends.cudnn.deterministic = True\n",
    "    torch.backends.cudnn.benchmark = True"
   ]
  },
  {
   "cell_type": "markdown",
   "id": "941239df",
   "metadata": {
    "papermill": {
     "duration": 0.1407,
     "end_time": "2022-06-25T05:27:31.534463",
     "exception": false,
     "start_time": "2022-06-25T05:27:31.393763",
     "status": "completed"
    },
    "tags": []
   },
   "source": [
    "# Load Data\n",
    "\n",
    "The competition data includes a training CSV file which includes metadata for each essay element, and a folder containing the full essay texts.\n",
    "\n",
    "Let's start by loading these and looking at an example from the train and test set."
   ]
  },
  {
   "cell_type": "code",
   "execution_count": 3,
   "id": "13e0d42c",
   "metadata": {
    "execution": {
     "iopub.execute_input": "2022-06-25T05:27:31.812516Z",
     "iopub.status.busy": "2022-06-25T05:27:31.812177Z",
     "iopub.status.idle": "2022-06-25T05:27:32.090565Z",
     "shell.execute_reply": "2022-06-25T05:27:32.089584Z"
    },
    "papermill": {
     "duration": 0.420331,
     "end_time": "2022-06-25T05:27:32.093231",
     "exception": false,
     "start_time": "2022-06-25T05:27:31.672900",
     "status": "completed"
    },
    "tags": []
   },
   "outputs": [],
   "source": [
    "train_df = pd.read_csv('../input/feedback-prize-effectiveness/train.csv')\n",
    "test_df = pd.read_csv('../input/feedback-prize-effectiveness/test.csv')"
   ]
  },
  {
   "cell_type": "code",
   "execution_count": 4,
   "id": "3d7f56b4",
   "metadata": {
    "execution": {
     "iopub.execute_input": "2022-06-25T05:27:32.369402Z",
     "iopub.status.busy": "2022-06-25T05:27:32.369004Z",
     "iopub.status.idle": "2022-06-25T05:27:32.387277Z",
     "shell.execute_reply": "2022-06-25T05:27:32.386080Z"
    },
    "papermill": {
     "duration": 0.1617,
     "end_time": "2022-06-25T05:27:32.390208",
     "exception": false,
     "start_time": "2022-06-25T05:27:32.228508",
     "status": "completed"
    },
    "tags": []
   },
   "outputs": [
    {
     "data": {
      "text/html": [
       "<div>\n",
       "<style scoped>\n",
       "    .dataframe tbody tr th:only-of-type {\n",
       "        vertical-align: middle;\n",
       "    }\n",
       "\n",
       "    .dataframe tbody tr th {\n",
       "        vertical-align: top;\n",
       "    }\n",
       "\n",
       "    .dataframe thead th {\n",
       "        text-align: right;\n",
       "    }\n",
       "</style>\n",
       "<table border=\"1\" class=\"dataframe\">\n",
       "  <thead>\n",
       "    <tr style=\"text-align: right;\">\n",
       "      <th></th>\n",
       "      <th>discourse_id</th>\n",
       "      <th>essay_id</th>\n",
       "      <th>discourse_text</th>\n",
       "      <th>discourse_type</th>\n",
       "      <th>discourse_effectiveness</th>\n",
       "    </tr>\n",
       "  </thead>\n",
       "  <tbody>\n",
       "    <tr>\n",
       "      <th>0</th>\n",
       "      <td>0013cc385424</td>\n",
       "      <td>007ACE74B050</td>\n",
       "      <td>Hi, i'm Isaac, i'm going to be writing about h...</td>\n",
       "      <td>Lead</td>\n",
       "      <td>Adequate</td>\n",
       "    </tr>\n",
       "  </tbody>\n",
       "</table>\n",
       "</div>"
      ],
      "text/plain": [
       "   discourse_id      essay_id  \\\n",
       "0  0013cc385424  007ACE74B050   \n",
       "\n",
       "                                      discourse_text discourse_type  \\\n",
       "0  Hi, i'm Isaac, i'm going to be writing about h...           Lead   \n",
       "\n",
       "  discourse_effectiveness  \n",
       "0                Adequate  "
      ]
     },
     "execution_count": 4,
     "metadata": {},
     "output_type": "execute_result"
    }
   ],
   "source": [
    "train_df.head(1)"
   ]
  },
  {
   "cell_type": "code",
   "execution_count": 5,
   "id": "e7456600",
   "metadata": {
    "execution": {
     "iopub.execute_input": "2022-06-25T05:27:32.674558Z",
     "iopub.status.busy": "2022-06-25T05:27:32.674264Z",
     "iopub.status.idle": "2022-06-25T05:27:32.687132Z",
     "shell.execute_reply": "2022-06-25T05:27:32.686104Z"
    },
    "papermill": {
     "duration": 0.155264,
     "end_time": "2022-06-25T05:27:32.689677",
     "exception": false,
     "start_time": "2022-06-25T05:27:32.534413",
     "status": "completed"
    },
    "tags": []
   },
   "outputs": [
    {
     "data": {
      "text/html": [
       "<div>\n",
       "<style scoped>\n",
       "    .dataframe tbody tr th:only-of-type {\n",
       "        vertical-align: middle;\n",
       "    }\n",
       "\n",
       "    .dataframe tbody tr th {\n",
       "        vertical-align: top;\n",
       "    }\n",
       "\n",
       "    .dataframe thead th {\n",
       "        text-align: right;\n",
       "    }\n",
       "</style>\n",
       "<table border=\"1\" class=\"dataframe\">\n",
       "  <thead>\n",
       "    <tr style=\"text-align: right;\">\n",
       "      <th></th>\n",
       "      <th>discourse_id</th>\n",
       "      <th>essay_id</th>\n",
       "      <th>discourse_text</th>\n",
       "      <th>discourse_type</th>\n",
       "    </tr>\n",
       "  </thead>\n",
       "  <tbody>\n",
       "    <tr>\n",
       "      <th>0</th>\n",
       "      <td>a261b6e14276</td>\n",
       "      <td>D72CB1C11673</td>\n",
       "      <td>Making choices in life can be very difficult. ...</td>\n",
       "      <td>Lead</td>\n",
       "    </tr>\n",
       "  </tbody>\n",
       "</table>\n",
       "</div>"
      ],
      "text/plain": [
       "   discourse_id      essay_id  \\\n",
       "0  a261b6e14276  D72CB1C11673   \n",
       "\n",
       "                                      discourse_text discourse_type  \n",
       "0  Making choices in life can be very difficult. ...           Lead  "
      ]
     },
     "execution_count": 5,
     "metadata": {},
     "output_type": "execute_result"
    }
   ],
   "source": [
    "test_df.head(1)"
   ]
  },
  {
   "cell_type": "code",
   "execution_count": 6,
   "id": "85c45f56",
   "metadata": {
    "execution": {
     "iopub.execute_input": "2022-06-25T05:27:32.969609Z",
     "iopub.status.busy": "2022-06-25T05:27:32.969244Z",
     "iopub.status.idle": "2022-06-25T05:27:32.975944Z",
     "shell.execute_reply": "2022-06-25T05:27:32.974891Z"
    },
    "papermill": {
     "duration": 0.150724,
     "end_time": "2022-06-25T05:27:32.978615",
     "exception": false,
     "start_time": "2022-06-25T05:27:32.827891",
     "status": "completed"
    },
    "tags": []
   },
   "outputs": [
    {
     "data": {
      "text/plain": [
       "(36765, 10)"
      ]
     },
     "execution_count": 6,
     "metadata": {},
     "output_type": "execute_result"
    }
   ],
   "source": [
    "len(train_df), len(test_df)"
   ]
  },
  {
   "cell_type": "markdown",
   "id": "61324cf5",
   "metadata": {
    "papermill": {
     "duration": 0.138429,
     "end_time": "2022-06-25T05:27:33.257828",
     "exception": false,
     "start_time": "2022-06-25T05:27:33.119399",
     "status": "completed"
    },
    "tags": []
   },
   "source": [
    "The train set contains **36,756** essay elements.\n",
    "\n",
    "The test set CSV only contains **10** elements, as the notebook needs to be submitted to run against the entire test set."
   ]
  },
  {
   "cell_type": "markdown",
   "id": "80ce205e",
   "metadata": {
    "papermill": {
     "duration": 0.139894,
     "end_time": "2022-06-25T05:27:33.537320",
     "exception": false,
     "start_time": "2022-06-25T05:27:33.397426",
     "status": "completed"
    },
    "tags": []
   },
   "source": [
    "# Essay Texts"
   ]
  },
  {
   "cell_type": "markdown",
   "id": "f2de3d41",
   "metadata": {
    "papermill": {
     "duration": 0.137903,
     "end_time": "2022-06-25T05:27:33.813415",
     "exception": false,
     "start_time": "2022-06-25T05:27:33.675512",
     "status": "completed"
    },
    "tags": []
   },
   "source": [
    "Let's see the first 200 characters of a few essay examples."
   ]
  },
  {
   "cell_type": "code",
   "execution_count": 7,
   "id": "b4cf84ba",
   "metadata": {
    "_kg_hide-input": true,
    "execution": {
     "iopub.execute_input": "2022-06-25T05:27:34.104112Z",
     "iopub.status.busy": "2022-06-25T05:27:34.103821Z",
     "iopub.status.idle": "2022-06-25T05:27:34.160888Z",
     "shell.execute_reply": "2022-06-25T05:27:34.159711Z"
    },
    "papermill": {
     "duration": 0.213893,
     "end_time": "2022-06-25T05:27:34.163955",
     "exception": false,
     "start_time": "2022-06-25T05:27:33.950062",
     "status": "completed"
    },
    "tags": []
   },
   "outputs": [
    {
     "data": {
      "text/html": [
       "\n",
       "<table style=\"font-family: monospace;\">\n",
       "    <tr>\n",
       "         <td style=\"vertical-align:top; border-right: 1px solid #7accd8\">Hi, i'm Isaac, i'm going to be writing about how this face on Mars is a natural landform or if there is life on Mars that made it. The story is about how NASA took a picture of Mars and a face was see</td><td style=\"vertical-align:top; border-right: 1px solid #7accd8\">Limiting the usage of cars has personal and professional support all across the globe and yet it has yet to be embraced everywhere. Statistical proof show where it may help and real life examples of s</td><td style=\"vertical-align:top; border-right: 1px solid #7accd8\">Should computers read the emotional expressions of students in a classroom? No because, why should a computer know how your feeling? It wouldn't change the emotion the students feeling. It also wouldn</td><td style=\"vertical-align:top; border-right: 1px solid #7accd8\">I think that it wouldn't be valueable to have technology be able to read emotions because the fact that its really easy for someone else to get into your phone or tablet through face reconition. Peopl</td><td style=\"vertical-align:top; border-right: 1px solid #7accd8\">What is that thing on Mars?\n",
       "\n",
       "Well, some people believe that it was something made by aliens. I am here to prove that it was not.\n",
       "\n",
       "The thing on Mars first was photographed in 1976. It is a huge rock fo</td><td style=\"vertical-align:top; border-right: 1px solid #7accd8\">Students around the world are forgetting more and more from their past school year, due to their long summer vacation. Because of this, many teachers are debating whether or not they should simply giv</td><td style=\"vertical-align:top; border-right: 1px solid #7accd8\">Have you ever been bored in a class room such as your highschool english classes? Well do to a brand new algorithum made by Dr. Paull Eckman, creator of the FACS(Facial Action Coding System), you can </td><td style=\"vertical-align:top; border-right: 1px solid #7accd8\">Do you really thing a land form could make a face ? To me that seems something is very unlikely. A planet that we do not look alike can make a face as a organism on earth? Well i don't think so and he</td><td style=\"vertical-align:top; border-right: 1px solid #7accd8\">Being in a car is how we transport ourselves to and from places. Now what would you do if you had to give up your car. Yes, some people didnt mind giving up their cars but not everyone would be ok wit</td><td style=\"vertical-align:top; border-right: 1px solid #7accd8\">President Obama has done nothing to improve our society.  If anything, he has created the worst society this world has ever seen.\n",
       "\n",
       "Limiting our usage of any type of motorized vehicle, would not only d</td>\n",
       "    </tr>\n",
       "</table>\n"
      ],
      "text/plain": [
       "<IPython.core.display.HTML object>"
      ]
     },
     "metadata": {},
     "output_type": "display_data"
    }
   ],
   "source": [
    "essays = train_df.essay_id.unique()\n",
    "\n",
    "texts = []\n",
    "for essay_id in essays[:10]:\n",
    "    texts.append(open(f'../input/feedback-prize-effectiveness/train/{essay_id}.txt').read())\n",
    "\n",
    "inner_html = \"\"\n",
    "for text in texts:\n",
    "    inner_html += f'<td style=\"vertical-align:top; border-right: 1px solid #7accd8\">{text[:200]}</td>'\n",
    "display(HTML(f\"\"\"\n",
    "<table style=\"font-family: monospace;\">\n",
    "    <tr>\n",
    "         {inner_html}\n",
    "    </tr>\n",
    "</table>\n",
    "\"\"\"))"
   ]
  },
  {
   "cell_type": "markdown",
   "id": "fbba0acc",
   "metadata": {
    "papermill": {
     "duration": 0.142073,
     "end_time": "2022-06-25T05:27:34.446544",
     "exception": false,
     "start_time": "2022-06-25T05:27:34.304471",
     "status": "completed"
    },
    "tags": []
   },
   "source": [
    "Let's count the number of unique essays in the folder."
   ]
  },
  {
   "cell_type": "code",
   "execution_count": 8,
   "id": "c28aeffc",
   "metadata": {
    "_kg_hide-input": true,
    "execution": {
     "iopub.execute_input": "2022-06-25T05:27:34.731387Z",
     "iopub.status.busy": "2022-06-25T05:27:34.731101Z",
     "iopub.status.idle": "2022-06-25T05:27:34.897717Z",
     "shell.execute_reply": "2022-06-25T05:27:34.896624Z"
    },
    "papermill": {
     "duration": 0.312718,
     "end_time": "2022-06-25T05:27:34.900203",
     "exception": false,
     "start_time": "2022-06-25T05:27:34.587485",
     "status": "completed"
    },
    "tags": []
   },
   "outputs": [
    {
     "data": {
      "text/plain": [
       "4191"
      ]
     },
     "execution_count": 8,
     "metadata": {},
     "output_type": "execute_result"
    }
   ],
   "source": [
    "from pathlib import Path\n",
    "\n",
    "essay_ids_in_folder = set()\n",
    "for path in Path('../input/feedback-prize-effectiveness/train').iterdir():\n",
    "    essay_ids_in_folder.add(path.name[:-4])\n",
    "len(essay_ids_in_folder)"
   ]
  },
  {
   "cell_type": "markdown",
   "id": "2cccb51c",
   "metadata": {
    "papermill": {
     "duration": 0.140103,
     "end_time": "2022-06-25T05:27:35.181580",
     "exception": false,
     "start_time": "2022-06-25T05:27:35.041477",
     "status": "completed"
    },
    "tags": []
   },
   "source": [
    "There are **4,191** unique essays. Not a huge dataset at all!"
   ]
  },
  {
   "cell_type": "markdown",
   "id": "93d92f9c",
   "metadata": {
    "papermill": {
     "duration": 0.141268,
     "end_time": "2022-06-25T05:27:35.462764",
     "exception": false,
     "start_time": "2022-06-25T05:27:35.321496",
     "status": "completed"
    },
    "tags": []
   },
   "source": [
    "Compared with number of essays in the CSV?"
   ]
  },
  {
   "cell_type": "code",
   "execution_count": 9,
   "id": "a523f389",
   "metadata": {
    "_kg_hide-input": true,
    "_kg_hide-output": true,
    "execution": {
     "iopub.execute_input": "2022-06-25T05:27:35.743122Z",
     "iopub.status.busy": "2022-06-25T05:27:35.742839Z",
     "iopub.status.idle": "2022-06-25T05:27:35.754387Z",
     "shell.execute_reply": "2022-06-25T05:27:35.753393Z"
    },
    "papermill": {
     "duration": 0.154665,
     "end_time": "2022-06-25T05:27:35.756827",
     "exception": false,
     "start_time": "2022-06-25T05:27:35.602162",
     "status": "completed"
    },
    "tags": []
   },
   "outputs": [
    {
     "data": {
      "text/plain": [
       "4191"
      ]
     },
     "execution_count": 9,
     "metadata": {},
     "output_type": "execute_result"
    }
   ],
   "source": [
    "train_df.essay_id.nunique()"
   ]
  },
  {
   "cell_type": "code",
   "execution_count": 10,
   "id": "cc2a0510",
   "metadata": {
    "execution": {
     "iopub.execute_input": "2022-06-25T05:27:36.036473Z",
     "iopub.status.busy": "2022-06-25T05:27:36.036186Z",
     "iopub.status.idle": "2022-06-25T05:27:36.051110Z",
     "shell.execute_reply": "2022-06-25T05:27:36.050062Z"
    },
    "papermill": {
     "duration": 0.157002,
     "end_time": "2022-06-25T05:27:36.053430",
     "exception": false,
     "start_time": "2022-06-25T05:27:35.896428",
     "status": "completed"
    },
    "tags": []
   },
   "outputs": [
    {
     "data": {
      "text/plain": [
       "(set(), set())"
      ]
     },
     "execution_count": 10,
     "metadata": {},
     "output_type": "execute_result"
    }
   ],
   "source": [
    "essay_ids_in_folder - set(train_df.essay_id.unique()), set(train_df.essay_id.unique()) - essay_ids_in_folder"
   ]
  },
  {
   "cell_type": "markdown",
   "id": "b33c1486",
   "metadata": {
    "papermill": {
     "duration": 0.141079,
     "end_time": "2022-06-25T05:27:36.335394",
     "exception": false,
     "start_time": "2022-06-25T05:27:36.194315",
     "status": "completed"
    },
    "tags": []
   },
   "source": [
    "So every essay in the CSV is represented in the folder. At least for the train set."
   ]
  },
  {
   "cell_type": "markdown",
   "id": "ec192361",
   "metadata": {
    "papermill": {
     "duration": 0.141477,
     "end_time": "2022-06-25T05:27:36.617589",
     "exception": false,
     "start_time": "2022-06-25T05:27:36.476112",
     "status": "completed"
    },
    "tags": []
   },
   "source": [
    "# Topics/Prompts\n",
    "\n",
    "[@jdoesv](https://www.kaggle.com/jdoesv) put together a really useful [notebook](https://www.kaggle.com/code/jdoesv/topics-identification), which runs [BERTopic](https://maartengr.github.io/BERTopic/index.html) across each of the training examples. This uncovers the essay prompts used for each of the training examples.\n",
    "\n",
    "jdoesv determines that there are [15 essay prompts used in the dataset](https://www.kaggle.com/competitions/feedback-prize-effectiveness/discussion/327514). The topic information is useful for data analysis, and will potentially be useful in the final model, so I'm joining it with the competition dataset."
   ]
  },
  {
   "cell_type": "code",
   "execution_count": 11,
   "id": "ba09e956",
   "metadata": {
    "_kg_hide-input": true,
    "execution": {
     "iopub.execute_input": "2022-06-25T05:27:36.900098Z",
     "iopub.status.busy": "2022-06-25T05:27:36.899472Z",
     "iopub.status.idle": "2022-06-25T05:27:36.966277Z",
     "shell.execute_reply": "2022-06-25T05:27:36.965331Z"
    },
    "papermill": {
     "duration": 0.21102,
     "end_time": "2022-06-25T05:27:36.968813",
     "exception": false,
     "start_time": "2022-06-25T05:27:36.757793",
     "status": "completed"
    },
    "tags": []
   },
   "outputs": [],
   "source": [
    "topic_pred_df = pd.read_csv('../input/feedback-topics-identification-with-bertopic/topic_model_feedback.csv')\n",
    "topic_pred_df = topic_pred_df.drop(columns={'prob'})\n",
    "topic_pred_df = topic_pred_df.rename(columns={'id': 'essay_id'})\n",
    "\n",
    "topic_meta_df = pd.read_csv('../input/feedback-topics-identification-with-bertopic/topic_model_metadata.csv')\n",
    "topic_meta_df = topic_meta_df.rename(columns={'Topic': 'topic', 'Name': 'topic_name'}).drop(columns=['Count'])\n",
    "topic_meta_df.topic_name = topic_meta_df.topic_name.apply(lambda n: ' '.join(n.split('_')[1:]))\n",
    "\n",
    "topic_pred_df = topic_pred_df.merge(topic_meta_df, on='topic', how='left')\n",
    "\n",
    "train_df = train_df.merge(topic_pred_df, on='essay_id', how='left')"
   ]
  },
  {
   "cell_type": "code",
   "execution_count": 12,
   "id": "856b7e21",
   "metadata": {
    "_kg_hide-input": true,
    "execution": {
     "iopub.execute_input": "2022-06-25T05:27:37.255568Z",
     "iopub.status.busy": "2022-06-25T05:27:37.255271Z",
     "iopub.status.idle": "2022-06-25T05:27:37.665495Z",
     "shell.execute_reply": "2022-06-25T05:27:37.664529Z"
    },
    "papermill": {
     "duration": 0.554351,
     "end_time": "2022-06-25T05:27:37.667907",
     "exception": false,
     "start_time": "2022-06-25T05:27:37.113556",
     "status": "completed"
    },
    "tags": []
   },
   "outputs": [
    {
     "data": {
      "image/png": "[encoded data removed]",
      "text/plain": [
       "<Figure size 720x360 with 1 Axes>"
      ]
     },
     "metadata": {
      "needs_background": "light"
     },
     "output_type": "display_data"
    }
   ],
   "source": [
    "fig = plt.figure(figsize=(10, 5))\n",
    "ax = fig.add_subplot()\n",
    " \n",
    "sns.countplot(y=\"topic_name\", data=train_df, linewidth=1.25, alpha=1, ax=ax, zorder=2, orient='v')\n",
    "ax.set_title(\"Topic distribution\")\n",
    "\n",
    "for tick in ax.get_xticklabels():\n",
    "    tick.set_rotation(90)\n",
    "fig.show()"
   ]
  },
  {
   "cell_type": "markdown",
   "id": "0a6342ca",
   "metadata": {
    "papermill": {
     "duration": 0.141519,
     "end_time": "2022-06-25T05:27:37.950844",
     "exception": false,
     "start_time": "2022-06-25T05:27:37.809325",
     "status": "completed"
    },
    "tags": []
   },
   "source": [
    "Next, let's take a look at the competition metadata and start speculating on how it could be useful."
   ]
  },
  {
   "cell_type": "markdown",
   "id": "8d4a3e24",
   "metadata": {
    "papermill": {
     "duration": 0.275124,
     "end_time": "2022-06-25T05:27:38.397383",
     "exception": false,
     "start_time": "2022-06-25T05:27:38.122259",
     "status": "completed"
    },
    "tags": []
   },
   "source": [
    "## Discourse Type\n",
    "\n",
    "Each essay element contains discourse type metadata. There are 7 `discourse_type` values with explainations taken from the [data page](https://www.kaggle.com/competitions/feedback-prize-effectiveness/data).\n",
    "\n",
    "* `Lead` - an introduction that begins with a statistic, a quotation, a description, or some other device to grab the reader’s attention and point toward the thesis\n",
    "* `Position` - an opinion or conclusion on the main question\n",
    "* `Claim` - a claim that supports the position\n",
    "* `Counterclaim` - a claim that refutes another claim or gives an opposing reason to the position\n",
    "* `Rebuttal` - a claim that refutes a counterclaim\n",
    "* `Evidence` - ideas or examples that support claims, counterclaims, or rebuttals.\n",
    "* `Concluding Statement` - a concluding statement that restates the claims.\n",
    "\n",
    "Let's look at the distribution across the whole dataset."
   ]
  },
  {
   "cell_type": "code",
   "execution_count": 13,
   "id": "e8958cff",
   "metadata": {
    "_kg_hide-input": true,
    "execution": {
     "iopub.execute_input": "2022-06-25T05:27:38.826240Z",
     "iopub.status.busy": "2022-06-25T05:27:38.825956Z",
     "iopub.status.idle": "2022-06-25T05:27:39.094548Z",
     "shell.execute_reply": "2022-06-25T05:27:39.093557Z"
    },
    "papermill": {
     "duration": 0.458186,
     "end_time": "2022-06-25T05:27:39.096890",
     "exception": false,
     "start_time": "2022-06-25T05:27:38.638704",
     "status": "completed"
    },
    "tags": []
   },
   "outputs": [
    {
     "data": {
      "image/png": "[encoded data removed]",
      "text/plain": [
       "<Figure size 720x360 with 1 Axes>"
      ]
     },
     "metadata": {
      "needs_background": "light"
     },
     "output_type": "display_data"
    }
   ],
   "source": [
    "fig = plt.figure(figsize=(10, 5))\n",
    "ax = fig.add_subplot()\n",
    "sns.countplot(x=\"discourse_type\", data=train_df, linewidth=1.25, alpha=1, ax=ax, zorder=2)\n",
    "ax.set_title(\"Discourse type distribution\")\n",
    "fig.show()"
   ]
  },
  {
   "cell_type": "markdown",
   "id": "32155ef9",
   "metadata": {
    "papermill": {
     "duration": 0.145135,
     "end_time": "2022-06-25T05:27:39.384604",
     "exception": false,
     "start_time": "2022-06-25T05:27:39.239469",
     "status": "completed"
    },
    "tags": []
   },
   "source": [
    "In the next section, we'll explore the Discourse Effectiveness field. For now, it's sufficient to know there are three possible values: `Adequate`, `Efficient`, and `Ineffective`. Let's see the distribution of Discourse Type across Discourse Effectiveness."
   ]
  },
  {
   "cell_type": "code",
   "execution_count": 14,
   "id": "9cd3e002",
   "metadata": {
    "execution": {
     "iopub.execute_input": "2022-06-25T05:27:39.672502Z",
     "iopub.status.busy": "2022-06-25T05:27:39.672170Z",
     "iopub.status.idle": "2022-06-25T05:27:39.676841Z",
     "shell.execute_reply": "2022-06-25T05:27:39.675838Z"
    },
    "papermill": {
     "duration": 0.151594,
     "end_time": "2022-06-25T05:27:39.679440",
     "exception": false,
     "start_time": "2022-06-25T05:27:39.527846",
     "status": "completed"
    },
    "tags": []
   },
   "outputs": [],
   "source": [
    "labels = ['Adequate', 'Effective', 'Ineffective']"
   ]
  },
  {
   "cell_type": "code",
   "execution_count": 15,
   "id": "55d8ab70",
   "metadata": {
    "_kg_hide-input": true,
    "execution": {
     "iopub.execute_input": "2022-06-25T05:27:39.966024Z",
     "iopub.status.busy": "2022-06-25T05:27:39.965740Z",
     "iopub.status.idle": "2022-06-25T05:27:40.793605Z",
     "shell.execute_reply": "2022-06-25T05:27:40.792601Z"
    },
    "papermill": {
     "duration": 0.973864,
     "end_time": "2022-06-25T05:27:40.796431",
     "exception": false,
     "start_time": "2022-06-25T05:27:39.822567",
     "status": "completed"
    },
    "tags": []
   },
   "outputs": [
    {
     "data": {
      "image/png": "[encoded data removed]",
      "text/plain": [
       "<Figure size 1800x216 with 7 Axes>"
      ]
     },
     "metadata": {
      "needs_background": "light"
     },
     "output_type": "display_data"
    }
   ],
   "source": [
    "discourse_types = train_df.discourse_type.unique()\n",
    "\n",
    "fig, axes = plt.subplots(1, len(discourse_types), sharex='col', sharey='row', figsize=(25, 3))\n",
    "for i, discourse_type in enumerate(discourse_types):\n",
    "    ax = axes[i]\n",
    "    filtered_df = train_df[train_df.discourse_type == discourse_type]\n",
    "    sns.countplot(x=\"discourse_effectiveness\", data=filtered_df, linewidth=1.25, alpha=1, ax=ax, zorder=2, order=labels)\n",
    "    ax.set_title(discourse_type)\n",
    "    ax.set(xlabel=None, ylabel=None)\n",
    "    \n",
    "fig.suptitle('Discourse Effectiveness distribution per Discourse Type', y=1.08)\n",
    "plt.show()"
   ]
  },
  {
   "cell_type": "markdown",
   "id": "fcd67107",
   "metadata": {
    "papermill": {
     "duration": 0.142483,
     "end_time": "2022-06-25T05:27:41.084135",
     "exception": false,
     "start_time": "2022-06-25T05:27:40.941652",
     "status": "completed"
    },
    "tags": []
   },
   "source": [
    "It seems that you have highest probability of having your section marked `Ineffective` within the `Evidence` Discourse Type.\n",
    "\n",
    "That makes sense as the degree of Evidence seems more objectively quantifiable."
   ]
  },
  {
   "cell_type": "markdown",
   "id": "bcc633f3",
   "metadata": {
    "papermill": {
     "duration": 0.143366,
     "end_time": "2022-06-25T05:27:41.369530",
     "exception": false,
     "start_time": "2022-06-25T05:27:41.226164",
     "status": "completed"
    },
    "tags": []
   },
   "source": [
    "## Discourse Effectiveness (label)"
   ]
  },
  {
   "cell_type": "markdown",
   "id": "9657a4ef",
   "metadata": {
    "papermill": {
     "duration": 0.144565,
     "end_time": "2022-06-25T05:27:41.657826",
     "exception": false,
     "start_time": "2022-06-25T05:27:41.513261",
     "status": "completed"
    },
    "tags": []
   },
   "source": [
    "Each essay section is labelled from one of three labels: `Adequate`, `Effective`, and `Ineffective`."
   ]
  },
  {
   "cell_type": "code",
   "execution_count": 16,
   "id": "96a07c8f",
   "metadata": {
    "execution": {
     "iopub.execute_input": "2022-06-25T05:27:41.950512Z",
     "iopub.status.busy": "2022-06-25T05:27:41.950195Z",
     "iopub.status.idle": "2022-06-25T05:27:41.956815Z",
     "shell.execute_reply": "2022-06-25T05:27:41.955783Z"
    },
    "papermill": {
     "duration": 0.155252,
     "end_time": "2022-06-25T05:27:41.959718",
     "exception": false,
     "start_time": "2022-06-25T05:27:41.804466",
     "status": "completed"
    },
    "tags": []
   },
   "outputs": [
    {
     "data": {
      "text/plain": [
       "['Adequate', 'Effective', 'Ineffective']"
      ]
     },
     "execution_count": 16,
     "metadata": {},
     "output_type": "execute_result"
    }
   ],
   "source": [
    "labels"
   ]
  },
  {
   "cell_type": "markdown",
   "id": "a092a3a3",
   "metadata": {
    "papermill": {
     "duration": 0.145634,
     "end_time": "2022-06-25T05:27:42.250260",
     "exception": false,
     "start_time": "2022-06-25T05:27:42.104626",
     "status": "completed"
    },
    "tags": []
   },
   "source": [
    "Let's explore the distribution."
   ]
  },
  {
   "cell_type": "code",
   "execution_count": 17,
   "id": "35eef8bf",
   "metadata": {
    "_kg_hide-input": true,
    "execution": {
     "iopub.execute_input": "2022-06-25T05:27:42.543919Z",
     "iopub.status.busy": "2022-06-25T05:27:42.543580Z",
     "iopub.status.idle": "2022-06-25T05:27:42.788571Z",
     "shell.execute_reply": "2022-06-25T05:27:42.787545Z"
    },
    "papermill": {
     "duration": 0.392792,
     "end_time": "2022-06-25T05:27:42.790925",
     "exception": false,
     "start_time": "2022-06-25T05:27:42.398133",
     "status": "completed"
    },
    "tags": []
   },
   "outputs": [
    {
     "data": {
      "image/png": "[encoded data removed]",
      "text/plain": [
       "<Figure size 720x360 with 1 Axes>"
      ]
     },
     "metadata": {
      "needs_background": "light"
     },
     "output_type": "display_data"
    }
   ],
   "source": [
    "fig = plt.figure(figsize=(10, 5))\n",
    "ax = fig.add_subplot()\n",
    " \n",
    "sns.countplot(x=\"discourse_effectiveness\", data=train_df, linewidth=1.25, alpha=1, ax=ax, zorder=2)\n",
    "ax.set_title(\"Discourse type distribution\")\n",
    "fig.show()"
   ]
  },
  {
   "cell_type": "markdown",
   "id": "80cf4b22",
   "metadata": {
    "papermill": {
     "duration": 0.142666,
     "end_time": "2022-06-25T05:27:43.078187",
     "exception": false,
     "start_time": "2022-06-25T05:27:42.935521",
     "status": "completed"
    },
    "tags": []
   },
   "source": [
    "As we can see, quite an imbalanced dataset. We may want to use some kind of weighting, or perhaps up or downsampling within the solution."
   ]
  },
  {
   "cell_type": "code",
   "execution_count": 18,
   "id": "02dd7c90",
   "metadata": {
    "_kg_hide-input": true,
    "execution": {
     "iopub.execute_input": "2022-06-25T05:27:43.371183Z",
     "iopub.status.busy": "2022-06-25T05:27:43.370815Z",
     "iopub.status.idle": "2022-06-25T05:27:43.377888Z",
     "shell.execute_reply": "2022-06-25T05:27:43.376841Z"
    },
    "papermill": {
     "duration": 0.158528,
     "end_time": "2022-06-25T05:27:43.380117",
     "exception": false,
     "start_time": "2022-06-25T05:27:43.221589",
     "status": "completed"
    },
    "tags": []
   },
   "outputs": [],
   "source": [
    "from IPython.core.display import display, HTML\n",
    "\n",
    "def show_examples_for_discourse_type(discourse_type, topic):\n",
    "    filt = train_df.query(f'discourse_type == \"{discourse_type}\"').query(f'topic == {topic}').sample(frac=1, random_state=420)\n",
    "    display(HTML(\n",
    "        f\"\"\"\n",
    "        <h4><code>{discourse_type}</code> examples</h4>\n",
    "        <table>\n",
    "            <tr>\n",
    "              <th width=33%>Ineffective</th>\n",
    "              <th width=33%>Adequate</th>\n",
    "              <th width=33%>Effective</th>\n",
    "            </tr>\n",
    "            <tr>\n",
    "              <td>{filt.query(\"discourse_effectiveness == 'Ineffective'\").iloc[0].discourse_text}</td>\n",
    "              <td>{filt.query(\"discourse_effectiveness == 'Adequate'\").iloc[0].discourse_text}</td>\n",
    "              <td>{filt.query(\"discourse_effectiveness == 'Effective'\").iloc[0].discourse_text}</td>\n",
    "            </tr>\n",
    "        </table>\n",
    "        \"\"\"\n",
    "    ))"
   ]
  },
  {
   "cell_type": "markdown",
   "id": "bb013c9b",
   "metadata": {
    "papermill": {
     "duration": 0.144874,
     "end_time": "2022-06-25T05:27:43.670164",
     "exception": false,
     "start_time": "2022-06-25T05:27:43.525290",
     "status": "completed"
    },
    "tags": []
   },
   "source": [
    "## Examples"
   ]
  },
  {
   "cell_type": "markdown",
   "id": "15727d11",
   "metadata": {
    "papermill": {
     "duration": 0.144146,
     "end_time": "2022-06-25T05:27:43.956570",
     "exception": false,
     "start_time": "2022-06-25T05:27:43.812424",
     "status": "completed"
    },
    "tags": []
   },
   "source": [
    "Let's see examples of each for each discourse type from topic: `face mars landform aliens`"
   ]
  },
  {
   "cell_type": "code",
   "execution_count": 19,
   "id": "7004cb97",
   "metadata": {
    "execution": {
     "iopub.execute_input": "2022-06-25T05:27:44.265529Z",
     "iopub.status.busy": "2022-06-25T05:27:44.265236Z",
     "iopub.status.idle": "2022-06-25T05:27:44.400450Z",
     "shell.execute_reply": "2022-06-25T05:27:44.399152Z"
    },
    "papermill": {
     "duration": 0.28586,
     "end_time": "2022-06-25T05:27:44.403051",
     "exception": false,
     "start_time": "2022-06-25T05:27:44.117191",
     "status": "completed"
    },
    "tags": []
   },
   "outputs": [
    {
     "data": {
      "text/html": [
       "\n",
       "        <h4><code>Lead</code> examples</h4>\n",
       "        <table>\n",
       "            <tr>\n",
       "              <th width=33%>Ineffective</th>\n",
       "              <th width=33%>Adequate</th>\n",
       "              <th width=33%>Effective</th>\n",
       "            </tr>\n",
       "            <tr>\n",
       "              <td>My Principal wants to change that we must have a B average to be in any sport. </td>\n",
       "              <td>This letter is concerning your considerations of implementing the policy of requiring school sports players to maintain a B average (3.0 GPA) in order to play their respective sport. </td>\n",
       "              <td>Imagine winning every game basketball game.\n",
       "\n",
       "But then your star point guard starts flunking tests and his average goes down.\n",
       "\n",
       "He gets kicked off the team and your team then starts to lose every game.\n",
       "\n",
       "Well this could be the case if you don't allow students who have a C average to play.\n",
       "\n",
       "But yet on the other hand, you are also teaching the students a lesson. </td>\n",
       "            </tr>\n",
       "        </table>\n",
       "        "
      ],
      "text/plain": [
       "<IPython.core.display.HTML object>"
      ]
     },
     "metadata": {},
     "output_type": "display_data"
    },
    {
     "data": {
      "text/html": [
       "\n",
       "        <h4><code>Position</code> examples</h4>\n",
       "        <table>\n",
       "            <tr>\n",
       "              <th width=33%>Ineffective</th>\n",
       "              <th width=33%>Adequate</th>\n",
       "              <th width=33%>Effective</th>\n",
       "            </tr>\n",
       "            <tr>\n",
       "              <td>I believe that this could be a good decision but may also be a bad one as well. </td>\n",
       "              <td>Many students might have a' C 'as an overall average, but taking away sports isn't really fair, </td>\n",
       "              <td>I think that students should have a choice in this yet I can't help thinking that this would help solve problems, so i am forced to vote for this new rule. </td>\n",
       "            </tr>\n",
       "        </table>\n",
       "        "
      ],
      "text/plain": [
       "<IPython.core.display.HTML object>"
      ]
     },
     "metadata": {},
     "output_type": "display_data"
    },
    {
     "data": {
      "text/html": [
       "\n",
       "        <h4><code>Claim</code> examples</h4>\n",
       "        <table>\n",
       "            <tr>\n",
       "              <th width=33%>Ineffective</th>\n",
       "              <th width=33%>Adequate</th>\n",
       "              <th width=33%>Effective</th>\n",
       "            </tr>\n",
       "            <tr>\n",
       "              <td>the other students should do and we try harder maybe we can get to that way </td>\n",
       "              <td>TEACHER_NAME what if there was a walking club at school and someone wanted to join the club because they needed to exercise </td>\n",
       "              <td>And this change might cause them to much stress to be able to improve. </td>\n",
       "            </tr>\n",
       "        </table>\n",
       "        "
      ],
      "text/plain": [
       "<IPython.core.display.HTML object>"
      ]
     },
     "metadata": {},
     "output_type": "display_data"
    },
    {
     "data": {
      "text/html": [
       "\n",
       "        <h4><code>Evidence</code> examples</h4>\n",
       "        <table>\n",
       "            <tr>\n",
       "              <th width=33%>Ineffective</th>\n",
       "              <th width=33%>Adequate</th>\n",
       "              <th width=33%>Effective</th>\n",
       "            </tr>\n",
       "            <tr>\n",
       "              <td>But you atleast have to try to do better at school. Because if you don't them you can't participate in sports like compate with others school or team. It so cool because, one time I compate with other school in baskteball and voleyball. But we lost In voleyball but in basketball we won. I was So happy because you get so exited and then nervous because then you think that your going to lose but you never know ig you don't try. So I think that if you have a C or B you can still make to the team or do some sprots. When I won I was with a C avarage and my coach. Didn't care she put me because I was good. </td>\n",
       "              <td>To some kids sports is the best and most important part to them. They represent the school by playing to win and have fun. the school is fine the way it is so why make a change. Change is not always a good thing, it will just make everything harder and worse. You raising the grade just keeps the kids from doing what they love to do. they cant keep up with everything all at once. </td>\n",
       "              <td>Education should always come before sports, and if one can get by with C's or D's and continue to participate in Football or whatever else pleases them, then they won't be driven to complete their work with an effort, because they don't need to achieve in academics to achieve in their sport. Education is number one, then comes Football, or Soccer, or Baseball, or Track, and the leniency with academic performance doesn't support that basic fact. </td>\n",
       "            </tr>\n",
       "        </table>\n",
       "        "
      ],
      "text/plain": [
       "<IPython.core.display.HTML object>"
      ]
     },
     "metadata": {},
     "output_type": "display_data"
    },
    {
     "data": {
      "text/html": [
       "\n",
       "        <h4><code>Counterclaim</code> examples</h4>\n",
       "        <table>\n",
       "            <tr>\n",
       "              <th width=33%>Ineffective</th>\n",
       "              <th width=33%>Adequate</th>\n",
       "              <th width=33%>Effective</th>\n",
       "            </tr>\n",
       "            <tr>\n",
       "              <td>if you do good in school that mite do the trick to. </td>\n",
       "              <td>More students need to pay more attention to school so they can be in sports. </td>\n",
       "              <td>Some say that sports cause kids to not focus on school as much and that by forcing them to have higher grades before they can join you get immediate results, </td>\n",
       "            </tr>\n",
       "        </table>\n",
       "        "
      ],
      "text/plain": [
       "<IPython.core.display.HTML object>"
      ]
     },
     "metadata": {},
     "output_type": "display_data"
    },
    {
     "data": {
      "text/html": [
       "\n",
       "        <h4><code>Rebuttal</code> examples</h4>\n",
       "        <table>\n",
       "            <tr>\n",
       "              <th width=33%>Ineffective</th>\n",
       "              <th width=33%>Adequate</th>\n",
       "              <th width=33%>Effective</th>\n",
       "            </tr>\n",
       "            <tr>\n",
       "              <td>its just not fair. \n",
       "</td>\n",
       "              <td>but not every kid has a GPA of 4.0 </td>\n",
       "              <td>No, that is not entirely true. A way to fix this predicament is to have consequences and tutors. </td>\n",
       "            </tr>\n",
       "        </table>\n",
       "        "
      ],
      "text/plain": [
       "<IPython.core.display.HTML object>"
      ]
     },
     "metadata": {},
     "output_type": "display_data"
    },
    {
     "data": {
      "text/html": [
       "\n",
       "        <h4><code>Concluding Statement</code> examples</h4>\n",
       "        <table>\n",
       "            <tr>\n",
       "              <th width=33%>Ineffective</th>\n",
       "              <th width=33%>Adequate</th>\n",
       "              <th width=33%>Effective</th>\n",
       "            </tr>\n",
       "            <tr>\n",
       "              <td>it will be easier for most kids in this school </td>\n",
       "              <td>To make a long story short, why should students be able to do what they want, if they are not doing what they need to do. Grades are just as influential as having fun so that's why I agree with you that they should maintain a B average to participate in sports and activities. </td>\n",
       "              <td>A C average, while maybe not something to post on your fridge at home, still requires plenty of effort. Maintaining a C average is a reasonable standard, but keeping a B average is unattainable for some students and should not be required. </td>\n",
       "            </tr>\n",
       "        </table>\n",
       "        "
      ],
      "text/plain": [
       "<IPython.core.display.HTML object>"
      ]
     },
     "metadata": {},
     "output_type": "display_data"
    }
   ],
   "source": [
    "for dt in discourse_types: show_examples_for_discourse_type(dt, 10)"
   ]
  },
  {
   "cell_type": "markdown",
   "id": "ed9c024f",
   "metadata": {
    "papermill": {
     "duration": 0.14684,
     "end_time": "2022-06-25T05:27:44.699751",
     "exception": false,
     "start_time": "2022-06-25T05:27:44.552911",
     "status": "completed"
    },
    "tags": []
   },
   "source": [
    "# Word Count"
   ]
  },
  {
   "cell_type": "markdown",
   "id": "f58e024f",
   "metadata": {
    "papermill": {
     "duration": 0.151786,
     "end_time": "2022-06-25T05:27:45.000518",
     "exception": false,
     "start_time": "2022-06-25T05:27:44.848732",
     "status": "completed"
    },
    "tags": []
   },
   "source": [
    "Let's look at the word count distribution across the dataset. The token count will inform settings for our model, like max sequence length and the types of model architectures we can use. Only some are suitable for very long sequences."
   ]
  },
  {
   "cell_type": "code",
   "execution_count": 20,
   "id": "69715dd4",
   "metadata": {
    "_kg_hide-input": true,
    "execution": {
     "iopub.execute_input": "2022-06-25T05:27:45.302411Z",
     "iopub.status.busy": "2022-06-25T05:27:45.302099Z",
     "iopub.status.idle": "2022-06-25T05:27:46.429663Z",
     "shell.execute_reply": "2022-06-25T05:27:46.428667Z"
    },
    "papermill": {
     "duration": 1.282245,
     "end_time": "2022-06-25T05:27:46.432058",
     "exception": false,
     "start_time": "2022-06-25T05:27:45.149813",
     "status": "completed"
    },
    "tags": []
   },
   "outputs": [
    {
     "data": {
      "image/png": "[encoded data removed]",
      "text/plain": [
       "<Figure size 1080x360 with 1 Axes>"
      ]
     },
     "metadata": {
      "needs_background": "light"
     },
     "output_type": "display_data"
    }
   ],
   "source": [
    "fig = plt.figure(figsize=(15, 5))\n",
    "train_df['word_count'] = train_df.discourse_text.apply(lambda x: len(x.split()))\n",
    "sns.histplot(data=train_df, x=\"word_count\")\n",
    "plt.show()"
   ]
  },
  {
   "cell_type": "markdown",
   "id": "3a64aa90",
   "metadata": {
    "papermill": {
     "duration": 0.153653,
     "end_time": "2022-06-25T05:27:46.740603",
     "exception": false,
     "start_time": "2022-06-25T05:27:46.586950",
     "status": "completed"
    },
    "tags": []
   },
   "source": [
    "The mean word count is 44.65 words:"
   ]
  },
  {
   "cell_type": "code",
   "execution_count": 21,
   "id": "fdb67fa1",
   "metadata": {
    "execution": {
     "iopub.execute_input": "2022-06-25T05:27:47.047457Z",
     "iopub.status.busy": "2022-06-25T05:27:47.047143Z",
     "iopub.status.idle": "2022-06-25T05:27:47.054668Z",
     "shell.execute_reply": "2022-06-25T05:27:47.053707Z"
    },
    "papermill": {
     "duration": 0.165413,
     "end_time": "2022-06-25T05:27:47.056865",
     "exception": false,
     "start_time": "2022-06-25T05:27:46.891452",
     "status": "completed"
    },
    "tags": []
   },
   "outputs": [
    {
     "data": {
      "text/plain": [
       "44.65407316741466"
      ]
     },
     "execution_count": 21,
     "metadata": {},
     "output_type": "execute_result"
    }
   ],
   "source": [
    "train_df['word_count'].mean()"
   ]
  },
  {
   "cell_type": "markdown",
   "id": "2d1d3d7c",
   "metadata": {
    "papermill": {
     "duration": 0.155416,
     "end_time": "2022-06-25T05:27:47.364591",
     "exception": false,
     "start_time": "2022-06-25T05:27:47.209175",
     "status": "completed"
    },
    "tags": []
   },
   "source": [
    "The max word count is 836."
   ]
  },
  {
   "cell_type": "code",
   "execution_count": 22,
   "id": "11af734c",
   "metadata": {
    "execution": {
     "iopub.execute_input": "2022-06-25T05:27:47.671237Z",
     "iopub.status.busy": "2022-06-25T05:27:47.670932Z",
     "iopub.status.idle": "2022-06-25T05:27:47.679172Z",
     "shell.execute_reply": "2022-06-25T05:27:47.678082Z"
    },
    "papermill": {
     "duration": 0.164443,
     "end_time": "2022-06-25T05:27:47.681394",
     "exception": false,
     "start_time": "2022-06-25T05:27:47.516951",
     "status": "completed"
    },
    "tags": []
   },
   "outputs": [
    {
     "data": {
      "text/plain": [
       "836"
      ]
     },
     "execution_count": 22,
     "metadata": {},
     "output_type": "execute_result"
    }
   ],
   "source": [
    "train_df['word_count'].max()"
   ]
  },
  {
   "cell_type": "markdown",
   "id": "98339e4f",
   "metadata": {
    "papermill": {
     "duration": 0.1527,
     "end_time": "2022-06-25T05:27:47.987878",
     "exception": false,
     "start_time": "2022-06-25T05:27:47.835178",
     "status": "completed"
    },
    "tags": []
   },
   "source": [
    "Let's see the first 1000 characters:"
   ]
  },
  {
   "cell_type": "code",
   "execution_count": 23,
   "id": "b1f5f38f",
   "metadata": {
    "execution": {
     "iopub.execute_input": "2022-06-25T05:27:48.300493Z",
     "iopub.status.busy": "2022-06-25T05:27:48.300141Z",
     "iopub.status.idle": "2022-06-25T05:27:48.308681Z",
     "shell.execute_reply": "2022-06-25T05:27:48.307625Z"
    },
    "papermill": {
     "duration": 0.166376,
     "end_time": "2022-06-25T05:27:48.310904",
     "exception": false,
     "start_time": "2022-06-25T05:27:48.144528",
     "status": "completed"
    },
    "tags": []
   },
   "outputs": [
    {
     "data": {
      "text/plain": [
       "\"You can search the website up so that you can finished it the assignment to handle it in to your teacher if you missing anything from your others class you can finished with your others class you have with your schdule. If you stuck on the question go asked your teacher to helped you out now go to any comptuer that you wanted to be in you have to sign in thorugh your computer to logn in now you hace to wait unitl the screen show up and now go to the website that is on your paper to finished on your assignment on your homework.\\n\\nFirst now go to any comptuer that you wanted to be in you have to sign in thorugh your computer to logn in now you hace to wait unitl the screen is done. Now listen to your teachers to follow the dirction how to go in the website. If you didn't finished the assignment that you can finished it at home. When you take your worksheet home you have to bring it back if you didn't finished it your assignment it be came homework. Now the teacher said now sign off the co\""
      ]
     },
     "execution_count": 23,
     "metadata": {},
     "output_type": "execute_result"
    }
   ],
   "source": [
    "train_df.iloc[train_df['word_count'].idxmax()].discourse_text[:1000]"
   ]
  },
  {
   "cell_type": "markdown",
   "id": "78d223e4",
   "metadata": {
    "papermill": {
     "duration": 0.155555,
     "end_time": "2022-06-25T05:27:48.617776",
     "exception": false,
     "start_time": "2022-06-25T05:27:48.462221",
     "status": "completed"
    },
    "tags": []
   },
   "source": [
    "Let's see the word count per Discourse Type"
   ]
  },
  {
   "cell_type": "code",
   "execution_count": 24,
   "id": "023530e7",
   "metadata": {
    "_kg_hide-input": true,
    "execution": {
     "iopub.execute_input": "2022-06-25T05:27:48.927935Z",
     "iopub.status.busy": "2022-06-25T05:27:48.927572Z",
     "iopub.status.idle": "2022-06-25T05:27:51.755984Z",
     "shell.execute_reply": "2022-06-25T05:27:51.754672Z"
    },
    "papermill": {
     "duration": 2.987665,
     "end_time": "2022-06-25T05:27:51.758427",
     "exception": false,
     "start_time": "2022-06-25T05:27:48.770762",
     "status": "completed"
    },
    "tags": []
   },
   "outputs": [
    {
     "data": {
      "image/png": "[encoded data removed]",
      "text/plain": [
       "<Figure size 1800x360 with 7 Axes>"
      ]
     },
     "metadata": {
      "needs_background": "light"
     },
     "output_type": "display_data"
    }
   ],
   "source": [
    "discourse_types = train_df.discourse_type.unique()\n",
    "\n",
    "fig, axes = plt.subplots(1, len(discourse_types), sharex='col', sharey='row', figsize=(25, 5))\n",
    "for i, discourse_type in enumerate(discourse_types):\n",
    "    filtered_df = train_df[train_df.discourse_type == discourse_type]\n",
    "    sns.histplot(data=filtered_df, x=\"word_count\", ax=axes[i])\n",
    "    axes[i].set_title(discourse_type)\n",
    "    \n",
    "fig.suptitle('Word count distribution per discourse_type', y=1.08)\n",
    "plt.show()"
   ]
  },
  {
   "cell_type": "markdown",
   "id": "92929871",
   "metadata": {
    "papermill": {
     "duration": 0.156191,
     "end_time": "2022-06-25T05:27:52.069187",
     "exception": false,
     "start_time": "2022-06-25T05:27:51.912996",
     "status": "completed"
    },
    "tags": []
   },
   "source": [
    "So `Claim` and `Evidence` appear to have the largest word count."
   ]
  },
  {
   "cell_type": "markdown",
   "id": "5055db12",
   "metadata": {
    "papermill": {
     "duration": 0.156206,
     "end_time": "2022-06-25T05:27:52.377956",
     "exception": false,
     "start_time": "2022-06-25T05:27:52.221750",
     "status": "completed"
    },
    "tags": []
   },
   "source": [
    "# 2021 Data"
   ]
  },
  {
   "cell_type": "markdown",
   "id": "b8bf0880",
   "metadata": {
    "papermill": {
     "duration": 0.154662,
     "end_time": "2022-06-25T05:27:52.686926",
     "exception": false,
     "start_time": "2022-06-25T05:27:52.532264",
     "status": "completed"
    },
    "tags": []
   },
   "source": [
    "In [this](https://www.kaggle.com/code/lextoumbourou/feedback-prize-inference-on-2021-dataset) notebook, I made predictions on the full 2021 set from the original Feedback competition.\n",
    "\n",
    "Let's load them here. I'll exclude any that are in the 2022 subset."
   ]
  },
  {
   "cell_type": "code",
   "execution_count": 25,
   "id": "5beb68c5",
   "metadata": {
    "execution": {
     "iopub.execute_input": "2022-06-25T05:27:53.003111Z",
     "iopub.status.busy": "2022-06-25T05:27:53.002815Z",
     "iopub.status.idle": "2022-06-25T05:27:54.298492Z",
     "shell.execute_reply": "2022-06-25T05:27:54.297441Z"
    },
    "papermill": {
     "duration": 1.461474,
     "end_time": "2022-06-25T05:27:54.301487",
     "exception": false,
     "start_time": "2022-06-25T05:27:52.840013",
     "status": "completed"
    },
    "tags": []
   },
   "outputs": [],
   "source": [
    "train_2021_preds_df = pd.read_csv('../input/feedback-prize-inference-on-2021-dataset/train_2021_preds.csv')\n",
    "train_2021_preds_df = train_2021_preds_df[train_2021_preds_df.in_2022 == False]"
   ]
  },
  {
   "cell_type": "code",
   "execution_count": 26,
   "id": "66ab3193",
   "metadata": {
    "execution": {
     "iopub.execute_input": "2022-06-25T05:27:54.614244Z",
     "iopub.status.busy": "2022-06-25T05:27:54.613931Z",
     "iopub.status.idle": "2022-06-25T05:27:54.634605Z",
     "shell.execute_reply": "2022-06-25T05:27:54.633534Z"
    },
    "papermill": {
     "duration": 0.179548,
     "end_time": "2022-06-25T05:27:54.637458",
     "exception": false,
     "start_time": "2022-06-25T05:27:54.457910",
     "status": "completed"
    },
    "tags": []
   },
   "outputs": [
    {
     "data": {
      "text/html": [
       "<div>\n",
       "<style scoped>\n",
       "    .dataframe tbody tr th:only-of-type {\n",
       "        vertical-align: middle;\n",
       "    }\n",
       "\n",
       "    .dataframe tbody tr th {\n",
       "        vertical-align: top;\n",
       "    }\n",
       "\n",
       "    .dataframe thead th {\n",
       "        text-align: right;\n",
       "    }\n",
       "</style>\n",
       "<table border=\"1\" class=\"dataframe\">\n",
       "  <thead>\n",
       "    <tr style=\"text-align: right;\">\n",
       "      <th></th>\n",
       "      <th>essay_id</th>\n",
       "      <th>discourse_id</th>\n",
       "      <th>discourse_text</th>\n",
       "      <th>discourse_type</th>\n",
       "      <th>in_2022</th>\n",
       "      <th>topic</th>\n",
       "      <th>topic_name</th>\n",
       "      <th>essay_fn</th>\n",
       "      <th>Adequate</th>\n",
       "      <th>Effective</th>\n",
       "      <th>Ineffective</th>\n",
       "      <th>discourse_effectiveness</th>\n",
       "    </tr>\n",
       "  </thead>\n",
       "  <tbody>\n",
       "    <tr>\n",
       "      <th>10</th>\n",
       "      <td>A8445CABFECE</td>\n",
       "      <td>1.622576e+12</td>\n",
       "      <td>Drivers should not be able to use phones while...</td>\n",
       "      <td>Position</td>\n",
       "      <td>False</td>\n",
       "      <td>13</td>\n",
       "      <td>driving phone phones cell</td>\n",
       "      <td>../input/feedback-prize-2021/train/A8445CABFEC...</td>\n",
       "      <td>0.883984</td>\n",
       "      <td>0.036340</td>\n",
       "      <td>0.079919</td>\n",
       "      <td>Adequate</td>\n",
       "    </tr>\n",
       "    <tr>\n",
       "      <th>11</th>\n",
       "      <td>A8445CABFECE</td>\n",
       "      <td>1.622576e+12</td>\n",
       "      <td>Drivers who used their phone while operating a...</td>\n",
       "      <td>Claim</td>\n",
       "      <td>False</td>\n",
       "      <td>13</td>\n",
       "      <td>driving phone phones cell</td>\n",
       "      <td>../input/feedback-prize-2021/train/A8445CABFEC...</td>\n",
       "      <td>0.880176</td>\n",
       "      <td>0.041171</td>\n",
       "      <td>0.078351</td>\n",
       "      <td>Adequate</td>\n",
       "    </tr>\n",
       "    <tr>\n",
       "      <th>12</th>\n",
       "      <td>A8445CABFECE</td>\n",
       "      <td>1.622576e+12</td>\n",
       "      <td>According to an article by the Edgar Snyder Fi...</td>\n",
       "      <td>Evidence</td>\n",
       "      <td>False</td>\n",
       "      <td>13</td>\n",
       "      <td>driving phone phones cell</td>\n",
       "      <td>../input/feedback-prize-2021/train/A8445CABFEC...</td>\n",
       "      <td>0.697168</td>\n",
       "      <td>0.226025</td>\n",
       "      <td>0.076971</td>\n",
       "      <td>Adequate</td>\n",
       "    </tr>\n",
       "    <tr>\n",
       "      <th>13</th>\n",
       "      <td>A8445CABFECE</td>\n",
       "      <td>1.622576e+12</td>\n",
       "      <td>In conclusion, drivers should not able to work...</td>\n",
       "      <td>Concluding Statement</td>\n",
       "      <td>False</td>\n",
       "      <td>13</td>\n",
       "      <td>driving phone phones cell</td>\n",
       "      <td>../input/feedback-prize-2021/train/A8445CABFEC...</td>\n",
       "      <td>0.875977</td>\n",
       "      <td>0.022543</td>\n",
       "      <td>0.101404</td>\n",
       "      <td>Adequate</td>\n",
       "    </tr>\n",
       "    <tr>\n",
       "      <th>14</th>\n",
       "      <td>6B4F7A0165B9</td>\n",
       "      <td>1.622644e+12</td>\n",
       "      <td>The ability to stay connected to people we kno...</td>\n",
       "      <td>Lead</td>\n",
       "      <td>False</td>\n",
       "      <td>13</td>\n",
       "      <td>driving phone phones cell</td>\n",
       "      <td>../input/feedback-prize-2021/train/6B4F7A0165B...</td>\n",
       "      <td>0.361206</td>\n",
       "      <td>0.515234</td>\n",
       "      <td>0.123700</td>\n",
       "      <td>Effective</td>\n",
       "    </tr>\n",
       "  </tbody>\n",
       "</table>\n",
       "</div>"
      ],
      "text/plain": [
       "        essay_id  discourse_id  \\\n",
       "10  A8445CABFECE  1.622576e+12   \n",
       "11  A8445CABFECE  1.622576e+12   \n",
       "12  A8445CABFECE  1.622576e+12   \n",
       "13  A8445CABFECE  1.622576e+12   \n",
       "14  6B4F7A0165B9  1.622644e+12   \n",
       "\n",
       "                                       discourse_text        discourse_type  \\\n",
       "10  Drivers should not be able to use phones while...              Position   \n",
       "11  Drivers who used their phone while operating a...                 Claim   \n",
       "12  According to an article by the Edgar Snyder Fi...              Evidence   \n",
       "13  In conclusion, drivers should not able to work...  Concluding Statement   \n",
       "14  The ability to stay connected to people we kno...                  Lead   \n",
       "\n",
       "    in_2022  topic                 topic_name  \\\n",
       "10    False     13  driving phone phones cell   \n",
       "11    False     13  driving phone phones cell   \n",
       "12    False     13  driving phone phones cell   \n",
       "13    False     13  driving phone phones cell   \n",
       "14    False     13  driving phone phones cell   \n",
       "\n",
       "                                             essay_fn  Adequate  Effective  \\\n",
       "10  ../input/feedback-prize-2021/train/A8445CABFEC...  0.883984   0.036340   \n",
       "11  ../input/feedback-prize-2021/train/A8445CABFEC...  0.880176   0.041171   \n",
       "12  ../input/feedback-prize-2021/train/A8445CABFEC...  0.697168   0.226025   \n",
       "13  ../input/feedback-prize-2021/train/A8445CABFEC...  0.875977   0.022543   \n",
       "14  ../input/feedback-prize-2021/train/6B4F7A0165B...  0.361206   0.515234   \n",
       "\n",
       "    Ineffective discourse_effectiveness  \n",
       "10     0.079919                Adequate  \n",
       "11     0.078351                Adequate  \n",
       "12     0.076971                Adequate  \n",
       "13     0.101404                Adequate  \n",
       "14     0.123700               Effective  "
      ]
     },
     "execution_count": 26,
     "metadata": {},
     "output_type": "execute_result"
    }
   ],
   "source": [
    "train_2021_preds_df.head()"
   ]
  },
  {
   "cell_type": "code",
   "execution_count": 27,
   "id": "f49082c6",
   "metadata": {
    "execution": {
     "iopub.execute_input": "2022-06-25T05:27:54.957674Z",
     "iopub.status.busy": "2022-06-25T05:27:54.956840Z",
     "iopub.status.idle": "2022-06-25T05:27:55.260420Z",
     "shell.execute_reply": "2022-06-25T05:27:55.259253Z"
    },
    "papermill": {
     "duration": 0.462263,
     "end_time": "2022-06-25T05:27:55.262926",
     "exception": false,
     "start_time": "2022-06-25T05:27:54.800663",
     "status": "completed"
    },
    "tags": []
   },
   "outputs": [
    {
     "data": {
      "image/png": "[encoded data removed]",
      "text/plain": [
       "<Figure size 720x360 with 1 Axes>"
      ]
     },
     "metadata": {
      "needs_background": "light"
     },
     "output_type": "display_data"
    }
   ],
   "source": [
    "fig = plt.figure(figsize=(10, 5))\n",
    "ax = fig.add_subplot()\n",
    " \n",
    "sns.countplot(x=\"discourse_effectiveness\", data=train_2021_preds_df, linewidth=1.25, alpha=1, ax=ax, zorder=2)\n",
    "ax.set_title(\"Discourse Effectiveness distribution\")\n",
    "fig.show()"
   ]
  },
  {
   "cell_type": "markdown",
   "id": "c6d85e37",
   "metadata": {
    "papermill": {
     "duration": 0.156727,
     "end_time": "2022-06-25T05:27:55.574882",
     "exception": false,
     "start_time": "2022-06-25T05:27:55.418155",
     "status": "completed"
    },
    "tags": []
   },
   "source": [
    "I'm going to get essays that contain the most confident predictions.\n",
    "\n",
    "That should maintain the same distribution of discourse types."
   ]
  },
  {
   "cell_type": "code",
   "execution_count": 28,
   "id": "89479bf8",
   "metadata": {
    "execution": {
     "iopub.execute_input": "2022-06-25T05:27:55.890136Z",
     "iopub.status.busy": "2022-06-25T05:27:55.889824Z",
     "iopub.status.idle": "2022-06-25T05:27:55.895514Z",
     "shell.execute_reply": "2022-06-25T05:27:55.893582Z"
    },
    "papermill": {
     "duration": 0.165735,
     "end_time": "2022-06-25T05:27:55.897910",
     "exception": false,
     "start_time": "2022-06-25T05:27:55.732175",
     "status": "completed"
    },
    "tags": []
   },
   "outputs": [],
   "source": [
    "num_essays = 2"
   ]
  },
  {
   "cell_type": "code",
   "execution_count": 29,
   "id": "3cb989ff",
   "metadata": {
    "execution": {
     "iopub.execute_input": "2022-06-25T05:27:56.211722Z",
     "iopub.status.busy": "2022-06-25T05:27:56.211431Z",
     "iopub.status.idle": "2022-06-25T05:27:56.222138Z",
     "shell.execute_reply": "2022-06-25T05:27:56.221211Z"
    },
    "papermill": {
     "duration": 0.170316,
     "end_time": "2022-06-25T05:27:56.224507",
     "exception": false,
     "start_time": "2022-06-25T05:27:56.054191",
     "status": "completed"
    },
    "tags": []
   },
   "outputs": [],
   "source": [
    "train_2021_preds_df['label_prob'] = train_2021_preds_df[labels].max(axis=1)"
   ]
  },
  {
   "cell_type": "code",
   "execution_count": 30,
   "id": "07f7f5d0",
   "metadata": {
    "execution": {
     "iopub.execute_input": "2022-06-25T05:27:56.540072Z",
     "iopub.status.busy": "2022-06-25T05:27:56.539517Z",
     "iopub.status.idle": "2022-06-25T05:27:56.544144Z",
     "shell.execute_reply": "2022-06-25T05:27:56.542979Z"
    },
    "papermill": {
     "duration": 0.164586,
     "end_time": "2022-06-25T05:27:56.547046",
     "exception": false,
     "start_time": "2022-06-25T05:27:56.382460",
     "status": "completed"
    },
    "tags": []
   },
   "outputs": [],
   "source": [
    "# train_2021_preds_df = train_2021_preds_df.merge(topic_pred_df, on='essay_id', how='left')"
   ]
  },
  {
   "cell_type": "code",
   "execution_count": 31,
   "id": "105dd1f9",
   "metadata": {
    "execution": {
     "iopub.execute_input": "2022-06-25T05:27:56.863984Z",
     "iopub.status.busy": "2022-06-25T05:27:56.863697Z",
     "iopub.status.idle": "2022-06-25T05:27:56.904438Z",
     "shell.execute_reply": "2022-06-25T05:27:56.903387Z"
    },
    "papermill": {
     "duration": 0.201638,
     "end_time": "2022-06-25T05:27:56.906832",
     "exception": false,
     "start_time": "2022-06-25T05:27:56.705194",
     "status": "completed"
    },
    "tags": []
   },
   "outputs": [],
   "source": [
    "confident_essays = train_2021_preds_df[['essay_id', 'label_prob']].groupby('essay_id').mean().sort_values('label_prob', ascending=False)[:num_essays]"
   ]
  },
  {
   "cell_type": "code",
   "execution_count": 32,
   "id": "df4b45c3",
   "metadata": {
    "execution": {
     "iopub.execute_input": "2022-06-25T05:27:57.227960Z",
     "iopub.status.busy": "2022-06-25T05:27:57.227655Z",
     "iopub.status.idle": "2022-06-25T05:27:57.232244Z",
     "shell.execute_reply": "2022-06-25T05:27:57.231161Z"
    },
    "papermill": {
     "duration": 0.167818,
     "end_time": "2022-06-25T05:27:57.234667",
     "exception": false,
     "start_time": "2022-06-25T05:27:57.066849",
     "status": "completed"
    },
    "tags": []
   },
   "outputs": [],
   "source": [
    "essay_ids = set(confident_essays.index)"
   ]
  },
  {
   "cell_type": "code",
   "execution_count": 33,
   "id": "2f04d602",
   "metadata": {
    "execution": {
     "iopub.execute_input": "2022-06-25T05:27:57.551506Z",
     "iopub.status.busy": "2022-06-25T05:27:57.551183Z",
     "iopub.status.idle": "2022-06-25T05:27:57.565252Z",
     "shell.execute_reply": "2022-06-25T05:27:57.564241Z"
    },
    "papermill": {
     "duration": 0.17542,
     "end_time": "2022-06-25T05:27:57.567470",
     "exception": false,
     "start_time": "2022-06-25T05:27:57.392050",
     "status": "completed"
    },
    "tags": []
   },
   "outputs": [],
   "source": [
    "train_2021_filt_df = train_2021_preds_df[train_2021_preds_df.essay_id.isin(essay_ids)].reset_index(drop=True)"
   ]
  },
  {
   "cell_type": "code",
   "execution_count": 34,
   "id": "59c773e1",
   "metadata": {
    "execution": {
     "iopub.execute_input": "2022-06-25T05:27:58.089280Z",
     "iopub.status.busy": "2022-06-25T05:27:58.088863Z",
     "iopub.status.idle": "2022-06-25T05:27:58.100965Z",
     "shell.execute_reply": "2022-06-25T05:27:58.099712Z"
    },
    "papermill": {
     "duration": 0.290722,
     "end_time": "2022-06-25T05:27:58.105117",
     "exception": false,
     "start_time": "2022-06-25T05:27:57.814395",
     "status": "completed"
    },
    "tags": []
   },
   "outputs": [
    {
     "data": {
      "text/plain": [
       "(2, 13)"
      ]
     },
     "execution_count": 34,
     "metadata": {},
     "output_type": "execute_result"
    }
   ],
   "source": [
    "train_2021_filt_df.shape"
   ]
  },
  {
   "cell_type": "markdown",
   "id": "ff8f25a3",
   "metadata": {
    "papermill": {
     "duration": 0.275398,
     "end_time": "2022-06-25T05:27:58.652346",
     "exception": false,
     "start_time": "2022-06-25T05:27:58.376948",
     "status": "completed"
    },
    "tags": []
   },
   "source": [
    "Okay, let's get to training a model!"
   ]
  },
  {
   "cell_type": "markdown",
   "id": "a1f118de",
   "metadata": {
    "papermill": {
     "duration": 0.27614,
     "end_time": "2022-06-25T05:27:59.186976",
     "exception": false,
     "start_time": "2022-06-25T05:27:58.910836",
     "status": "completed"
    },
    "tags": []
   },
   "source": [
    "# Config"
   ]
  },
  {
   "cell_type": "markdown",
   "id": "cefa8362",
   "metadata": {
    "papermill": {
     "duration": 0.157012,
     "end_time": "2022-06-25T05:27:59.556893",
     "exception": false,
     "start_time": "2022-06-25T05:27:59.399881",
     "status": "completed"
    },
    "tags": []
   },
   "source": [
    "I include some additional dropout in the config as the model tends to overfit as well as label smoothing, as it seems to work slightly better in the tests I've performed."
   ]
  },
  {
   "cell_type": "code",
   "execution_count": 35,
   "id": "8fe052b3",
   "metadata": {
    "execution": {
     "iopub.execute_input": "2022-06-25T05:27:59.873859Z",
     "iopub.status.busy": "2022-06-25T05:27:59.873540Z",
     "iopub.status.idle": "2022-06-25T05:27:59.886238Z",
     "shell.execute_reply": "2022-06-25T05:27:59.885297Z"
    },
    "papermill": {
     "duration": 0.175442,
     "end_time": "2022-06-25T05:27:59.888874",
     "exception": false,
     "start_time": "2022-06-25T05:27:59.713432",
     "status": "completed"
    },
    "tags": []
   },
   "outputs": [],
   "source": [
    "config = SimpleNamespace()\n",
    "\n",
    "config.seed = 420\n",
    "config.model_name = 'microsoft/deberta-v3-base'\n",
    "config.output_path = Path('./')\n",
    "config.input_path = Path('../input/feedback-prize-effectiveness')\n",
    "\n",
    "config.n_folds = 4\n",
    "config.lr = 1e-5\n",
    "config.weight_decay = 0.01\n",
    "config.epochs = 4\n",
    "config.batch_size = 16\n",
    "config.gradient_accumulation_steps = 1\n",
    "config.warm_up_ratio = 0.1\n",
    "config.max_len = 384\n",
    "config.hidden_dropout_prob = 0.1\n",
    "config.label_smoothing_factor = 0.\n",
    "config.eval_per_epoch = 2\n",
    "\n",
    "logging.disable(logging.WARNING)\n",
    "\n",
    "seed_everything(config.seed)"
   ]
  },
  {
   "cell_type": "markdown",
   "id": "4d775cd4",
   "metadata": {
    "papermill": {
     "duration": 0.308942,
     "end_time": "2022-06-25T05:28:00.356529",
     "exception": false,
     "start_time": "2022-06-25T05:28:00.047587",
     "status": "completed"
    },
    "tags": []
   },
   "source": [
    "# WanDB"
   ]
  },
  {
   "cell_type": "code",
   "execution_count": 36,
   "id": "2e4b069a",
   "metadata": {
    "execution": {
     "iopub.execute_input": "2022-06-25T05:28:00.841958Z",
     "iopub.status.busy": "2022-06-25T05:28:00.841467Z",
     "iopub.status.idle": "2022-06-25T05:28:00.846177Z",
     "shell.execute_reply": "2022-06-25T05:28:00.845227Z"
    },
    "papermill": {
     "duration": 0.227197,
     "end_time": "2022-06-25T05:28:00.848478",
     "exception": false,
     "start_time": "2022-06-25T05:28:00.621281",
     "status": "completed"
    },
    "tags": []
   },
   "outputs": [],
   "source": [
    "if run_type == 'Interactive':\n",
    "    print('Wandb in offline mode.')\n",
    "    os.environ['WANDB_MODE'] = 'offline'"
   ]
  },
  {
   "cell_type": "markdown",
   "id": "da02ea11",
   "metadata": {
    "papermill": {
     "duration": 0.155165,
     "end_time": "2022-06-25T05:28:01.161211",
     "exception": false,
     "start_time": "2022-06-25T05:28:01.006046",
     "status": "completed"
    },
    "tags": []
   },
   "source": [
    "The following lines of code assumes that you have a [User Secret](https://www.kaggle.com/product-feedback/114053) setup called `wandb` with your wandb API key."
   ]
  },
  {
   "cell_type": "code",
   "execution_count": 37,
   "id": "7265ca80",
   "metadata": {
    "execution": {
     "iopub.execute_input": "2022-06-25T05:28:01.475518Z",
     "iopub.status.busy": "2022-06-25T05:28:01.475227Z",
     "iopub.status.idle": "2022-06-25T05:28:04.426342Z",
     "shell.execute_reply": "2022-06-25T05:28:04.425092Z"
    },
    "papermill": {
     "duration": 3.116477,
     "end_time": "2022-06-25T05:28:04.429281",
     "exception": false,
     "start_time": "2022-06-25T05:28:01.312804",
     "status": "completed"
    },
    "tags": []
   },
   "outputs": [
    {
     "name": "stdout",
     "output_type": "stream",
     "text": [
      "Authenticating with wandb.\n",
      "\u001b[34m\u001b[1mwandb\u001b[0m: Appending key for api.wandb.ai to your netrc file: /root/.netrc\r\n"
     ]
    }
   ],
   "source": [
    "print('Authenticating with wandb.')\n",
    "from kaggle_secrets import UserSecretsClient\n",
    "user_secrets = UserSecretsClient()\n",
    "wandb_creds = user_secrets.get_secret(\"wandb\")\n",
    "\n",
    "!wandb login {wandb_creds}"
   ]
  },
  {
   "cell_type": "code",
   "execution_count": 38,
   "id": "2aa233e2",
   "metadata": {
    "execution": {
     "iopub.execute_input": "2022-06-25T05:28:04.747445Z",
     "iopub.status.busy": "2022-06-25T05:28:04.747120Z",
     "iopub.status.idle": "2022-06-25T05:28:04.752270Z",
     "shell.execute_reply": "2022-06-25T05:28:04.751283Z"
    },
    "papermill": {
     "duration": 0.166966,
     "end_time": "2022-06-25T05:28:04.754570",
     "exception": false,
     "start_time": "2022-06-25T05:28:04.587604",
     "status": "completed"
    },
    "tags": []
   },
   "outputs": [],
   "source": [
    "wandb.config = config.__dict__"
   ]
  },
  {
   "cell_type": "code",
   "execution_count": 39,
   "id": "e068452f",
   "metadata": {
    "execution": {
     "iopub.execute_input": "2022-06-25T05:28:05.068156Z",
     "iopub.status.busy": "2022-06-25T05:28:05.067864Z",
     "iopub.status.idle": "2022-06-25T05:28:12.484440Z",
     "shell.execute_reply": "2022-06-25T05:28:12.483293Z"
    },
    "papermill": {
     "duration": 7.576813,
     "end_time": "2022-06-25T05:28:12.486882",
     "exception": false,
     "start_time": "2022-06-25T05:28:04.910069",
     "status": "completed"
    },
    "tags": []
   },
   "outputs": [
    {
     "name": "stderr",
     "output_type": "stream",
     "text": [
      "\u001b[34m\u001b[1mwandb\u001b[0m: Currently logged in as: \u001b[33mlexkaggle\u001b[0m. Use \u001b[1m`wandb login --relogin`\u001b[0m to force relogin\n"
     ]
    },
    {
     "data": {
      "text/html": [
       "wandb version 0.12.19 is available!  To upgrade, please run:\n",
       " $ pip install wandb --upgrade"
      ],
      "text/plain": [
       "<IPython.core.display.HTML object>"
      ]
     },
     "metadata": {},
     "output_type": "display_data"
    },
    {
     "data": {
      "text/html": [
       "Tracking run with wandb version 0.12.16"
      ],
      "text/plain": [
       "<IPython.core.display.HTML object>"
      ]
     },
     "metadata": {},
     "output_type": "display_data"
    },
    {
     "data": {
      "text/html": [
       "Run data is saved locally in <code>/kaggle/working/wandb/run-20220625_052806-2zh55p57</code>"
      ],
      "text/plain": [
       "<IPython.core.display.HTML object>"
      ]
     },
     "metadata": {},
     "output_type": "display_data"
    },
    {
     "data": {
      "text/html": [
       "Syncing run <strong><a href=\"https://wandb.ai/lexkaggle/feedback-prize-effectiveness/runs/2zh55p57\" target=\"_blank\">solar-sun-46</a></strong> to <a href=\"https://wandb.ai/lexkaggle/feedback-prize-effectiveness\" target=\"_blank\">Weights & Biases</a> (<a href=\"https://wandb.me/run\" target=\"_blank\">docs</a>)<br/>"
      ],
      "text/plain": [
       "<IPython.core.display.HTML object>"
      ]
     },
     "metadata": {},
     "output_type": "display_data"
    },
    {
     "data": {
      "text/html": [
       "<button onClick=\"this.nextSibling.style.display='block';this.style.display='none';\">Display W&B run</button><iframe src=\"https://wandb.ai/lexkaggle/feedback-prize-effectiveness/runs/2zh55p57?jupyter=true\" style=\"border:none;width:100%;height:420px;display:none;\"></iframe>"
      ],
      "text/plain": [
       "<wandb.sdk.wandb_run.Run at 0x7fccd9750590>"
      ]
     },
     "execution_count": 39,
     "metadata": {},
     "output_type": "execute_result"
    }
   ],
   "source": [
    "wandb.init(project=\"feedback-prize-effectiveness\")"
   ]
  },
  {
   "cell_type": "markdown",
   "id": "dd374902",
   "metadata": {
    "papermill": {
     "duration": 0.180598,
     "end_time": "2022-06-25T05:28:12.851268",
     "exception": false,
     "start_time": "2022-06-25T05:28:12.670670",
     "status": "completed"
    },
    "tags": []
   },
   "source": [
    "# Setup CV"
   ]
  },
  {
   "cell_type": "markdown",
   "id": "b20b8110",
   "metadata": {
    "papermill": {
     "duration": 0.164444,
     "end_time": "2022-06-25T05:28:13.179923",
     "exception": false,
     "start_time": "2022-06-25T05:28:13.015479",
     "status": "completed"
    },
    "tags": []
   },
   "source": [
    "Note that I am using `StratifiedKFold` instead of `StratifiedGroupKFold` here, as it performs better on the LB. This comes at the expense of an accurate CV score."
   ]
  },
  {
   "cell_type": "code",
   "execution_count": 40,
   "id": "ce850706",
   "metadata": {
    "execution": {
     "iopub.execute_input": "2022-06-25T05:28:13.511352Z",
     "iopub.status.busy": "2022-06-25T05:28:13.511025Z",
     "iopub.status.idle": "2022-06-25T05:28:13.518202Z",
     "shell.execute_reply": "2022-06-25T05:28:13.517159Z"
    },
    "papermill": {
     "duration": 0.177661,
     "end_time": "2022-06-25T05:28:13.521388",
     "exception": false,
     "start_time": "2022-06-25T05:28:13.343727",
     "status": "completed"
    },
    "tags": []
   },
   "outputs": [],
   "source": [
    "cv = StratifiedKFold(n_splits=config.n_folds, shuffle=True, random_state=config.seed)"
   ]
  },
  {
   "cell_type": "code",
   "execution_count": 41,
   "id": "b54a8ed6",
   "metadata": {
    "execution": {
     "iopub.execute_input": "2022-06-25T05:28:13.859591Z",
     "iopub.status.busy": "2022-06-25T05:28:13.859280Z",
     "iopub.status.idle": "2022-06-25T05:28:13.937855Z",
     "shell.execute_reply": "2022-06-25T05:28:13.936856Z"
    },
    "papermill": {
     "duration": 0.246453,
     "end_time": "2022-06-25T05:28:13.940498",
     "exception": false,
     "start_time": "2022-06-25T05:28:13.694045",
     "status": "completed"
    },
    "tags": []
   },
   "outputs": [],
   "source": [
    "train_df['fold'] = -1\n",
    "for fold_num, (train_idxs, test_idxs) in enumerate(cv.split(train_df.index, train_df.discourse_effectiveness, train_df.essay_id)):\n",
    "    train_df.loc[test_idxs, ['fold']] = fold_num"
   ]
  },
  {
   "cell_type": "code",
   "execution_count": 42,
   "id": "a0958930",
   "metadata": {
    "execution": {
     "iopub.execute_input": "2022-06-25T05:28:14.340111Z",
     "iopub.status.busy": "2022-06-25T05:28:14.339734Z",
     "iopub.status.idle": "2022-06-25T05:28:14.357154Z",
     "shell.execute_reply": "2022-06-25T05:28:14.356178Z"
    },
    "papermill": {
     "duration": 0.199504,
     "end_time": "2022-06-25T05:28:14.361377",
     "exception": false,
     "start_time": "2022-06-25T05:28:14.161873",
     "status": "completed"
    },
    "tags": []
   },
   "outputs": [
    {
     "data": {
      "text/html": [
       "<div>\n",
       "<style scoped>\n",
       "    .dataframe tbody tr th:only-of-type {\n",
       "        vertical-align: middle;\n",
       "    }\n",
       "\n",
       "    .dataframe tbody tr th {\n",
       "        vertical-align: top;\n",
       "    }\n",
       "\n",
       "    .dataframe thead th {\n",
       "        text-align: right;\n",
       "    }\n",
       "</style>\n",
       "<table border=\"1\" class=\"dataframe\">\n",
       "  <thead>\n",
       "    <tr style=\"text-align: right;\">\n",
       "      <th></th>\n",
       "      <th>discourse_id</th>\n",
       "      <th>essay_id</th>\n",
       "      <th>discourse_text</th>\n",
       "      <th>discourse_type</th>\n",
       "      <th>discourse_effectiveness</th>\n",
       "      <th>topic</th>\n",
       "      <th>topic_name</th>\n",
       "      <th>word_count</th>\n",
       "      <th>fold</th>\n",
       "    </tr>\n",
       "  </thead>\n",
       "  <tbody>\n",
       "    <tr>\n",
       "      <th>0</th>\n",
       "      <td>0013cc385424</td>\n",
       "      <td>007ACE74B050</td>\n",
       "      <td>Hi, i'm Isaac, i'm going to be writing about h...</td>\n",
       "      <td>Lead</td>\n",
       "      <td>Adequate</td>\n",
       "      <td>11</td>\n",
       "      <td>face mars landform aliens</td>\n",
       "      <td>67</td>\n",
       "      <td>0</td>\n",
       "    </tr>\n",
       "    <tr>\n",
       "      <th>1</th>\n",
       "      <td>9704a709b505</td>\n",
       "      <td>007ACE74B050</td>\n",
       "      <td>On my perspective, I think that the face is a ...</td>\n",
       "      <td>Position</td>\n",
       "      <td>Adequate</td>\n",
       "      <td>11</td>\n",
       "      <td>face mars landform aliens</td>\n",
       "      <td>41</td>\n",
       "      <td>1</td>\n",
       "    </tr>\n",
       "    <tr>\n",
       "      <th>2</th>\n",
       "      <td>c22adee811b6</td>\n",
       "      <td>007ACE74B050</td>\n",
       "      <td>I think that the face is a natural landform be...</td>\n",
       "      <td>Claim</td>\n",
       "      <td>Adequate</td>\n",
       "      <td>11</td>\n",
       "      <td>face mars landform aliens</td>\n",
       "      <td>21</td>\n",
       "      <td>3</td>\n",
       "    </tr>\n",
       "    <tr>\n",
       "      <th>3</th>\n",
       "      <td>a10d361e54e4</td>\n",
       "      <td>007ACE74B050</td>\n",
       "      <td>If life was on Mars, we would know by now. The...</td>\n",
       "      <td>Evidence</td>\n",
       "      <td>Adequate</td>\n",
       "      <td>11</td>\n",
       "      <td>face mars landform aliens</td>\n",
       "      <td>72</td>\n",
       "      <td>1</td>\n",
       "    </tr>\n",
       "    <tr>\n",
       "      <th>4</th>\n",
       "      <td>db3e453ec4e2</td>\n",
       "      <td>007ACE74B050</td>\n",
       "      <td>People thought that the face was formed by ali...</td>\n",
       "      <td>Counterclaim</td>\n",
       "      <td>Adequate</td>\n",
       "      <td>11</td>\n",
       "      <td>face mars landform aliens</td>\n",
       "      <td>18</td>\n",
       "      <td>1</td>\n",
       "    </tr>\n",
       "  </tbody>\n",
       "</table>\n",
       "</div>"
      ],
      "text/plain": [
       "   discourse_id      essay_id  \\\n",
       "0  0013cc385424  007ACE74B050   \n",
       "1  9704a709b505  007ACE74B050   \n",
       "2  c22adee811b6  007ACE74B050   \n",
       "3  a10d361e54e4  007ACE74B050   \n",
       "4  db3e453ec4e2  007ACE74B050   \n",
       "\n",
       "                                      discourse_text discourse_type  \\\n",
       "0  Hi, i'm Isaac, i'm going to be writing about h...           Lead   \n",
       "1  On my perspective, I think that the face is a ...       Position   \n",
       "2  I think that the face is a natural landform be...          Claim   \n",
       "3  If life was on Mars, we would know by now. The...       Evidence   \n",
       "4  People thought that the face was formed by ali...   Counterclaim   \n",
       "\n",
       "  discourse_effectiveness  topic                 topic_name  word_count  fold  \n",
       "0                Adequate     11  face mars landform aliens          67     0  \n",
       "1                Adequate     11  face mars landform aliens          41     1  \n",
       "2                Adequate     11  face mars landform aliens          21     3  \n",
       "3                Adequate     11  face mars landform aliens          72     1  \n",
       "4                Adequate     11  face mars landform aliens          18     1  "
      ]
     },
     "execution_count": 42,
     "metadata": {},
     "output_type": "execute_result"
    }
   ],
   "source": [
    "train_df.head()"
   ]
  },
  {
   "cell_type": "code",
   "execution_count": 43,
   "id": "1066df63",
   "metadata": {
    "execution": {
     "iopub.execute_input": "2022-06-25T05:28:14.766439Z",
     "iopub.status.busy": "2022-06-25T05:28:14.766134Z",
     "iopub.status.idle": "2022-06-25T05:28:15.296095Z",
     "shell.execute_reply": "2022-06-25T05:28:15.295009Z"
    },
    "papermill": {
     "duration": 0.700611,
     "end_time": "2022-06-25T05:28:15.299203",
     "exception": false,
     "start_time": "2022-06-25T05:28:14.598592",
     "status": "completed"
    },
    "tags": []
   },
   "outputs": [],
   "source": [
    "train_df.to_csv(config.output_path / 'train_folds.csv', index=False)"
   ]
  },
  {
   "cell_type": "markdown",
   "id": "2477d90b",
   "metadata": {
    "papermill": {
     "duration": 0.166185,
     "end_time": "2022-06-25T05:28:15.635716",
     "exception": false,
     "start_time": "2022-06-25T05:28:15.469531",
     "status": "completed"
    },
    "tags": []
   },
   "source": [
    "# Tokenizer"
   ]
  },
  {
   "cell_type": "code",
   "execution_count": 44,
   "id": "2f53f648",
   "metadata": {
    "execution": {
     "iopub.execute_input": "2022-06-25T05:28:15.966700Z",
     "iopub.status.busy": "2022-06-25T05:28:15.966367Z",
     "iopub.status.idle": "2022-06-25T05:28:15.974165Z",
     "shell.execute_reply": "2022-06-25T05:28:15.973165Z"
    },
    "papermill": {
     "duration": 0.175167,
     "end_time": "2022-06-25T05:28:15.977759",
     "exception": false,
     "start_time": "2022-06-25T05:28:15.802592",
     "status": "completed"
    },
    "tags": []
   },
   "outputs": [
    {
     "data": {
      "text/plain": [
       "'microsoft/deberta-v3-base'"
      ]
     },
     "execution_count": 44,
     "metadata": {},
     "output_type": "execute_result"
    }
   ],
   "source": [
    "config.model_name"
   ]
  },
  {
   "cell_type": "code",
   "execution_count": 45,
   "id": "02c4b785",
   "metadata": {
    "execution": {
     "iopub.execute_input": "2022-06-25T05:28:16.308388Z",
     "iopub.status.busy": "2022-06-25T05:28:16.308081Z",
     "iopub.status.idle": "2022-06-25T05:28:21.456251Z",
     "shell.execute_reply": "2022-06-25T05:28:21.455169Z"
    },
    "papermill": {
     "duration": 5.314046,
     "end_time": "2022-06-25T05:28:21.459138",
     "exception": false,
     "start_time": "2022-06-25T05:28:16.145092",
     "status": "completed"
    },
    "tags": []
   },
   "outputs": [
    {
     "data": {
      "application/vnd.jupyter.widget-view+json": {
       "model_id": "6d797877e82a4ca78b2ebafa51201b1a",
       "version_major": 2,
       "version_minor": 0
      },
      "text/plain": [
       "Downloading:   0%|          | 0.00/52.0 [00:00<?, ?B/s]"
      ]
     },
     "metadata": {},
     "output_type": "display_data"
    },
    {
     "data": {
      "application/vnd.jupyter.widget-view+json": {
       "model_id": "515aabd3ea4d47ddb0e3c6101681de83",
       "version_major": 2,
       "version_minor": 0
      },
      "text/plain": [
       "Downloading:   0%|          | 0.00/579 [00:00<?, ?B/s]"
      ]
     },
     "metadata": {},
     "output_type": "display_data"
    },
    {
     "data": {
      "application/vnd.jupyter.widget-view+json": {
       "model_id": "f88d545bd07243d09979444c3e2aa343",
       "version_major": 2,
       "version_minor": 0
      },
      "text/plain": [
       "Downloading:   0%|          | 0.00/2.35M [00:00<?, ?B/s]"
      ]
     },
     "metadata": {},
     "output_type": "display_data"
    }
   ],
   "source": [
    "tokenizer = AutoTokenizer.from_pretrained(config.model_name, use_fast=True)\n",
    "tokenizer.model_max_length = config.max_len"
   ]
  },
  {
   "cell_type": "code",
   "execution_count": 46,
   "id": "523bed58",
   "metadata": {
    "execution": {
     "iopub.execute_input": "2022-06-25T05:28:21.799992Z",
     "iopub.status.busy": "2022-06-25T05:28:21.799680Z",
     "iopub.status.idle": "2022-06-25T05:28:21.811396Z",
     "shell.execute_reply": "2022-06-25T05:28:21.807175Z"
    },
    "papermill": {
     "duration": 0.18171,
     "end_time": "2022-06-25T05:28:21.814849",
     "exception": false,
     "start_time": "2022-06-25T05:28:21.633139",
     "status": "completed"
    },
    "tags": []
   },
   "outputs": [
    {
     "data": {
      "text/plain": [
       "PreTrainedTokenizer(name_or_path='microsoft/deberta-v3-base', vocab_size=128000, model_max_len=384, is_fast=False, padding_side='right', truncation_side='right', special_tokens={'bos_token': '[CLS]', 'eos_token': '[SEP]', 'unk_token': '[UNK]', 'sep_token': '[SEP]', 'pad_token': '[PAD]', 'cls_token': '[CLS]', 'mask_token': '[MASK]'})"
      ]
     },
     "execution_count": 46,
     "metadata": {},
     "output_type": "execute_result"
    }
   ],
   "source": [
    "tokenizer"
   ]
  },
  {
   "cell_type": "code",
   "execution_count": 47,
   "id": "e6075b05",
   "metadata": {
    "execution": {
     "iopub.execute_input": "2022-06-25T05:28:22.244257Z",
     "iopub.status.busy": "2022-06-25T05:28:22.243736Z",
     "iopub.status.idle": "2022-06-25T05:28:22.269830Z",
     "shell.execute_reply": "2022-06-25T05:28:22.265094Z"
    },
    "papermill": {
     "duration": 0.291247,
     "end_time": "2022-06-25T05:28:22.273287",
     "exception": false,
     "start_time": "2022-06-25T05:28:21.982040",
     "status": "completed"
    },
    "tags": []
   },
   "outputs": [],
   "source": [
    "def get_essay(essay_fns):\n",
    "    essay_cache = {}\n",
    "\n",
    "    output = []\n",
    "    for essay_fn in essay_fns:\n",
    "        if essay_fn not in essay_cache:\n",
    "            essay_txt = open(essay_fn).read().strip().lower()\n",
    "            essay_cache[essay_fn] = essay_txt\n",
    "        output.append(essay_cache[essay_fn])\n",
    "\n",
    "    return output"
   ]
  },
  {
   "cell_type": "markdown",
   "id": "e51cea21",
   "metadata": {
    "papermill": {
     "duration": 0.238163,
     "end_time": "2022-06-25T05:28:22.804572",
     "exception": false,
     "start_time": "2022-06-25T05:28:22.566409",
     "status": "completed"
    },
    "tags": []
   },
   "source": [
    "The essay string is passed as the `text_pair` argument to the tokenisation function. I got this idea from [this](https://www.kaggle.com/code/abhishek/tez-for-feedback-v2-0) kernel. I can't tell you exactly why it helps to pass as `text_pair` instead of concatenating onto the sequence, but it seems to work a bit."
   ]
  },
  {
   "cell_type": "code",
   "execution_count": 48,
   "id": "8cb7b2dd",
   "metadata": {
    "execution": {
     "iopub.execute_input": "2022-06-25T05:28:23.137052Z",
     "iopub.status.busy": "2022-06-25T05:28:23.136710Z",
     "iopub.status.idle": "2022-06-25T05:28:23.142561Z",
     "shell.execute_reply": "2022-06-25T05:28:23.141575Z"
    },
    "papermill": {
     "duration": 0.176758,
     "end_time": "2022-06-25T05:28:23.145887",
     "exception": false,
     "start_time": "2022-06-25T05:28:22.969129",
     "status": "completed"
    },
    "tags": []
   },
   "outputs": [],
   "source": [
    "def tokenizer_func(x):\n",
    "    return tokenizer(x[\"inputs\"], get_essay(x['essay_fn']), truncation=True, max_len=config.max_len)"
   ]
  },
  {
   "cell_type": "markdown",
   "id": "67cd1ea3",
   "metadata": {
    "papermill": {
     "duration": 0.167513,
     "end_time": "2022-06-25T05:28:23.482676",
     "exception": false,
     "start_time": "2022-06-25T05:28:23.315163",
     "status": "completed"
    },
    "tags": []
   },
   "source": [
    "Since the `discourse_type` will be potentially valuable information, I'll concatenate it to the essay elements.\n",
    "\n",
    "I'm also concatenating the topic information.\n",
    "\n",
    "Lastly, converting all text to lowercase as it performs better on CV and LB."
   ]
  },
  {
   "cell_type": "code",
   "execution_count": 49,
   "id": "a9ffa539",
   "metadata": {
    "execution": {
     "iopub.execute_input": "2022-06-25T05:28:23.819125Z",
     "iopub.status.busy": "2022-06-25T05:28:23.818834Z",
     "iopub.status.idle": "2022-06-25T05:28:23.826544Z",
     "shell.execute_reply": "2022-06-25T05:28:23.825528Z"
    },
    "papermill": {
     "duration": 0.18241,
     "end_time": "2022-06-25T05:28:23.828946",
     "exception": false,
     "start_time": "2022-06-25T05:28:23.646536",
     "status": "completed"
    },
    "tags": []
   },
   "outputs": [],
   "source": [
    "def add_inputs(df, basepath):\n",
    "    df['essay_fn'] = basepath + '/' + df.essay_id + '.txt'\n",
    "    df['inputs'] = df.discourse_type.str.lower() + ' ' + tokenizer.sep_token + ' ' + df.topic_name + ' ' + tokenizer.sep_token + ' ' + df.discourse_text.str.lower()\n",
    "    return df"
   ]
  },
  {
   "cell_type": "code",
   "execution_count": 50,
   "id": "3dca726b",
   "metadata": {
    "execution": {
     "iopub.execute_input": "2022-06-25T05:28:24.185553Z",
     "iopub.status.busy": "2022-06-25T05:28:24.185240Z",
     "iopub.status.idle": "2022-06-25T05:28:24.322580Z",
     "shell.execute_reply": "2022-06-25T05:28:24.321534Z"
    },
    "papermill": {
     "duration": 0.321508,
     "end_time": "2022-06-25T05:28:24.325149",
     "exception": false,
     "start_time": "2022-06-25T05:28:24.003641",
     "status": "completed"
    },
    "tags": []
   },
   "outputs": [],
   "source": [
    "train_df = add_inputs(train_df, str(config.input_path / 'train'))\n",
    "train_2021_filt_df = add_inputs(train_2021_filt_df, '../input/feedback-prize-2021/train')"
   ]
  },
  {
   "cell_type": "markdown",
   "id": "55b9003e",
   "metadata": {
    "papermill": {
     "duration": 0.167025,
     "end_time": "2022-06-25T05:28:24.667831",
     "exception": false,
     "start_time": "2022-06-25T05:28:24.500806",
     "status": "completed"
    },
    "tags": []
   },
   "source": [
    "# Model"
   ]
  },
  {
   "cell_type": "markdown",
   "id": "5868651c",
   "metadata": {
    "papermill": {
     "duration": 0.169657,
     "end_time": "2022-06-25T05:28:25.004032",
     "exception": false,
     "start_time": "2022-06-25T05:28:24.834375",
     "status": "completed"
    },
    "tags": []
   },
   "source": [
    "For maximum experimentation flexibility, I've setup a custom head.\n",
    "\n",
    "I've included an implementation of [Multi-Sample Dropout](https://arxiv.org/abs/1905.09788) as the model is overfitting quite quickly.\n",
    "\n",
    "When using HuggingFace Transformers, the [Trainer](https://huggingface.co/docs/transformers/main_classes/trainer) class has a few rules you need to follow when creating custom models:\n",
    "\n",
    "* your model always return tuples or subclasses of ModelOutput.\n",
    "* your model can compute the loss if a labels argument is provided and that loss is returned as the first element of the tuple (if your model returns tuples)\n",
    "* your model can accept multiple label arguments (use the label_names in your TrainingArguments to indicate their name to the Trainer) but none of them should be named \"label\".\n",
    "\n",
    "I've also replaced the `ContextPooler` with a mean pooling layer, as it works better in the tests I've run outside of Kaggle."
   ]
  },
  {
   "cell_type": "code",
   "execution_count": 51,
   "id": "29550a9b",
   "metadata": {
    "execution": {
     "iopub.execute_input": "2022-06-25T05:28:25.344925Z",
     "iopub.status.busy": "2022-06-25T05:28:25.344598Z",
     "iopub.status.idle": "2022-06-25T05:28:25.395585Z",
     "shell.execute_reply": "2022-06-25T05:28:25.394579Z"
    },
    "papermill": {
     "duration": 0.225191,
     "end_time": "2022-06-25T05:28:25.398374",
     "exception": false,
     "start_time": "2022-06-25T05:28:25.173183",
     "status": "completed"
    },
    "tags": []
   },
   "outputs": [],
   "source": [
    "import torch\n",
    "from torch import nn\n",
    "from transformers import AutoConfig, AutoModelForSequenceClassification\n",
    "from transformers.models.deberta_v2.modeling_deberta_v2 import ContextPooler\n",
    "from transformers.models.deberta_v2.modeling_deberta_v2 import StableDropout\n",
    "from transformers.modeling_outputs import TokenClassifierOutput\n",
    "\n",
    "def get_dropouts(num, start_prob, increment):\n",
    "    return [StableDropout(start_prob + (increment * i)) for i in range(num)]  \n",
    "\n",
    "class MeanPooling(nn.Module):\n",
    "    def __init__(self):\n",
    "        super(MeanPooling, self).__init__()\n",
    "        \n",
    "    def forward(self, last_hidden_state, attention_mask):\n",
    "        input_mask_expanded = attention_mask.unsqueeze(-1).expand(last_hidden_state.size()).float()\n",
    "        sum_embeddings = torch.sum(last_hidden_state * input_mask_expanded, 1)\n",
    "        sum_mask = input_mask_expanded.sum(1)\n",
    "        sum_mask = torch.clamp(sum_mask, min=1e-9)\n",
    "        mean_embeddings = sum_embeddings / sum_mask\n",
    "        return mean_embeddings\n",
    "\n",
    "class CustomModel(nn.Module):\n",
    "    def __init__(self, backbone):\n",
    "        super(CustomModel, self).__init__()\n",
    "        \n",
    "        self.model = backbone\n",
    "        self.config = self.model.config\n",
    "        self.num_labels = self.config.num_labels\n",
    "\n",
    "        # self.pooler = ContextPooler(self.config)\n",
    "        self.pooler = MeanPooling()\n",
    "        \n",
    "        self.classifier = nn.Linear(self.config.hidden_size, self.num_labels)\n",
    "    \n",
    "        self.dropouts = get_dropouts(num=5, start_prob=config.hidden_dropout_prob - 0.02, increment=0.01)\n",
    "    \n",
    "    def forward(\n",
    "        self,\n",
    "        input_ids=None,\n",
    "        attention_mask=None,\n",
    "        token_type_ids=None,\n",
    "        position_ids=None,\n",
    "        inputs_embeds=None,\n",
    "        labels=None,\n",
    "        output_attentions=None,\n",
    "        output_hidden_states=None,\n",
    "        return_dict=None\n",
    "    ):\n",
    "        outputs = self.model.deberta(\n",
    "            input_ids,\n",
    "            token_type_ids=token_type_ids,\n",
    "            attention_mask=attention_mask,\n",
    "            position_ids=position_ids,\n",
    "            inputs_embeds=inputs_embeds,\n",
    "            output_attentions=output_attentions,\n",
    "            output_hidden_states=output_hidden_states,\n",
    "            return_dict=return_dict,\n",
    "        )\n",
    "        \n",
    "        encoder_layer = outputs[0]\n",
    "        pooled_output = self.pooler(encoder_layer, attention_mask)\n",
    "                      \n",
    "        # Multi-sample dropout.\n",
    "        num_dps = float(len(self.dropouts))\n",
    "        for ii, drop in enumerate(self.dropouts):\n",
    "            if ii == 0:\n",
    "                logits = (self.classifier(drop(pooled_output)) / num_dps)\n",
    "            else:\n",
    "                logits += (self.classifier(drop(pooled_output)) / num_dps)\n",
    "\n",
    "        loss = None\n",
    "        if labels is not None:\n",
    "            loss_fn = nn.CrossEntropyLoss()\n",
    "            logits = logits.view(-1, self.num_labels)\n",
    "            loss = loss_fn(logits, labels.view(-1))\n",
    "\n",
    "        output = (logits,) + outputs[1:]\n",
    "\n",
    "        return TokenClassifierOutput(loss=loss, logits=logits, hidden_states=outputs.hidden_states, attentions=outputs.attentions)"
   ]
  },
  {
   "cell_type": "code",
   "execution_count": 52,
   "id": "a0174bb2",
   "metadata": {
    "execution": {
     "iopub.execute_input": "2022-06-25T05:28:25.732586Z",
     "iopub.status.busy": "2022-06-25T05:28:25.732285Z",
     "iopub.status.idle": "2022-06-25T05:28:25.738118Z",
     "shell.execute_reply": "2022-06-25T05:28:25.737045Z"
    },
    "papermill": {
     "duration": 0.172186,
     "end_time": "2022-06-25T05:28:25.741332",
     "exception": false,
     "start_time": "2022-06-25T05:28:25.569146",
     "status": "completed"
    },
    "tags": []
   },
   "outputs": [],
   "source": [
    "def get_backbone_config():\n",
    "    model_config = AutoConfig.from_pretrained(config.model_name, num_labels=3)\n",
    "    model_config.hidden_dropout_prob = config.hidden_dropout_prob\n",
    "    return model_config"
   ]
  },
  {
   "cell_type": "code",
   "execution_count": 53,
   "id": "7522df87",
   "metadata": {
    "execution": {
     "iopub.execute_input": "2022-06-25T05:28:26.084024Z",
     "iopub.status.busy": "2022-06-25T05:28:26.083701Z",
     "iopub.status.idle": "2022-06-25T05:28:26.090027Z",
     "shell.execute_reply": "2022-06-25T05:28:26.088985Z"
    },
    "papermill": {
     "duration": 0.178045,
     "end_time": "2022-06-25T05:28:26.093235",
     "exception": false,
     "start_time": "2022-06-25T05:28:25.915190",
     "status": "completed"
    },
    "tags": []
   },
   "outputs": [],
   "source": [
    "def get_model():\n",
    "    model_config = get_backbone_config()\n",
    "\n",
    "    model = AutoModelForSequenceClassification.from_pretrained(\n",
    "        config.model_name,\n",
    "        config=model_config,\n",
    "    )\n",
    "    return CustomModel(model)"
   ]
  },
  {
   "cell_type": "markdown",
   "id": "dd93ebf1",
   "metadata": {
    "papermill": {
     "duration": 0.16897,
     "end_time": "2022-06-25T05:28:26.434882",
     "exception": false,
     "start_time": "2022-06-25T05:28:26.265912",
     "status": "completed"
    },
    "tags": []
   },
   "source": [
    "Need to save this to generate the backbone offline."
   ]
  },
  {
   "cell_type": "code",
   "execution_count": 54,
   "id": "50c767f8",
   "metadata": {
    "execution": {
     "iopub.execute_input": "2022-06-25T05:28:26.770717Z",
     "iopub.status.busy": "2022-06-25T05:28:26.770380Z",
     "iopub.status.idle": "2022-06-25T05:28:27.219692Z",
     "shell.execute_reply": "2022-06-25T05:28:27.218813Z"
    },
    "papermill": {
     "duration": 0.621321,
     "end_time": "2022-06-25T05:28:27.222251",
     "exception": false,
     "start_time": "2022-06-25T05:28:26.600930",
     "status": "completed"
    },
    "tags": []
   },
   "outputs": [],
   "source": [
    "backbone_config = get_backbone_config()\n",
    "backbone_config.save_pretrained('./backbone_config')"
   ]
  },
  {
   "cell_type": "code",
   "execution_count": 55,
   "id": "06178a4c",
   "metadata": {
    "execution": {
     "iopub.execute_input": "2022-06-25T05:28:27.602151Z",
     "iopub.status.busy": "2022-06-25T05:28:27.601867Z",
     "iopub.status.idle": "2022-06-25T05:28:44.300774Z",
     "shell.execute_reply": "2022-06-25T05:28:44.298919Z"
    },
    "papermill": {
     "duration": 16.868744,
     "end_time": "2022-06-25T05:28:44.304920",
     "exception": false,
     "start_time": "2022-06-25T05:28:27.436176",
     "status": "completed"
    },
    "tags": []
   },
   "outputs": [
    {
     "data": {
      "application/vnd.jupyter.widget-view+json": {
       "model_id": "af0ecc0e6a964cf39a928882016865bd",
       "version_major": 2,
       "version_minor": 0
      },
      "text/plain": [
       "Downloading:   0%|          | 0.00/354M [00:00<?, ?B/s]"
      ]
     },
     "metadata": {},
     "output_type": "display_data"
    }
   ],
   "source": [
    "model = get_model()"
   ]
  },
  {
   "cell_type": "markdown",
   "id": "206fb418",
   "metadata": {
    "papermill": {
     "duration": 0.252049,
     "end_time": "2022-06-25T05:28:44.873710",
     "exception": false,
     "start_time": "2022-06-25T05:28:44.621661",
     "status": "completed"
    },
    "tags": []
   },
   "source": [
    "# Training"
   ]
  },
  {
   "cell_type": "markdown",
   "id": "4718a6a5",
   "metadata": {
    "papermill": {
     "duration": 0.167156,
     "end_time": "2022-06-25T05:28:45.207979",
     "exception": false,
     "start_time": "2022-06-25T05:28:45.040823",
     "status": "completed"
    },
    "tags": []
   },
   "source": [
    "The loss function Cross-Entropy is identical to the competition metric when running the model output through Softmax.\n",
    "\n",
    "I'll include accuracy as an additional metric as it tends to be human interpretable."
   ]
  },
  {
   "cell_type": "code",
   "execution_count": 56,
   "id": "f561add6",
   "metadata": {
    "execution": {
     "iopub.execute_input": "2022-06-25T05:28:45.546660Z",
     "iopub.status.busy": "2022-06-25T05:28:45.546327Z",
     "iopub.status.idle": "2022-06-25T05:28:46.526228Z",
     "shell.execute_reply": "2022-06-25T05:28:46.525191Z"
    },
    "papermill": {
     "duration": 1.15331,
     "end_time": "2022-06-25T05:28:46.528745",
     "exception": false,
     "start_time": "2022-06-25T05:28:45.375435",
     "status": "completed"
    },
    "tags": []
   },
   "outputs": [
    {
     "data": {
      "application/vnd.jupyter.widget-view+json": {
       "model_id": "d73f0864529746a799d42c8201118f61",
       "version_major": 2,
       "version_minor": 0
      },
      "text/plain": [
       "Downloading builder script:   0%|          | 0.00/1.41k [00:00<?, ?B/s]"
      ]
     },
     "metadata": {},
     "output_type": "display_data"
    }
   ],
   "source": [
    "metric = load_metric('accuracy')\n",
    "\n",
    "def compute_metrics(eval_pred):\n",
    "    predictions, labels = eval_pred\n",
    "    predictions = np.argmax(predictions, axis=1)\n",
    "    return metric.compute(predictions=predictions, references=labels)"
   ]
  },
  {
   "cell_type": "code",
   "execution_count": 57,
   "id": "53f319c3",
   "metadata": {
    "execution": {
     "iopub.execute_input": "2022-06-25T05:28:46.870187Z",
     "iopub.status.busy": "2022-06-25T05:28:46.869836Z",
     "iopub.status.idle": "2022-06-25T05:28:46.875757Z",
     "shell.execute_reply": "2022-06-25T05:28:46.874196Z"
    },
    "papermill": {
     "duration": 0.177866,
     "end_time": "2022-06-25T05:28:46.878953",
     "exception": false,
     "start_time": "2022-06-25T05:28:46.701087",
     "status": "completed"
    },
    "tags": []
   },
   "outputs": [],
   "source": [
    "# train_df = train_df.sample(n=150)\n",
    "# config.epochs = 1"
   ]
  },
  {
   "cell_type": "code",
   "execution_count": 58,
   "id": "f1adaef8",
   "metadata": {
    "execution": {
     "iopub.execute_input": "2022-06-25T05:28:47.216955Z",
     "iopub.status.busy": "2022-06-25T05:28:47.216613Z",
     "iopub.status.idle": "2022-06-25T05:28:47.243800Z",
     "shell.execute_reply": "2022-06-25T05:28:47.242788Z"
    },
    "papermill": {
     "duration": 0.197272,
     "end_time": "2022-06-25T05:28:47.247118",
     "exception": false,
     "start_time": "2022-06-25T05:28:47.049846",
     "status": "completed"
    },
    "tags": []
   },
   "outputs": [],
   "source": [
    "def do_fold(fold_num):\n",
    "    train_data  = train_df.query(f'fold != {fold_num}').reset_index(drop=True)\n",
    "\n",
    "    val_data  = train_df.query(f'fold == {fold_num}').reset_index(drop=True)\n",
    "    \n",
    "    # Add 2021 to train data.\n",
    "    train_data = pd.concat([train_data, train_2021_filt_df[['inputs', 'essay_fn', 'discourse_effectiveness']]]).sample(frac=1., random_state=config.seed).reset_index(drop=True)\n",
    "    print(f'Train data size: {train_data.shape}')\n",
    "\n",
    "    train_dataset = Dataset.from_pandas(train_data[['inputs', 'essay_fn', 'discourse_effectiveness']]).rename_column('discourse_effectiveness', 'label').class_encode_column(\"label\")\n",
    "    val_dataset = Dataset.from_pandas(val_data[['inputs', 'essay_fn', 'discourse_effectiveness']]).rename_column('discourse_effectiveness', 'label').class_encode_column(\"label\")\n",
    "\n",
    "    train_tok_dataset = train_dataset.map(tokenizer_func, batched=True, remove_columns=('inputs', 'essay_fn'))\n",
    "    val_tok_dataset = val_dataset.map(tokenizer_func, batched=True, remove_columns=('inputs', 'essay_fn'))\n",
    "\n",
    "    data_collator = DataCollatorWithPadding(tokenizer=tokenizer, padding='longest')\n",
    "\n",
    "    num_steps = len(train_data) / config.batch_size / config.gradient_accumulation_steps\n",
    "    eval_steps = num_steps // config.eval_per_epoch\n",
    "    print(f'Num steps: {num_steps}, eval steps: {eval_steps}')\n",
    "\n",
    "    args = TrainingArguments(\n",
    "        output_dir=config.output_path,\n",
    "        learning_rate=config.lr,\n",
    "        warmup_ratio=config.warm_up_ratio,\n",
    "        lr_scheduler_type='cosine',\n",
    "        fp16=True,\n",
    "        per_device_train_batch_size=config.batch_size,\n",
    "        per_device_eval_batch_size=config.batch_size * 2,\n",
    "        num_train_epochs=config.epochs,\n",
    "        weight_decay=config.weight_decay,\n",
    "        report_to=\"wandb\",\n",
    "\n",
    "        evaluation_strategy='steps',\n",
    "        eval_steps=eval_steps, \n",
    "        save_strategy='steps',\n",
    "        save_steps=eval_steps,\n",
    "        \n",
    "        load_best_model_at_end=True,\n",
    "        gradient_accumulation_steps=config.gradient_accumulation_steps,\n",
    "        label_smoothing_factor=config.label_smoothing_factor,\n",
    "        save_total_limit=3  # Prevents running out of disk space.\n",
    "    )\n",
    "\n",
    "    model = get_model()\n",
    "\n",
    "    trainer = Trainer(\n",
    "        model,\n",
    "        args,\n",
    "        train_dataset=train_tok_dataset,\n",
    "        eval_dataset=val_tok_dataset,\n",
    "        tokenizer=tokenizer,\n",
    "        data_collator=data_collator,\n",
    "        compute_metrics=compute_metrics\n",
    "    )\n",
    "\n",
    "    trainer.train()\n",
    "    \n",
    "    trainer.save_model(config.output_path / f'fold_{fold_num}')\n",
    "    \n",
    "    outputs = trainer.predict(val_tok_dataset)\n",
    "\n",
    "    val_data[labels] = softmax(outputs.predictions, axis=1)\n",
    "    \n",
    "    !rm -rf {config.output_path / 'checkpoint'}*\n",
    "    \n",
    "    return val_data"
   ]
  },
  {
   "cell_type": "code",
   "execution_count": 59,
   "id": "77138b7d",
   "metadata": {
    "execution": {
     "iopub.execute_input": "2022-06-25T05:28:47.591011Z",
     "iopub.status.busy": "2022-06-25T05:28:47.590654Z",
     "iopub.status.idle": "2022-06-25T07:45:58.529822Z",
     "shell.execute_reply": "2022-06-25T07:45:58.528691Z"
    },
    "papermill": {
     "duration": 8231.112086,
     "end_time": "2022-06-25T07:45:58.532778",
     "exception": false,
     "start_time": "2022-06-25T05:28:47.420692",
     "status": "completed"
    },
    "tags": []
   },
   "outputs": [
    {
     "name": "stdout",
     "output_type": "stream",
     "text": [
      "Train data size: (27575, 11)\n"
     ]
    },
    {
     "data": {
      "application/vnd.jupyter.widget-view+json": {
       "model_id": "2e673195b0fe44f09376aa768b389f24",
       "version_major": 2,
       "version_minor": 0
      },
      "text/plain": [
       "Casting to class labels:   0%|          | 0/28 [00:00<?, ?ba/s]"
      ]
     },
     "metadata": {},
     "output_type": "display_data"
    },
    {
     "data": {
      "application/vnd.jupyter.widget-view+json": {
       "model_id": "d4354a41791747b1a2fbcadb84b2e702",
       "version_major": 2,
       "version_minor": 0
      },
      "text/plain": [
       "Casting the dataset:   0%|          | 0/3 [00:00<?, ?ba/s]"
      ]
     },
     "metadata": {},
     "output_type": "display_data"
    },
    {
     "data": {
      "application/vnd.jupyter.widget-view+json": {
       "model_id": "3ef8322d4aa740498d966e639dce7e16",
       "version_major": 2,
       "version_minor": 0
      },
      "text/plain": [
       "Casting to class labels:   0%|          | 0/10 [00:00<?, ?ba/s]"
      ]
     },
     "metadata": {},
     "output_type": "display_data"
    },
    {
     "data": {
      "application/vnd.jupyter.widget-view+json": {
       "model_id": "8171b00a2b4b41979470c19584179922",
       "version_major": 2,
       "version_minor": 0
      },
      "text/plain": [
       "Casting the dataset:   0%|          | 0/1 [00:00<?, ?ba/s]"
      ]
     },
     "metadata": {},
     "output_type": "display_data"
    },
    {
     "data": {
      "application/vnd.jupyter.widget-view+json": {
       "model_id": "b8eeb72dc87b4feb925cd4fae37bc7d1",
       "version_major": 2,
       "version_minor": 0
      },
      "text/plain": [
       "  0%|          | 0/28 [00:00<?, ?ba/s]"
      ]
     },
     "metadata": {},
     "output_type": "display_data"
    },
    {
     "data": {
      "application/vnd.jupyter.widget-view+json": {
       "model_id": "7de83ef0ad724ed39518628f33336042",
       "version_major": 2,
       "version_minor": 0
      },
      "text/plain": [
       "  0%|          | 0/10 [00:00<?, ?ba/s]"
      ]
     },
     "metadata": {},
     "output_type": "display_data"
    },
    {
     "name": "stdout",
     "output_type": "stream",
     "text": [
      "Num steps: 1723.4375, eval steps: 861.0\n"
     ]
    },
    {
     "name": "stderr",
     "output_type": "stream",
     "text": [
      "/opt/conda/lib/python3.7/site-packages/transformers/optimization.py:309: FutureWarning: This implementation of AdamW is deprecated and will be removed in a future version. Use the PyTorch implementation torch.optim.AdamW instead, or set `no_deprecation_warning=True` to disable this warning\n",
      "  FutureWarning,\n"
     ]
    },
    {
     "data": {
      "text/html": [
       "\n",
       "    <div>\n",
       "      \n",
       "      <progress value='6896' max='6896' style='width:300px; height:20px; vertical-align: middle;'></progress>\n",
       "      [6896/6896 2:10:03, Epoch 4/4]\n",
       "    </div>\n",
       "    <table border=\"1\" class=\"dataframe\">\n",
       "  <thead>\n",
       " <tr style=\"text-align: left;\">\n",
       "      <th>Step</th>\n",
       "      <th>Training Loss</th>\n",
       "      <th>Validation Loss</th>\n",
       "      <th>Accuracy</th>\n",
       "    </tr>\n",
       "  </thead>\n",
       "  <tbody>\n",
       "    <tr>\n",
       "      <td>861</td>\n",
       "      <td>0.847600</td>\n",
       "      <td>0.814636</td>\n",
       "      <td>0.630657</td>\n",
       "    </tr>\n",
       "    <tr>\n",
       "      <td>1722</td>\n",
       "      <td>0.717100</td>\n",
       "      <td>0.668749</td>\n",
       "      <td>0.709965</td>\n",
       "    </tr>\n",
       "    <tr>\n",
       "      <td>2583</td>\n",
       "      <td>0.643800</td>\n",
       "      <td>0.655591</td>\n",
       "      <td>0.715296</td>\n",
       "    </tr>\n",
       "    <tr>\n",
       "      <td>3444</td>\n",
       "      <td>0.616300</td>\n",
       "      <td>0.612726</td>\n",
       "      <td>0.739556</td>\n",
       "    </tr>\n",
       "    <tr>\n",
       "      <td>4305</td>\n",
       "      <td>0.543100</td>\n",
       "      <td>0.625280</td>\n",
       "      <td>0.741297</td>\n",
       "    </tr>\n",
       "    <tr>\n",
       "      <td>5166</td>\n",
       "      <td>0.526500</td>\n",
       "      <td>0.600051</td>\n",
       "      <td>0.751414</td>\n",
       "    </tr>\n",
       "    <tr>\n",
       "      <td>6027</td>\n",
       "      <td>0.456400</td>\n",
       "      <td>0.595888</td>\n",
       "      <td>0.755657</td>\n",
       "    </tr>\n",
       "    <tr>\n",
       "      <td>6888</td>\n",
       "      <td>0.458000</td>\n",
       "      <td>0.600998</td>\n",
       "      <td>0.755331</td>\n",
       "    </tr>\n",
       "  </tbody>\n",
       "</table><p>"
      ],
      "text/plain": [
       "<IPython.core.display.HTML object>"
      ]
     },
     "metadata": {},
     "output_type": "display_data"
    },
    {
     "data": {
      "text/html": [
       "\n",
       "    <div>\n",
       "      \n",
       "      <progress value='288' max='288' style='width:300px; height:20px; vertical-align: middle;'></progress>\n",
       "      [288/288 02:47]\n",
       "    </div>\n",
       "    "
      ],
      "text/plain": [
       "<IPython.core.display.HTML object>"
      ]
     },
     "metadata": {},
     "output_type": "display_data"
    }
   ],
   "source": [
    "val_preds_df = pd.DataFrame()\n",
    "\n",
    "val_data = do_fold(0)\n",
    "\n",
    "val_preds_df = pd.concat([val_preds_df, val_data])"
   ]
  },
  {
   "cell_type": "markdown",
   "id": "a10cec04",
   "metadata": {
    "papermill": {
     "duration": 0.154256,
     "end_time": "2022-06-25T07:45:58.853973",
     "exception": false,
     "start_time": "2022-06-25T07:45:58.699717",
     "status": "completed"
    },
    "tags": []
   },
   "source": [
    "## All Folds"
   ]
  },
  {
   "cell_type": "code",
   "execution_count": 60,
   "id": "001f1f5d",
   "metadata": {
    "execution": {
     "iopub.execute_input": "2022-06-25T07:45:59.174184Z",
     "iopub.status.busy": "2022-06-25T07:45:59.173884Z",
     "iopub.status.idle": "2022-06-25T14:37:42.005240Z",
     "shell.execute_reply": "2022-06-25T14:37:42.004080Z"
    },
    "papermill": {
     "duration": 24702.994171,
     "end_time": "2022-06-25T14:37:42.008121",
     "exception": false,
     "start_time": "2022-06-25T07:45:59.013950",
     "status": "completed"
    },
    "tags": []
   },
   "outputs": [
    {
     "name": "stdout",
     "output_type": "stream",
     "text": [
      "Train data size: (27576, 11)\n"
     ]
    },
    {
     "data": {
      "application/vnd.jupyter.widget-view+json": {
       "model_id": "ad5b6b2cde12486ba95c397bdf581f63",
       "version_major": 2,
       "version_minor": 0
      },
      "text/plain": [
       "Casting to class labels:   0%|          | 0/28 [00:00<?, ?ba/s]"
      ]
     },
     "metadata": {},
     "output_type": "display_data"
    },
    {
     "data": {
      "application/vnd.jupyter.widget-view+json": {
       "model_id": "c8b3667155b74a2bab6f6b2a171f0b31",
       "version_major": 2,
       "version_minor": 0
      },
      "text/plain": [
       "Casting the dataset:   0%|          | 0/3 [00:00<?, ?ba/s]"
      ]
     },
     "metadata": {},
     "output_type": "display_data"
    },
    {
     "data": {
      "application/vnd.jupyter.widget-view+json": {
       "model_id": "79d64d85fcd34bff95b371412aa9e7b0",
       "version_major": 2,
       "version_minor": 0
      },
      "text/plain": [
       "Casting to class labels:   0%|          | 0/10 [00:00<?, ?ba/s]"
      ]
     },
     "metadata": {},
     "output_type": "display_data"
    },
    {
     "data": {
      "application/vnd.jupyter.widget-view+json": {
       "model_id": "a0b50c2abc1140698dff4cf856463a41",
       "version_major": 2,
       "version_minor": 0
      },
      "text/plain": [
       "Casting the dataset:   0%|          | 0/1 [00:00<?, ?ba/s]"
      ]
     },
     "metadata": {},
     "output_type": "display_data"
    },
    {
     "data": {
      "application/vnd.jupyter.widget-view+json": {
       "model_id": "a338e2379bea41479ddf1c472c7a1603",
       "version_major": 2,
       "version_minor": 0
      },
      "text/plain": [
       "  0%|          | 0/28 [00:00<?, ?ba/s]"
      ]
     },
     "metadata": {},
     "output_type": "display_data"
    },
    {
     "data": {
      "application/vnd.jupyter.widget-view+json": {
       "model_id": "07ebde4a4cac4f9ea92338bc057ec7dc",
       "version_major": 2,
       "version_minor": 0
      },
      "text/plain": [
       "  0%|          | 0/10 [00:00<?, ?ba/s]"
      ]
     },
     "metadata": {},
     "output_type": "display_data"
    },
    {
     "name": "stdout",
     "output_type": "stream",
     "text": [
      "Num steps: 1723.5, eval steps: 861.0\n"
     ]
    },
    {
     "name": "stderr",
     "output_type": "stream",
     "text": [
      "/opt/conda/lib/python3.7/site-packages/transformers/optimization.py:309: FutureWarning: This implementation of AdamW is deprecated and will be removed in a future version. Use the PyTorch implementation torch.optim.AdamW instead, or set `no_deprecation_warning=True` to disable this warning\n",
      "  FutureWarning,\n"
     ]
    },
    {
     "data": {
      "text/html": [
       "\n",
       "    <div>\n",
       "      \n",
       "      <progress value='6896' max='6896' style='width:300px; height:20px; vertical-align: middle;'></progress>\n",
       "      [6896/6896 2:10:14, Epoch 4/4]\n",
       "    </div>\n",
       "    <table border=\"1\" class=\"dataframe\">\n",
       "  <thead>\n",
       " <tr style=\"text-align: left;\">\n",
       "      <th>Step</th>\n",
       "      <th>Training Loss</th>\n",
       "      <th>Validation Loss</th>\n",
       "      <th>Accuracy</th>\n",
       "    </tr>\n",
       "  </thead>\n",
       "  <tbody>\n",
       "    <tr>\n",
       "      <td>861</td>\n",
       "      <td>0.853100</td>\n",
       "      <td>0.827103</td>\n",
       "      <td>0.620390</td>\n",
       "    </tr>\n",
       "    <tr>\n",
       "      <td>1722</td>\n",
       "      <td>0.722200</td>\n",
       "      <td>0.693521</td>\n",
       "      <td>0.692852</td>\n",
       "    </tr>\n",
       "    <tr>\n",
       "      <td>2583</td>\n",
       "      <td>0.646600</td>\n",
       "      <td>0.687176</td>\n",
       "      <td>0.705473</td>\n",
       "    </tr>\n",
       "    <tr>\n",
       "      <td>3444</td>\n",
       "      <td>0.626500</td>\n",
       "      <td>0.690955</td>\n",
       "      <td>0.704058</td>\n",
       "    </tr>\n",
       "    <tr>\n",
       "      <td>4305</td>\n",
       "      <td>0.539200</td>\n",
       "      <td>0.660467</td>\n",
       "      <td>0.720379</td>\n",
       "    </tr>\n",
       "    <tr>\n",
       "      <td>5166</td>\n",
       "      <td>0.513200</td>\n",
       "      <td>0.618560</td>\n",
       "      <td>0.729844</td>\n",
       "    </tr>\n",
       "    <tr>\n",
       "      <td>6027</td>\n",
       "      <td>0.458300</td>\n",
       "      <td>0.670318</td>\n",
       "      <td>0.731041</td>\n",
       "    </tr>\n",
       "    <tr>\n",
       "      <td>6888</td>\n",
       "      <td>0.457000</td>\n",
       "      <td>0.642096</td>\n",
       "      <td>0.734305</td>\n",
       "    </tr>\n",
       "  </tbody>\n",
       "</table><p>"
      ],
      "text/plain": [
       "<IPython.core.display.HTML object>"
      ]
     },
     "metadata": {},
     "output_type": "display_data"
    },
    {
     "data": {
      "text/html": [
       "\n",
       "    <div>\n",
       "      \n",
       "      <progress value='288' max='288' style='width:300px; height:20px; vertical-align: middle;'></progress>\n",
       "      [288/288 02:47]\n",
       "    </div>\n",
       "    "
      ],
      "text/plain": [
       "<IPython.core.display.HTML object>"
      ]
     },
     "metadata": {},
     "output_type": "display_data"
    },
    {
     "name": "stdout",
     "output_type": "stream",
     "text": [
      "Train data size: (27576, 11)\n"
     ]
    },
    {
     "data": {
      "application/vnd.jupyter.widget-view+json": {
       "model_id": "44c9f9a1c6d8451181fa722fd6919de4",
       "version_major": 2,
       "version_minor": 0
      },
      "text/plain": [
       "Casting to class labels:   0%|          | 0/28 [00:00<?, ?ba/s]"
      ]
     },
     "metadata": {},
     "output_type": "display_data"
    },
    {
     "data": {
      "application/vnd.jupyter.widget-view+json": {
       "model_id": "03f93157d4854462a08552bebb989148",
       "version_major": 2,
       "version_minor": 0
      },
      "text/plain": [
       "Casting the dataset:   0%|          | 0/3 [00:00<?, ?ba/s]"
      ]
     },
     "metadata": {},
     "output_type": "display_data"
    },
    {
     "data": {
      "application/vnd.jupyter.widget-view+json": {
       "model_id": "79e8ede6fc254abc924d99ee0217bf45",
       "version_major": 2,
       "version_minor": 0
      },
      "text/plain": [
       "Casting to class labels:   0%|          | 0/10 [00:00<?, ?ba/s]"
      ]
     },
     "metadata": {},
     "output_type": "display_data"
    },
    {
     "data": {
      "application/vnd.jupyter.widget-view+json": {
       "model_id": "7138eab00b584233819b25e247be9b3e",
       "version_major": 2,
       "version_minor": 0
      },
      "text/plain": [
       "Casting the dataset:   0%|          | 0/1 [00:00<?, ?ba/s]"
      ]
     },
     "metadata": {},
     "output_type": "display_data"
    },
    {
     "data": {
      "application/vnd.jupyter.widget-view+json": {
       "model_id": "2992eeb62dee4922a254db067169a8a4",
       "version_major": 2,
       "version_minor": 0
      },
      "text/plain": [
       "  0%|          | 0/28 [00:00<?, ?ba/s]"
      ]
     },
     "metadata": {},
     "output_type": "display_data"
    },
    {
     "data": {
      "application/vnd.jupyter.widget-view+json": {
       "model_id": "58fc4950e1ff498ca131683d55312ccf",
       "version_major": 2,
       "version_minor": 0
      },
      "text/plain": [
       "  0%|          | 0/10 [00:00<?, ?ba/s]"
      ]
     },
     "metadata": {},
     "output_type": "display_data"
    },
    {
     "name": "stdout",
     "output_type": "stream",
     "text": [
      "Num steps: 1723.5, eval steps: 861.0\n"
     ]
    },
    {
     "name": "stderr",
     "output_type": "stream",
     "text": [
      "/opt/conda/lib/python3.7/site-packages/transformers/optimization.py:309: FutureWarning: This implementation of AdamW is deprecated and will be removed in a future version. Use the PyTorch implementation torch.optim.AdamW instead, or set `no_deprecation_warning=True` to disable this warning\n",
      "  FutureWarning,\n"
     ]
    },
    {
     "data": {
      "text/html": [
       "\n",
       "    <div>\n",
       "      \n",
       "      <progress value='6896' max='6896' style='width:300px; height:20px; vertical-align: middle;'></progress>\n",
       "      [6896/6896 2:10:07, Epoch 4/4]\n",
       "    </div>\n",
       "    <table border=\"1\" class=\"dataframe\">\n",
       "  <thead>\n",
       " <tr style=\"text-align: left;\">\n",
       "      <th>Step</th>\n",
       "      <th>Training Loss</th>\n",
       "      <th>Validation Loss</th>\n",
       "      <th>Accuracy</th>\n",
       "    </tr>\n",
       "  </thead>\n",
       "  <tbody>\n",
       "    <tr>\n",
       "      <td>861</td>\n",
       "      <td>0.856500</td>\n",
       "      <td>0.754759</td>\n",
       "      <td>0.667718</td>\n",
       "    </tr>\n",
       "    <tr>\n",
       "      <td>1722</td>\n",
       "      <td>0.717300</td>\n",
       "      <td>0.721325</td>\n",
       "      <td>0.684692</td>\n",
       "    </tr>\n",
       "    <tr>\n",
       "      <td>2583</td>\n",
       "      <td>0.639800</td>\n",
       "      <td>0.631569</td>\n",
       "      <td>0.726907</td>\n",
       "    </tr>\n",
       "    <tr>\n",
       "      <td>3444</td>\n",
       "      <td>0.624400</td>\n",
       "      <td>0.627498</td>\n",
       "      <td>0.730606</td>\n",
       "    </tr>\n",
       "    <tr>\n",
       "      <td>4305</td>\n",
       "      <td>0.556000</td>\n",
       "      <td>0.646618</td>\n",
       "      <td>0.735067</td>\n",
       "    </tr>\n",
       "    <tr>\n",
       "      <td>5166</td>\n",
       "      <td>0.525800</td>\n",
       "      <td>0.602410</td>\n",
       "      <td>0.752149</td>\n",
       "    </tr>\n",
       "    <tr>\n",
       "      <td>6027</td>\n",
       "      <td>0.462300</td>\n",
       "      <td>0.618347</td>\n",
       "      <td>0.750299</td>\n",
       "    </tr>\n",
       "    <tr>\n",
       "      <td>6888</td>\n",
       "      <td>0.461600</td>\n",
       "      <td>0.621587</td>\n",
       "      <td>0.749102</td>\n",
       "    </tr>\n",
       "  </tbody>\n",
       "</table><p>"
      ],
      "text/plain": [
       "<IPython.core.display.HTML object>"
      ]
     },
     "metadata": {},
     "output_type": "display_data"
    },
    {
     "data": {
      "text/html": [
       "\n",
       "    <div>\n",
       "      \n",
       "      <progress value='288' max='288' style='width:300px; height:20px; vertical-align: middle;'></progress>\n",
       "      [288/288 02:47]\n",
       "    </div>\n",
       "    "
      ],
      "text/plain": [
       "<IPython.core.display.HTML object>"
      ]
     },
     "metadata": {},
     "output_type": "display_data"
    },
    {
     "name": "stdout",
     "output_type": "stream",
     "text": [
      "Train data size: (27576, 11)\n"
     ]
    },
    {
     "data": {
      "application/vnd.jupyter.widget-view+json": {
       "model_id": "91d67307d33443c599cccaf5152ec326",
       "version_major": 2,
       "version_minor": 0
      },
      "text/plain": [
       "Casting to class labels:   0%|          | 0/28 [00:00<?, ?ba/s]"
      ]
     },
     "metadata": {},
     "output_type": "display_data"
    },
    {
     "data": {
      "application/vnd.jupyter.widget-view+json": {
       "model_id": "a818acc79f474e8999241ee9d133a3a9",
       "version_major": 2,
       "version_minor": 0
      },
      "text/plain": [
       "Casting the dataset:   0%|          | 0/3 [00:00<?, ?ba/s]"
      ]
     },
     "metadata": {},
     "output_type": "display_data"
    },
    {
     "data": {
      "application/vnd.jupyter.widget-view+json": {
       "model_id": "6284739d9f0d4f26a6821d1bdf624358",
       "version_major": 2,
       "version_minor": 0
      },
      "text/plain": [
       "Casting to class labels:   0%|          | 0/10 [00:00<?, ?ba/s]"
      ]
     },
     "metadata": {},
     "output_type": "display_data"
    },
    {
     "data": {
      "application/vnd.jupyter.widget-view+json": {
       "model_id": "4bb0db2b8b964713af377a8c20177cdc",
       "version_major": 2,
       "version_minor": 0
      },
      "text/plain": [
       "Casting the dataset:   0%|          | 0/1 [00:00<?, ?ba/s]"
      ]
     },
     "metadata": {},
     "output_type": "display_data"
    },
    {
     "data": {
      "application/vnd.jupyter.widget-view+json": {
       "model_id": "512fd39a92684224a071cd5147e7f731",
       "version_major": 2,
       "version_minor": 0
      },
      "text/plain": [
       "  0%|          | 0/28 [00:00<?, ?ba/s]"
      ]
     },
     "metadata": {},
     "output_type": "display_data"
    },
    {
     "data": {
      "application/vnd.jupyter.widget-view+json": {
       "model_id": "b11a8102761448b6a9dcda8605719fe1",
       "version_major": 2,
       "version_minor": 0
      },
      "text/plain": [
       "  0%|          | 0/10 [00:00<?, ?ba/s]"
      ]
     },
     "metadata": {},
     "output_type": "display_data"
    },
    {
     "name": "stdout",
     "output_type": "stream",
     "text": [
      "Num steps: 1723.5, eval steps: 861.0\n"
     ]
    },
    {
     "name": "stderr",
     "output_type": "stream",
     "text": [
      "/opt/conda/lib/python3.7/site-packages/transformers/optimization.py:309: FutureWarning: This implementation of AdamW is deprecated and will be removed in a future version. Use the PyTorch implementation torch.optim.AdamW instead, or set `no_deprecation_warning=True` to disable this warning\n",
      "  FutureWarning,\n"
     ]
    },
    {
     "data": {
      "text/html": [
       "\n",
       "    <div>\n",
       "      \n",
       "      <progress value='6896' max='6896' style='width:300px; height:20px; vertical-align: middle;'></progress>\n",
       "      [6896/6896 2:10:26, Epoch 4/4]\n",
       "    </div>\n",
       "    <table border=\"1\" class=\"dataframe\">\n",
       "  <thead>\n",
       " <tr style=\"text-align: left;\">\n",
       "      <th>Step</th>\n",
       "      <th>Training Loss</th>\n",
       "      <th>Validation Loss</th>\n",
       "      <th>Accuracy</th>\n",
       "    </tr>\n",
       "  </thead>\n",
       "  <tbody>\n",
       "    <tr>\n",
       "      <td>861</td>\n",
       "      <td>0.848900</td>\n",
       "      <td>0.811741</td>\n",
       "      <td>0.630943</td>\n",
       "    </tr>\n",
       "    <tr>\n",
       "      <td>1722</td>\n",
       "      <td>0.733100</td>\n",
       "      <td>0.710002</td>\n",
       "      <td>0.695245</td>\n",
       "    </tr>\n",
       "    <tr>\n",
       "      <td>2583</td>\n",
       "      <td>0.650500</td>\n",
       "      <td>0.656732</td>\n",
       "      <td>0.712436</td>\n",
       "    </tr>\n",
       "    <tr>\n",
       "      <td>3444</td>\n",
       "      <td>0.624200</td>\n",
       "      <td>0.624402</td>\n",
       "      <td>0.733000</td>\n",
       "    </tr>\n",
       "    <tr>\n",
       "      <td>4305</td>\n",
       "      <td>0.543000</td>\n",
       "      <td>0.640309</td>\n",
       "      <td>0.732782</td>\n",
       "    </tr>\n",
       "    <tr>\n",
       "      <td>5166</td>\n",
       "      <td>0.529300</td>\n",
       "      <td>0.626820</td>\n",
       "      <td>0.732673</td>\n",
       "    </tr>\n",
       "    <tr>\n",
       "      <td>6027</td>\n",
       "      <td>0.463800</td>\n",
       "      <td>0.627857</td>\n",
       "      <td>0.737134</td>\n",
       "    </tr>\n",
       "    <tr>\n",
       "      <td>6888</td>\n",
       "      <td>0.460200</td>\n",
       "      <td>0.629160</td>\n",
       "      <td>0.737569</td>\n",
       "    </tr>\n",
       "  </tbody>\n",
       "</table><p>"
      ],
      "text/plain": [
       "<IPython.core.display.HTML object>"
      ]
     },
     "metadata": {},
     "output_type": "display_data"
    },
    {
     "data": {
      "text/html": [
       "\n",
       "    <div>\n",
       "      \n",
       "      <progress value='288' max='288' style='width:300px; height:20px; vertical-align: middle;'></progress>\n",
       "      [288/288 02:47]\n",
       "    </div>\n",
       "    "
      ],
      "text/plain": [
       "<IPython.core.display.HTML object>"
      ]
     },
     "metadata": {},
     "output_type": "display_data"
    }
   ],
   "source": [
    "for fold in range(1, config.n_folds):\n",
    "    val_data = do_fold(fold)\n",
    "    val_preds_df = pd.concat([val_preds_df, val_data])"
   ]
  },
  {
   "cell_type": "code",
   "execution_count": 61,
   "id": "15b4285b",
   "metadata": {
    "execution": {
     "iopub.execute_input": "2022-06-25T14:37:42.574124Z",
     "iopub.status.busy": "2022-06-25T14:37:42.573743Z",
     "iopub.status.idle": "2022-06-25T14:37:43.371598Z",
     "shell.execute_reply": "2022-06-25T14:37:43.370694Z"
    },
    "papermill": {
     "duration": 1.153309,
     "end_time": "2022-06-25T14:37:43.374309",
     "exception": false,
     "start_time": "2022-06-25T14:37:42.221000",
     "status": "completed"
    },
    "tags": []
   },
   "outputs": [],
   "source": [
    "val_preds_df.drop(columns=['inputs']).to_csv(config.output_path / 'val_preds.csv', index=False)"
   ]
  },
  {
   "cell_type": "code",
   "execution_count": 62,
   "id": "bef34e82",
   "metadata": {
    "execution": {
     "iopub.execute_input": "2022-06-25T14:37:43.749719Z",
     "iopub.status.busy": "2022-06-25T14:37:43.749360Z",
     "iopub.status.idle": "2022-06-25T14:37:43.966729Z",
     "shell.execute_reply": "2022-06-25T14:37:43.965637Z"
    },
    "papermill": {
     "duration": 0.405124,
     "end_time": "2022-06-25T14:37:43.969386",
     "exception": false,
     "start_time": "2022-06-25T14:37:43.564262",
     "status": "completed"
    },
    "tags": []
   },
   "outputs": [],
   "source": [
    "val_preds_df = pd.read_csv(config.output_path / 'val_preds.csv')"
   ]
  },
  {
   "cell_type": "code",
   "execution_count": 63,
   "id": "c2ef4213",
   "metadata": {
    "execution": {
     "iopub.execute_input": "2022-06-25T14:37:44.380940Z",
     "iopub.status.busy": "2022-06-25T14:37:44.380042Z",
     "iopub.status.idle": "2022-06-25T14:37:44.404664Z",
     "shell.execute_reply": "2022-06-25T14:37:44.403530Z"
    },
    "papermill": {
     "duration": 0.248939,
     "end_time": "2022-06-25T14:37:44.406932",
     "exception": false,
     "start_time": "2022-06-25T14:37:44.157993",
     "status": "completed"
    },
    "tags": []
   },
   "outputs": [
    {
     "data": {
      "text/html": [
       "<div>\n",
       "<style scoped>\n",
       "    .dataframe tbody tr th:only-of-type {\n",
       "        vertical-align: middle;\n",
       "    }\n",
       "\n",
       "    .dataframe tbody tr th {\n",
       "        vertical-align: top;\n",
       "    }\n",
       "\n",
       "    .dataframe thead th {\n",
       "        text-align: right;\n",
       "    }\n",
       "</style>\n",
       "<table border=\"1\" class=\"dataframe\">\n",
       "  <thead>\n",
       "    <tr style=\"text-align: right;\">\n",
       "      <th></th>\n",
       "      <th>discourse_id</th>\n",
       "      <th>essay_id</th>\n",
       "      <th>discourse_text</th>\n",
       "      <th>discourse_type</th>\n",
       "      <th>discourse_effectiveness</th>\n",
       "      <th>topic</th>\n",
       "      <th>topic_name</th>\n",
       "      <th>word_count</th>\n",
       "      <th>fold</th>\n",
       "      <th>essay_fn</th>\n",
       "      <th>Adequate</th>\n",
       "      <th>Effective</th>\n",
       "      <th>Ineffective</th>\n",
       "    </tr>\n",
       "  </thead>\n",
       "  <tbody>\n",
       "    <tr>\n",
       "      <th>0</th>\n",
       "      <td>0013cc385424</td>\n",
       "      <td>007ACE74B050</td>\n",
       "      <td>Hi, i'm Isaac, i'm going to be writing about h...</td>\n",
       "      <td>Lead</td>\n",
       "      <td>Adequate</td>\n",
       "      <td>11</td>\n",
       "      <td>face mars landform aliens</td>\n",
       "      <td>67</td>\n",
       "      <td>0</td>\n",
       "      <td>../input/feedback-prize-effectiveness/train/00...</td>\n",
       "      <td>0.9634</td>\n",
       "      <td>0.00749</td>\n",
       "      <td>0.0286</td>\n",
       "    </tr>\n",
       "  </tbody>\n",
       "</table>\n",
       "</div>"
      ],
      "text/plain": [
       "   discourse_id      essay_id  \\\n",
       "0  0013cc385424  007ACE74B050   \n",
       "\n",
       "                                      discourse_text discourse_type  \\\n",
       "0  Hi, i'm Isaac, i'm going to be writing about h...           Lead   \n",
       "\n",
       "  discourse_effectiveness  topic                 topic_name  word_count  fold  \\\n",
       "0                Adequate     11  face mars landform aliens          67     0   \n",
       "\n",
       "                                            essay_fn  Adequate  Effective  \\\n",
       "0  ../input/feedback-prize-effectiveness/train/00...    0.9634    0.00749   \n",
       "\n",
       "   Ineffective  \n",
       "0       0.0286  "
      ]
     },
     "execution_count": 63,
     "metadata": {},
     "output_type": "execute_result"
    }
   ],
   "source": [
    "val_preds_df.head(1)"
   ]
  },
  {
   "cell_type": "markdown",
   "id": "2ffb2848",
   "metadata": {
    "papermill": {
     "duration": 0.183794,
     "end_time": "2022-06-25T14:37:44.783694",
     "exception": false,
     "start_time": "2022-06-25T14:37:44.599900",
     "status": "completed"
    },
    "tags": []
   },
   "source": [
    "# CV Score"
   ]
  },
  {
   "cell_type": "code",
   "execution_count": 64,
   "id": "32c14f62",
   "metadata": {
    "execution": {
     "iopub.execute_input": "2022-06-25T14:37:45.157165Z",
     "iopub.status.busy": "2022-06-25T14:37:45.156888Z",
     "iopub.status.idle": "2022-06-25T14:37:45.337534Z",
     "shell.execute_reply": "2022-06-25T14:37:45.336567Z"
    },
    "papermill": {
     "duration": 0.366606,
     "end_time": "2022-06-25T14:37:45.339864",
     "exception": false,
     "start_time": "2022-06-25T14:37:44.973258",
     "status": "completed"
    },
    "tags": []
   },
   "outputs": [
    {
     "data": {
      "text/plain": [
       "0.6105896033917458"
      ]
     },
     "execution_count": 64,
     "metadata": {},
     "output_type": "execute_result"
    }
   ],
   "source": [
    "cv = log_loss(val_preds_df['discourse_effectiveness'], val_preds_df[labels])\n",
    "cv"
   ]
  },
  {
   "cell_type": "code",
   "execution_count": 65,
   "id": "32be21e2",
   "metadata": {
    "execution": {
     "iopub.execute_input": "2022-06-25T14:37:45.734727Z",
     "iopub.status.busy": "2022-06-25T14:37:45.734410Z",
     "iopub.status.idle": "2022-06-25T14:37:45.743526Z",
     "shell.execute_reply": "2022-06-25T14:37:45.742656Z"
    },
    "papermill": {
     "duration": 0.209671,
     "end_time": "2022-06-25T14:37:45.746533",
     "exception": false,
     "start_time": "2022-06-25T14:37:45.536862",
     "status": "completed"
    },
    "tags": []
   },
   "outputs": [],
   "source": [
    "wandb.log({\"cv\": cv})"
   ]
  },
  {
   "cell_type": "markdown",
   "id": "b66768da",
   "metadata": {
    "papermill": {
     "duration": 0.186004,
     "end_time": "2022-06-25T14:37:46.243084",
     "exception": false,
     "start_time": "2022-06-25T14:37:46.057080",
     "status": "completed"
    },
    "tags": []
   },
   "source": [
    "# Model Interpretation"
   ]
  },
  {
   "cell_type": "markdown",
   "id": "96569515",
   "metadata": {
    "papermill": {
     "duration": 0.190528,
     "end_time": "2022-06-25T14:37:46.621558",
     "exception": false,
     "start_time": "2022-06-25T14:37:46.431030",
     "status": "completed"
    },
    "tags": []
   },
   "source": [
    "I'm going to explore some of the model's predictions. I hope to learn more about the dataset and its limitations by doing this."
   ]
  },
  {
   "cell_type": "markdown",
   "id": "3bf29400",
   "metadata": {
    "papermill": {
     "duration": 0.185031,
     "end_time": "2022-06-25T14:37:46.994170",
     "exception": false,
     "start_time": "2022-06-25T14:37:46.809139",
     "status": "completed"
    },
    "tags": []
   },
   "source": [
    "Firstly, I'll add a column to calculate the `-log` error per example."
   ]
  },
  {
   "cell_type": "code",
   "execution_count": 66,
   "id": "20f1192f",
   "metadata": {
    "execution": {
     "iopub.execute_input": "2022-06-25T14:37:47.373823Z",
     "iopub.status.busy": "2022-06-25T14:37:47.373513Z",
     "iopub.status.idle": "2022-06-25T14:37:48.372091Z",
     "shell.execute_reply": "2022-06-25T14:37:48.371143Z"
    },
    "papermill": {
     "duration": 1.192379,
     "end_time": "2022-06-25T14:37:48.374915",
     "exception": false,
     "start_time": "2022-06-25T14:37:47.182536",
     "status": "completed"
    },
    "tags": []
   },
   "outputs": [],
   "source": [
    "def compute_loss(row):\n",
    "    return -math.log(row[row.discourse_effectiveness])\n",
    "\n",
    "val_preds_df['loss'] = val_preds_df.apply(compute_loss, axis=1)"
   ]
  },
  {
   "cell_type": "markdown",
   "id": "21333a6e",
   "metadata": {
    "papermill": {
     "duration": 0.204433,
     "end_time": "2022-06-25T14:37:48.769059",
     "exception": false,
     "start_time": "2022-06-25T14:37:48.564626",
     "status": "completed"
    },
    "tags": []
   },
   "source": [
    "And another boolean column to describe where the prediction was correct or not. "
   ]
  },
  {
   "cell_type": "code",
   "execution_count": 67,
   "id": "a69eaac3",
   "metadata": {
    "execution": {
     "iopub.execute_input": "2022-06-25T14:37:49.143584Z",
     "iopub.status.busy": "2022-06-25T14:37:49.143251Z",
     "iopub.status.idle": "2022-06-25T14:37:49.222097Z",
     "shell.execute_reply": "2022-06-25T14:37:49.221092Z"
    },
    "papermill": {
     "duration": 0.264395,
     "end_time": "2022-06-25T14:37:49.224216",
     "exception": false,
     "start_time": "2022-06-25T14:37:48.959821",
     "status": "completed"
    },
    "tags": []
   },
   "outputs": [],
   "source": [
    "val_preds_df['predicted'] = val_preds_df[labels].idxmax(axis=1)\n",
    "val_preds_df['is_correct'] = val_preds_df.discourse_effectiveness == val_preds_df.predicted"
   ]
  },
  {
   "cell_type": "markdown",
   "id": "d1d606f8",
   "metadata": {
    "papermill": {
     "duration": 0.191805,
     "end_time": "2022-06-25T14:37:49.608109",
     "exception": false,
     "start_time": "2022-06-25T14:37:49.416304",
     "status": "completed"
    },
    "tags": []
   },
   "source": [
    "## Average error per class"
   ]
  },
  {
   "cell_type": "code",
   "execution_count": 68,
   "id": "65c16e13",
   "metadata": {
    "_kg_hide-input": true,
    "execution": {
     "iopub.execute_input": "2022-06-25T14:37:49.976780Z",
     "iopub.status.busy": "2022-06-25T14:37:49.976403Z",
     "iopub.status.idle": "2022-06-25T14:37:50.004100Z",
     "shell.execute_reply": "2022-06-25T14:37:50.003217Z"
    },
    "papermill": {
     "duration": 0.215263,
     "end_time": "2022-06-25T14:37:50.006489",
     "exception": false,
     "start_time": "2022-06-25T14:37:49.791226",
     "status": "completed"
    },
    "tags": []
   },
   "outputs": [
    {
     "data": {
      "text/html": [
       "<div>\n",
       "<style scoped>\n",
       "    .dataframe tbody tr th:only-of-type {\n",
       "        vertical-align: middle;\n",
       "    }\n",
       "\n",
       "    .dataframe tbody tr th {\n",
       "        vertical-align: top;\n",
       "    }\n",
       "\n",
       "    .dataframe thead th {\n",
       "        text-align: right;\n",
       "    }\n",
       "</style>\n",
       "<table border=\"1\" class=\"dataframe\">\n",
       "  <thead>\n",
       "    <tr style=\"text-align: right;\">\n",
       "      <th></th>\n",
       "      <th>loss</th>\n",
       "    </tr>\n",
       "    <tr>\n",
       "      <th>discourse_effectiveness</th>\n",
       "      <th></th>\n",
       "    </tr>\n",
       "  </thead>\n",
       "  <tbody>\n",
       "    <tr>\n",
       "      <th>Adequate</th>\n",
       "      <td>0.421732</td>\n",
       "    </tr>\n",
       "    <tr>\n",
       "      <th>Effective</th>\n",
       "      <td>0.510759</td>\n",
       "    </tr>\n",
       "    <tr>\n",
       "      <th>Ineffective</th>\n",
       "      <td>1.367729</td>\n",
       "    </tr>\n",
       "  </tbody>\n",
       "</table>\n",
       "</div>"
      ],
      "text/plain": [
       "                             loss\n",
       "discourse_effectiveness          \n",
       "Adequate                 0.421732\n",
       "Effective                0.510759\n",
       "Ineffective              1.367729"
      ]
     },
     "execution_count": 68,
     "metadata": {},
     "output_type": "execute_result"
    }
   ],
   "source": [
    "loss_per_class = val_preds_df[['discourse_effectiveness', 'loss']].groupby('discourse_effectiveness').mean('loss')\n",
    "loss_per_class"
   ]
  },
  {
   "cell_type": "code",
   "execution_count": 69,
   "id": "537263f1",
   "metadata": {
    "_kg_hide-input": true,
    "execution": {
     "iopub.execute_input": "2022-06-25T14:37:50.384310Z",
     "iopub.status.busy": "2022-06-25T14:37:50.384036Z",
     "iopub.status.idle": "2022-06-25T14:37:50.596454Z",
     "shell.execute_reply": "2022-06-25T14:37:50.595552Z"
    },
    "papermill": {
     "duration": 0.407155,
     "end_time": "2022-06-25T14:37:50.602920",
     "exception": false,
     "start_time": "2022-06-25T14:37:50.195765",
     "status": "completed"
    },
    "tags": []
   },
   "outputs": [
    {
     "data": {
      "image/png": "[encoded data removed]",
      "text/plain": [
       "<Figure size 720x360 with 1 Axes>"
      ]
     },
     "metadata": {
      "needs_background": "light"
     },
     "output_type": "display_data"
    }
   ],
   "source": [
    "fig = plt.figure(figsize=(10, 5))\n",
    "ax = fig.add_subplot()\n",
    "\n",
    "sns.barplot(x=loss_per_class.index, y=loss_per_class.loss, ax=ax)\n",
    "plt.show()"
   ]
  },
  {
   "cell_type": "markdown",
   "id": "5dabf815",
   "metadata": {
    "papermill": {
     "duration": 0.184664,
     "end_time": "2022-06-25T14:37:50.977953",
     "exception": false,
     "start_time": "2022-06-25T14:37:50.793289",
     "status": "completed"
    },
    "tags": []
   },
   "source": [
    "Clearly the ineffective classes are the most difficult to classify."
   ]
  },
  {
   "cell_type": "markdown",
   "id": "b8ba36e3",
   "metadata": {
    "papermill": {
     "duration": 0.186329,
     "end_time": "2022-06-25T14:37:51.346996",
     "exception": false,
     "start_time": "2022-06-25T14:37:51.160667",
     "status": "completed"
    },
    "tags": []
   },
   "source": [
    "## Confusion Matrix\n",
    "\n",
    "A confusion matrix is a useful way of viewing which classes the model has the most difficulty with.\n",
    "\n",
    "A common practice to create a nice looking confusion matrix is to pass a scikit Confusion Matrix into a Seaborn Heatmap."
   ]
  },
  {
   "cell_type": "code",
   "execution_count": 70,
   "id": "352bedb6",
   "metadata": {
    "_kg_hide-input": true,
    "execution": {
     "iopub.execute_input": "2022-06-25T14:37:51.725449Z",
     "iopub.status.busy": "2022-06-25T14:37:51.725126Z",
     "iopub.status.idle": "2022-06-25T14:37:52.197493Z",
     "shell.execute_reply": "2022-06-25T14:37:52.196563Z"
    },
    "papermill": {
     "duration": 0.666867,
     "end_time": "2022-06-25T14:37:52.199874",
     "exception": false,
     "start_time": "2022-06-25T14:37:51.533007",
     "status": "completed"
    },
    "tags": []
   },
   "outputs": [
    {
     "data": {
      "image/png": "[encoded data removed]",
      "text/plain": [
       "<Figure size 432x288 with 2 Axes>"
      ]
     },
     "metadata": {
      "needs_background": "light"
     },
     "output_type": "display_data"
    }
   ],
   "source": [
    "from sklearn.metrics import confusion_matrix\n",
    "from matplotlib import pyplot as plt\n",
    "import seaborn as sns\n",
    "\n",
    "labels = ['Ineffective', 'Adequate', 'Effective']\n",
    "\n",
    "def do_conf_matrix(y_true, y_pred, ax, title=None):\n",
    "    cm = confusion_matrix(y_true, y_pred, labels=labels)\n",
    "    cm\n",
    "\n",
    "    sns.heatmap(cm, annot=True, fmt='g', ax=ax, cmap='Blues');\n",
    "\n",
    "    # labels, title and ticks\n",
    "    ax.set_xlabel('Predicted labels');\n",
    "    ax.set_ylabel('True labels'); \n",
    "    ax.set_title('Confusion Matrix'); \n",
    "\n",
    "    ax.xaxis.set_ticklabels(labels)\n",
    "    ax.yaxis.set_ticklabels(labels);\n",
    "    \n",
    "\n",
    "y_true = val_preds_df.discourse_effectiveness.values\n",
    "y_pred = val_preds_df[labels].idxmax(axis=1).values\n",
    "ax= plt.subplot()\n",
    "do_conf_matrix(y_true, y_pred, ax=ax)"
   ]
  },
  {
   "cell_type": "markdown",
   "id": "d90f85b0",
   "metadata": {
    "papermill": {
     "duration": 0.188945,
     "end_time": "2022-06-25T14:37:52.585412",
     "exception": false,
     "start_time": "2022-06-25T14:37:52.396467",
     "status": "completed"
    },
    "tags": []
   },
   "source": [
    "We can see again that the model is having a lot of difficulty with `Ineffective` labeled examples."
   ]
  },
  {
   "cell_type": "markdown",
   "id": "d43a0e23",
   "metadata": {
    "papermill": {
     "duration": 0.187636,
     "end_time": "2022-06-25T14:37:52.962001",
     "exception": false,
     "start_time": "2022-06-25T14:37:52.774365",
     "status": "completed"
    },
    "tags": []
   },
   "source": [
    "## Confusion Matrix Per Discourse Type"
   ]
  },
  {
   "cell_type": "code",
   "execution_count": 71,
   "id": "b51460c8",
   "metadata": {
    "_kg_hide-input": true,
    "execution": {
     "iopub.execute_input": "2022-06-25T14:37:53.496465Z",
     "iopub.status.busy": "2022-06-25T14:37:53.496046Z",
     "iopub.status.idle": "2022-06-25T14:37:56.894208Z",
     "shell.execute_reply": "2022-06-25T14:37:56.891036Z"
    },
    "papermill": {
     "duration": 3.749688,
     "end_time": "2022-06-25T14:37:56.900750",
     "exception": false,
     "start_time": "2022-06-25T14:37:53.151062",
     "status": "completed"
    },
    "tags": []
   },
   "outputs": [
    {
     "data": {
      "image/png": "[encoded data removed]",
      "text/plain": [
       "<Figure size 2160x216 with 14 Axes>"
      ]
     },
     "metadata": {
      "needs_background": "light"
     },
     "output_type": "display_data"
    }
   ],
   "source": [
    "fig, axes = plt.subplots(1, len(discourse_types), figsize=(30, 3))\n",
    "for i, discourse_type in enumerate(discourse_types):\n",
    "    filtered_df = val_preds_df[val_preds_df.discourse_type == discourse_type]\n",
    "    y_true = filtered_df.discourse_effectiveness.values\n",
    "    y_pred = filtered_df[labels].idxmax(axis=1).values\n",
    "    ax = axes[i]\n",
    "    do_conf_matrix(y_true, y_pred, ax=ax)\n",
    "    axes[i].set_title(discourse_type)\n",
    "    \n",
    "fig.suptitle('Confusion matrix per discourse_type', y=1.08)\n",
    "plt.show()"
   ]
  },
  {
   "cell_type": "markdown",
   "id": "335176f7",
   "metadata": {
    "papermill": {
     "duration": 0.333341,
     "end_time": "2022-06-25T14:37:57.568140",
     "exception": false,
     "start_time": "2022-06-25T14:37:57.234799",
     "status": "completed"
    },
    "tags": []
   },
   "source": [
    "## Confident wrong examples\n",
    "\n",
    "Let's see 5 examples where the model was very confident but wrong."
   ]
  },
  {
   "cell_type": "code",
   "execution_count": 72,
   "id": "e872c72b",
   "metadata": {
    "_kg_hide-input": true,
    "execution": {
     "iopub.execute_input": "2022-06-25T14:37:58.236967Z",
     "iopub.status.busy": "2022-06-25T14:37:58.236407Z",
     "iopub.status.idle": "2022-06-25T14:37:58.261950Z",
     "shell.execute_reply": "2022-06-25T14:37:58.260911Z"
    },
    "papermill": {
     "duration": 0.36386,
     "end_time": "2022-06-25T14:37:58.265153",
     "exception": false,
     "start_time": "2022-06-25T14:37:57.901293",
     "status": "completed"
    },
    "tags": []
   },
   "outputs": [
    {
     "data": {
      "text/html": [
       "\n",
       "<table style=\"font-family: monospace;\">\n",
       "    <tr>\n",
       "         \n",
       "    <td width=\"20%\" style=\"vertical-align:top; border-right: 1px solid #7accd8\"><p><b>Actual</b>: Ineffective <br><b>Predicted</b>: Adequate (0.4995) <p><i>If you give one vote for one citizens and one vote for all people who leave in United States that's more fairy for the candidat for the Presidential Electoral and for the citizens, \n",
       "</p></td>\n",
       "    \n",
       "    <td width=\"20%\" style=\"vertical-align:top; border-right: 1px solid #7accd8\"><p><b>Actual</b>: Ineffective <br><b>Predicted</b>: Adequate (0.5015) <p><i>These example show how cameras effected the photo.        </p></td>\n",
       "    \n",
       "    <td width=\"20%\" style=\"vertical-align:top; border-right: 1px solid #7accd8\"><p><b>Actual</b>: Adequate <br><b>Predicted</b>: Ineffective (0.499) <p><i>The author says, \"Venus is simple to see from the distant but safe vantage point of Earth, it has proved a very challenging place to examine more closely,\" (paragraph 1). </p></td>\n",
       "    \n",
       "    <td width=\"20%\" style=\"vertical-align:top; border-right: 1px solid #7accd8\"><p><b>Actual</b>: Adequate <br><b>Predicted</b>: Ineffective (0.501) <p><i>Yea it is fun to have our phones out but we don't need to focus our lives on phones some people around the countrys aren't lucky enough to have phones. \n",
       "</p></td>\n",
       "    \n",
       "    <td width=\"20%\" style=\"vertical-align:top; border-right: 1px solid #7accd8\"><p><b>Actual</b>: Adequate <br><b>Predicted</b>: Ineffective (0.499) <p><i>By weighting the different units, the software can identified by the using mixed emotions. Each emotion is compared against neutral face, in other words no expression shown. You can tell the difference of a person's face of how they're feeling just by looking at their face. </p></td>\n",
       "    \n",
       "    </tr>\n",
       "</table>\n"
      ],
      "text/plain": [
       "<IPython.core.display.HTML object>"
      ]
     },
     "metadata": {},
     "output_type": "display_data"
    }
   ],
   "source": [
    "inner_html = \"\"\n",
    "for idx, row in val_preds_df[~val_preds_df.is_correct].sort_values('loss', ascending=True).head(5).iterrows():\n",
    "    inner_html += f'''\n",
    "    <td width=\"20%\" style=\"vertical-align:top; border-right: 1px solid #7accd8\"><p><b>Actual</b>: {row.discourse_effectiveness} <br><b>Predicted</b>: {row.predicted} ({row[row.predicted]}) <p><i>{row.discourse_text}</p></td>\n",
    "    '''\n",
    "    \n",
    "display(HTML(f\"\"\"\n",
    "<table style=\"font-family: monospace;\">\n",
    "    <tr>\n",
    "         {inner_html}\n",
    "    </tr>\n",
    "</table>\n",
    "\"\"\"))"
   ]
  },
  {
   "cell_type": "markdown",
   "id": "3e105a92",
   "metadata": {
    "papermill": {
     "duration": 0.190501,
     "end_time": "2022-06-25T14:37:58.730568",
     "exception": false,
     "start_time": "2022-06-25T14:37:58.540067",
     "status": "completed"
    },
    "tags": []
   },
   "source": [
    "## Confident right examples\n",
    "\n",
    "Let's see 5 examples where the model was very confident and right."
   ]
  },
  {
   "cell_type": "code",
   "execution_count": 73,
   "id": "4d52993b",
   "metadata": {
    "_kg_hide-input": true,
    "execution": {
     "iopub.execute_input": "2022-06-25T14:37:59.118416Z",
     "iopub.status.busy": "2022-06-25T14:37:59.118096Z",
     "iopub.status.idle": "2022-06-25T14:37:59.144590Z",
     "shell.execute_reply": "2022-06-25T14:37:59.143654Z"
    },
    "papermill": {
     "duration": 0.223674,
     "end_time": "2022-06-25T14:37:59.147172",
     "exception": false,
     "start_time": "2022-06-25T14:37:58.923498",
     "status": "completed"
    },
    "tags": []
   },
   "outputs": [
    {
     "data": {
      "text/html": [
       "\n",
       "<table style=\"font-family: monospace;\">\n",
       "    <tr>\n",
       "         \n",
       "        <td width=\"20%\" style=\"vertical-align:top; border-right: 1px solid #7accd8\"><p><b>Actual</b>: Ineffective <br><b>Predicted</b>: Ineffective (0.992) <p><i>Venus is like earths twin. The author stated in where the plant is loctaed. Venus tempature on the surface is 800 degrees. NASA is wanting to send people to the planet venus.\n",
       "\n",
       "NASA is wroking on other approachaes to studying Venus. They smiplified electronics that are made up of silicon. They are trying to make the modern day computers even faster then they are today. NASA trying to create a machine that well last long enough to contribute to Venus. Their wanting to make gear that also dont need electronce inquired.\n",
       "\n",
       "People call Venus \"The Evening Star\" becuase it is one of the brightest spot in the night sky. Although people mistaken it for a star its a planet. Venus is safer to see from the distance its been very challageing to exmane Venus. This planet is the secound planet away from our sun. Venus is the closest size to earth.\n",
       "\n",
       "The NASA is very facinated by Venus because is the most earth like planet. Venus surface is very rocky like valleys and mountains. NASA is request to send some people to go check out the planet Venus but that is nearly impossable . They think that at one point Venus was just coverd inh ocean. Venus is the nearst option to vist. </p></td>\n",
       "    \n",
       "        <td width=\"20%\" style=\"vertical-align:top; border-right: 1px solid #7accd8\"><p><b>Actual</b>: Ineffective <br><b>Predicted</b>: Ineffective (0.992) <p><i>A 3-D computer is a model of the face all 44 muscles and its called an \"action unit\". The Dr. Huang relies to work on of psycholoists and Dr. Paul Eckam, the creater of FACS (Facial Action Coding System). Dr. Eckman classified six basic emotions suprise, anger, happiness, fear, and sadness. Then he made associated each with charatcteristic movements of the facical muscles.\n",
       "\n",
       "Dr. Huang smiling broadly \" even though individuals often show varying degrees of expression\". Huang using video imagery, new emotion-recognition software tracks these movements in a real face or the painted picture of Mona Lisa. The weighting the diffeent units in the software can be even identify mixed emotions. Even each expression can be compared against the neutral face.\n",
       "\n",
       "The humans perform the same impressive \"calualtion\" every single day. if we can probably tell our friend how they're feeling because by the way look on there faces. But most of us would have trouble describing each facial. </p></td>\n",
       "    \n",
       "        <td width=\"20%\" style=\"vertical-align:top; border-right: 1px solid #7accd8\"><p><b>Actual</b>: Ineffective <br><b>Predicted</b>: Ineffective (0.992) <p><i>because they also help the voters with thier votes also because all the other people have candidate which makess it easy for electors who democrafts in texas because they know this will not have any effect in them otherwise they wouldnt vote but the electors need good reasons why the voters should vote for them so you would need to have specific facts and good source and why would you make a great president or why you think your better than the other elector all this questions and more you have to persuade them in any possible way but with truth no lies like if you promise the world for better oppportunities you have to prove to them youre actually willing to do this and be part of thier lives by changing the way they live not only that but you have to accomplish your goals . At the end whoever has more votes is the winner the people who voted for you are especting the best out of you bascally thier putting all thier trust in you, someone they have no clue who you are and why are the exact reason your thier or what your goals are,    </p></td>\n",
       "    \n",
       "        <td width=\"20%\" style=\"vertical-align:top; border-right: 1px solid #7accd8\"><p><b>Actual</b>: Ineffective <br><b>Predicted</b>: Ineffective (0.992) <p><i>Source 1; What is the electoral collage?\n",
       "\n",
       "The electoral collage is a process, not a place. The electoral collage process consists of the selection of the meeting of the electors where they vote for president and vice president and the counting of the electoral of the electoral votes by congress. The electoral collage consists of 538 electors. A majority of 270 electoral votes is required to elect the president. The Congressional delegation one for each member in the house of representives plus two for senators. The 23rd Amendment of the constiton the district of columbia is allocated 3 electors and treated like a state for purposes of the electoral collage. Each candiddate running for president in your state has his or her own group of electors. The electors are generally chosen by the candidate's political party but state has his or her own group of electors. The electors are chosen by political party. The state law vary on how the electors are selected and their responsibilities. The presindential election are held every four years. After the president election the governor prepares a Certifiate of Ascertainment.\n",
       "\n",
       "Source 2; The indefensible electoral college; why even the best laid defenses of the system are wrong.\n",
       "\n",
       "Under the electoral collage system, voters vote not for the president, but for a slate of electors who in turn elect the president. If you live in Texas and vote for a slate of 34 Democratic electores pledged to kerry would get 34 electoral votes. On the off-chance that those electora won the statewide election they would go to Congress and Kerry would get 34 votes. The single best argument against the electoral collage is what we might call the disaster factor. The American people are lucky that 2000 fiasco was the biggest eleection crsis in a century. Back in 1960 segregationists in the Louisiana legislature nearly succeeded in replacing the Democratic electors with the new electors who would oppose John F Kenney. He was a great learder.\n",
       "\n",
       "Source 3; in dedense of the electoral college; five reasons the keep out despised method of choosing the president.\n",
       "\n",
       "The number collage is widely regared as an anachronism a non- democratic method of selecting a president that ought to be overruled. The advocates of this position are correct in arguing that the electoral college method is not democrtic in a modern sense. When you vote for a president candidate you're actually voting for a slate of electors. There are five reasons for reatining the Elctoral college despite its lack of democratic pedigree all are practical reason not liberal or conservative reason. In 2012 election for example Obama received 61.7 percent of the electoral vote compared to only 51.3 percent of the popular votes. The electoral college requires a president candidate to have trans- regional appeal. The winner takes all method of awarding electoral votes induces the candidates as we saw in 2012 election to focus their campagign efforts on the toss up states. </p></td>\n",
       "    \n",
       "        <td width=\"20%\" style=\"vertical-align:top; border-right: 1px solid #7accd8\"><p><b>Actual</b>: Ineffective <br><b>Predicted</b>: Ineffective (0.992) <p><i>The electoral collage is a founding fathers established in the constitution as a compromise between election of the president by a vote. There are consis of 588 electory and majority of 270 electory votes is required elect the president. So there for electors generally choose by candidates political partys. Presidential election is held every four years but it on a Tuesday after the first monday.\n",
       "\n",
       "whoever  you have choosen the states elector you would be  really be voting for your next president .\n",
       "\n",
       "How that works is when you vote for your candidate you are actually voting for your candidate elector.\n",
       "\n",
       "And who ever has the most votes the winner \"takes it all\" type of sytem to the winning presidential candidates.\n",
       "\n",
       "After the elcetion has ended your governor takes it time for the \"centificate of Ascertaniment\" for all the candidact ran for the preisdent . Also for the Centificate of Ascertaniment makes it in your state and shows which electors will represent your state. </p></td>\n",
       "    \n",
       "    </tr>\n",
       "</table>\n"
      ],
      "text/plain": [
       "<IPython.core.display.HTML object>"
      ]
     },
     "metadata": {},
     "output_type": "display_data"
    }
   ],
   "source": [
    "inner_html = \"\"\n",
    "for idx, row in val_preds_df[val_preds_df.is_correct].sort_values('loss', ascending=True).head(5).iterrows():\n",
    "    inner_html += f'''\n",
    "        <td width=\"20%\" style=\"vertical-align:top; border-right: 1px solid #7accd8\"><p><b>Actual</b>: {row.discourse_effectiveness} <br><b>Predicted</b>: {row.predicted} ({row[row.predicted]}) <p><i>{row.discourse_text}</p></td>\n",
    "    '''\n",
    "    \n",
    "display(HTML(f\"\"\"\n",
    "<table style=\"font-family: monospace;\">\n",
    "    <tr>\n",
    "         {inner_html}\n",
    "    </tr>\n",
    "</table>\n",
    "\"\"\"))"
   ]
  },
  {
   "cell_type": "markdown",
   "id": "328141ef",
   "metadata": {
    "papermill": {
     "duration": 0.195295,
     "end_time": "2022-06-25T14:37:59.539545",
     "exception": false,
     "start_time": "2022-06-25T14:37:59.344250",
     "status": "completed"
    },
    "tags": []
   },
   "source": [
    "## Whole Essays"
   ]
  },
  {
   "cell_type": "code",
   "execution_count": 74,
   "id": "be40a8e1",
   "metadata": {
    "_kg_hide-input": true,
    "execution": {
     "iopub.execute_input": "2022-06-25T14:37:59.933122Z",
     "iopub.status.busy": "2022-06-25T14:37:59.932773Z",
     "iopub.status.idle": "2022-06-25T14:37:59.942082Z",
     "shell.execute_reply": "2022-06-25T14:37:59.941149Z"
    },
    "papermill": {
     "duration": 0.213468,
     "end_time": "2022-06-25T14:37:59.944846",
     "exception": false,
     "start_time": "2022-06-25T14:37:59.731378",
     "status": "completed"
    },
    "tags": []
   },
   "outputs": [],
   "source": [
    "def _get_label_color(label):\n",
    "    return {\n",
    "        'Adequate': '#777',\n",
    "        'Ineffective': '#d9534f',\n",
    "        'Effective': '#5cb85c'\n",
    "    }[label]\n",
    "\n",
    "def display_essay(essay_id):\n",
    "    table_header = \"\"\"<table style=\"line-height: 25px; border-collapse:collapse;\" width=100%>\n",
    "        <tr style=\"font-size: 1.2em; padding-top: 15px; font-family: monospace; background-image: repeating-linear-gradient(white 0px, white 24px, #7accd8 25px);\">\n",
    "            <th style=\"padding-bottom: 10px;\" width=\"10%\" align=\"left\">Prediction</th>\n",
    "            <th style=\"padding-bottom: 10px;\" width=\"5%\" align=\"left\">Conf</th>\n",
    "            <th style=\"padding-bottom: 10px;\"  width=\"75%\" align=\"left\">Text</th>\n",
    "            <th style=\"padding-bottom: 10px;\"  width=\"10%\" align=\"left\">Type</th>\n",
    "        </tr>\"\"\"\n",
    "\n",
    "\n",
    "    for idx, row in val_preds_df[val_preds_df.essay_id == essay_id].iterrows():\n",
    "        table_header += f\"\"\"\n",
    "        <tr  style=\"padding: 0px; vertical-align: top; align: left; background-image: repeating-linear-gradient(white 0px, white 24px, #7accd8 25px);\">\n",
    "            <td style=\"vertical-align: top; line-height: 25px;\">\n",
    "                <div style=\"line-height: 20px; width: 100%;  text-align:center; border-radius: 0.25em; background-color: {_get_label_color(row.predicted)}; color: #fff; font-family: monospace\">{row.predicted}</div>\n",
    "                \n",
    "            </td>\n",
    "            <td style=\"vertical-align: top; align: left; line-height: 25px;\">\n",
    "                <span style=\"border-radius: 0.25em; color: #000; font-family: monospace\"> {round(row[row.predicted], 2)}</span>\n",
    "            </td>\n",
    "            <td style=\"vertical-align: top; align: left; font-family: monospace; line-height: 25px;\">\n",
    "                {row.discourse_text}\n",
    "            </td>\n",
    "            <td style=\"vertical-align: top; align: left; line-height: 25px;\">\n",
    "                <span style=\"border-radius: 0.25em; color: #000; font-family: monospace\"><b>{row.discourse_type}</b></span>\n",
    "            </td>\n",
    "        </tr>\n",
    "        \"\"\"\n",
    "\n",
    "    table_footer = \"\"\"</table>\"\"\"\n",
    "    display(HTML(table_header + table_footer))"
   ]
  },
  {
   "cell_type": "code",
   "execution_count": 75,
   "id": "5d55c735",
   "metadata": {
    "execution": {
     "iopub.execute_input": "2022-06-25T14:38:00.587738Z",
     "iopub.status.busy": "2022-06-25T14:38:00.587358Z",
     "iopub.status.idle": "2022-06-25T14:38:00.614843Z",
     "shell.execute_reply": "2022-06-25T14:38:00.613927Z"
    },
    "papermill": {
     "duration": 0.366889,
     "end_time": "2022-06-25T14:38:00.618099",
     "exception": false,
     "start_time": "2022-06-25T14:38:00.251210",
     "status": "completed"
    },
    "tags": []
   },
   "outputs": [],
   "source": [
    "essay1, essay2 = list(val_preds_df[val_preds_df.is_correct].sort_values('loss', ascending=True).essay_id.values[:2])"
   ]
  },
  {
   "cell_type": "code",
   "execution_count": 76,
   "id": "b0c55e4a",
   "metadata": {
    "execution": {
     "iopub.execute_input": "2022-06-25T14:38:01.304199Z",
     "iopub.status.busy": "2022-06-25T14:38:01.303884Z",
     "iopub.status.idle": "2022-06-25T14:38:01.322476Z",
     "shell.execute_reply": "2022-06-25T14:38:01.321699Z"
    },
    "papermill": {
     "duration": 0.353047,
     "end_time": "2022-06-25T14:38:01.334324",
     "exception": false,
     "start_time": "2022-06-25T14:38:00.981277",
     "status": "completed"
    },
    "tags": []
   },
   "outputs": [
    {
     "data": {
      "text/html": [
       "<table style=\"line-height: 25px; border-collapse:collapse;\" width=100%>\n",
       "        <tr style=\"font-size: 1.2em; padding-top: 15px; font-family: monospace; background-image: repeating-linear-gradient(white 0px, white 24px, #7accd8 25px);\">\n",
       "            <th style=\"padding-bottom: 10px;\" width=\"10%\" align=\"left\">Prediction</th>\n",
       "            <th style=\"padding-bottom: 10px;\" width=\"5%\" align=\"left\">Conf</th>\n",
       "            <th style=\"padding-bottom: 10px;\"  width=\"75%\" align=\"left\">Text</th>\n",
       "            <th style=\"padding-bottom: 10px;\"  width=\"10%\" align=\"left\">Type</th>\n",
       "        </tr>\n",
       "        <tr  style=\"padding: 0px; vertical-align: top; align: left; background-image: repeating-linear-gradient(white 0px, white 24px, #7accd8 25px);\">\n",
       "            <td style=\"vertical-align: top; line-height: 25px;\">\n",
       "                <div style=\"line-height: 20px; width: 100%;  text-align:center; border-radius: 0.25em; background-color: #777; color: #fff; font-family: monospace\">Adequate</div>\n",
       "                \n",
       "            </td>\n",
       "            <td style=\"vertical-align: top; align: left; line-height: 25px;\">\n",
       "                <span style=\"border-radius: 0.25em; color: #000; font-family: monospace\"> 0.88</span>\n",
       "            </td>\n",
       "            <td style=\"vertical-align: top; align: left; font-family: monospace; line-height: 25px;\">\n",
       "                I think that we should try and go vist Venus \n",
       "            </td>\n",
       "            <td style=\"vertical-align: top; align: left; line-height: 25px;\">\n",
       "                <span style=\"border-radius: 0.25em; color: #000; font-family: monospace\"><b>Position</b></span>\n",
       "            </td>\n",
       "        </tr>\n",
       "        \n",
       "        <tr  style=\"padding: 0px; vertical-align: top; align: left; background-image: repeating-linear-gradient(white 0px, white 24px, #7accd8 25px);\">\n",
       "            <td style=\"vertical-align: top; line-height: 25px;\">\n",
       "                <div style=\"line-height: 20px; width: 100%;  text-align:center; border-radius: 0.25em; background-color: #d9534f; color: #fff; font-family: monospace\">Ineffective</div>\n",
       "                \n",
       "            </td>\n",
       "            <td style=\"vertical-align: top; align: left; line-height: 25px;\">\n",
       "                <span style=\"border-radius: 0.25em; color: #000; font-family: monospace\"> 0.65</span>\n",
       "            </td>\n",
       "            <td style=\"vertical-align: top; align: left; font-family: monospace; line-height: 25px;\">\n",
       "                how know what could be on the planet. If we do we should be real cafeul because there could be dangerous stuff there. Its an opertunaity to see what Venus good values are. We can also compare earth o venus. \n",
       "            </td>\n",
       "            <td style=\"vertical-align: top; align: left; line-height: 25px;\">\n",
       "                <span style=\"border-radius: 0.25em; color: #000; font-family: monospace\"><b>Evidence</b></span>\n",
       "            </td>\n",
       "        </tr>\n",
       "        \n",
       "        <tr  style=\"padding: 0px; vertical-align: top; align: left; background-image: repeating-linear-gradient(white 0px, white 24px, #7accd8 25px);\">\n",
       "            <td style=\"vertical-align: top; line-height: 25px;\">\n",
       "                <div style=\"line-height: 20px; width: 100%;  text-align:center; border-radius: 0.25em; background-color: #d9534f; color: #fff; font-family: monospace\">Ineffective</div>\n",
       "                \n",
       "            </td>\n",
       "            <td style=\"vertical-align: top; align: left; line-height: 25px;\">\n",
       "                <span style=\"border-radius: 0.25em; color: #000; font-family: monospace\"> 0.99</span>\n",
       "            </td>\n",
       "            <td style=\"vertical-align: top; align: left; font-family: monospace; line-height: 25px;\">\n",
       "                Venus is like earths twin. The author stated in where the plant is loctaed. Venus tempature on the surface is 800 degrees. NASA is wanting to send people to the planet venus.\n",
       "\n",
       "NASA is wroking on other approachaes to studying Venus. They smiplified electronics that are made up of silicon. They are trying to make the modern day computers even faster then they are today. NASA trying to create a machine that well last long enough to contribute to Venus. Their wanting to make gear that also dont need electronce inquired.\n",
       "\n",
       "People call Venus \"The Evening Star\" becuase it is one of the brightest spot in the night sky. Although people mistaken it for a star its a planet. Venus is safer to see from the distance its been very challageing to exmane Venus. This planet is the secound planet away from our sun. Venus is the closest size to earth.\n",
       "\n",
       "The NASA is very facinated by Venus because is the most earth like planet. Venus surface is very rocky like valleys and mountains. NASA is request to send some people to go check out the planet Venus but that is nearly impossable . They think that at one point Venus was just coverd inh ocean. Venus is the nearst option to vist. \n",
       "            </td>\n",
       "            <td style=\"vertical-align: top; align: left; line-height: 25px;\">\n",
       "                <span style=\"border-radius: 0.25em; color: #000; font-family: monospace\"><b>Evidence</b></span>\n",
       "            </td>\n",
       "        </tr>\n",
       "        </table>"
      ],
      "text/plain": [
       "<IPython.core.display.HTML object>"
      ]
     },
     "metadata": {},
     "output_type": "display_data"
    }
   ],
   "source": [
    "display_essay(essay1)"
   ]
  },
  {
   "cell_type": "code",
   "execution_count": 77,
   "id": "1ae83bd3",
   "metadata": {
    "execution": {
     "iopub.execute_input": "2022-06-25T14:38:01.829284Z",
     "iopub.status.busy": "2022-06-25T14:38:01.828977Z",
     "iopub.status.idle": "2022-06-25T14:38:01.849210Z",
     "shell.execute_reply": "2022-06-25T14:38:01.848120Z"
    },
    "papermill": {
     "duration": 0.220564,
     "end_time": "2022-06-25T14:38:01.852779",
     "exception": false,
     "start_time": "2022-06-25T14:38:01.632215",
     "status": "completed"
    },
    "tags": []
   },
   "outputs": [
    {
     "data": {
      "text/html": [
       "<table style=\"line-height: 25px; border-collapse:collapse;\" width=100%>\n",
       "        <tr style=\"font-size: 1.2em; padding-top: 15px; font-family: monospace; background-image: repeating-linear-gradient(white 0px, white 24px, #7accd8 25px);\">\n",
       "            <th style=\"padding-bottom: 10px;\" width=\"10%\" align=\"left\">Prediction</th>\n",
       "            <th style=\"padding-bottom: 10px;\" width=\"5%\" align=\"left\">Conf</th>\n",
       "            <th style=\"padding-bottom: 10px;\"  width=\"75%\" align=\"left\">Text</th>\n",
       "            <th style=\"padding-bottom: 10px;\"  width=\"10%\" align=\"left\">Type</th>\n",
       "        </tr>\n",
       "        <tr  style=\"padding: 0px; vertical-align: top; align: left; background-image: repeating-linear-gradient(white 0px, white 24px, #7accd8 25px);\">\n",
       "            <td style=\"vertical-align: top; line-height: 25px;\">\n",
       "                <div style=\"line-height: 20px; width: 100%;  text-align:center; border-radius: 0.25em; background-color: #d9534f; color: #fff; font-family: monospace\">Ineffective</div>\n",
       "                \n",
       "            </td>\n",
       "            <td style=\"vertical-align: top; align: left; line-height: 25px;\">\n",
       "                <span style=\"border-radius: 0.25em; color: #000; font-family: monospace\"> 0.99</span>\n",
       "            </td>\n",
       "            <td style=\"vertical-align: top; align: left; font-family: monospace; line-height: 25px;\">\n",
       "                A 3-D computer is a model of the face all 44 muscles and its called an \"action unit\". The Dr. Huang relies to work on of psycholoists and Dr. Paul Eckam, the creater of FACS (Facial Action Coding System). Dr. Eckman classified six basic emotions suprise, anger, happiness, fear, and sadness. Then he made associated each with charatcteristic movements of the facical muscles.\n",
       "\n",
       "Dr. Huang smiling broadly \" even though individuals often show varying degrees of expression\". Huang using video imagery, new emotion-recognition software tracks these movements in a real face or the painted picture of Mona Lisa. The weighting the diffeent units in the software can be even identify mixed emotions. Even each expression can be compared against the neutral face.\n",
       "\n",
       "The humans perform the same impressive \"calualtion\" every single day. if we can probably tell our friend how they're feeling because by the way look on there faces. But most of us would have trouble describing each facial. \n",
       "            </td>\n",
       "            <td style=\"vertical-align: top; align: left; line-height: 25px;\">\n",
       "                <span style=\"border-radius: 0.25em; color: #000; font-family: monospace\"><b>Evidence</b></span>\n",
       "            </td>\n",
       "        </tr>\n",
       "        </table>"
      ],
      "text/plain": [
       "<IPython.core.display.HTML object>"
      ]
     },
     "metadata": {},
     "output_type": "display_data"
    }
   ],
   "source": [
    "display_essay(essay2)"
   ]
  },
  {
   "cell_type": "markdown",
   "id": "0d10934c",
   "metadata": {
    "papermill": {
     "duration": 0.196866,
     "end_time": "2022-06-25T14:38:02.243557",
     "exception": false,
     "start_time": "2022-06-25T14:38:02.046691",
     "status": "completed"
    },
    "tags": []
   },
   "source": [
    "# Inference"
   ]
  },
  {
   "cell_type": "markdown",
   "id": "0684046c",
   "metadata": {
    "papermill": {
     "duration": 0.19584,
     "end_time": "2022-06-25T14:38:02.634477",
     "exception": false,
     "start_time": "2022-06-25T14:38:02.438637",
     "status": "completed"
    },
    "tags": []
   },
   "source": [
    "For inference results see [Feedback Prize - DeBERTa-v3 Inference](https://www.kaggle.com/code/lextoumbourou/feedback-prize-deberta-v3-inference).\n",
    "\n",
    "I add the inference code here just for completeness."
   ]
  },
  {
   "cell_type": "code",
   "execution_count": 78,
   "id": "82b05ad0",
   "metadata": {
    "execution": {
     "iopub.execute_input": "2022-06-25T14:38:03.026011Z",
     "iopub.status.busy": "2022-06-25T14:38:03.025517Z",
     "iopub.status.idle": "2022-06-25T14:39:07.555690Z",
     "shell.execute_reply": "2022-06-25T14:39:07.554832Z"
    },
    "papermill": {
     "duration": 64.728204,
     "end_time": "2022-06-25T14:39:07.558629",
     "exception": false,
     "start_time": "2022-06-25T14:38:02.830425",
     "status": "completed"
    },
    "tags": []
   },
   "outputs": [
    {
     "name": "stderr",
     "output_type": "stream",
     "text": [
      "100%|██████████| 1/1 [00:00<00:00, 25.47it/s]\n"
     ]
    },
    {
     "data": {
      "application/vnd.jupyter.widget-view+json": {
       "model_id": "1909f122ddd34db48255a9de30bcb68e",
       "version_major": 2,
       "version_minor": 0
      },
      "text/plain": [
       "Batches:   0%|          | 0/1 [00:00<?, ?it/s]"
      ]
     },
     "metadata": {},
     "output_type": "display_data"
    },
    {
     "data": {
      "text/html": [
       "<div>\n",
       "<style scoped>\n",
       "    .dataframe tbody tr th:only-of-type {\n",
       "        vertical-align: middle;\n",
       "    }\n",
       "\n",
       "    .dataframe tbody tr th {\n",
       "        vertical-align: top;\n",
       "    }\n",
       "\n",
       "    .dataframe thead th {\n",
       "        text-align: right;\n",
       "    }\n",
       "</style>\n",
       "<table border=\"1\" class=\"dataframe\">\n",
       "  <thead>\n",
       "    <tr style=\"text-align: right;\">\n",
       "      <th></th>\n",
       "      <th>essay_id</th>\n",
       "      <th>topic</th>\n",
       "      <th>topic_name</th>\n",
       "    </tr>\n",
       "  </thead>\n",
       "  <tbody>\n",
       "    <tr>\n",
       "      <th>0</th>\n",
       "      <td>D72CB1C11673</td>\n",
       "      <td>1</td>\n",
       "      <td>advice people ask multiple</td>\n",
       "    </tr>\n",
       "  </tbody>\n",
       "</table>\n",
       "</div>"
      ],
      "text/plain": [
       "       essay_id  topic                  topic_name\n",
       "0  D72CB1C11673      1  advice people ask multiple"
      ]
     },
     "execution_count": 78,
     "metadata": {},
     "output_type": "execute_result"
    }
   ],
   "source": [
    "import sys\n",
    "import glob\n",
    "from nltk.corpus import stopwords\n",
    "from nltk.tokenize import word_tokenize\n",
    "sys.path.append('../input/feedback-topics-identification-with-bertopic/site-packages')\n",
    "from bertopic import BERTopic\n",
    "\n",
    "topic_model = BERTopic.load(\"../input/feedback-topics-identification-with-bertopic/feedback_2021_topic_model\")\n",
    "\n",
    "sws = stopwords.words(\"english\") + [\"n't\",  \"'s\", \"'ve\"]\n",
    "fls = glob.glob(\"../input/feedback-prize-effectiveness/test/*.txt\")\n",
    "docs = []\n",
    "for fl in tqdm(fls):\n",
    "    with open(fl) as f:\n",
    "        txt = f.read()\n",
    "        word_tokens = word_tokenize(txt)\n",
    "        txt = \" \".join([w for w in word_tokens if not w.lower() in sws])\n",
    "    docs.append(txt)\n",
    "\n",
    "topics, probs = topic_model.transform(docs)\n",
    "\n",
    "pred_topics = pd.DataFrame()\n",
    "dids = list(map(lambda fl: fl.split(\"/\")[-1].split(\".\")[0], fls))\n",
    "pred_topics[\"id\"] = dids\n",
    "pred_topics[\"topic\"] = topics\n",
    "pred_topics['prob'] = probs\n",
    "pred_topics = pred_topics.drop(columns={'prob'})\n",
    "pred_topics = pred_topics.rename(columns={'id': 'essay_id'})\n",
    "pred_topics = pred_topics.merge(topic_meta_df, on='topic', how='left')\n",
    "pred_topics"
   ]
  },
  {
   "cell_type": "code",
   "execution_count": 79,
   "id": "2f74a872",
   "metadata": {
    "execution": {
     "iopub.execute_input": "2022-06-25T14:39:07.977280Z",
     "iopub.status.busy": "2022-06-25T14:39:07.976926Z",
     "iopub.status.idle": "2022-06-25T14:39:07.994753Z",
     "shell.execute_reply": "2022-06-25T14:39:07.993702Z"
    },
    "papermill": {
     "duration": 0.215478,
     "end_time": "2022-06-25T14:39:07.997827",
     "exception": false,
     "start_time": "2022-06-25T14:39:07.782349",
     "status": "completed"
    },
    "tags": []
   },
   "outputs": [],
   "source": [
    "test_df = test_df.merge(pred_topics, on='essay_id', how='left')\n",
    "test_df = add_inputs(test_df, str(config.input_path / 'test'))"
   ]
  },
  {
   "cell_type": "code",
   "execution_count": 80,
   "id": "1849abd7",
   "metadata": {
    "execution": {
     "iopub.execute_input": "2022-06-25T14:39:08.397485Z",
     "iopub.status.busy": "2022-06-25T14:39:08.397191Z",
     "iopub.status.idle": "2022-06-25T14:39:48.089372Z",
     "shell.execute_reply": "2022-06-25T14:39:48.088260Z"
    },
    "papermill": {
     "duration": 39.893908,
     "end_time": "2022-06-25T14:39:48.091853",
     "exception": false,
     "start_time": "2022-06-25T14:39:08.197945",
     "status": "completed"
    },
    "tags": []
   },
   "outputs": [
    {
     "name": "stdout",
     "output_type": "stream",
     "text": [
      "Do fold 0\n"
     ]
    },
    {
     "data": {
      "application/vnd.jupyter.widget-view+json": {
       "model_id": "73be406edd124a79b23c3d6fa75a2ae9",
       "version_major": 2,
       "version_minor": 0
      },
      "text/plain": [
       "  0%|          | 0/1 [00:00<?, ?ba/s]"
      ]
     },
     "metadata": {},
     "output_type": "display_data"
    },
    {
     "data": {
      "text/html": [
       "\n",
       "    <div>\n",
       "      \n",
       "      <progress value='1' max='1' style='width:300px; height:20px; vertical-align: middle;'></progress>\n",
       "      [1/1 : < :]\n",
       "    </div>\n",
       "    "
      ],
      "text/plain": [
       "<IPython.core.display.HTML object>"
      ]
     },
     "metadata": {},
     "output_type": "display_data"
    },
    {
     "name": "stdout",
     "output_type": "stream",
     "text": [
      "Do fold 1\n"
     ]
    },
    {
     "data": {
      "application/vnd.jupyter.widget-view+json": {
       "model_id": "a3c5da2a278c42e3bcdcc358aba4b919",
       "version_major": 2,
       "version_minor": 0
      },
      "text/plain": [
       "  0%|          | 0/1 [00:00<?, ?ba/s]"
      ]
     },
     "metadata": {},
     "output_type": "display_data"
    },
    {
     "data": {
      "text/html": [
       "\n",
       "    <div>\n",
       "      \n",
       "      <progress value='1' max='1' style='width:300px; height:20px; vertical-align: middle;'></progress>\n",
       "      [1/1 : < :]\n",
       "    </div>\n",
       "    "
      ],
      "text/plain": [
       "<IPython.core.display.HTML object>"
      ]
     },
     "metadata": {},
     "output_type": "display_data"
    },
    {
     "name": "stdout",
     "output_type": "stream",
     "text": [
      "Do fold 2\n"
     ]
    },
    {
     "data": {
      "application/vnd.jupyter.widget-view+json": {
       "model_id": "714b2e08e0c245d59459b916d7e34451",
       "version_major": 2,
       "version_minor": 0
      },
      "text/plain": [
       "  0%|          | 0/1 [00:00<?, ?ba/s]"
      ]
     },
     "metadata": {},
     "output_type": "display_data"
    },
    {
     "data": {
      "text/html": [
       "\n",
       "    <div>\n",
       "      \n",
       "      <progress value='1' max='1' style='width:300px; height:20px; vertical-align: middle;'></progress>\n",
       "      [1/1 : < :]\n",
       "    </div>\n",
       "    "
      ],
      "text/plain": [
       "<IPython.core.display.HTML object>"
      ]
     },
     "metadata": {},
     "output_type": "display_data"
    },
    {
     "name": "stdout",
     "output_type": "stream",
     "text": [
      "Do fold 3\n"
     ]
    },
    {
     "data": {
      "application/vnd.jupyter.widget-view+json": {
       "model_id": "da0a35f2ba9440669be9a506b6ffc899",
       "version_major": 2,
       "version_minor": 0
      },
      "text/plain": [
       "  0%|          | 0/1 [00:00<?, ?ba/s]"
      ]
     },
     "metadata": {},
     "output_type": "display_data"
    },
    {
     "data": {
      "text/html": [
       "\n",
       "    <div>\n",
       "      \n",
       "      <progress value='1' max='1' style='width:300px; height:20px; vertical-align: middle;'></progress>\n",
       "      [1/1 : < :]\n",
       "    </div>\n",
       "    "
      ],
      "text/plain": [
       "<IPython.core.display.HTML object>"
      ]
     },
     "metadata": {},
     "output_type": "display_data"
    }
   ],
   "source": [
    "import torch\n",
    "\n",
    "all_test_data = np.zeros((config.n_folds, len(test_df), len(labels)))\n",
    "\n",
    "for fold_num in range(config.n_folds):\n",
    "    print(f'Do fold {fold_num}')\n",
    "\n",
    "    tokenizer = AutoTokenizer.from_pretrained(f'./fold_{fold_num}')\n",
    "    tokenizer.model_max_length = config.max_len\n",
    "\n",
    "    model = get_model()\n",
    "    state_dict = torch.load(f'./fold_{fold_num}/pytorch_model.bin')\n",
    "    model.load_state_dict(state_dict)\n",
    "    \n",
    "    test_dataset = Dataset.from_pandas(test_df[['inputs', 'essay_fn']])\n",
    "    test_tok_dataset = test_dataset.map(tokenizer_func, batched=True, remove_columns=('inputs', 'essay_fn'))\n",
    "    \n",
    "    data_collator = DataCollatorWithPadding(tokenizer=tokenizer, padding='longest')\n",
    "\n",
    "    args = TrainingArguments(\n",
    "        output_dir=config.output_path,\n",
    "        learning_rate=config.lr,\n",
    "        lr_scheduler_type='cosine',\n",
    "        fp16=True,\n",
    "        evaluation_strategy='epoch',\n",
    "        per_device_train_batch_size=config.batch_size,\n",
    "        per_device_eval_batch_size=config.batch_size * 2,\n",
    "        report_to=\"none\",\n",
    "        save_strategy='no'\n",
    "    )\n",
    "    \n",
    "    trainer = Trainer(\n",
    "        model,\n",
    "        args,\n",
    "        tokenizer=tokenizer,\n",
    "        data_collator=data_collator\n",
    "    )\n",
    "    \n",
    "    outputs = trainer.predict(test_tok_dataset) \n",
    "    softmax_outputs = softmax(outputs.predictions, axis=1)\n",
    "    \n",
    "    all_test_data[fold_num] = softmax_outputs"
   ]
  },
  {
   "cell_type": "markdown",
   "id": "622fec45",
   "metadata": {
    "papermill": {
     "duration": 0.204662,
     "end_time": "2022-06-25T14:39:48.508123",
     "exception": false,
     "start_time": "2022-06-25T14:39:48.303461",
     "status": "completed"
    },
    "tags": []
   },
   "source": [
    "# Submission"
   ]
  },
  {
   "cell_type": "code",
   "execution_count": 81,
   "id": "aa1af10f",
   "metadata": {
    "execution": {
     "iopub.execute_input": "2022-06-25T14:39:48.939060Z",
     "iopub.status.busy": "2022-06-25T14:39:48.938791Z",
     "iopub.status.idle": "2022-06-25T14:39:48.963190Z",
     "shell.execute_reply": "2022-06-25T14:39:48.961904Z"
    },
    "papermill": {
     "duration": 0.255243,
     "end_time": "2022-06-25T14:39:48.966250",
     "exception": false,
     "start_time": "2022-06-25T14:39:48.711007",
     "status": "completed"
    },
    "tags": []
   },
   "outputs": [
    {
     "data": {
      "text/html": [
       "<div>\n",
       "<style scoped>\n",
       "    .dataframe tbody tr th:only-of-type {\n",
       "        vertical-align: middle;\n",
       "    }\n",
       "\n",
       "    .dataframe tbody tr th {\n",
       "        vertical-align: top;\n",
       "    }\n",
       "\n",
       "    .dataframe thead th {\n",
       "        text-align: right;\n",
       "    }\n",
       "</style>\n",
       "<table border=\"1\" class=\"dataframe\">\n",
       "  <thead>\n",
       "    <tr style=\"text-align: right;\">\n",
       "      <th></th>\n",
       "      <th>discourse_id</th>\n",
       "      <th>Ineffective</th>\n",
       "      <th>Adequate</th>\n",
       "      <th>Effective</th>\n",
       "    </tr>\n",
       "  </thead>\n",
       "  <tbody>\n",
       "    <tr>\n",
       "      <th>0</th>\n",
       "      <td>a261b6e14276</td>\n",
       "      <td>0.406067</td>\n",
       "      <td>0.585144</td>\n",
       "      <td>0.008958</td>\n",
       "    </tr>\n",
       "    <tr>\n",
       "      <th>1</th>\n",
       "      <td>5a88900e7dc1</td>\n",
       "      <td>0.891235</td>\n",
       "      <td>0.061447</td>\n",
       "      <td>0.047195</td>\n",
       "    </tr>\n",
       "    <tr>\n",
       "      <th>2</th>\n",
       "      <td>9790d835736b</td>\n",
       "      <td>0.409271</td>\n",
       "      <td>0.583862</td>\n",
       "      <td>0.006923</td>\n",
       "    </tr>\n",
       "    <tr>\n",
       "      <th>3</th>\n",
       "      <td>75ce6d68b67b</td>\n",
       "      <td>0.632568</td>\n",
       "      <td>0.352905</td>\n",
       "      <td>0.014688</td>\n",
       "    </tr>\n",
       "    <tr>\n",
       "      <th>4</th>\n",
       "      <td>93578d946723</td>\n",
       "      <td>0.218216</td>\n",
       "      <td>0.776123</td>\n",
       "      <td>0.005556</td>\n",
       "    </tr>\n",
       "    <tr>\n",
       "      <th>5</th>\n",
       "      <td>2e214524dbe3</td>\n",
       "      <td>0.548279</td>\n",
       "      <td>0.438293</td>\n",
       "      <td>0.013400</td>\n",
       "    </tr>\n",
       "    <tr>\n",
       "      <th>6</th>\n",
       "      <td>84812fc2ab9f</td>\n",
       "      <td>0.230820</td>\n",
       "      <td>0.763428</td>\n",
       "      <td>0.006121</td>\n",
       "    </tr>\n",
       "    <tr>\n",
       "      <th>7</th>\n",
       "      <td>c668ff840720</td>\n",
       "      <td>0.266296</td>\n",
       "      <td>0.729126</td>\n",
       "      <td>0.004690</td>\n",
       "    </tr>\n",
       "    <tr>\n",
       "      <th>8</th>\n",
       "      <td>739a6d00f44a</td>\n",
       "      <td>0.345062</td>\n",
       "      <td>0.647339</td>\n",
       "      <td>0.008037</td>\n",
       "    </tr>\n",
       "    <tr>\n",
       "      <th>9</th>\n",
       "      <td>bcfae2c9a244</td>\n",
       "      <td>0.890381</td>\n",
       "      <td>0.065197</td>\n",
       "      <td>0.044830</td>\n",
       "    </tr>\n",
       "  </tbody>\n",
       "</table>\n",
       "</div>"
      ],
      "text/plain": [
       "   discourse_id  Ineffective  Adequate  Effective\n",
       "0  a261b6e14276     0.406067  0.585144   0.008958\n",
       "1  5a88900e7dc1     0.891235  0.061447   0.047195\n",
       "2  9790d835736b     0.409271  0.583862   0.006923\n",
       "3  75ce6d68b67b     0.632568  0.352905   0.014688\n",
       "4  93578d946723     0.218216  0.776123   0.005556\n",
       "5  2e214524dbe3     0.548279  0.438293   0.013400\n",
       "6  84812fc2ab9f     0.230820  0.763428   0.006121\n",
       "7  c668ff840720     0.266296  0.729126   0.004690\n",
       "8  739a6d00f44a     0.345062  0.647339   0.008037\n",
       "9  bcfae2c9a244     0.890381  0.065197   0.044830"
      ]
     },
     "execution_count": 81,
     "metadata": {},
     "output_type": "execute_result"
    }
   ],
   "source": [
    "preds = np.mean(all_test_data, axis=0)\n",
    "output_df = pd.concat([test_df[['discourse_id']], pd.DataFrame(preds, columns=labels)], axis=1)\n",
    "output_df.to_csv('submission.csv', index=False)\n",
    "pd.read_csv('submission.csv')"
   ]
  },
  {
   "cell_type": "code",
   "execution_count": null,
   "id": "bf1e3619",
   "metadata": {
    "papermill": {
     "duration": 0.203427,
     "end_time": "2022-06-25T14:39:49.380085",
     "exception": false,
     "start_time": "2022-06-25T14:39:49.176658",
     "status": "completed"
    },
    "tags": []
   },
   "outputs": [],
   "source": []
  }
 ],
 "metadata": {
  "kernelspec": {
   "display_name": "Python 3 (ipykernel)",
   "language": "python",
   "name": "python3"
  },
  "language_info": {
   "codemirror_mode": {
    "name": "ipython",
    "version": 3
   },
   "file_extension": ".py",
   "mimetype": "text/x-python",
   "name": "python",
   "nbconvert_exporter": "python",
   "pygments_lexer": "ipython3",
   "version": "3.7.12"
  },
  "papermill": {
   "default_parameters": {},
   "duration": 33165.918881,
   "end_time": "2022-06-25T14:39:52.512088",
   "environment_variables": {},
   "exception": null,
   "input_path": "__notebook__.ipynb",
   "output_path": "__notebook__.ipynb",
   "parameters": {},
   "start_time": "2022-06-25T05:27:06.593207",
   "version": "2.3.4"
  },
  "widgets": {
   "application/vnd.jupyter.widget-state+json": {
    "state": {
     "008ec805300b408c9caa1cfe9bab0074": {
      "model_module": "@jupyter-widgets/base",
      "model_module_version": "1.2.0",
      "model_name": "LayoutModel",
      "state": {
       "_model_module": "@jupyter-widgets/base",
       "_model_module_version": "1.2.0",
       "_model_name": "LayoutModel",
       "_view_count": null,
       "_view_module": "@jupyter-widgets/base",
       "_view_module_version": "1.2.0",
       "_view_name": "LayoutView",
       "align_content": null,
       "align_items": null,
       "align_self": null,
       "border": null,
       "bottom": null,
       "display": null,
       "flex": null,
       "flex_flow": null,
       "grid_area": null,
       "grid_auto_columns": null,
       "grid_auto_flow": null,
       "grid_auto_rows": null,
       "grid_column": null,
       "grid_gap": null,
       "grid_row": null,
       "grid_template_areas": null,
       "grid_template_columns": null,
       "grid_template_rows": null,
       "height": null,
       "justify_content": null,
       "justify_items": null,
       "left": null,
       "margin": null,
       "max_height": null,
       "max_width": null,
       "min_height": null,
       "min_width": null,
       "object_fit": null,
       "object_position": null,
       "order": null,
       "overflow": null,
       "overflow_x": null,
       "overflow_y": null,
       "padding": null,
       "right": null,
       "top": null,
       "visibility": null,
       "width": null
      }
     },
     "013955a32f274ff4a668c5add5752354": {
      "model_module": "@jupyter-widgets/controls",
      "model_module_version": "1.5.0",
      "model_name": "ProgressStyleModel",
      "state": {
       "_model_module": "@jupyter-widgets/controls",
       "_model_module_version": "1.5.0",
       "_model_name": "ProgressStyleModel",
       "_view_count": null,
       "_view_module": "@jupyter-widgets/base",
       "_view_module_version": "1.2.0",
       "_view_name": "StyleView",
       "bar_color": null,
       "description_width": ""
      }
     },
     "0216377ef816459396c35cbfb0ba7ade": {
      "model_module": "@jupyter-widgets/controls",
      "model_module_version": "1.5.0",
      "model_name": "DescriptionStyleModel",
      "state": {
       "_model_module": "@jupyter-widgets/controls",
       "_model_module_version": "1.5.0",
       "_model_name": "DescriptionStyleModel",
       "_view_count": null,
       "_view_module": "@jupyter-widgets/base",
       "_view_module_version": "1.2.0",
       "_view_name": "StyleView",
       "description_width": ""
      }
     },
     "0267da7b2180424da62b14209a666663": {
      "model_module": "@jupyter-widgets/controls",
      "model_module_version": "1.5.0",
      "model_name": "HTMLModel",
      "state": {
       "_dom_classes": [],
       "_model_module": "@jupyter-widgets/controls",
       "_model_module_version": "1.5.0",
       "_model_name": "HTMLModel",
       "_view_count": null,
       "_view_module": "@jupyter-widgets/controls",
       "_view_module_version": "1.5.0",
       "_view_name": "HTMLView",
       "description": "",
       "description_tooltip": null,
       "layout": "IPY_MODEL_8f45a655d1264713af94a7cc1e719366",
       "placeholder": "​",
       "style": "IPY_MODEL_6972d89ee6194c3a902d4714a9a6bf7b",
       "value": "Downloading: 100%"
      }
     },
     "033dfa2fab174f6b863fd0bea2ff9fc9": {
      "model_module": "@jupyter-widgets/base",
      "model_module_version": "1.2.0",
      "model_name": "LayoutModel",
      "state": {
       "_model_module": "@jupyter-widgets/base",
       "_model_module_version": "1.2.0",
       "_model_name": "LayoutModel",
       "_view_count": null,
       "_view_module": "@jupyter-widgets/base",
       "_view_module_version": "1.2.0",
       "_view_name": "LayoutView",
       "align_content": null,
       "align_items": null,
       "align_self": null,
       "border": null,
       "bottom": null,
       "display": null,
       "flex": null,
       "flex_flow": null,
       "grid_area": null,
       "grid_auto_columns": null,
       "grid_auto_flow": null,
       "grid_auto_rows": null,
       "grid_column": null,
       "grid_gap": null,
       "grid_row": null,
       "grid_template_areas": null,
       "grid_template_columns": null,
       "grid_template_rows": null,
       "height": null,
       "justify_content": null,
       "justify_items": null,
       "left": null,
       "margin": null,
       "max_height": null,
       "max_width": null,
       "min_height": null,
       "min_width": null,
       "object_fit": null,
       "object_position": null,
       "order": null,
       "overflow": null,
       "overflow_x": null,
       "overflow_y": null,
       "padding": null,
       "right": null,
       "top": null,
       "visibility": null,
       "width": null
      }
     },
     "03714e98fe6e495fb834d5d8133e27c8": {
      "model_module": "@jupyter-widgets/controls",
      "model_module_version": "1.5.0",
      "model_name": "HTMLModel",
      "state": {
       "_dom_classes": [],
       "_model_module": "@jupyter-widgets/controls",
       "_model_module_version": "1.5.0",
       "_model_name": "HTMLModel",
       "_view_count": null,
       "_view_module": "@jupyter-widgets/controls",
       "_view_module_version": "1.5.0",
       "_view_name": "HTMLView",
       "description": "",
       "description_tooltip": null,
       "layout": "IPY_MODEL_1c379b7c64ce40dcbffc0ecf9d872657",
       "placeholder": "​",
       "style": "IPY_MODEL_7939378d6d634d2388812a2cd2021a92",
       "value": "Casting to class labels: 100%"
      }
     },
     "03f93157d4854462a08552bebb989148": {
      "model_module": "@jupyter-widgets/controls",
      "model_module_version": "1.5.0",
      "model_name": "HBoxModel",
      "state": {
       "_dom_classes": [],
       "_model_module": "@jupyter-widgets/controls",
       "_model_module_version": "1.5.0",
       "_model_name": "HBoxModel",
       "_view_count": null,
       "_view_module": "@jupyter-widgets/controls",
       "_view_module_version": "1.5.0",
       "_view_name": "HBoxView",
       "box_style": "",
       "children": [
        "IPY_MODEL_b19581a7b4bb4fb1952fc0fb458d56b5",
        "IPY_MODEL_1d6b9136f9ca47b3a2ce1949ae08c57a",
        "IPY_MODEL_201ab30ae0b6462aa53d6293aa673743"
       ],
       "layout": "IPY_MODEL_ed6a22d46ba4422293b01600ca137ac2"
      }
     },
     "04600af0107e497c9ddac4ebe57d4906": {
      "model_module": "@jupyter-widgets/controls",
      "model_module_version": "1.5.0",
      "model_name": "DescriptionStyleModel",
      "state": {
       "_model_module": "@jupyter-widgets/controls",
       "_model_module_version": "1.5.0",
       "_model_name": "DescriptionStyleModel",
       "_view_count": null,
       "_view_module": "@jupyter-widgets/base",
       "_view_module_version": "1.2.0",
       "_view_name": "StyleView",
       "description_width": ""
      }
     },
     "06431b847e8f404bb0ddf9d2d46b7684": {
      "model_module": "@jupyter-widgets/controls",
      "model_module_version": "1.5.0",
      "model_name": "DescriptionStyleModel",
      "state": {
       "_model_module": "@jupyter-widgets/controls",
       "_model_module_version": "1.5.0",
       "_model_name": "DescriptionStyleModel",
       "_view_count": null,
       "_view_module": "@jupyter-widgets/base",
       "_view_module_version": "1.2.0",
       "_view_name": "StyleView",
       "description_width": ""
      }
     },
     "06db9359f9174436b2db57dcbd2475b2": {
      "model_module": "@jupyter-widgets/base",
      "model_module_version": "1.2.0",
      "model_name": "LayoutModel",
      "state": {
       "_model_module": "@jupyter-widgets/base",
       "_model_module_version": "1.2.0",
       "_model_name": "LayoutModel",
       "_view_count": null,
       "_view_module": "@jupyter-widgets/base",
       "_view_module_version": "1.2.0",
       "_view_name": "LayoutView",
       "align_content": null,
       "align_items": null,
       "align_self": null,
       "border": null,
       "bottom": null,
       "display": null,
       "flex": null,
       "flex_flow": null,
       "grid_area": null,
       "grid_auto_columns": null,
       "grid_auto_flow": null,
       "grid_auto_rows": null,
       "grid_column": null,
       "grid_gap": null,
       "grid_row": null,
       "grid_template_areas": null,
       "grid_template_columns": null,
       "grid_template_rows": null,
       "height": null,
       "justify_content": null,
       "justify_items": null,
       "left": null,
       "margin": null,
       "max_height": null,
       "max_width": null,
       "min_height": null,
       "min_width": null,
       "object_fit": null,
       "object_position": null,
       "order": null,
       "overflow": null,
       "overflow_x": null,
       "overflow_y": null,
       "padding": null,
       "right": null,
       "top": null,
       "visibility": null,
       "width": null
      }
     },
     "06f705b0588f4cb9915fcb285f6c4bc4": {
      "model_module": "@jupyter-widgets/base",
      "model_module_version": "1.2.0",
      "model_name": "LayoutModel",
      "state": {
       "_model_module": "@jupyter-widgets/base",
       "_model_module_version": "1.2.0",
       "_model_name": "LayoutModel",
       "_view_count": null,
       "_view_module": "@jupyter-widgets/base",
       "_view_module_version": "1.2.0",
       "_view_name": "LayoutView",
       "align_content": null,
       "align_items": null,
       "align_self": null,
       "border": null,
       "bottom": null,
       "display": null,
       "flex": null,
       "flex_flow": null,
       "grid_area": null,
       "grid_auto_columns": null,
       "grid_auto_flow": null,
       "grid_auto_rows": null,
       "grid_column": null,
       "grid_gap": null,
       "grid_row": null,
       "grid_template_areas": null,
       "grid_template_columns": null,
       "grid_template_rows": null,
       "height": null,
       "justify_content": null,
       "justify_items": null,
       "left": null,
       "margin": null,
       "max_height": null,
       "max_width": null,
       "min_height": null,
       "min_width": null,
       "object_fit": null,
       "object_position": null,
       "order": null,
       "overflow": null,
       "overflow_x": null,
       "overflow_y": null,
       "padding": null,
       "right": null,
       "top": null,
       "visibility": null,
       "width": null
      }
     },
     "0736458c44da4cbf8884b91694e2b1fc": {
      "model_module": "@jupyter-widgets/controls",
      "model_module_version": "1.5.0",
      "model_name": "HTMLModel",
      "state": {
       "_dom_classes": [],
       "_model_module": "@jupyter-widgets/controls",
       "_model_module_version": "1.5.0",
       "_model_name": "HTMLModel",
       "_view_count": null,
       "_view_module": "@jupyter-widgets/controls",
       "_view_module_version": "1.5.0",
       "_view_name": "HTMLView",
       "description": "",
       "description_tooltip": null,
       "layout": "IPY_MODEL_72af849a692942c89f8a4b4f0cd33667",
       "placeholder": "​",
       "style": "IPY_MODEL_40f98c511dae46fbbf671c512c99e4b6",
       "value": " 28/28 [00:00&lt;00:00, 107.58ba/s]"
      }
     },
     "07ebde4a4cac4f9ea92338bc057ec7dc": {
      "model_module": "@jupyter-widgets/controls",
      "model_module_version": "1.5.0",
      "model_name": "HBoxModel",
      "state": {
       "_dom_classes": [],
       "_model_module": "@jupyter-widgets/controls",
       "_model_module_version": "1.5.0",
       "_model_name": "HBoxModel",
       "_view_count": null,
       "_view_module": "@jupyter-widgets/controls",
       "_view_module_version": "1.5.0",
       "_view_name": "HBoxView",
       "box_style": "",
       "children": [
        "IPY_MODEL_f98dbb0d802c4cbd95f3ac5ab76afcbf",
        "IPY_MODEL_f270bdb478eb4d6d87d18c2a50dd2a6b",
        "IPY_MODEL_93b83764f8f74c4aa7b191347303a373"
       ],
       "layout": "IPY_MODEL_498dc20697f44c819a474220d7f09cf4"
      }
     },
     "07ed49ae82074278a9199924e1df67b9": {
      "model_module": "@jupyter-widgets/base",
      "model_module_version": "1.2.0",
      "model_name": "LayoutModel",
      "state": {
       "_model_module": "@jupyter-widgets/base",
       "_model_module_version": "1.2.0",
       "_model_name": "LayoutModel",
       "_view_count": null,
       "_view_module": "@jupyter-widgets/base",
       "_view_module_version": "1.2.0",
       "_view_name": "LayoutView",
       "align_content": null,
       "align_items": null,
       "align_self": null,
       "border": null,
       "bottom": null,
       "display": null,
       "flex": null,
       "flex_flow": null,
       "grid_area": null,
       "grid_auto_columns": null,
       "grid_auto_flow": null,
       "grid_auto_rows": null,
       "grid_column": null,
       "grid_gap": null,
       "grid_row": null,
       "grid_template_areas": null,
       "grid_template_columns": null,
       "grid_template_rows": null,
       "height": null,
       "justify_content": null,
       "justify_items": null,
       "left": null,
       "margin": null,
       "max_height": null,
       "max_width": null,
       "min_height": null,
       "min_width": null,
       "object_fit": null,
       "object_position": null,
       "order": null,
       "overflow": null,
       "overflow_x": null,
       "overflow_y": null,
       "padding": null,
       "right": null,
       "top": null,
       "visibility": null,
       "width": null
      }
     },
     "08e4c089f29a45e88f50e6618991a282": {
      "model_module": "@jupyter-widgets/base",
      "model_module_version": "1.2.0",
      "model_name": "LayoutModel",
      "state": {
       "_model_module": "@jupyter-widgets/base",
       "_model_module_version": "1.2.0",
       "_model_name": "LayoutModel",
       "_view_count": null,
       "_view_module": "@jupyter-widgets/base",
       "_view_module_version": "1.2.0",
       "_view_name": "LayoutView",
       "align_content": null,
       "align_items": null,
       "align_self": null,
       "border": null,
       "bottom": null,
       "display": null,
       "flex": null,
       "flex_flow": null,
       "grid_area": null,
       "grid_auto_columns": null,
       "grid_auto_flow": null,
       "grid_auto_rows": null,
       "grid_column": null,
       "grid_gap": null,
       "grid_row": null,
       "grid_template_areas": null,
       "grid_template_columns": null,
       "grid_template_rows": null,
       "height": null,
       "justify_content": null,
       "justify_items": null,
       "left": null,
       "margin": null,
       "max_height": null,
       "max_width": null,
       "min_height": null,
       "min_width": null,
       "object_fit": null,
       "object_position": null,
       "order": null,
       "overflow": null,
       "overflow_x": null,
       "overflow_y": null,
       "padding": null,
       "right": null,
       "top": null,
       "visibility": null,
       "width": null
      }
     },
     "094f55e1983e4d8aac802248fdf5da31": {
      "model_module": "@jupyter-widgets/base",
      "model_module_version": "1.2.0",
      "model_name": "LayoutModel",
      "state": {
       "_model_module": "@jupyter-widgets/base",
       "_model_module_version": "1.2.0",
       "_model_name": "LayoutModel",
       "_view_count": null,
       "_view_module": "@jupyter-widgets/base",
       "_view_module_version": "1.2.0",
       "_view_name": "LayoutView",
       "align_content": null,
       "align_items": null,
       "align_self": null,
       "border": null,
       "bottom": null,
       "display": null,
       "flex": null,
       "flex_flow": null,
       "grid_area": null,
       "grid_auto_columns": null,
       "grid_auto_flow": null,
       "grid_auto_rows": null,
       "grid_column": null,
       "grid_gap": null,
       "grid_row": null,
       "grid_template_areas": null,
       "grid_template_columns": null,
       "grid_template_rows": null,
       "height": null,
       "justify_content": null,
       "justify_items": null,
       "left": null,
       "margin": null,
       "max_height": null,
       "max_width": null,
       "min_height": null,
       "min_width": null,
       "object_fit": null,
       "object_position": null,
       "order": null,
       "overflow": null,
       "overflow_x": null,
       "overflow_y": null,
       "padding": null,
       "right": null,
       "top": null,
       "visibility": null,
       "width": null
      }
     },
     "0a3d461aa1664e7ea66d0578bc564595": {
      "model_module": "@jupyter-widgets/base",
      "model_module_version": "1.2.0",
      "model_name": "LayoutModel",
      "state": {
       "_model_module": "@jupyter-widgets/base",
       "_model_module_version": "1.2.0",
       "_model_name": "LayoutModel",
       "_view_count": null,
       "_view_module": "@jupyter-widgets/base",
       "_view_module_version": "1.2.0",
       "_view_name": "LayoutView",
       "align_content": null,
       "align_items": null,
       "align_self": null,
       "border": null,
       "bottom": null,
       "display": null,
       "flex": null,
       "flex_flow": null,
       "grid_area": null,
       "grid_auto_columns": null,
       "grid_auto_flow": null,
       "grid_auto_rows": null,
       "grid_column": null,
       "grid_gap": null,
       "grid_row": null,
       "grid_template_areas": null,
       "grid_template_columns": null,
       "grid_template_rows": null,
       "height": null,
       "justify_content": null,
       "justify_items": null,
       "left": null,
       "margin": null,
       "max_height": null,
       "max_width": null,
       "min_height": null,
       "min_width": null,
       "object_fit": null,
       "object_position": null,
       "order": null,
       "overflow": null,
       "overflow_x": null,
       "overflow_y": null,
       "padding": null,
       "right": null,
       "top": null,
       "visibility": null,
       "width": null
      }
     },
     "0b9c339d862e47d4840b8f34ec1b1690": {
      "model_module": "@jupyter-widgets/base",
      "model_module_version": "1.2.0",
      "model_name": "LayoutModel",
      "state": {
       "_model_module": "@jupyter-widgets/base",
       "_model_module_version": "1.2.0",
       "_model_name": "LayoutModel",
       "_view_count": null,
       "_view_module": "@jupyter-widgets/base",
       "_view_module_version": "1.2.0",
       "_view_name": "LayoutView",
       "align_content": null,
       "align_items": null,
       "align_self": null,
       "border": null,
       "bottom": null,
       "display": null,
       "flex": null,
       "flex_flow": null,
       "grid_area": null,
       "grid_auto_columns": null,
       "grid_auto_flow": null,
       "grid_auto_rows": null,
       "grid_column": null,
       "grid_gap": null,
       "grid_row": null,
       "grid_template_areas": null,
       "grid_template_columns": null,
       "grid_template_rows": null,
       "height": null,
       "justify_content": null,
       "justify_items": null,
       "left": null,
       "margin": null,
       "max_height": null,
       "max_width": null,
       "min_height": null,
       "min_width": null,
       "object_fit": null,
       "object_position": null,
       "order": null,
       "overflow": null,
       "overflow_x": null,
       "overflow_y": null,
       "padding": null,
       "right": null,
       "top": null,
       "visibility": null,
       "width": null
      }
     },
     "0c39254f6632492ca974c49d2b9a9043": {
      "model_module": "@jupyter-widgets/base",
      "model_module_version": "1.2.0",
      "model_name": "LayoutModel",
      "state": {
       "_model_module": "@jupyter-widgets/base",
       "_model_module_version": "1.2.0",
       "_model_name": "LayoutModel",
       "_view_count": null,
       "_view_module": "@jupyter-widgets/base",
       "_view_module_version": "1.2.0",
       "_view_name": "LayoutView",
       "align_content": null,
       "align_items": null,
       "align_self": null,
       "border": null,
       "bottom": null,
       "display": null,
       "flex": null,
       "flex_flow": null,
       "grid_area": null,
       "grid_auto_columns": null,
       "grid_auto_flow": null,
       "grid_auto_rows": null,
       "grid_column": null,
       "grid_gap": null,
       "grid_row": null,
       "grid_template_areas": null,
       "grid_template_columns": null,
       "grid_template_rows": null,
       "height": null,
       "justify_content": null,
       "justify_items": null,
       "left": null,
       "margin": null,
       "max_height": null,
       "max_width": null,
       "min_height": null,
       "min_width": null,
       "object_fit": null,
       "object_position": null,
       "order": null,
       "overflow": null,
       "overflow_x": null,
       "overflow_y": null,
       "padding": null,
       "right": null,
       "top": null,
       "visibility": null,
       "width": null
      }
     },
     "0ce39e348bf94dd7ab87b1753eb404c1": {
      "model_module": "@jupyter-widgets/controls",
      "model_module_version": "1.5.0",
      "model_name": "HTMLModel",
      "state": {
       "_dom_classes": [],
       "_model_module": "@jupyter-widgets/controls",
       "_model_module_version": "1.5.0",
       "_model_name": "HTMLModel",
       "_view_count": null,
       "_view_module": "@jupyter-widgets/controls",
       "_view_module_version": "1.5.0",
       "_view_name": "HTMLView",
       "description": "",
       "description_tooltip": null,
       "layout": "IPY_MODEL_ef5f86f0efb145daaeff9c2f44246fc6",
       "placeholder": "​",
       "style": "IPY_MODEL_74ca9acb1fad4351a43bb9cddada3077",
       "value": " 1/1 [00:00&lt;00:00, 11.61ba/s]"
      }
     },
     "0d42b5607d83419788ce84675a1e880e": {
      "model_module": "@jupyter-widgets/controls",
      "model_module_version": "1.5.0",
      "model_name": "DescriptionStyleModel",
      "state": {
       "_model_module": "@jupyter-widgets/controls",
       "_model_module_version": "1.5.0",
       "_model_name": "DescriptionStyleModel",
       "_view_count": null,
       "_view_module": "@jupyter-widgets/base",
       "_view_module_version": "1.2.0",
       "_view_name": "StyleView",
       "description_width": ""
      }
     },
     "0d5afe5f57c3498f85d8d73bb91916fb": {
      "model_module": "@jupyter-widgets/controls",
      "model_module_version": "1.5.0",
      "model_name": "FloatProgressModel",
      "state": {
       "_dom_classes": [],
       "_model_module": "@jupyter-widgets/controls",
       "_model_module_version": "1.5.0",
       "_model_name": "FloatProgressModel",
       "_view_count": null,
       "_view_module": "@jupyter-widgets/controls",
       "_view_module_version": "1.5.0",
       "_view_name": "ProgressView",
       "bar_style": "success",
       "description": "",
       "description_tooltip": null,
       "layout": "IPY_MODEL_06db9359f9174436b2db57dcbd2475b2",
       "max": 28,
       "min": 0,
       "orientation": "horizontal",
       "style": "IPY_MODEL_bb5e2a35aaa04176b3ea41557b6d63d0",
       "value": 28
      }
     },
     "0f12fcb64b794997a2611ce4153d1f4d": {
      "model_module": "@jupyter-widgets/base",
      "model_module_version": "1.2.0",
      "model_name": "LayoutModel",
      "state": {
       "_model_module": "@jupyter-widgets/base",
       "_model_module_version": "1.2.0",
       "_model_name": "LayoutModel",
       "_view_count": null,
       "_view_module": "@jupyter-widgets/base",
       "_view_module_version": "1.2.0",
       "_view_name": "LayoutView",
       "align_content": null,
       "align_items": null,
       "align_self": null,
       "border": null,
       "bottom": null,
       "display": null,
       "flex": null,
       "flex_flow": null,
       "grid_area": null,
       "grid_auto_columns": null,
       "grid_auto_flow": null,
       "grid_auto_rows": null,
       "grid_column": null,
       "grid_gap": null,
       "grid_row": null,
       "grid_template_areas": null,
       "grid_template_columns": null,
       "grid_template_rows": null,
       "height": null,
       "justify_content": null,
       "justify_items": null,
       "left": null,
       "margin": null,
       "max_height": null,
       "max_width": null,
       "min_height": null,
       "min_width": null,
       "object_fit": null,
       "object_position": null,
       "order": null,
       "overflow": null,
       "overflow_x": null,
       "overflow_y": null,
       "padding": null,
       "right": null,
       "top": null,
       "visibility": null,
       "width": null
      }
     },
     "0f7cc96498aa48668c0e5f0e36bccea4": {
      "model_module": "@jupyter-widgets/controls",
      "model_module_version": "1.5.0",
      "model_name": "FloatProgressModel",
      "state": {
       "_dom_classes": [],
       "_model_module": "@jupyter-widgets/controls",
       "_model_module_version": "1.5.0",
       "_model_name": "FloatProgressModel",
       "_view_count": null,
       "_view_module": "@jupyter-widgets/controls",
       "_view_module_version": "1.5.0",
       "_view_name": "ProgressView",
       "bar_style": "success",
       "description": "",
       "description_tooltip": null,
       "layout": "IPY_MODEL_033dfa2fab174f6b863fd0bea2ff9fc9",
       "max": 1,
       "min": 0,
       "orientation": "horizontal",
       "style": "IPY_MODEL_52f27895b55c49859597cfc923a1366c",
       "value": 1
      }
     },
     "0fdb6be9b7e845f9baa915a47cb1afaa": {
      "model_module": "@jupyter-widgets/base",
      "model_module_version": "1.2.0",
      "model_name": "LayoutModel",
      "state": {
       "_model_module": "@jupyter-widgets/base",
       "_model_module_version": "1.2.0",
       "_model_name": "LayoutModel",
       "_view_count": null,
       "_view_module": "@jupyter-widgets/base",
       "_view_module_version": "1.2.0",
       "_view_name": "LayoutView",
       "align_content": null,
       "align_items": null,
       "align_self": null,
       "border": null,
       "bottom": null,
       "display": null,
       "flex": null,
       "flex_flow": null,
       "grid_area": null,
       "grid_auto_columns": null,
       "grid_auto_flow": null,
       "grid_auto_rows": null,
       "grid_column": null,
       "grid_gap": null,
       "grid_row": null,
       "grid_template_areas": null,
       "grid_template_columns": null,
       "grid_template_rows": null,
       "height": null,
       "justify_content": null,
       "justify_items": null,
       "left": null,
       "margin": null,
       "max_height": null,
       "max_width": null,
       "min_height": null,
       "min_width": null,
       "object_fit": null,
       "object_position": null,
       "order": null,
       "overflow": null,
       "overflow_x": null,
       "overflow_y": null,
       "padding": null,
       "right": null,
       "top": null,
       "visibility": null,
       "width": null
      }
     },
     "10c7983c7d0a4fadb54afc12c9980635": {
      "model_module": "@jupyter-widgets/controls",
      "model_module_version": "1.5.0",
      "model_name": "FloatProgressModel",
      "state": {
       "_dom_classes": [],
       "_model_module": "@jupyter-widgets/controls",
       "_model_module_version": "1.5.0",
       "_model_name": "FloatProgressModel",
       "_view_count": null,
       "_view_module": "@jupyter-widgets/controls",
       "_view_module_version": "1.5.0",
       "_view_name": "ProgressView",
       "bar_style": "success",
       "description": "",
       "description_tooltip": null,
       "layout": "IPY_MODEL_55d6250c588b405090c9685440185276",
       "max": 28,
       "min": 0,
       "orientation": "horizontal",
       "style": "IPY_MODEL_3d66351413a149a6b7f3e76fc9465101",
       "value": 28
      }
     },
     "10da8fd37590490689ce95e2e573f66a": {
      "model_module": "@jupyter-widgets/base",
      "model_module_version": "1.2.0",
      "model_name": "LayoutModel",
      "state": {
       "_model_module": "@jupyter-widgets/base",
       "_model_module_version": "1.2.0",
       "_model_name": "LayoutModel",
       "_view_count": null,
       "_view_module": "@jupyter-widgets/base",
       "_view_module_version": "1.2.0",
       "_view_name": "LayoutView",
       "align_content": null,
       "align_items": null,
       "align_self": null,
       "border": null,
       "bottom": null,
       "display": null,
       "flex": null,
       "flex_flow": null,
       "grid_area": null,
       "grid_auto_columns": null,
       "grid_auto_flow": null,
       "grid_auto_rows": null,
       "grid_column": null,
       "grid_gap": null,
       "grid_row": null,
       "grid_template_areas": null,
       "grid_template_columns": null,
       "grid_template_rows": null,
       "height": null,
       "justify_content": null,
       "justify_items": null,
       "left": null,
       "margin": null,
       "max_height": null,
       "max_width": null,
       "min_height": null,
       "min_width": null,
       "object_fit": null,
       "object_position": null,
       "order": null,
       "overflow": null,
       "overflow_x": null,
       "overflow_y": null,
       "padding": null,
       "right": null,
       "top": null,
       "visibility": null,
       "width": null
      }
     },
     "110b2b4543fd4ea382c5c573bf5578f3": {
      "model_module": "@jupyter-widgets/controls",
      "model_module_version": "1.5.0",
      "model_name": "ProgressStyleModel",
      "state": {
       "_model_module": "@jupyter-widgets/controls",
       "_model_module_version": "1.5.0",
       "_model_name": "ProgressStyleModel",
       "_view_count": null,
       "_view_module": "@jupyter-widgets/base",
       "_view_module_version": "1.2.0",
       "_view_name": "StyleView",
       "bar_color": null,
       "description_width": ""
      }
     },
     "13574720d59e442183a66c83300ca2c2": {
      "model_module": "@jupyter-widgets/controls",
      "model_module_version": "1.5.0",
      "model_name": "DescriptionStyleModel",
      "state": {
       "_model_module": "@jupyter-widgets/controls",
       "_model_module_version": "1.5.0",
       "_model_name": "DescriptionStyleModel",
       "_view_count": null,
       "_view_module": "@jupyter-widgets/base",
       "_view_module_version": "1.2.0",
       "_view_name": "StyleView",
       "description_width": ""
      }
     },
     "13863d1cfcfa4ccda6363c44760745ef": {
      "model_module": "@jupyter-widgets/base",
      "model_module_version": "1.2.0",
      "model_name": "LayoutModel",
      "state": {
       "_model_module": "@jupyter-widgets/base",
       "_model_module_version": "1.2.0",
       "_model_name": "LayoutModel",
       "_view_count": null,
       "_view_module": "@jupyter-widgets/base",
       "_view_module_version": "1.2.0",
       "_view_name": "LayoutView",
       "align_content": null,
       "align_items": null,
       "align_self": null,
       "border": null,
       "bottom": null,
       "display": null,
       "flex": null,
       "flex_flow": null,
       "grid_area": null,
       "grid_auto_columns": null,
       "grid_auto_flow": null,
       "grid_auto_rows": null,
       "grid_column": null,
       "grid_gap": null,
       "grid_row": null,
       "grid_template_areas": null,
       "grid_template_columns": null,
       "grid_template_rows": null,
       "height": null,
       "justify_content": null,
       "justify_items": null,
       "left": null,
       "margin": null,
       "max_height": null,
       "max_width": null,
       "min_height": null,
       "min_width": null,
       "object_fit": null,
       "object_position": null,
       "order": null,
       "overflow": null,
       "overflow_x": null,
       "overflow_y": null,
       "padding": null,
       "right": null,
       "top": null,
       "visibility": null,
       "width": null
      }
     },
     "13e497d7d9e04785a133a923948d0117": {
      "model_module": "@jupyter-widgets/controls",
      "model_module_version": "1.5.0",
      "model_name": "FloatProgressModel",
      "state": {
       "_dom_classes": [],
       "_model_module": "@jupyter-widgets/controls",
       "_model_module_version": "1.5.0",
       "_model_name": "FloatProgressModel",
       "_view_count": null,
       "_view_module": "@jupyter-widgets/controls",
       "_view_module_version": "1.5.0",
       "_view_name": "ProgressView",
       "bar_style": "success",
       "description": "",
       "description_tooltip": null,
       "layout": "IPY_MODEL_3bbf16d9b38a48cabc4dc502e09e700c",
       "max": 28,
       "min": 0,
       "orientation": "horizontal",
       "style": "IPY_MODEL_3fda2bacc6b94c24b1c3818fc38b6ec8",
       "value": 28
      }
     },
     "13e755ea89b642718e76313817616ad8": {
      "model_module": "@jupyter-widgets/base",
      "model_module_version": "1.2.0",
      "model_name": "LayoutModel",
      "state": {
       "_model_module": "@jupyter-widgets/base",
       "_model_module_version": "1.2.0",
       "_model_name": "LayoutModel",
       "_view_count": null,
       "_view_module": "@jupyter-widgets/base",
       "_view_module_version": "1.2.0",
       "_view_name": "LayoutView",
       "align_content": null,
       "align_items": null,
       "align_self": null,
       "border": null,
       "bottom": null,
       "display": null,
       "flex": null,
       "flex_flow": null,
       "grid_area": null,
       "grid_auto_columns": null,
       "grid_auto_flow": null,
       "grid_auto_rows": null,
       "grid_column": null,
       "grid_gap": null,
       "grid_row": null,
       "grid_template_areas": null,
       "grid_template_columns": null,
       "grid_template_rows": null,
       "height": null,
       "justify_content": null,
       "justify_items": null,
       "left": null,
       "margin": null,
       "max_height": null,
       "max_width": null,
       "min_height": null,
       "min_width": null,
       "object_fit": null,
       "object_position": null,
       "order": null,
       "overflow": null,
       "overflow_x": null,
       "overflow_y": null,
       "padding": null,
       "right": null,
       "top": null,
       "visibility": null,
       "width": null
      }
     },
     "15fcf93d1a2c4fab84765a869d51bbee": {
      "model_module": "@jupyter-widgets/controls",
      "model_module_version": "1.5.0",
      "model_name": "DescriptionStyleModel",
      "state": {
       "_model_module": "@jupyter-widgets/controls",
       "_model_module_version": "1.5.0",
       "_model_name": "DescriptionStyleModel",
       "_view_count": null,
       "_view_module": "@jupyter-widgets/base",
       "_view_module_version": "1.2.0",
       "_view_name": "StyleView",
       "description_width": ""
      }
     },
     "1604da7300514f09a0dac08b87b999f9": {
      "model_module": "@jupyter-widgets/base",
      "model_module_version": "1.2.0",
      "model_name": "LayoutModel",
      "state": {
       "_model_module": "@jupyter-widgets/base",
       "_model_module_version": "1.2.0",
       "_model_name": "LayoutModel",
       "_view_count": null,
       "_view_module": "@jupyter-widgets/base",
       "_view_module_version": "1.2.0",
       "_view_name": "LayoutView",
       "align_content": null,
       "align_items": null,
       "align_self": null,
       "border": null,
       "bottom": null,
       "display": null,
       "flex": null,
       "flex_flow": null,
       "grid_area": null,
       "grid_auto_columns": null,
       "grid_auto_flow": null,
       "grid_auto_rows": null,
       "grid_column": null,
       "grid_gap": null,
       "grid_row": null,
       "grid_template_areas": null,
       "grid_template_columns": null,
       "grid_template_rows": null,
       "height": null,
       "justify_content": null,
       "justify_items": null,
       "left": null,
       "margin": null,
       "max_height": null,
       "max_width": null,
       "min_height": null,
       "min_width": null,
       "object_fit": null,
       "object_position": null,
       "order": null,
       "overflow": null,
       "overflow_x": null,
       "overflow_y": null,
       "padding": null,
       "right": null,
       "top": null,
       "visibility": null,
       "width": null
      }
     },
     "1659fd2774f54332bf33aef46843f604": {
      "model_module": "@jupyter-widgets/base",
      "model_module_version": "1.2.0",
      "model_name": "LayoutModel",
      "state": {
       "_model_module": "@jupyter-widgets/base",
       "_model_module_version": "1.2.0",
       "_model_name": "LayoutModel",
       "_view_count": null,
       "_view_module": "@jupyter-widgets/base",
       "_view_module_version": "1.2.0",
       "_view_name": "LayoutView",
       "align_content": null,
       "align_items": null,
       "align_self": null,
       "border": null,
       "bottom": null,
       "display": null,
       "flex": null,
       "flex_flow": null,
       "grid_area": null,
       "grid_auto_columns": null,
       "grid_auto_flow": null,
       "grid_auto_rows": null,
       "grid_column": null,
       "grid_gap": null,
       "grid_row": null,
       "grid_template_areas": null,
       "grid_template_columns": null,
       "grid_template_rows": null,
       "height": null,
       "justify_content": null,
       "justify_items": null,
       "left": null,
       "margin": null,
       "max_height": null,
       "max_width": null,
       "min_height": null,
       "min_width": null,
       "object_fit": null,
       "object_position": null,
       "order": null,
       "overflow": null,
       "overflow_x": null,
       "overflow_y": null,
       "padding": null,
       "right": null,
       "top": null,
       "visibility": null,
       "width": null
      }
     },
     "16fca567e0594666913bcfec4427ff01": {
      "model_module": "@jupyter-widgets/base",
      "model_module_version": "1.2.0",
      "model_name": "LayoutModel",
      "state": {
       "_model_module": "@jupyter-widgets/base",
       "_model_module_version": "1.2.0",
       "_model_name": "LayoutModel",
       "_view_count": null,
       "_view_module": "@jupyter-widgets/base",
       "_view_module_version": "1.2.0",
       "_view_name": "LayoutView",
       "align_content": null,
       "align_items": null,
       "align_self": null,
       "border": null,
       "bottom": null,
       "display": null,
       "flex": null,
       "flex_flow": null,
       "grid_area": null,
       "grid_auto_columns": null,
       "grid_auto_flow": null,
       "grid_auto_rows": null,
       "grid_column": null,
       "grid_gap": null,
       "grid_row": null,
       "grid_template_areas": null,
       "grid_template_columns": null,
       "grid_template_rows": null,
       "height": null,
       "justify_content": null,
       "justify_items": null,
       "left": null,
       "margin": null,
       "max_height": null,
       "max_width": null,
       "min_height": null,
       "min_width": null,
       "object_fit": null,
       "object_position": null,
       "order": null,
       "overflow": null,
       "overflow_x": null,
       "overflow_y": null,
       "padding": null,
       "right": null,
       "top": null,
       "visibility": null,
       "width": null
      }
     },
     "1894746837714a28a261b3a063c0c7dc": {
      "model_module": "@jupyter-widgets/controls",
      "model_module_version": "1.5.0",
      "model_name": "HTMLModel",
      "state": {
       "_dom_classes": [],
       "_model_module": "@jupyter-widgets/controls",
       "_model_module_version": "1.5.0",
       "_model_name": "HTMLModel",
       "_view_count": null,
       "_view_module": "@jupyter-widgets/controls",
       "_view_module_version": "1.5.0",
       "_view_name": "HTMLView",
       "description": "",
       "description_tooltip": null,
       "layout": "IPY_MODEL_accc367f9c1b4d939c0aa2514ea9e320",
       "placeholder": "​",
       "style": "IPY_MODEL_c9eef009f34c4b08a22d426454dda41f",
       "value": "100%"
      }
     },
     "1909f122ddd34db48255a9de30bcb68e": {
      "model_module": "@jupyter-widgets/controls",
      "model_module_version": "1.5.0",
      "model_name": "HBoxModel",
      "state": {
       "_dom_classes": [],
       "_model_module": "@jupyter-widgets/controls",
       "_model_module_version": "1.5.0",
       "_model_name": "HBoxModel",
       "_view_count": null,
       "_view_module": "@jupyter-widgets/controls",
       "_view_module_version": "1.5.0",
       "_view_name": "HBoxView",
       "box_style": "",
       "children": [
        "IPY_MODEL_c1b9182e802e40d9a3cc193c4921de6d",
        "IPY_MODEL_db8bff02690e40a6861ae2501fbe966e",
        "IPY_MODEL_75a07087d4ab4190a02bd7dcb0169755"
       ],
       "layout": "IPY_MODEL_739cc48a87c049a593fad4567d81096e"
      }
     },
     "19f55ebe900c440195a3dcfd9af35312": {
      "model_module": "@jupyter-widgets/controls",
      "model_module_version": "1.5.0",
      "model_name": "ProgressStyleModel",
      "state": {
       "_model_module": "@jupyter-widgets/controls",
       "_model_module_version": "1.5.0",
       "_model_name": "ProgressStyleModel",
       "_view_count": null,
       "_view_module": "@jupyter-widgets/base",
       "_view_module_version": "1.2.0",
       "_view_name": "StyleView",
       "bar_color": null,
       "description_width": ""
      }
     },
     "1ab9416f7b234f2fac4014a7821cdc5a": {
      "model_module": "@jupyter-widgets/controls",
      "model_module_version": "1.5.0",
      "model_name": "DescriptionStyleModel",
      "state": {
       "_model_module": "@jupyter-widgets/controls",
       "_model_module_version": "1.5.0",
       "_model_name": "DescriptionStyleModel",
       "_view_count": null,
       "_view_module": "@jupyter-widgets/base",
       "_view_module_version": "1.2.0",
       "_view_name": "StyleView",
       "description_width": ""
      }
     },
     "1c379b7c64ce40dcbffc0ecf9d872657": {
      "model_module": "@jupyter-widgets/base",
      "model_module_version": "1.2.0",
      "model_name": "LayoutModel",
      "state": {
       "_model_module": "@jupyter-widgets/base",
       "_model_module_version": "1.2.0",
       "_model_name": "LayoutModel",
       "_view_count": null,
       "_view_module": "@jupyter-widgets/base",
       "_view_module_version": "1.2.0",
       "_view_name": "LayoutView",
       "align_content": null,
       "align_items": null,
       "align_self": null,
       "border": null,
       "bottom": null,
       "display": null,
       "flex": null,
       "flex_flow": null,
       "grid_area": null,
       "grid_auto_columns": null,
       "grid_auto_flow": null,
       "grid_auto_rows": null,
       "grid_column": null,
       "grid_gap": null,
       "grid_row": null,
       "grid_template_areas": null,
       "grid_template_columns": null,
       "grid_template_rows": null,
       "height": null,
       "justify_content": null,
       "justify_items": null,
       "left": null,
       "margin": null,
       "max_height": null,
       "max_width": null,
       "min_height": null,
       "min_width": null,
       "object_fit": null,
       "object_position": null,
       "order": null,
       "overflow": null,
       "overflow_x": null,
       "overflow_y": null,
       "padding": null,
       "right": null,
       "top": null,
       "visibility": null,
       "width": null
      }
     },
     "1d6b9136f9ca47b3a2ce1949ae08c57a": {
      "model_module": "@jupyter-widgets/controls",
      "model_module_version": "1.5.0",
      "model_name": "FloatProgressModel",
      "state": {
       "_dom_classes": [],
       "_model_module": "@jupyter-widgets/controls",
       "_model_module_version": "1.5.0",
       "_model_name": "FloatProgressModel",
       "_view_count": null,
       "_view_module": "@jupyter-widgets/controls",
       "_view_module_version": "1.5.0",
       "_view_name": "ProgressView",
       "bar_style": "success",
       "description": "",
       "description_tooltip": null,
       "layout": "IPY_MODEL_83073fa57dc14bba97e570f137852686",
       "max": 3,
       "min": 0,
       "orientation": "horizontal",
       "style": "IPY_MODEL_516e37b129e14c32bae05ed2fcbb2781",
       "value": 3
      }
     },
     "1f53f6b7cae54ea1ba83c98bc9de2cd9": {
      "model_module": "@jupyter-widgets/controls",
      "model_module_version": "1.5.0",
      "model_name": "DescriptionStyleModel",
      "state": {
       "_model_module": "@jupyter-widgets/controls",
       "_model_module_version": "1.5.0",
       "_model_name": "DescriptionStyleModel",
       "_view_count": null,
       "_view_module": "@jupyter-widgets/base",
       "_view_module_version": "1.2.0",
       "_view_name": "StyleView",
       "description_width": ""
      }
     },
     "1ffb2cf2cf3e4955b52dc2bea1239152": {
      "model_module": "@jupyter-widgets/controls",
      "model_module_version": "1.5.0",
      "model_name": "HTMLModel",
      "state": {
       "_dom_classes": [],
       "_model_module": "@jupyter-widgets/controls",
       "_model_module_version": "1.5.0",
       "_model_name": "HTMLModel",
       "_view_count": null,
       "_view_module": "@jupyter-widgets/controls",
       "_view_module_version": "1.5.0",
       "_view_name": "HTMLView",
       "description": "",
       "description_tooltip": null,
       "layout": "IPY_MODEL_b4eecbba70724f70bbb709920239f017",
       "placeholder": "​",
       "style": "IPY_MODEL_87def4708e774636ac7d879af437d376",
       "value": " 28/28 [03:06&lt;00:00,  5.68s/ba]"
      }
     },
     "20184b9e63d74c9c9452b42005f94619": {
      "model_module": "@jupyter-widgets/controls",
      "model_module_version": "1.5.0",
      "model_name": "FloatProgressModel",
      "state": {
       "_dom_classes": [],
       "_model_module": "@jupyter-widgets/controls",
       "_model_module_version": "1.5.0",
       "_model_name": "FloatProgressModel",
       "_view_count": null,
       "_view_module": "@jupyter-widgets/controls",
       "_view_module_version": "1.5.0",
       "_view_name": "ProgressView",
       "bar_style": "success",
       "description": "",
       "description_tooltip": null,
       "layout": "IPY_MODEL_6dfa9de1e81a4c4a86c22812297c32e4",
       "max": 10,
       "min": 0,
       "orientation": "horizontal",
       "style": "IPY_MODEL_5a7b6e87bada48da9ea9b7060b0b800e",
       "value": 10
      }
     },
     "201ab30ae0b6462aa53d6293aa673743": {
      "model_module": "@jupyter-widgets/controls",
      "model_module_version": "1.5.0",
      "model_name": "HTMLModel",
      "state": {
       "_dom_classes": [],
       "_model_module": "@jupyter-widgets/controls",
       "_model_module_version": "1.5.0",
       "_model_name": "HTMLModel",
       "_view_count": null,
       "_view_module": "@jupyter-widgets/controls",
       "_view_module_version": "1.5.0",
       "_view_name": "HTMLView",
       "description": "",
       "description_tooltip": null,
       "layout": "IPY_MODEL_f661bc1f50374e61bc80d8c0fcbb2774",
       "placeholder": "​",
       "style": "IPY_MODEL_f733f6b646ab4238a9abb9a062d62096",
       "value": " 3/3 [00:00&lt;00:00, 17.52ba/s]"
      }
     },
     "206708fcaa1f42c68ea3387167a0a5b4": {
      "model_module": "@jupyter-widgets/controls",
      "model_module_version": "1.5.0",
      "model_name": "DescriptionStyleModel",
      "state": {
       "_model_module": "@jupyter-widgets/controls",
       "_model_module_version": "1.5.0",
       "_model_name": "DescriptionStyleModel",
       "_view_count": null,
       "_view_module": "@jupyter-widgets/base",
       "_view_module_version": "1.2.0",
       "_view_name": "StyleView",
       "description_width": ""
      }
     },
     "20acabacc4724636b71e4545c9337607": {
      "model_module": "@jupyter-widgets/base",
      "model_module_version": "1.2.0",
      "model_name": "LayoutModel",
      "state": {
       "_model_module": "@jupyter-widgets/base",
       "_model_module_version": "1.2.0",
       "_model_name": "LayoutModel",
       "_view_count": null,
       "_view_module": "@jupyter-widgets/base",
       "_view_module_version": "1.2.0",
       "_view_name": "LayoutView",
       "align_content": null,
       "align_items": null,
       "align_self": null,
       "border": null,
       "bottom": null,
       "display": null,
       "flex": null,
       "flex_flow": null,
       "grid_area": null,
       "grid_auto_columns": null,
       "grid_auto_flow": null,
       "grid_auto_rows": null,
       "grid_column": null,
       "grid_gap": null,
       "grid_row": null,
       "grid_template_areas": null,
       "grid_template_columns": null,
       "grid_template_rows": null,
       "height": null,
       "justify_content": null,
       "justify_items": null,
       "left": null,
       "margin": null,
       "max_height": null,
       "max_width": null,
       "min_height": null,
       "min_width": null,
       "object_fit": null,
       "object_position": null,
       "order": null,
       "overflow": null,
       "overflow_x": null,
       "overflow_y": null,
       "padding": null,
       "right": null,
       "top": null,
       "visibility": null,
       "width": null
      }
     },
     "215adab9c4074eb4aa362edded6010c7": {
      "model_module": "@jupyter-widgets/controls",
      "model_module_version": "1.5.0",
      "model_name": "DescriptionStyleModel",
      "state": {
       "_model_module": "@jupyter-widgets/controls",
       "_model_module_version": "1.5.0",
       "_model_name": "DescriptionStyleModel",
       "_view_count": null,
       "_view_module": "@jupyter-widgets/base",
       "_view_module_version": "1.2.0",
       "_view_name": "StyleView",
       "description_width": ""
      }
     },
     "217ccdb7866340d4bb7eac4501f70009": {
      "model_module": "@jupyter-widgets/controls",
      "model_module_version": "1.5.0",
      "model_name": "DescriptionStyleModel",
      "state": {
       "_model_module": "@jupyter-widgets/controls",
       "_model_module_version": "1.5.0",
       "_model_name": "DescriptionStyleModel",
       "_view_count": null,
       "_view_module": "@jupyter-widgets/base",
       "_view_module_version": "1.2.0",
       "_view_name": "StyleView",
       "description_width": ""
      }
     },
     "225ce9eb478c42009b8bbb0b53e2ed67": {
      "model_module": "@jupyter-widgets/controls",
      "model_module_version": "1.5.0",
      "model_name": "FloatProgressModel",
      "state": {
       "_dom_classes": [],
       "_model_module": "@jupyter-widgets/controls",
       "_model_module_version": "1.5.0",
       "_model_name": "FloatProgressModel",
       "_view_count": null,
       "_view_module": "@jupyter-widgets/controls",
       "_view_module_version": "1.5.0",
       "_view_name": "ProgressView",
       "bar_style": "success",
       "description": "",
       "description_tooltip": null,
       "layout": "IPY_MODEL_2f03e0e766004ca480096c4cdcc17bd5",
       "max": 28,
       "min": 0,
       "orientation": "horizontal",
       "style": "IPY_MODEL_41f5054647e444bab12d0cbe84562680",
       "value": 28
      }
     },
     "23659622da814cddb02c0e3d6449cdb9": {
      "model_module": "@jupyter-widgets/controls",
      "model_module_version": "1.5.0",
      "model_name": "DescriptionStyleModel",
      "state": {
       "_model_module": "@jupyter-widgets/controls",
       "_model_module_version": "1.5.0",
       "_model_name": "DescriptionStyleModel",
       "_view_count": null,
       "_view_module": "@jupyter-widgets/base",
       "_view_module_version": "1.2.0",
       "_view_name": "StyleView",
       "description_width": ""
      }
     },
     "25caff8412d24e6dbb5d617059ee8795": {
      "model_module": "@jupyter-widgets/controls",
      "model_module_version": "1.5.0",
      "model_name": "FloatProgressModel",
      "state": {
       "_dom_classes": [],
       "_model_module": "@jupyter-widgets/controls",
       "_model_module_version": "1.5.0",
       "_model_name": "FloatProgressModel",
       "_view_count": null,
       "_view_module": "@jupyter-widgets/controls",
       "_view_module_version": "1.5.0",
       "_view_name": "ProgressView",
       "bar_style": "success",
       "description": "",
       "description_tooltip": null,
       "layout": "IPY_MODEL_e939c14c31c0467abbfc7ee84afb1b77",
       "max": 3,
       "min": 0,
       "orientation": "horizontal",
       "style": "IPY_MODEL_ed9340fb56034bf38cffaa18b4ca25b2",
       "value": 3
      }
     },
     "26b64141edfc45a6a15c650124712a16": {
      "model_module": "@jupyter-widgets/controls",
      "model_module_version": "1.5.0",
      "model_name": "FloatProgressModel",
      "state": {
       "_dom_classes": [],
       "_model_module": "@jupyter-widgets/controls",
       "_model_module_version": "1.5.0",
       "_model_name": "FloatProgressModel",
       "_view_count": null,
       "_view_module": "@jupyter-widgets/controls",
       "_view_module_version": "1.5.0",
       "_view_name": "ProgressView",
       "bar_style": "success",
       "description": "",
       "description_tooltip": null,
       "layout": "IPY_MODEL_3306ae8079db484eac52c5d6bda25d6a",
       "max": 1,
       "min": 0,
       "orientation": "horizontal",
       "style": "IPY_MODEL_89f8b8d88bbf4e27b73a973de73992ce",
       "value": 1
      }
     },
     "273b67c18aed408898bf855c1b91aac5": {
      "model_module": "@jupyter-widgets/base",
      "model_module_version": "1.2.0",
      "model_name": "LayoutModel",
      "state": {
       "_model_module": "@jupyter-widgets/base",
       "_model_module_version": "1.2.0",
       "_model_name": "LayoutModel",
       "_view_count": null,
       "_view_module": "@jupyter-widgets/base",
       "_view_module_version": "1.2.0",
       "_view_name": "LayoutView",
       "align_content": null,
       "align_items": null,
       "align_self": null,
       "border": null,
       "bottom": null,
       "display": null,
       "flex": null,
       "flex_flow": null,
       "grid_area": null,
       "grid_auto_columns": null,
       "grid_auto_flow": null,
       "grid_auto_rows": null,
       "grid_column": null,
       "grid_gap": null,
       "grid_row": null,
       "grid_template_areas": null,
       "grid_template_columns": null,
       "grid_template_rows": null,
       "height": null,
       "justify_content": null,
       "justify_items": null,
       "left": null,
       "margin": null,
       "max_height": null,
       "max_width": null,
       "min_height": null,
       "min_width": null,
       "object_fit": null,
       "object_position": null,
       "order": null,
       "overflow": null,
       "overflow_x": null,
       "overflow_y": null,
       "padding": null,
       "right": null,
       "top": null,
       "visibility": null,
       "width": null
      }
     },
     "28ec925d43ce461ab0ad7fbda5e53034": {
      "model_module": "@jupyter-widgets/base",
      "model_module_version": "1.2.0",
      "model_name": "LayoutModel",
      "state": {
       "_model_module": "@jupyter-widgets/base",
       "_model_module_version": "1.2.0",
       "_model_name": "LayoutModel",
       "_view_count": null,
       "_view_module": "@jupyter-widgets/base",
       "_view_module_version": "1.2.0",
       "_view_name": "LayoutView",
       "align_content": null,
       "align_items": null,
       "align_self": null,
       "border": null,
       "bottom": null,
       "display": null,
       "flex": null,
       "flex_flow": null,
       "grid_area": null,
       "grid_auto_columns": null,
       "grid_auto_flow": null,
       "grid_auto_rows": null,
       "grid_column": null,
       "grid_gap": null,
       "grid_row": null,
       "grid_template_areas": null,
       "grid_template_columns": null,
       "grid_template_rows": null,
       "height": null,
       "justify_content": null,
       "justify_items": null,
       "left": null,
       "margin": null,
       "max_height": null,
       "max_width": null,
       "min_height": null,
       "min_width": null,
       "object_fit": null,
       "object_position": null,
       "order": null,
       "overflow": null,
       "overflow_x": null,
       "overflow_y": null,
       "padding": null,
       "right": null,
       "top": null,
       "visibility": null,
       "width": null
      }
     },
     "2992eeb62dee4922a254db067169a8a4": {
      "model_module": "@jupyter-widgets/controls",
      "model_module_version": "1.5.0",
      "model_name": "HBoxModel",
      "state": {
       "_dom_classes": [],
       "_model_module": "@jupyter-widgets/controls",
       "_model_module_version": "1.5.0",
       "_model_name": "HBoxModel",
       "_view_count": null,
       "_view_module": "@jupyter-widgets/controls",
       "_view_module_version": "1.5.0",
       "_view_name": "HBoxView",
       "box_style": "",
       "children": [
        "IPY_MODEL_f1271e33ded344e298e3bb44e7eadc8c",
        "IPY_MODEL_6e9d37af95f340799e76120f59c84353",
        "IPY_MODEL_5c35c9fee7874a2bad6d5bb48230fe0f"
       ],
       "layout": "IPY_MODEL_ff9eea1419b847168a22607ece80390a"
      }
     },
     "2a0706d3aa7a46ec9d30ce103819484c": {
      "model_module": "@jupyter-widgets/controls",
      "model_module_version": "1.5.0",
      "model_name": "HTMLModel",
      "state": {
       "_dom_classes": [],
       "_model_module": "@jupyter-widgets/controls",
       "_model_module_version": "1.5.0",
       "_model_name": "HTMLModel",
       "_view_count": null,
       "_view_module": "@jupyter-widgets/controls",
       "_view_module_version": "1.5.0",
       "_view_name": "HTMLView",
       "description": "",
       "description_tooltip": null,
       "layout": "IPY_MODEL_944ea73bdc7f4d728f3e4d33458d942a",
       "placeholder": "​",
       "style": "IPY_MODEL_d44f23d8f6e14bdcb8e93571b28da70e",
       "value": "100%"
      }
     },
     "2ad6c4dd6f80435bb7dc2e498f0c5e8e": {
      "model_module": "@jupyter-widgets/base",
      "model_module_version": "1.2.0",
      "model_name": "LayoutModel",
      "state": {
       "_model_module": "@jupyter-widgets/base",
       "_model_module_version": "1.2.0",
       "_model_name": "LayoutModel",
       "_view_count": null,
       "_view_module": "@jupyter-widgets/base",
       "_view_module_version": "1.2.0",
       "_view_name": "LayoutView",
       "align_content": null,
       "align_items": null,
       "align_self": null,
       "border": null,
       "bottom": null,
       "display": null,
       "flex": null,
       "flex_flow": null,
       "grid_area": null,
       "grid_auto_columns": null,
       "grid_auto_flow": null,
       "grid_auto_rows": null,
       "grid_column": null,
       "grid_gap": null,
       "grid_row": null,
       "grid_template_areas": null,
       "grid_template_columns": null,
       "grid_template_rows": null,
       "height": null,
       "justify_content": null,
       "justify_items": null,
       "left": null,
       "margin": null,
       "max_height": null,
       "max_width": null,
       "min_height": null,
       "min_width": null,
       "object_fit": null,
       "object_position": null,
       "order": null,
       "overflow": null,
       "overflow_x": null,
       "overflow_y": null,
       "padding": null,
       "right": null,
       "top": null,
       "visibility": null,
       "width": null
      }
     },
     "2b2cc1839da3437d9c0a77f1d371bf8e": {
      "model_module": "@jupyter-widgets/controls",
      "model_module_version": "1.5.0",
      "model_name": "DescriptionStyleModel",
      "state": {
       "_model_module": "@jupyter-widgets/controls",
       "_model_module_version": "1.5.0",
       "_model_name": "DescriptionStyleModel",
       "_view_count": null,
       "_view_module": "@jupyter-widgets/base",
       "_view_module_version": "1.2.0",
       "_view_name": "StyleView",
       "description_width": ""
      }
     },
     "2b342bcf8cf948ec83350bb075facd52": {
      "model_module": "@jupyter-widgets/base",
      "model_module_version": "1.2.0",
      "model_name": "LayoutModel",
      "state": {
       "_model_module": "@jupyter-widgets/base",
       "_model_module_version": "1.2.0",
       "_model_name": "LayoutModel",
       "_view_count": null,
       "_view_module": "@jupyter-widgets/base",
       "_view_module_version": "1.2.0",
       "_view_name": "LayoutView",
       "align_content": null,
       "align_items": null,
       "align_self": null,
       "border": null,
       "bottom": null,
       "display": null,
       "flex": null,
       "flex_flow": null,
       "grid_area": null,
       "grid_auto_columns": null,
       "grid_auto_flow": null,
       "grid_auto_rows": null,
       "grid_column": null,
       "grid_gap": null,
       "grid_row": null,
       "grid_template_areas": null,
       "grid_template_columns": null,
       "grid_template_rows": null,
       "height": null,
       "justify_content": null,
       "justify_items": null,
       "left": null,
       "margin": null,
       "max_height": null,
       "max_width": null,
       "min_height": null,
       "min_width": null,
       "object_fit": null,
       "object_position": null,
       "order": null,
       "overflow": null,
       "overflow_x": null,
       "overflow_y": null,
       "padding": null,
       "right": null,
       "top": null,
       "visibility": null,
       "width": null
      }
     },
     "2b45060e28024c8ba2e2783acaf7014e": {
      "model_module": "@jupyter-widgets/controls",
      "model_module_version": "1.5.0",
      "model_name": "DescriptionStyleModel",
      "state": {
       "_model_module": "@jupyter-widgets/controls",
       "_model_module_version": "1.5.0",
       "_model_name": "DescriptionStyleModel",
       "_view_count": null,
       "_view_module": "@jupyter-widgets/base",
       "_view_module_version": "1.2.0",
       "_view_name": "StyleView",
       "description_width": ""
      }
     },
     "2c29352331da42e1b85222d51cefd9ff": {
      "model_module": "@jupyter-widgets/base",
      "model_module_version": "1.2.0",
      "model_name": "LayoutModel",
      "state": {
       "_model_module": "@jupyter-widgets/base",
       "_model_module_version": "1.2.0",
       "_model_name": "LayoutModel",
       "_view_count": null,
       "_view_module": "@jupyter-widgets/base",
       "_view_module_version": "1.2.0",
       "_view_name": "LayoutView",
       "align_content": null,
       "align_items": null,
       "align_self": null,
       "border": null,
       "bottom": null,
       "display": null,
       "flex": null,
       "flex_flow": null,
       "grid_area": null,
       "grid_auto_columns": null,
       "grid_auto_flow": null,
       "grid_auto_rows": null,
       "grid_column": null,
       "grid_gap": null,
       "grid_row": null,
       "grid_template_areas": null,
       "grid_template_columns": null,
       "grid_template_rows": null,
       "height": null,
       "justify_content": null,
       "justify_items": null,
       "left": null,
       "margin": null,
       "max_height": null,
       "max_width": null,
       "min_height": null,
       "min_width": null,
       "object_fit": null,
       "object_position": null,
       "order": null,
       "overflow": null,
       "overflow_x": null,
       "overflow_y": null,
       "padding": null,
       "right": null,
       "top": null,
       "visibility": null,
       "width": null
      }
     },
     "2d05bbc573674786b3d6acf1b52d2292": {
      "model_module": "@jupyter-widgets/base",
      "model_module_version": "1.2.0",
      "model_name": "LayoutModel",
      "state": {
       "_model_module": "@jupyter-widgets/base",
       "_model_module_version": "1.2.0",
       "_model_name": "LayoutModel",
       "_view_count": null,
       "_view_module": "@jupyter-widgets/base",
       "_view_module_version": "1.2.0",
       "_view_name": "LayoutView",
       "align_content": null,
       "align_items": null,
       "align_self": null,
       "border": null,
       "bottom": null,
       "display": null,
       "flex": null,
       "flex_flow": null,
       "grid_area": null,
       "grid_auto_columns": null,
       "grid_auto_flow": null,
       "grid_auto_rows": null,
       "grid_column": null,
       "grid_gap": null,
       "grid_row": null,
       "grid_template_areas": null,
       "grid_template_columns": null,
       "grid_template_rows": null,
       "height": null,
       "justify_content": null,
       "justify_items": null,
       "left": null,
       "margin": null,
       "max_height": null,
       "max_width": null,
       "min_height": null,
       "min_width": null,
       "object_fit": null,
       "object_position": null,
       "order": null,
       "overflow": null,
       "overflow_x": null,
       "overflow_y": null,
       "padding": null,
       "right": null,
       "top": null,
       "visibility": null,
       "width": null
      }
     },
     "2d10bab08800493698585a14a7db697d": {
      "model_module": "@jupyter-widgets/base",
      "model_module_version": "1.2.0",
      "model_name": "LayoutModel",
      "state": {
       "_model_module": "@jupyter-widgets/base",
       "_model_module_version": "1.2.0",
       "_model_name": "LayoutModel",
       "_view_count": null,
       "_view_module": "@jupyter-widgets/base",
       "_view_module_version": "1.2.0",
       "_view_name": "LayoutView",
       "align_content": null,
       "align_items": null,
       "align_self": null,
       "border": null,
       "bottom": null,
       "display": null,
       "flex": null,
       "flex_flow": null,
       "grid_area": null,
       "grid_auto_columns": null,
       "grid_auto_flow": null,
       "grid_auto_rows": null,
       "grid_column": null,
       "grid_gap": null,
       "grid_row": null,
       "grid_template_areas": null,
       "grid_template_columns": null,
       "grid_template_rows": null,
       "height": null,
       "justify_content": null,
       "justify_items": null,
       "left": null,
       "margin": null,
       "max_height": null,
       "max_width": null,
       "min_height": null,
       "min_width": null,
       "object_fit": null,
       "object_position": null,
       "order": null,
       "overflow": null,
       "overflow_x": null,
       "overflow_y": null,
       "padding": null,
       "right": null,
       "top": null,
       "visibility": null,
       "width": null
      }
     },
     "2e1986c7b75a43a4850e3d555abe1fd1": {
      "model_module": "@jupyter-widgets/controls",
      "model_module_version": "1.5.0",
      "model_name": "HTMLModel",
      "state": {
       "_dom_classes": [],
       "_model_module": "@jupyter-widgets/controls",
       "_model_module_version": "1.5.0",
       "_model_name": "HTMLModel",
       "_view_count": null,
       "_view_module": "@jupyter-widgets/controls",
       "_view_module_version": "1.5.0",
       "_view_name": "HTMLView",
       "description": "",
       "description_tooltip": null,
       "layout": "IPY_MODEL_c88eca18b8364c048435c2483f550b65",
       "placeholder": "​",
       "style": "IPY_MODEL_217ccdb7866340d4bb7eac4501f70009",
       "value": "Casting the dataset: 100%"
      }
     },
     "2e673195b0fe44f09376aa768b389f24": {
      "model_module": "@jupyter-widgets/controls",
      "model_module_version": "1.5.0",
      "model_name": "HBoxModel",
      "state": {
       "_dom_classes": [],
       "_model_module": "@jupyter-widgets/controls",
       "_model_module_version": "1.5.0",
       "_model_name": "HBoxModel",
       "_view_count": null,
       "_view_module": "@jupyter-widgets/controls",
       "_view_module_version": "1.5.0",
       "_view_name": "HBoxView",
       "box_style": "",
       "children": [
        "IPY_MODEL_b6f19d4cbaab4c85ab66607fcda7a089",
        "IPY_MODEL_0d5afe5f57c3498f85d8d73bb91916fb",
        "IPY_MODEL_d5a61ff9406b432481570b04ba1ddda9"
       ],
       "layout": "IPY_MODEL_3ccc3c8aca484ff88a27e41c91e6693d"
      }
     },
     "2f03e0e766004ca480096c4cdcc17bd5": {
      "model_module": "@jupyter-widgets/base",
      "model_module_version": "1.2.0",
      "model_name": "LayoutModel",
      "state": {
       "_model_module": "@jupyter-widgets/base",
       "_model_module_version": "1.2.0",
       "_model_name": "LayoutModel",
       "_view_count": null,
       "_view_module": "@jupyter-widgets/base",
       "_view_module_version": "1.2.0",
       "_view_name": "LayoutView",
       "align_content": null,
       "align_items": null,
       "align_self": null,
       "border": null,
       "bottom": null,
       "display": null,
       "flex": null,
       "flex_flow": null,
       "grid_area": null,
       "grid_auto_columns": null,
       "grid_auto_flow": null,
       "grid_auto_rows": null,
       "grid_column": null,
       "grid_gap": null,
       "grid_row": null,
       "grid_template_areas": null,
       "grid_template_columns": null,
       "grid_template_rows": null,
       "height": null,
       "justify_content": null,
       "justify_items": null,
       "left": null,
       "margin": null,
       "max_height": null,
       "max_width": null,
       "min_height": null,
       "min_width": null,
       "object_fit": null,
       "object_position": null,
       "order": null,
       "overflow": null,
       "overflow_x": null,
       "overflow_y": null,
       "padding": null,
       "right": null,
       "top": null,
       "visibility": null,
       "width": null
      }
     },
     "2f65ca2d2e534b54a9b234524b13a4b1": {
      "model_module": "@jupyter-widgets/base",
      "model_module_version": "1.2.0",
      "model_name": "LayoutModel",
      "state": {
       "_model_module": "@jupyter-widgets/base",
       "_model_module_version": "1.2.0",
       "_model_name": "LayoutModel",
       "_view_count": null,
       "_view_module": "@jupyter-widgets/base",
       "_view_module_version": "1.2.0",
       "_view_name": "LayoutView",
       "align_content": null,
       "align_items": null,
       "align_self": null,
       "border": null,
       "bottom": null,
       "display": null,
       "flex": null,
       "flex_flow": null,
       "grid_area": null,
       "grid_auto_columns": null,
       "grid_auto_flow": null,
       "grid_auto_rows": null,
       "grid_column": null,
       "grid_gap": null,
       "grid_row": null,
       "grid_template_areas": null,
       "grid_template_columns": null,
       "grid_template_rows": null,
       "height": null,
       "justify_content": null,
       "justify_items": null,
       "left": null,
       "margin": null,
       "max_height": null,
       "max_width": null,
       "min_height": null,
       "min_width": null,
       "object_fit": null,
       "object_position": null,
       "order": null,
       "overflow": null,
       "overflow_x": null,
       "overflow_y": null,
       "padding": null,
       "right": null,
       "top": null,
       "visibility": null,
       "width": null
      }
     },
     "33030dd7662a41c3a4f754f40567601e": {
      "model_module": "@jupyter-widgets/controls",
      "model_module_version": "1.5.0",
      "model_name": "ProgressStyleModel",
      "state": {
       "_model_module": "@jupyter-widgets/controls",
       "_model_module_version": "1.5.0",
       "_model_name": "ProgressStyleModel",
       "_view_count": null,
       "_view_module": "@jupyter-widgets/base",
       "_view_module_version": "1.2.0",
       "_view_name": "StyleView",
       "bar_color": null,
       "description_width": ""
      }
     },
     "3306ae8079db484eac52c5d6bda25d6a": {
      "model_module": "@jupyter-widgets/base",
      "model_module_version": "1.2.0",
      "model_name": "LayoutModel",
      "state": {
       "_model_module": "@jupyter-widgets/base",
       "_model_module_version": "1.2.0",
       "_model_name": "LayoutModel",
       "_view_count": null,
       "_view_module": "@jupyter-widgets/base",
       "_view_module_version": "1.2.0",
       "_view_name": "LayoutView",
       "align_content": null,
       "align_items": null,
       "align_self": null,
       "border": null,
       "bottom": null,
       "display": null,
       "flex": null,
       "flex_flow": null,
       "grid_area": null,
       "grid_auto_columns": null,
       "grid_auto_flow": null,
       "grid_auto_rows": null,
       "grid_column": null,
       "grid_gap": null,
       "grid_row": null,
       "grid_template_areas": null,
       "grid_template_columns": null,
       "grid_template_rows": null,
       "height": null,
       "justify_content": null,
       "justify_items": null,
       "left": null,
       "margin": null,
       "max_height": null,
       "max_width": null,
       "min_height": null,
       "min_width": null,
       "object_fit": null,
       "object_position": null,
       "order": null,
       "overflow": null,
       "overflow_x": null,
       "overflow_y": null,
       "padding": null,
       "right": null,
       "top": null,
       "visibility": null,
       "width": null
      }
     },
     "3312875c3f2141dd9b481a60316535d7": {
      "model_module": "@jupyter-widgets/base",
      "model_module_version": "1.2.0",
      "model_name": "LayoutModel",
      "state": {
       "_model_module": "@jupyter-widgets/base",
       "_model_module_version": "1.2.0",
       "_model_name": "LayoutModel",
       "_view_count": null,
       "_view_module": "@jupyter-widgets/base",
       "_view_module_version": "1.2.0",
       "_view_name": "LayoutView",
       "align_content": null,
       "align_items": null,
       "align_self": null,
       "border": null,
       "bottom": null,
       "display": null,
       "flex": null,
       "flex_flow": null,
       "grid_area": null,
       "grid_auto_columns": null,
       "grid_auto_flow": null,
       "grid_auto_rows": null,
       "grid_column": null,
       "grid_gap": null,
       "grid_row": null,
       "grid_template_areas": null,
       "grid_template_columns": null,
       "grid_template_rows": null,
       "height": null,
       "justify_content": null,
       "justify_items": null,
       "left": null,
       "margin": null,
       "max_height": null,
       "max_width": null,
       "min_height": null,
       "min_width": null,
       "object_fit": null,
       "object_position": null,
       "order": null,
       "overflow": null,
       "overflow_x": null,
       "overflow_y": null,
       "padding": null,
       "right": null,
       "top": null,
       "visibility": null,
       "width": null
      }
     },
     "35365b4de6224230a8ee71695db38caf": {
      "model_module": "@jupyter-widgets/base",
      "model_module_version": "1.2.0",
      "model_name": "LayoutModel",
      "state": {
       "_model_module": "@jupyter-widgets/base",
       "_model_module_version": "1.2.0",
       "_model_name": "LayoutModel",
       "_view_count": null,
       "_view_module": "@jupyter-widgets/base",
       "_view_module_version": "1.2.0",
       "_view_name": "LayoutView",
       "align_content": null,
       "align_items": null,
       "align_self": null,
       "border": null,
       "bottom": null,
       "display": null,
       "flex": null,
       "flex_flow": null,
       "grid_area": null,
       "grid_auto_columns": null,
       "grid_auto_flow": null,
       "grid_auto_rows": null,
       "grid_column": null,
       "grid_gap": null,
       "grid_row": null,
       "grid_template_areas": null,
       "grid_template_columns": null,
       "grid_template_rows": null,
       "height": null,
       "justify_content": null,
       "justify_items": null,
       "left": null,
       "margin": null,
       "max_height": null,
       "max_width": null,
       "min_height": null,
       "min_width": null,
       "object_fit": null,
       "object_position": null,
       "order": null,
       "overflow": null,
       "overflow_x": null,
       "overflow_y": null,
       "padding": null,
       "right": null,
       "top": null,
       "visibility": null,
       "width": null
      }
     },
     "369b51ff07424a4aa993bc5d396ca2bd": {
      "model_module": "@jupyter-widgets/base",
      "model_module_version": "1.2.0",
      "model_name": "LayoutModel",
      "state": {
       "_model_module": "@jupyter-widgets/base",
       "_model_module_version": "1.2.0",
       "_model_name": "LayoutModel",
       "_view_count": null,
       "_view_module": "@jupyter-widgets/base",
       "_view_module_version": "1.2.0",
       "_view_name": "LayoutView",
       "align_content": null,
       "align_items": null,
       "align_self": null,
       "border": null,
       "bottom": null,
       "display": null,
       "flex": null,
       "flex_flow": null,
       "grid_area": null,
       "grid_auto_columns": null,
       "grid_auto_flow": null,
       "grid_auto_rows": null,
       "grid_column": null,
       "grid_gap": null,
       "grid_row": null,
       "grid_template_areas": null,
       "grid_template_columns": null,
       "grid_template_rows": null,
       "height": null,
       "justify_content": null,
       "justify_items": null,
       "left": null,
       "margin": null,
       "max_height": null,
       "max_width": null,
       "min_height": null,
       "min_width": null,
       "object_fit": null,
       "object_position": null,
       "order": null,
       "overflow": null,
       "overflow_x": null,
       "overflow_y": null,
       "padding": null,
       "right": null,
       "top": null,
       "visibility": null,
       "width": null
      }
     },
     "36e256d0fc5e4a59baa8d0be51523496": {
      "model_module": "@jupyter-widgets/controls",
      "model_module_version": "1.5.0",
      "model_name": "DescriptionStyleModel",
      "state": {
       "_model_module": "@jupyter-widgets/controls",
       "_model_module_version": "1.5.0",
       "_model_name": "DescriptionStyleModel",
       "_view_count": null,
       "_view_module": "@jupyter-widgets/base",
       "_view_module_version": "1.2.0",
       "_view_name": "StyleView",
       "description_width": ""
      }
     },
     "370568388bff48cb90f2b080925e99b1": {
      "model_module": "@jupyter-widgets/controls",
      "model_module_version": "1.5.0",
      "model_name": "HTMLModel",
      "state": {
       "_dom_classes": [],
       "_model_module": "@jupyter-widgets/controls",
       "_model_module_version": "1.5.0",
       "_model_name": "HTMLModel",
       "_view_count": null,
       "_view_module": "@jupyter-widgets/controls",
       "_view_module_version": "1.5.0",
       "_view_name": "HTMLView",
       "description": "",
       "description_tooltip": null,
       "layout": "IPY_MODEL_bb4c5fda76ce4c44af405dead35061c3",
       "placeholder": "​",
       "style": "IPY_MODEL_b32d4582c166408fa44ae1b5220b1243",
       "value": "Casting to class labels: 100%"
      }
     },
     "3773c4c62c3e48a2b6b87d1374b8c6ef": {
      "model_module": "@jupyter-widgets/base",
      "model_module_version": "1.2.0",
      "model_name": "LayoutModel",
      "state": {
       "_model_module": "@jupyter-widgets/base",
       "_model_module_version": "1.2.0",
       "_model_name": "LayoutModel",
       "_view_count": null,
       "_view_module": "@jupyter-widgets/base",
       "_view_module_version": "1.2.0",
       "_view_name": "LayoutView",
       "align_content": null,
       "align_items": null,
       "align_self": null,
       "border": null,
       "bottom": null,
       "display": null,
       "flex": null,
       "flex_flow": null,
       "grid_area": null,
       "grid_auto_columns": null,
       "grid_auto_flow": null,
       "grid_auto_rows": null,
       "grid_column": null,
       "grid_gap": null,
       "grid_row": null,
       "grid_template_areas": null,
       "grid_template_columns": null,
       "grid_template_rows": null,
       "height": null,
       "justify_content": null,
       "justify_items": null,
       "left": null,
       "margin": null,
       "max_height": null,
       "max_width": null,
       "min_height": null,
       "min_width": null,
       "object_fit": null,
       "object_position": null,
       "order": null,
       "overflow": null,
       "overflow_x": null,
       "overflow_y": null,
       "padding": null,
       "right": null,
       "top": null,
       "visibility": null,
       "width": null
      }
     },
     "3917dc66c45e4c9699e58b45f97d63ed": {
      "model_module": "@jupyter-widgets/controls",
      "model_module_version": "1.5.0",
      "model_name": "DescriptionStyleModel",
      "state": {
       "_model_module": "@jupyter-widgets/controls",
       "_model_module_version": "1.5.0",
       "_model_name": "DescriptionStyleModel",
       "_view_count": null,
       "_view_module": "@jupyter-widgets/base",
       "_view_module_version": "1.2.0",
       "_view_name": "StyleView",
       "description_width": ""
      }
     },
     "394ab9dac6f2451d85200af17b7e15e9": {
      "model_module": "@jupyter-widgets/controls",
      "model_module_version": "1.5.0",
      "model_name": "DescriptionStyleModel",
      "state": {
       "_model_module": "@jupyter-widgets/controls",
       "_model_module_version": "1.5.0",
       "_model_name": "DescriptionStyleModel",
       "_view_count": null,
       "_view_module": "@jupyter-widgets/base",
       "_view_module_version": "1.2.0",
       "_view_name": "StyleView",
       "description_width": ""
      }
     },
     "395061ac35d14679970eed404ef69476": {
      "model_module": "@jupyter-widgets/controls",
      "model_module_version": "1.5.0",
      "model_name": "HTMLModel",
      "state": {
       "_dom_classes": [],
       "_model_module": "@jupyter-widgets/controls",
       "_model_module_version": "1.5.0",
       "_model_name": "HTMLModel",
       "_view_count": null,
       "_view_module": "@jupyter-widgets/controls",
       "_view_module_version": "1.5.0",
       "_view_name": "HTMLView",
       "description": "",
       "description_tooltip": null,
       "layout": "IPY_MODEL_8197adf5e1164bc6825298d499a32682",
       "placeholder": "​",
       "style": "IPY_MODEL_2b45060e28024c8ba2e2783acaf7014e",
       "value": " 1/1 [00:00&lt;00:00,  7.34ba/s]"
      }
     },
     "39dbf04840fd47d59c8b3174bc7a4d9b": {
      "model_module": "@jupyter-widgets/controls",
      "model_module_version": "1.5.0",
      "model_name": "HTMLModel",
      "state": {
       "_dom_classes": [],
       "_model_module": "@jupyter-widgets/controls",
       "_model_module_version": "1.5.0",
       "_model_name": "HTMLModel",
       "_view_count": null,
       "_view_module": "@jupyter-widgets/controls",
       "_view_module_version": "1.5.0",
       "_view_name": "HTMLView",
       "description": "",
       "description_tooltip": null,
       "layout": "IPY_MODEL_3312875c3f2141dd9b481a60316535d7",
       "placeholder": "​",
       "style": "IPY_MODEL_23659622da814cddb02c0e3d6449cdb9",
       "value": " 10/10 [00:54&lt;00:00,  4.66s/ba]"
      }
     },
     "39df142c57ee45e4a6aa29f2db6f398d": {
      "model_module": "@jupyter-widgets/controls",
      "model_module_version": "1.5.0",
      "model_name": "DescriptionStyleModel",
      "state": {
       "_model_module": "@jupyter-widgets/controls",
       "_model_module_version": "1.5.0",
       "_model_name": "DescriptionStyleModel",
       "_view_count": null,
       "_view_module": "@jupyter-widgets/base",
       "_view_module_version": "1.2.0",
       "_view_name": "StyleView",
       "description_width": ""
      }
     },
     "39e12f305fdc4f758ac4ffcfdc1b7ba9": {
      "model_module": "@jupyter-widgets/base",
      "model_module_version": "1.2.0",
      "model_name": "LayoutModel",
      "state": {
       "_model_module": "@jupyter-widgets/base",
       "_model_module_version": "1.2.0",
       "_model_name": "LayoutModel",
       "_view_count": null,
       "_view_module": "@jupyter-widgets/base",
       "_view_module_version": "1.2.0",
       "_view_name": "LayoutView",
       "align_content": null,
       "align_items": null,
       "align_self": null,
       "border": null,
       "bottom": null,
       "display": null,
       "flex": null,
       "flex_flow": null,
       "grid_area": null,
       "grid_auto_columns": null,
       "grid_auto_flow": null,
       "grid_auto_rows": null,
       "grid_column": null,
       "grid_gap": null,
       "grid_row": null,
       "grid_template_areas": null,
       "grid_template_columns": null,
       "grid_template_rows": null,
       "height": null,
       "justify_content": null,
       "justify_items": null,
       "left": null,
       "margin": null,
       "max_height": null,
       "max_width": null,
       "min_height": null,
       "min_width": null,
       "object_fit": null,
       "object_position": null,
       "order": null,
       "overflow": null,
       "overflow_x": null,
       "overflow_y": null,
       "padding": null,
       "right": null,
       "top": null,
       "visibility": null,
       "width": null
      }
     },
     "3ae07ec5944d451db4bd757489eff6c1": {
      "model_module": "@jupyter-widgets/base",
      "model_module_version": "1.2.0",
      "model_name": "LayoutModel",
      "state": {
       "_model_module": "@jupyter-widgets/base",
       "_model_module_version": "1.2.0",
       "_model_name": "LayoutModel",
       "_view_count": null,
       "_view_module": "@jupyter-widgets/base",
       "_view_module_version": "1.2.0",
       "_view_name": "LayoutView",
       "align_content": null,
       "align_items": null,
       "align_self": null,
       "border": null,
       "bottom": null,
       "display": null,
       "flex": null,
       "flex_flow": null,
       "grid_area": null,
       "grid_auto_columns": null,
       "grid_auto_flow": null,
       "grid_auto_rows": null,
       "grid_column": null,
       "grid_gap": null,
       "grid_row": null,
       "grid_template_areas": null,
       "grid_template_columns": null,
       "grid_template_rows": null,
       "height": null,
       "justify_content": null,
       "justify_items": null,
       "left": null,
       "margin": null,
       "max_height": null,
       "max_width": null,
       "min_height": null,
       "min_width": null,
       "object_fit": null,
       "object_position": null,
       "order": null,
       "overflow": null,
       "overflow_x": null,
       "overflow_y": null,
       "padding": null,
       "right": null,
       "top": null,
       "visibility": null,
       "width": null
      }
     },
     "3bbf16d9b38a48cabc4dc502e09e700c": {
      "model_module": "@jupyter-widgets/base",
      "model_module_version": "1.2.0",
      "model_name": "LayoutModel",
      "state": {
       "_model_module": "@jupyter-widgets/base",
       "_model_module_version": "1.2.0",
       "_model_name": "LayoutModel",
       "_view_count": null,
       "_view_module": "@jupyter-widgets/base",
       "_view_module_version": "1.2.0",
       "_view_name": "LayoutView",
       "align_content": null,
       "align_items": null,
       "align_self": null,
       "border": null,
       "bottom": null,
       "display": null,
       "flex": null,
       "flex_flow": null,
       "grid_area": null,
       "grid_auto_columns": null,
       "grid_auto_flow": null,
       "grid_auto_rows": null,
       "grid_column": null,
       "grid_gap": null,
       "grid_row": null,
       "grid_template_areas": null,
       "grid_template_columns": null,
       "grid_template_rows": null,
       "height": null,
       "justify_content": null,
       "justify_items": null,
       "left": null,
       "margin": null,
       "max_height": null,
       "max_width": null,
       "min_height": null,
       "min_width": null,
       "object_fit": null,
       "object_position": null,
       "order": null,
       "overflow": null,
       "overflow_x": null,
       "overflow_y": null,
       "padding": null,
       "right": null,
       "top": null,
       "visibility": null,
       "width": null
      }
     },
     "3c7973bfdaac45bc87936d8219149a8b": {
      "model_module": "@jupyter-widgets/controls",
      "model_module_version": "1.5.0",
      "model_name": "ProgressStyleModel",
      "state": {
       "_model_module": "@jupyter-widgets/controls",
       "_model_module_version": "1.5.0",
       "_model_name": "ProgressStyleModel",
       "_view_count": null,
       "_view_module": "@jupyter-widgets/base",
       "_view_module_version": "1.2.0",
       "_view_name": "StyleView",
       "bar_color": null,
       "description_width": ""
      }
     },
     "3ccc3c8aca484ff88a27e41c91e6693d": {
      "model_module": "@jupyter-widgets/base",
      "model_module_version": "1.2.0",
      "model_name": "LayoutModel",
      "state": {
       "_model_module": "@jupyter-widgets/base",
       "_model_module_version": "1.2.0",
       "_model_name": "LayoutModel",
       "_view_count": null,
       "_view_module": "@jupyter-widgets/base",
       "_view_module_version": "1.2.0",
       "_view_name": "LayoutView",
       "align_content": null,
       "align_items": null,
       "align_self": null,
       "border": null,
       "bottom": null,
       "display": null,
       "flex": null,
       "flex_flow": null,
       "grid_area": null,
       "grid_auto_columns": null,
       "grid_auto_flow": null,
       "grid_auto_rows": null,
       "grid_column": null,
       "grid_gap": null,
       "grid_row": null,
       "grid_template_areas": null,
       "grid_template_columns": null,
       "grid_template_rows": null,
       "height": null,
       "justify_content": null,
       "justify_items": null,
       "left": null,
       "margin": null,
       "max_height": null,
       "max_width": null,
       "min_height": null,
       "min_width": null,
       "object_fit": null,
       "object_position": null,
       "order": null,
       "overflow": null,
       "overflow_x": null,
       "overflow_y": null,
       "padding": null,
       "right": null,
       "top": null,
       "visibility": null,
       "width": null
      }
     },
     "3d66351413a149a6b7f3e76fc9465101": {
      "model_module": "@jupyter-widgets/controls",
      "model_module_version": "1.5.0",
      "model_name": "ProgressStyleModel",
      "state": {
       "_model_module": "@jupyter-widgets/controls",
       "_model_module_version": "1.5.0",
       "_model_name": "ProgressStyleModel",
       "_view_count": null,
       "_view_module": "@jupyter-widgets/base",
       "_view_module_version": "1.2.0",
       "_view_name": "StyleView",
       "bar_color": null,
       "description_width": ""
      }
     },
     "3ef8322d4aa740498d966e639dce7e16": {
      "model_module": "@jupyter-widgets/controls",
      "model_module_version": "1.5.0",
      "model_name": "HBoxModel",
      "state": {
       "_dom_classes": [],
       "_model_module": "@jupyter-widgets/controls",
       "_model_module_version": "1.5.0",
       "_model_name": "HBoxModel",
       "_view_count": null,
       "_view_module": "@jupyter-widgets/controls",
       "_view_module_version": "1.5.0",
       "_view_name": "HBoxView",
       "box_style": "",
       "children": [
        "IPY_MODEL_03714e98fe6e495fb834d5d8133e27c8",
        "IPY_MODEL_bef38407f4384a27bb6f65eacf3e8cfd",
        "IPY_MODEL_a3affd7cf754462aa706797260bc7267"
       ],
       "layout": "IPY_MODEL_80df314f038543e88557be45a63f63b5"
      }
     },
     "3f2de57dfda841e4bfcc6c1f3a9ae06f": {
      "model_module": "@jupyter-widgets/controls",
      "model_module_version": "1.5.0",
      "model_name": "ProgressStyleModel",
      "state": {
       "_model_module": "@jupyter-widgets/controls",
       "_model_module_version": "1.5.0",
       "_model_name": "ProgressStyleModel",
       "_view_count": null,
       "_view_module": "@jupyter-widgets/base",
       "_view_module_version": "1.2.0",
       "_view_name": "StyleView",
       "bar_color": null,
       "description_width": ""
      }
     },
     "3f8dc0961d21456c96ad4e93144bc525": {
      "model_module": "@jupyter-widgets/controls",
      "model_module_version": "1.5.0",
      "model_name": "DescriptionStyleModel",
      "state": {
       "_model_module": "@jupyter-widgets/controls",
       "_model_module_version": "1.5.0",
       "_model_name": "DescriptionStyleModel",
       "_view_count": null,
       "_view_module": "@jupyter-widgets/base",
       "_view_module_version": "1.2.0",
       "_view_name": "StyleView",
       "description_width": ""
      }
     },
     "3fb9c6fe345d474f80264507c65eb564": {
      "model_module": "@jupyter-widgets/controls",
      "model_module_version": "1.5.0",
      "model_name": "DescriptionStyleModel",
      "state": {
       "_model_module": "@jupyter-widgets/controls",
       "_model_module_version": "1.5.0",
       "_model_name": "DescriptionStyleModel",
       "_view_count": null,
       "_view_module": "@jupyter-widgets/base",
       "_view_module_version": "1.2.0",
       "_view_name": "StyleView",
       "description_width": ""
      }
     },
     "3fda2bacc6b94c24b1c3818fc38b6ec8": {
      "model_module": "@jupyter-widgets/controls",
      "model_module_version": "1.5.0",
      "model_name": "ProgressStyleModel",
      "state": {
       "_model_module": "@jupyter-widgets/controls",
       "_model_module_version": "1.5.0",
       "_model_name": "ProgressStyleModel",
       "_view_count": null,
       "_view_module": "@jupyter-widgets/base",
       "_view_module_version": "1.2.0",
       "_view_name": "StyleView",
       "bar_color": null,
       "description_width": ""
      }
     },
     "40d23c0263f64904b8afd9f148f0bcc4": {
      "model_module": "@jupyter-widgets/controls",
      "model_module_version": "1.5.0",
      "model_name": "ProgressStyleModel",
      "state": {
       "_model_module": "@jupyter-widgets/controls",
       "_model_module_version": "1.5.0",
       "_model_name": "ProgressStyleModel",
       "_view_count": null,
       "_view_module": "@jupyter-widgets/base",
       "_view_module_version": "1.2.0",
       "_view_name": "StyleView",
       "bar_color": null,
       "description_width": ""
      }
     },
     "40f98c511dae46fbbf671c512c99e4b6": {
      "model_module": "@jupyter-widgets/controls",
      "model_module_version": "1.5.0",
      "model_name": "DescriptionStyleModel",
      "state": {
       "_model_module": "@jupyter-widgets/controls",
       "_model_module_version": "1.5.0",
       "_model_name": "DescriptionStyleModel",
       "_view_count": null,
       "_view_module": "@jupyter-widgets/base",
       "_view_module_version": "1.2.0",
       "_view_name": "StyleView",
       "description_width": ""
      }
     },
     "41088694e0ae4d7195245f15f6b3018f": {
      "model_module": "@jupyter-widgets/base",
      "model_module_version": "1.2.0",
      "model_name": "LayoutModel",
      "state": {
       "_model_module": "@jupyter-widgets/base",
       "_model_module_version": "1.2.0",
       "_model_name": "LayoutModel",
       "_view_count": null,
       "_view_module": "@jupyter-widgets/base",
       "_view_module_version": "1.2.0",
       "_view_name": "LayoutView",
       "align_content": null,
       "align_items": null,
       "align_self": null,
       "border": null,
       "bottom": null,
       "display": null,
       "flex": null,
       "flex_flow": null,
       "grid_area": null,
       "grid_auto_columns": null,
       "grid_auto_flow": null,
       "grid_auto_rows": null,
       "grid_column": null,
       "grid_gap": null,
       "grid_row": null,
       "grid_template_areas": null,
       "grid_template_columns": null,
       "grid_template_rows": null,
       "height": null,
       "justify_content": null,
       "justify_items": null,
       "left": null,
       "margin": null,
       "max_height": null,
       "max_width": null,
       "min_height": null,
       "min_width": null,
       "object_fit": null,
       "object_position": null,
       "order": null,
       "overflow": null,
       "overflow_x": null,
       "overflow_y": null,
       "padding": null,
       "right": null,
       "top": null,
       "visibility": null,
       "width": null
      }
     },
     "41aa8384f12a453b96d8e11f3ab50855": {
      "model_module": "@jupyter-widgets/base",
      "model_module_version": "1.2.0",
      "model_name": "LayoutModel",
      "state": {
       "_model_module": "@jupyter-widgets/base",
       "_model_module_version": "1.2.0",
       "_model_name": "LayoutModel",
       "_view_count": null,
       "_view_module": "@jupyter-widgets/base",
       "_view_module_version": "1.2.0",
       "_view_name": "LayoutView",
       "align_content": null,
       "align_items": null,
       "align_self": null,
       "border": null,
       "bottom": null,
       "display": null,
       "flex": null,
       "flex_flow": null,
       "grid_area": null,
       "grid_auto_columns": null,
       "grid_auto_flow": null,
       "grid_auto_rows": null,
       "grid_column": null,
       "grid_gap": null,
       "grid_row": null,
       "grid_template_areas": null,
       "grid_template_columns": null,
       "grid_template_rows": null,
       "height": null,
       "justify_content": null,
       "justify_items": null,
       "left": null,
       "margin": null,
       "max_height": null,
       "max_width": null,
       "min_height": null,
       "min_width": null,
       "object_fit": null,
       "object_position": null,
       "order": null,
       "overflow": null,
       "overflow_x": null,
       "overflow_y": null,
       "padding": null,
       "right": null,
       "top": null,
       "visibility": null,
       "width": null
      }
     },
     "41f5054647e444bab12d0cbe84562680": {
      "model_module": "@jupyter-widgets/controls",
      "model_module_version": "1.5.0",
      "model_name": "ProgressStyleModel",
      "state": {
       "_model_module": "@jupyter-widgets/controls",
       "_model_module_version": "1.5.0",
       "_model_name": "ProgressStyleModel",
       "_view_count": null,
       "_view_module": "@jupyter-widgets/base",
       "_view_module_version": "1.2.0",
       "_view_name": "StyleView",
       "bar_color": null,
       "description_width": ""
      }
     },
     "43c0d3bada88478f8ddd8900f581b0f7": {
      "model_module": "@jupyter-widgets/controls",
      "model_module_version": "1.5.0",
      "model_name": "ProgressStyleModel",
      "state": {
       "_model_module": "@jupyter-widgets/controls",
       "_model_module_version": "1.5.0",
       "_model_name": "ProgressStyleModel",
       "_view_count": null,
       "_view_module": "@jupyter-widgets/base",
       "_view_module_version": "1.2.0",
       "_view_name": "StyleView",
       "bar_color": null,
       "description_width": ""
      }
     },
     "44c9f9a1c6d8451181fa722fd6919de4": {
      "model_module": "@jupyter-widgets/controls",
      "model_module_version": "1.5.0",
      "model_name": "HBoxModel",
      "state": {
       "_dom_classes": [],
       "_model_module": "@jupyter-widgets/controls",
       "_model_module_version": "1.5.0",
       "_model_name": "HBoxModel",
       "_view_count": null,
       "_view_module": "@jupyter-widgets/controls",
       "_view_module_version": "1.5.0",
       "_view_name": "HBoxView",
       "box_style": "",
       "children": [
        "IPY_MODEL_deca92a2fe8045a380383299a97a7b6c",
        "IPY_MODEL_c27b55efef994a97ae3bd06502202a25",
        "IPY_MODEL_b79340cf515f4bf9925f9f9c57918f1b"
       ],
       "layout": "IPY_MODEL_1659fd2774f54332bf33aef46843f604"
      }
     },
     "45e8fb5080444c2897e1bc2154d7040d": {
      "model_module": "@jupyter-widgets/base",
      "model_module_version": "1.2.0",
      "model_name": "LayoutModel",
      "state": {
       "_model_module": "@jupyter-widgets/base",
       "_model_module_version": "1.2.0",
       "_model_name": "LayoutModel",
       "_view_count": null,
       "_view_module": "@jupyter-widgets/base",
       "_view_module_version": "1.2.0",
       "_view_name": "LayoutView",
       "align_content": null,
       "align_items": null,
       "align_self": null,
       "border": null,
       "bottom": null,
       "display": null,
       "flex": null,
       "flex_flow": null,
       "grid_area": null,
       "grid_auto_columns": null,
       "grid_auto_flow": null,
       "grid_auto_rows": null,
       "grid_column": null,
       "grid_gap": null,
       "grid_row": null,
       "grid_template_areas": null,
       "grid_template_columns": null,
       "grid_template_rows": null,
       "height": null,
       "justify_content": null,
       "justify_items": null,
       "left": null,
       "margin": null,
       "max_height": null,
       "max_width": null,
       "min_height": null,
       "min_width": null,
       "object_fit": null,
       "object_position": null,
       "order": null,
       "overflow": null,
       "overflow_x": null,
       "overflow_y": null,
       "padding": null,
       "right": null,
       "top": null,
       "visibility": null,
       "width": null
      }
     },
     "472a20fda5fe4668b59a3a0fa0a5fbf3": {
      "model_module": "@jupyter-widgets/controls",
      "model_module_version": "1.5.0",
      "model_name": "FloatProgressModel",
      "state": {
       "_dom_classes": [],
       "_model_module": "@jupyter-widgets/controls",
       "_model_module_version": "1.5.0",
       "_model_name": "FloatProgressModel",
       "_view_count": null,
       "_view_module": "@jupyter-widgets/controls",
       "_view_module_version": "1.5.0",
       "_view_name": "ProgressView",
       "bar_style": "success",
       "description": "",
       "description_tooltip": null,
       "layout": "IPY_MODEL_d7a175eb533b4794aa09683a631f7529",
       "max": 371146213,
       "min": 0,
       "orientation": "horizontal",
       "style": "IPY_MODEL_40d23c0263f64904b8afd9f148f0bcc4",
       "value": 371146213
      }
     },
     "479e16ea9ac145b6b06e359976310e70": {
      "model_module": "@jupyter-widgets/controls",
      "model_module_version": "1.5.0",
      "model_name": "ProgressStyleModel",
      "state": {
       "_model_module": "@jupyter-widgets/controls",
       "_model_module_version": "1.5.0",
       "_model_name": "ProgressStyleModel",
       "_view_count": null,
       "_view_module": "@jupyter-widgets/base",
       "_view_module_version": "1.2.0",
       "_view_name": "StyleView",
       "bar_color": null,
       "description_width": ""
      }
     },
     "48610c6b53b7476ba61b8b354746991b": {
      "model_module": "@jupyter-widgets/base",
      "model_module_version": "1.2.0",
      "model_name": "LayoutModel",
      "state": {
       "_model_module": "@jupyter-widgets/base",
       "_model_module_version": "1.2.0",
       "_model_name": "LayoutModel",
       "_view_count": null,
       "_view_module": "@jupyter-widgets/base",
       "_view_module_version": "1.2.0",
       "_view_name": "LayoutView",
       "align_content": null,
       "align_items": null,
       "align_self": null,
       "border": null,
       "bottom": null,
       "display": null,
       "flex": null,
       "flex_flow": null,
       "grid_area": null,
       "grid_auto_columns": null,
       "grid_auto_flow": null,
       "grid_auto_rows": null,
       "grid_column": null,
       "grid_gap": null,
       "grid_row": null,
       "grid_template_areas": null,
       "grid_template_columns": null,
       "grid_template_rows": null,
       "height": null,
       "justify_content": null,
       "justify_items": null,
       "left": null,
       "margin": null,
       "max_height": null,
       "max_width": null,
       "min_height": null,
       "min_width": null,
       "object_fit": null,
       "object_position": null,
       "order": null,
       "overflow": null,
       "overflow_x": null,
       "overflow_y": null,
       "padding": null,
       "right": null,
       "top": null,
       "visibility": null,
       "width": null
      }
     },
     "48b80d4289804771b89079cb6018908f": {
      "model_module": "@jupyter-widgets/controls",
      "model_module_version": "1.5.0",
      "model_name": "HTMLModel",
      "state": {
       "_dom_classes": [],
       "_model_module": "@jupyter-widgets/controls",
       "_model_module_version": "1.5.0",
       "_model_name": "HTMLModel",
       "_view_count": null,
       "_view_module": "@jupyter-widgets/controls",
       "_view_module_version": "1.5.0",
       "_view_name": "HTMLView",
       "description": "",
       "description_tooltip": null,
       "layout": "IPY_MODEL_13863d1cfcfa4ccda6363c44760745ef",
       "placeholder": "​",
       "style": "IPY_MODEL_f5759e59ac944953bf92fb8025baa312",
       "value": "Downloading: 100%"
      }
     },
     "495584d041df4237b0025e2325e066bb": {
      "model_module": "@jupyter-widgets/controls",
      "model_module_version": "1.5.0",
      "model_name": "DescriptionStyleModel",
      "state": {
       "_model_module": "@jupyter-widgets/controls",
       "_model_module_version": "1.5.0",
       "_model_name": "DescriptionStyleModel",
       "_view_count": null,
       "_view_module": "@jupyter-widgets/base",
       "_view_module_version": "1.2.0",
       "_view_name": "StyleView",
       "description_width": ""
      }
     },
     "498dc20697f44c819a474220d7f09cf4": {
      "model_module": "@jupyter-widgets/base",
      "model_module_version": "1.2.0",
      "model_name": "LayoutModel",
      "state": {
       "_model_module": "@jupyter-widgets/base",
       "_model_module_version": "1.2.0",
       "_model_name": "LayoutModel",
       "_view_count": null,
       "_view_module": "@jupyter-widgets/base",
       "_view_module_version": "1.2.0",
       "_view_name": "LayoutView",
       "align_content": null,
       "align_items": null,
       "align_self": null,
       "border": null,
       "bottom": null,
       "display": null,
       "flex": null,
       "flex_flow": null,
       "grid_area": null,
       "grid_auto_columns": null,
       "grid_auto_flow": null,
       "grid_auto_rows": null,
       "grid_column": null,
       "grid_gap": null,
       "grid_row": null,
       "grid_template_areas": null,
       "grid_template_columns": null,
       "grid_template_rows": null,
       "height": null,
       "justify_content": null,
       "justify_items": null,
       "left": null,
       "margin": null,
       "max_height": null,
       "max_width": null,
       "min_height": null,
       "min_width": null,
       "object_fit": null,
       "object_position": null,
       "order": null,
       "overflow": null,
       "overflow_x": null,
       "overflow_y": null,
       "padding": null,
       "right": null,
       "top": null,
       "visibility": null,
       "width": null
      }
     },
     "4aa0c92ae8ec4397b2c603210d13fef4": {
      "model_module": "@jupyter-widgets/controls",
      "model_module_version": "1.5.0",
      "model_name": "HTMLModel",
      "state": {
       "_dom_classes": [],
       "_model_module": "@jupyter-widgets/controls",
       "_model_module_version": "1.5.0",
       "_model_name": "HTMLModel",
       "_view_count": null,
       "_view_module": "@jupyter-widgets/controls",
       "_view_module_version": "1.5.0",
       "_view_name": "HTMLView",
       "description": "",
       "description_tooltip": null,
       "layout": "IPY_MODEL_0b9c339d862e47d4840b8f34ec1b1690",
       "placeholder": "​",
       "style": "IPY_MODEL_d5cb23564b914f6ba65b049b243f0cb1",
       "value": "Casting to class labels: 100%"
      }
     },
     "4afa07b7063e40e78260c2b2be477e0b": {
      "model_module": "@jupyter-widgets/controls",
      "model_module_version": "1.5.0",
      "model_name": "FloatProgressModel",
      "state": {
       "_dom_classes": [],
       "_model_module": "@jupyter-widgets/controls",
       "_model_module_version": "1.5.0",
       "_model_name": "FloatProgressModel",
       "_view_count": null,
       "_view_module": "@jupyter-widgets/controls",
       "_view_module_version": "1.5.0",
       "_view_name": "ProgressView",
       "bar_style": "success",
       "description": "",
       "description_tooltip": null,
       "layout": "IPY_MODEL_6f677f107c5c41d6bd4a808bc4411204",
       "max": 3,
       "min": 0,
       "orientation": "horizontal",
       "style": "IPY_MODEL_666b55bb6d854eb1a59119a6ece8af7b",
       "value": 3
      }
     },
     "4b884d8845354074901b65dfafe77ea4": {
      "model_module": "@jupyter-widgets/base",
      "model_module_version": "1.2.0",
      "model_name": "LayoutModel",
      "state": {
       "_model_module": "@jupyter-widgets/base",
       "_model_module_version": "1.2.0",
       "_model_name": "LayoutModel",
       "_view_count": null,
       "_view_module": "@jupyter-widgets/base",
       "_view_module_version": "1.2.0",
       "_view_name": "LayoutView",
       "align_content": null,
       "align_items": null,
       "align_self": null,
       "border": null,
       "bottom": null,
       "display": null,
       "flex": null,
       "flex_flow": null,
       "grid_area": null,
       "grid_auto_columns": null,
       "grid_auto_flow": null,
       "grid_auto_rows": null,
       "grid_column": null,
       "grid_gap": null,
       "grid_row": null,
       "grid_template_areas": null,
       "grid_template_columns": null,
       "grid_template_rows": null,
       "height": null,
       "justify_content": null,
       "justify_items": null,
       "left": null,
       "margin": null,
       "max_height": null,
       "max_width": null,
       "min_height": null,
       "min_width": null,
       "object_fit": null,
       "object_position": null,
       "order": null,
       "overflow": null,
       "overflow_x": null,
       "overflow_y": null,
       "padding": null,
       "right": null,
       "top": null,
       "visibility": null,
       "width": null
      }
     },
     "4b92447a4b7443048b8b13b47b15cec3": {
      "model_module": "@jupyter-widgets/controls",
      "model_module_version": "1.5.0",
      "model_name": "HTMLModel",
      "state": {
       "_dom_classes": [],
       "_model_module": "@jupyter-widgets/controls",
       "_model_module_version": "1.5.0",
       "_model_name": "HTMLModel",
       "_view_count": null,
       "_view_module": "@jupyter-widgets/controls",
       "_view_module_version": "1.5.0",
       "_view_name": "HTMLView",
       "description": "",
       "description_tooltip": null,
       "layout": "IPY_MODEL_8daefb48d75642bda620524fb9396932",
       "placeholder": "​",
       "style": "IPY_MODEL_99a3dd6bda604547b78bafe8f0737822",
       "value": " 3.19k/? [00:00&lt;00:00, 96.7kB/s]"
      }
     },
     "4bb0db2b8b964713af377a8c20177cdc": {
      "model_module": "@jupyter-widgets/controls",
      "model_module_version": "1.5.0",
      "model_name": "HBoxModel",
      "state": {
       "_dom_classes": [],
       "_model_module": "@jupyter-widgets/controls",
       "_model_module_version": "1.5.0",
       "_model_name": "HBoxModel",
       "_view_count": null,
       "_view_module": "@jupyter-widgets/controls",
       "_view_module_version": "1.5.0",
       "_view_name": "HBoxView",
       "box_style": "",
       "children": [
        "IPY_MODEL_58b418f10c00429e8c3f774aa1399aad",
        "IPY_MODEL_9837aa94bebb4cb7a9341f71faf73da1",
        "IPY_MODEL_395061ac35d14679970eed404ef69476"
       ],
       "layout": "IPY_MODEL_7a9e29dc8a8f460d83ba1bd975cc18bf"
      }
     },
     "4c8ea63f3e9543a9880d080087e0c40a": {
      "model_module": "@jupyter-widgets/base",
      "model_module_version": "1.2.0",
      "model_name": "LayoutModel",
      "state": {
       "_model_module": "@jupyter-widgets/base",
       "_model_module_version": "1.2.0",
       "_model_name": "LayoutModel",
       "_view_count": null,
       "_view_module": "@jupyter-widgets/base",
       "_view_module_version": "1.2.0",
       "_view_name": "LayoutView",
       "align_content": null,
       "align_items": null,
       "align_self": null,
       "border": null,
       "bottom": null,
       "display": null,
       "flex": null,
       "flex_flow": null,
       "grid_area": null,
       "grid_auto_columns": null,
       "grid_auto_flow": null,
       "grid_auto_rows": null,
       "grid_column": null,
       "grid_gap": null,
       "grid_row": null,
       "grid_template_areas": null,
       "grid_template_columns": null,
       "grid_template_rows": null,
       "height": null,
       "justify_content": null,
       "justify_items": null,
       "left": null,
       "margin": null,
       "max_height": null,
       "max_width": null,
       "min_height": null,
       "min_width": null,
       "object_fit": null,
       "object_position": null,
       "order": null,
       "overflow": null,
       "overflow_x": null,
       "overflow_y": null,
       "padding": null,
       "right": null,
       "top": null,
       "visibility": null,
       "width": null
      }
     },
     "4cc78f07cbf54aaaad91dd5090eac3ab": {
      "model_module": "@jupyter-widgets/controls",
      "model_module_version": "1.5.0",
      "model_name": "DescriptionStyleModel",
      "state": {
       "_model_module": "@jupyter-widgets/controls",
       "_model_module_version": "1.5.0",
       "_model_name": "DescriptionStyleModel",
       "_view_count": null,
       "_view_module": "@jupyter-widgets/base",
       "_view_module_version": "1.2.0",
       "_view_name": "StyleView",
       "description_width": ""
      }
     },
     "4d53c08e66534ebe988aaa790dab12ab": {
      "model_module": "@jupyter-widgets/base",
      "model_module_version": "1.2.0",
      "model_name": "LayoutModel",
      "state": {
       "_model_module": "@jupyter-widgets/base",
       "_model_module_version": "1.2.0",
       "_model_name": "LayoutModel",
       "_view_count": null,
       "_view_module": "@jupyter-widgets/base",
       "_view_module_version": "1.2.0",
       "_view_name": "LayoutView",
       "align_content": null,
       "align_items": null,
       "align_self": null,
       "border": null,
       "bottom": null,
       "display": null,
       "flex": null,
       "flex_flow": null,
       "grid_area": null,
       "grid_auto_columns": null,
       "grid_auto_flow": null,
       "grid_auto_rows": null,
       "grid_column": null,
       "grid_gap": null,
       "grid_row": null,
       "grid_template_areas": null,
       "grid_template_columns": null,
       "grid_template_rows": null,
       "height": null,
       "justify_content": null,
       "justify_items": null,
       "left": null,
       "margin": null,
       "max_height": null,
       "max_width": null,
       "min_height": null,
       "min_width": null,
       "object_fit": null,
       "object_position": null,
       "order": null,
       "overflow": null,
       "overflow_x": null,
       "overflow_y": null,
       "padding": null,
       "right": null,
       "top": null,
       "visibility": null,
       "width": null
      }
     },
     "4e922b88144e411ab99837ae3fa52bcb": {
      "model_module": "@jupyter-widgets/base",
      "model_module_version": "1.2.0",
      "model_name": "LayoutModel",
      "state": {
       "_model_module": "@jupyter-widgets/base",
       "_model_module_version": "1.2.0",
       "_model_name": "LayoutModel",
       "_view_count": null,
       "_view_module": "@jupyter-widgets/base",
       "_view_module_version": "1.2.0",
       "_view_name": "LayoutView",
       "align_content": null,
       "align_items": null,
       "align_self": null,
       "border": null,
       "bottom": null,
       "display": null,
       "flex": null,
       "flex_flow": null,
       "grid_area": null,
       "grid_auto_columns": null,
       "grid_auto_flow": null,
       "grid_auto_rows": null,
       "grid_column": null,
       "grid_gap": null,
       "grid_row": null,
       "grid_template_areas": null,
       "grid_template_columns": null,
       "grid_template_rows": null,
       "height": null,
       "justify_content": null,
       "justify_items": null,
       "left": null,
       "margin": null,
       "max_height": null,
       "max_width": null,
       "min_height": null,
       "min_width": null,
       "object_fit": null,
       "object_position": null,
       "order": null,
       "overflow": null,
       "overflow_x": null,
       "overflow_y": null,
       "padding": null,
       "right": null,
       "top": null,
       "visibility": null,
       "width": null
      }
     },
     "4f0c7226b1584227b5742ef205f4581c": {
      "model_module": "@jupyter-widgets/controls",
      "model_module_version": "1.5.0",
      "model_name": "DescriptionStyleModel",
      "state": {
       "_model_module": "@jupyter-widgets/controls",
       "_model_module_version": "1.5.0",
       "_model_name": "DescriptionStyleModel",
       "_view_count": null,
       "_view_module": "@jupyter-widgets/base",
       "_view_module_version": "1.2.0",
       "_view_name": "StyleView",
       "description_width": ""
      }
     },
     "4f32b718102b4698a95d67d5ca954a2e": {
      "model_module": "@jupyter-widgets/base",
      "model_module_version": "1.2.0",
      "model_name": "LayoutModel",
      "state": {
       "_model_module": "@jupyter-widgets/base",
       "_model_module_version": "1.2.0",
       "_model_name": "LayoutModel",
       "_view_count": null,
       "_view_module": "@jupyter-widgets/base",
       "_view_module_version": "1.2.0",
       "_view_name": "LayoutView",
       "align_content": null,
       "align_items": null,
       "align_self": null,
       "border": null,
       "bottom": null,
       "display": null,
       "flex": null,
       "flex_flow": null,
       "grid_area": null,
       "grid_auto_columns": null,
       "grid_auto_flow": null,
       "grid_auto_rows": null,
       "grid_column": null,
       "grid_gap": null,
       "grid_row": null,
       "grid_template_areas": null,
       "grid_template_columns": null,
       "grid_template_rows": null,
       "height": null,
       "justify_content": null,
       "justify_items": null,
       "left": null,
       "margin": null,
       "max_height": null,
       "max_width": null,
       "min_height": null,
       "min_width": null,
       "object_fit": null,
       "object_position": null,
       "order": null,
       "overflow": null,
       "overflow_x": null,
       "overflow_y": null,
       "padding": null,
       "right": null,
       "top": null,
       "visibility": null,
       "width": null
      }
     },
     "50b77503f1e64644b003bc8a5da4b769": {
      "model_module": "@jupyter-widgets/base",
      "model_module_version": "1.2.0",
      "model_name": "LayoutModel",
      "state": {
       "_model_module": "@jupyter-widgets/base",
       "_model_module_version": "1.2.0",
       "_model_name": "LayoutModel",
       "_view_count": null,
       "_view_module": "@jupyter-widgets/base",
       "_view_module_version": "1.2.0",
       "_view_name": "LayoutView",
       "align_content": null,
       "align_items": null,
       "align_self": null,
       "border": null,
       "bottom": null,
       "display": null,
       "flex": null,
       "flex_flow": null,
       "grid_area": null,
       "grid_auto_columns": null,
       "grid_auto_flow": null,
       "grid_auto_rows": null,
       "grid_column": null,
       "grid_gap": null,
       "grid_row": null,
       "grid_template_areas": null,
       "grid_template_columns": null,
       "grid_template_rows": null,
       "height": null,
       "justify_content": null,
       "justify_items": null,
       "left": null,
       "margin": null,
       "max_height": null,
       "max_width": null,
       "min_height": null,
       "min_width": null,
       "object_fit": null,
       "object_position": null,
       "order": null,
       "overflow": null,
       "overflow_x": null,
       "overflow_y": null,
       "padding": null,
       "right": null,
       "top": null,
       "visibility": null,
       "width": null
      }
     },
     "512fd39a92684224a071cd5147e7f731": {
      "model_module": "@jupyter-widgets/controls",
      "model_module_version": "1.5.0",
      "model_name": "HBoxModel",
      "state": {
       "_dom_classes": [],
       "_model_module": "@jupyter-widgets/controls",
       "_model_module_version": "1.5.0",
       "_model_name": "HBoxModel",
       "_view_count": null,
       "_view_module": "@jupyter-widgets/controls",
       "_view_module_version": "1.5.0",
       "_view_name": "HBoxView",
       "box_style": "",
       "children": [
        "IPY_MODEL_6126d768e10f4821b15c3b66de5a4bca",
        "IPY_MODEL_13e497d7d9e04785a133a923948d0117",
        "IPY_MODEL_7e66052d986a41e58557188f9a1aa5da"
       ],
       "layout": "IPY_MODEL_880ba79011f243f3975f0dc5420b679a"
      }
     },
     "515aabd3ea4d47ddb0e3c6101681de83": {
      "model_module": "@jupyter-widgets/controls",
      "model_module_version": "1.5.0",
      "model_name": "HBoxModel",
      "state": {
       "_dom_classes": [],
       "_model_module": "@jupyter-widgets/controls",
       "_model_module_version": "1.5.0",
       "_model_name": "HBoxModel",
       "_view_count": null,
       "_view_module": "@jupyter-widgets/controls",
       "_view_module_version": "1.5.0",
       "_view_name": "HBoxView",
       "box_style": "",
       "children": [
        "IPY_MODEL_c0c8c3900a1a4dffa4f6313ddc5e99ad",
        "IPY_MODEL_aceb10ef9ecd45729acc9fe277a810e1",
        "IPY_MODEL_eae78773c21343fd96f2e5de97e9b4c5"
       ],
       "layout": "IPY_MODEL_9cfb2ba2de3e4dcb9b8950cbf94ea8db"
      }
     },
     "516e37b129e14c32bae05ed2fcbb2781": {
      "model_module": "@jupyter-widgets/controls",
      "model_module_version": "1.5.0",
      "model_name": "ProgressStyleModel",
      "state": {
       "_model_module": "@jupyter-widgets/controls",
       "_model_module_version": "1.5.0",
       "_model_name": "ProgressStyleModel",
       "_view_count": null,
       "_view_module": "@jupyter-widgets/base",
       "_view_module_version": "1.2.0",
       "_view_name": "StyleView",
       "bar_color": null,
       "description_width": ""
      }
     },
     "51a1baca8133486bb42654a0ef6489d6": {
      "model_module": "@jupyter-widgets/controls",
      "model_module_version": "1.5.0",
      "model_name": "DescriptionStyleModel",
      "state": {
       "_model_module": "@jupyter-widgets/controls",
       "_model_module_version": "1.5.0",
       "_model_name": "DescriptionStyleModel",
       "_view_count": null,
       "_view_module": "@jupyter-widgets/base",
       "_view_module_version": "1.2.0",
       "_view_name": "StyleView",
       "description_width": ""
      }
     },
     "5228137a9aaf466187eb09161031a1f7": {
      "model_module": "@jupyter-widgets/controls",
      "model_module_version": "1.5.0",
      "model_name": "ProgressStyleModel",
      "state": {
       "_model_module": "@jupyter-widgets/controls",
       "_model_module_version": "1.5.0",
       "_model_name": "ProgressStyleModel",
       "_view_count": null,
       "_view_module": "@jupyter-widgets/base",
       "_view_module_version": "1.2.0",
       "_view_name": "StyleView",
       "bar_color": null,
       "description_width": ""
      }
     },
     "5241829aa49142f09024892c1f014054": {
      "model_module": "@jupyter-widgets/controls",
      "model_module_version": "1.5.0",
      "model_name": "FloatProgressModel",
      "state": {
       "_dom_classes": [],
       "_model_module": "@jupyter-widgets/controls",
       "_model_module_version": "1.5.0",
       "_model_name": "FloatProgressModel",
       "_view_count": null,
       "_view_module": "@jupyter-widgets/controls",
       "_view_module_version": "1.5.0",
       "_view_name": "ProgressView",
       "bar_style": "success",
       "description": "",
       "description_tooltip": null,
       "layout": "IPY_MODEL_c4cc75ac09e6497fa41a15de361b925c",
       "max": 10,
       "min": 0,
       "orientation": "horizontal",
       "style": "IPY_MODEL_110b2b4543fd4ea382c5c573bf5578f3",
       "value": 10
      }
     },
     "52e983cc8217491b813377d90171c57d": {
      "model_module": "@jupyter-widgets/controls",
      "model_module_version": "1.5.0",
      "model_name": "ProgressStyleModel",
      "state": {
       "_model_module": "@jupyter-widgets/controls",
       "_model_module_version": "1.5.0",
       "_model_name": "ProgressStyleModel",
       "_view_count": null,
       "_view_module": "@jupyter-widgets/base",
       "_view_module_version": "1.2.0",
       "_view_name": "StyleView",
       "bar_color": null,
       "description_width": ""
      }
     },
     "52f27895b55c49859597cfc923a1366c": {
      "model_module": "@jupyter-widgets/controls",
      "model_module_version": "1.5.0",
      "model_name": "ProgressStyleModel",
      "state": {
       "_model_module": "@jupyter-widgets/controls",
       "_model_module_version": "1.5.0",
       "_model_name": "ProgressStyleModel",
       "_view_count": null,
       "_view_module": "@jupyter-widgets/base",
       "_view_module_version": "1.2.0",
       "_view_name": "StyleView",
       "bar_color": null,
       "description_width": ""
      }
     },
     "53044a0c791a4aabb0c0c6349149a412": {
      "model_module": "@jupyter-widgets/controls",
      "model_module_version": "1.5.0",
      "model_name": "ProgressStyleModel",
      "state": {
       "_model_module": "@jupyter-widgets/controls",
       "_model_module_version": "1.5.0",
       "_model_name": "ProgressStyleModel",
       "_view_count": null,
       "_view_module": "@jupyter-widgets/base",
       "_view_module_version": "1.2.0",
       "_view_name": "StyleView",
       "bar_color": null,
       "description_width": ""
      }
     },
     "530f1233ba9b49d586dff68ef6c09e55": {
      "model_module": "@jupyter-widgets/controls",
      "model_module_version": "1.5.0",
      "model_name": "FloatProgressModel",
      "state": {
       "_dom_classes": [],
       "_model_module": "@jupyter-widgets/controls",
       "_model_module_version": "1.5.0",
       "_model_name": "FloatProgressModel",
       "_view_count": null,
       "_view_module": "@jupyter-widgets/controls",
       "_view_module_version": "1.5.0",
       "_view_name": "ProgressView",
       "bar_style": "success",
       "description": "",
       "description_tooltip": null,
       "layout": "IPY_MODEL_94a2fb209d544fee8cdfb2ab78fe35c2",
       "max": 1,
       "min": 0,
       "orientation": "horizontal",
       "style": "IPY_MODEL_3f2de57dfda841e4bfcc6c1f3a9ae06f",
       "value": 1
      }
     },
     "55d6250c588b405090c9685440185276": {
      "model_module": "@jupyter-widgets/base",
      "model_module_version": "1.2.0",
      "model_name": "LayoutModel",
      "state": {
       "_model_module": "@jupyter-widgets/base",
       "_model_module_version": "1.2.0",
       "_model_name": "LayoutModel",
       "_view_count": null,
       "_view_module": "@jupyter-widgets/base",
       "_view_module_version": "1.2.0",
       "_view_name": "LayoutView",
       "align_content": null,
       "align_items": null,
       "align_self": null,
       "border": null,
       "bottom": null,
       "display": null,
       "flex": null,
       "flex_flow": null,
       "grid_area": null,
       "grid_auto_columns": null,
       "grid_auto_flow": null,
       "grid_auto_rows": null,
       "grid_column": null,
       "grid_gap": null,
       "grid_row": null,
       "grid_template_areas": null,
       "grid_template_columns": null,
       "grid_template_rows": null,
       "height": null,
       "justify_content": null,
       "justify_items": null,
       "left": null,
       "margin": null,
       "max_height": null,
       "max_width": null,
       "min_height": null,
       "min_width": null,
       "object_fit": null,
       "object_position": null,
       "order": null,
       "overflow": null,
       "overflow_x": null,
       "overflow_y": null,
       "padding": null,
       "right": null,
       "top": null,
       "visibility": null,
       "width": null
      }
     },
     "57d52b2d108b4a1095189aa5282b2758": {
      "model_module": "@jupyter-widgets/base",
      "model_module_version": "1.2.0",
      "model_name": "LayoutModel",
      "state": {
       "_model_module": "@jupyter-widgets/base",
       "_model_module_version": "1.2.0",
       "_model_name": "LayoutModel",
       "_view_count": null,
       "_view_module": "@jupyter-widgets/base",
       "_view_module_version": "1.2.0",
       "_view_name": "LayoutView",
       "align_content": null,
       "align_items": null,
       "align_self": null,
       "border": null,
       "bottom": null,
       "display": null,
       "flex": null,
       "flex_flow": null,
       "grid_area": null,
       "grid_auto_columns": null,
       "grid_auto_flow": null,
       "grid_auto_rows": null,
       "grid_column": null,
       "grid_gap": null,
       "grid_row": null,
       "grid_template_areas": null,
       "grid_template_columns": null,
       "grid_template_rows": null,
       "height": null,
       "justify_content": null,
       "justify_items": null,
       "left": null,
       "margin": null,
       "max_height": null,
       "max_width": null,
       "min_height": null,
       "min_width": null,
       "object_fit": null,
       "object_position": null,
       "order": null,
       "overflow": null,
       "overflow_x": null,
       "overflow_y": null,
       "padding": null,
       "right": null,
       "top": null,
       "visibility": null,
       "width": null
      }
     },
     "5899231d725e4ddaafd495a8e5bb8f66": {
      "model_module": "@jupyter-widgets/controls",
      "model_module_version": "1.5.0",
      "model_name": "ProgressStyleModel",
      "state": {
       "_model_module": "@jupyter-widgets/controls",
       "_model_module_version": "1.5.0",
       "_model_name": "ProgressStyleModel",
       "_view_count": null,
       "_view_module": "@jupyter-widgets/base",
       "_view_module_version": "1.2.0",
       "_view_name": "StyleView",
       "bar_color": null,
       "description_width": ""
      }
     },
     "58b418f10c00429e8c3f774aa1399aad": {
      "model_module": "@jupyter-widgets/controls",
      "model_module_version": "1.5.0",
      "model_name": "HTMLModel",
      "state": {
       "_dom_classes": [],
       "_model_module": "@jupyter-widgets/controls",
       "_model_module_version": "1.5.0",
       "_model_name": "HTMLModel",
       "_view_count": null,
       "_view_module": "@jupyter-widgets/controls",
       "_view_module_version": "1.5.0",
       "_view_name": "HTMLView",
       "description": "",
       "description_tooltip": null,
       "layout": "IPY_MODEL_57d52b2d108b4a1095189aa5282b2758",
       "placeholder": "​",
       "style": "IPY_MODEL_c6e002ffd4014b699c7d6978ff9a0c6a",
       "value": "Casting the dataset: 100%"
      }
     },
     "58fc4950e1ff498ca131683d55312ccf": {
      "model_module": "@jupyter-widgets/controls",
      "model_module_version": "1.5.0",
      "model_name": "HBoxModel",
      "state": {
       "_dom_classes": [],
       "_model_module": "@jupyter-widgets/controls",
       "_model_module_version": "1.5.0",
       "_model_name": "HBoxModel",
       "_view_count": null,
       "_view_module": "@jupyter-widgets/controls",
       "_view_module_version": "1.5.0",
       "_view_name": "HBoxView",
       "box_style": "",
       "children": [
        "IPY_MODEL_1894746837714a28a261b3a063c0c7dc",
        "IPY_MODEL_20184b9e63d74c9c9452b42005f94619",
        "IPY_MODEL_b08e146563d54ad38ac56bfcb4c89b95"
       ],
       "layout": "IPY_MODEL_20acabacc4724636b71e4545c9337607"
      }
     },
     "593a47ec48c74d339eb0d13318b6c750": {
      "model_module": "@jupyter-widgets/base",
      "model_module_version": "1.2.0",
      "model_name": "LayoutModel",
      "state": {
       "_model_module": "@jupyter-widgets/base",
       "_model_module_version": "1.2.0",
       "_model_name": "LayoutModel",
       "_view_count": null,
       "_view_module": "@jupyter-widgets/base",
       "_view_module_version": "1.2.0",
       "_view_name": "LayoutView",
       "align_content": null,
       "align_items": null,
       "align_self": null,
       "border": null,
       "bottom": null,
       "display": null,
       "flex": null,
       "flex_flow": null,
       "grid_area": null,
       "grid_auto_columns": null,
       "grid_auto_flow": null,
       "grid_auto_rows": null,
       "grid_column": null,
       "grid_gap": null,
       "grid_row": null,
       "grid_template_areas": null,
       "grid_template_columns": null,
       "grid_template_rows": null,
       "height": null,
       "justify_content": null,
       "justify_items": null,
       "left": null,
       "margin": null,
       "max_height": null,
       "max_width": null,
       "min_height": null,
       "min_width": null,
       "object_fit": null,
       "object_position": null,
       "order": null,
       "overflow": null,
       "overflow_x": null,
       "overflow_y": null,
       "padding": null,
       "right": null,
       "top": null,
       "visibility": null,
       "width": null
      }
     },
     "594d234a006043f585688a7a96e1784d": {
      "model_module": "@jupyter-widgets/base",
      "model_module_version": "1.2.0",
      "model_name": "LayoutModel",
      "state": {
       "_model_module": "@jupyter-widgets/base",
       "_model_module_version": "1.2.0",
       "_model_name": "LayoutModel",
       "_view_count": null,
       "_view_module": "@jupyter-widgets/base",
       "_view_module_version": "1.2.0",
       "_view_name": "LayoutView",
       "align_content": null,
       "align_items": null,
       "align_self": null,
       "border": null,
       "bottom": null,
       "display": null,
       "flex": null,
       "flex_flow": null,
       "grid_area": null,
       "grid_auto_columns": null,
       "grid_auto_flow": null,
       "grid_auto_rows": null,
       "grid_column": null,
       "grid_gap": null,
       "grid_row": null,
       "grid_template_areas": null,
       "grid_template_columns": null,
       "grid_template_rows": null,
       "height": null,
       "justify_content": null,
       "justify_items": null,
       "left": null,
       "margin": null,
       "max_height": null,
       "max_width": null,
       "min_height": null,
       "min_width": null,
       "object_fit": null,
       "object_position": null,
       "order": null,
       "overflow": null,
       "overflow_x": null,
       "overflow_y": null,
       "padding": null,
       "right": null,
       "top": null,
       "visibility": null,
       "width": null
      }
     },
     "596d44f91ee245508585be5587fcc4ee": {
      "model_module": "@jupyter-widgets/base",
      "model_module_version": "1.2.0",
      "model_name": "LayoutModel",
      "state": {
       "_model_module": "@jupyter-widgets/base",
       "_model_module_version": "1.2.0",
       "_model_name": "LayoutModel",
       "_view_count": null,
       "_view_module": "@jupyter-widgets/base",
       "_view_module_version": "1.2.0",
       "_view_name": "LayoutView",
       "align_content": null,
       "align_items": null,
       "align_self": null,
       "border": null,
       "bottom": null,
       "display": null,
       "flex": null,
       "flex_flow": null,
       "grid_area": null,
       "grid_auto_columns": null,
       "grid_auto_flow": null,
       "grid_auto_rows": null,
       "grid_column": null,
       "grid_gap": null,
       "grid_row": null,
       "grid_template_areas": null,
       "grid_template_columns": null,
       "grid_template_rows": null,
       "height": null,
       "justify_content": null,
       "justify_items": null,
       "left": null,
       "margin": null,
       "max_height": null,
       "max_width": null,
       "min_height": null,
       "min_width": null,
       "object_fit": null,
       "object_position": null,
       "order": null,
       "overflow": null,
       "overflow_x": null,
       "overflow_y": null,
       "padding": null,
       "right": null,
       "top": null,
       "visibility": null,
       "width": null
      }
     },
     "5a7b6e87bada48da9ea9b7060b0b800e": {
      "model_module": "@jupyter-widgets/controls",
      "model_module_version": "1.5.0",
      "model_name": "ProgressStyleModel",
      "state": {
       "_model_module": "@jupyter-widgets/controls",
       "_model_module_version": "1.5.0",
       "_model_name": "ProgressStyleModel",
       "_view_count": null,
       "_view_module": "@jupyter-widgets/base",
       "_view_module_version": "1.2.0",
       "_view_name": "StyleView",
       "bar_color": null,
       "description_width": ""
      }
     },
     "5c35c9fee7874a2bad6d5bb48230fe0f": {
      "model_module": "@jupyter-widgets/controls",
      "model_module_version": "1.5.0",
      "model_name": "HTMLModel",
      "state": {
       "_dom_classes": [],
       "_model_module": "@jupyter-widgets/controls",
       "_model_module_version": "1.5.0",
       "_model_name": "HTMLModel",
       "_view_count": null,
       "_view_module": "@jupyter-widgets/controls",
       "_view_module_version": "1.5.0",
       "_view_name": "HTMLView",
       "description": "",
       "description_tooltip": null,
       "layout": "IPY_MODEL_8e16a3d3ba93455990d0b225a0c0d9c6",
       "placeholder": "​",
       "style": "IPY_MODEL_1ab9416f7b234f2fac4014a7821cdc5a",
       "value": " 28/28 [03:08&lt;00:00,  5.31s/ba]"
      }
     },
     "5c3a87b62ae849cc9866ca9a9ef5f7b4": {
      "model_module": "@jupyter-widgets/controls",
      "model_module_version": "1.5.0",
      "model_name": "HTMLModel",
      "state": {
       "_dom_classes": [],
       "_model_module": "@jupyter-widgets/controls",
       "_model_module_version": "1.5.0",
       "_model_name": "HTMLModel",
       "_view_count": null,
       "_view_module": "@jupyter-widgets/controls",
       "_view_module_version": "1.5.0",
       "_view_name": "HTMLView",
       "description": "",
       "description_tooltip": null,
       "layout": "IPY_MODEL_bc4cee8993c64b70a2d5fe36feea8102",
       "placeholder": "​",
       "style": "IPY_MODEL_9f0da113ff964bf99cbab654b45e81b1",
       "value": " 1/1 [00:00&lt;00:00, 13.07ba/s]"
      }
     },
     "5e8ab66a76ea483cbb15776c74deab18": {
      "model_module": "@jupyter-widgets/controls",
      "model_module_version": "1.5.0",
      "model_name": "HTMLModel",
      "state": {
       "_dom_classes": [],
       "_model_module": "@jupyter-widgets/controls",
       "_model_module_version": "1.5.0",
       "_model_name": "HTMLModel",
       "_view_count": null,
       "_view_module": "@jupyter-widgets/controls",
       "_view_module_version": "1.5.0",
       "_view_name": "HTMLView",
       "description": "",
       "description_tooltip": null,
       "layout": "IPY_MODEL_9daab76a23b0444b855285d8c4ff9550",
       "placeholder": "​",
       "style": "IPY_MODEL_b4d8ef9d570c4a069ea517aadb3db813",
       "value": "100%"
      }
     },
     "610a697c2b2c4a8ca895bcee288192d8": {
      "model_module": "@jupyter-widgets/controls",
      "model_module_version": "1.5.0",
      "model_name": "DescriptionStyleModel",
      "state": {
       "_model_module": "@jupyter-widgets/controls",
       "_model_module_version": "1.5.0",
       "_model_name": "DescriptionStyleModel",
       "_view_count": null,
       "_view_module": "@jupyter-widgets/base",
       "_view_module_version": "1.2.0",
       "_view_name": "StyleView",
       "description_width": ""
      }
     },
     "6126d768e10f4821b15c3b66de5a4bca": {
      "model_module": "@jupyter-widgets/controls",
      "model_module_version": "1.5.0",
      "model_name": "HTMLModel",
      "state": {
       "_dom_classes": [],
       "_model_module": "@jupyter-widgets/controls",
       "_model_module_version": "1.5.0",
       "_model_name": "HTMLModel",
       "_view_count": null,
       "_view_module": "@jupyter-widgets/controls",
       "_view_module_version": "1.5.0",
       "_view_name": "HTMLView",
       "description": "",
       "description_tooltip": null,
       "layout": "IPY_MODEL_7ed396a9638842a7993ffc5b3fe449e1",
       "placeholder": "​",
       "style": "IPY_MODEL_0d42b5607d83419788ce84675a1e880e",
       "value": "100%"
      }
     },
     "626228eda616413098f7bd79d3a5c24a": {
      "model_module": "@jupyter-widgets/controls",
      "model_module_version": "1.5.0",
      "model_name": "FloatProgressModel",
      "state": {
       "_dom_classes": [],
       "_model_module": "@jupyter-widgets/controls",
       "_model_module_version": "1.5.0",
       "_model_name": "FloatProgressModel",
       "_view_count": null,
       "_view_module": "@jupyter-widgets/controls",
       "_view_module_version": "1.5.0",
       "_view_name": "ProgressView",
       "bar_style": "success",
       "description": "",
       "description_tooltip": null,
       "layout": "IPY_MODEL_0a3d461aa1664e7ea66d0578bc564595",
       "max": 3,
       "min": 0,
       "orientation": "horizontal",
       "style": "IPY_MODEL_33030dd7662a41c3a4f754f40567601e",
       "value": 3
      }
     },
     "6284739d9f0d4f26a6821d1bdf624358": {
      "model_module": "@jupyter-widgets/controls",
      "model_module_version": "1.5.0",
      "model_name": "HBoxModel",
      "state": {
       "_dom_classes": [],
       "_model_module": "@jupyter-widgets/controls",
       "_model_module_version": "1.5.0",
       "_model_name": "HBoxModel",
       "_view_count": null,
       "_view_module": "@jupyter-widgets/controls",
       "_view_module_version": "1.5.0",
       "_view_name": "HBoxView",
       "box_style": "",
       "children": [
        "IPY_MODEL_9d5b6894f17845e1b02bc16d48e3c32f",
        "IPY_MODEL_5241829aa49142f09024892c1f014054",
        "IPY_MODEL_799c2c000243481c8c54ea37172d0f2d"
       ],
       "layout": "IPY_MODEL_dfa5ae9e6937454daf6a10522cf50710"
      }
     },
     "62d5422655e745149d5b9b22b63ddd7f": {
      "model_module": "@jupyter-widgets/controls",
      "model_module_version": "1.5.0",
      "model_name": "ProgressStyleModel",
      "state": {
       "_model_module": "@jupyter-widgets/controls",
       "_model_module_version": "1.5.0",
       "_model_name": "ProgressStyleModel",
       "_view_count": null,
       "_view_module": "@jupyter-widgets/base",
       "_view_module_version": "1.2.0",
       "_view_name": "StyleView",
       "bar_color": null,
       "description_width": ""
      }
     },
     "62d9140a550747708a678f9d7e7399d0": {
      "model_module": "@jupyter-widgets/controls",
      "model_module_version": "1.5.0",
      "model_name": "HTMLModel",
      "state": {
       "_dom_classes": [],
       "_model_module": "@jupyter-widgets/controls",
       "_model_module_version": "1.5.0",
       "_model_name": "HTMLModel",
       "_view_count": null,
       "_view_module": "@jupyter-widgets/controls",
       "_view_module_version": "1.5.0",
       "_view_name": "HTMLView",
       "description": "",
       "description_tooltip": null,
       "layout": "IPY_MODEL_07ed49ae82074278a9199924e1df67b9",
       "placeholder": "​",
       "style": "IPY_MODEL_c053d6d7b3aa436497b5fe220efba302",
       "value": "Casting the dataset: 100%"
      }
     },
     "638c66a59ea34c2080382db1354e1c64": {
      "model_module": "@jupyter-widgets/base",
      "model_module_version": "1.2.0",
      "model_name": "LayoutModel",
      "state": {
       "_model_module": "@jupyter-widgets/base",
       "_model_module_version": "1.2.0",
       "_model_name": "LayoutModel",
       "_view_count": null,
       "_view_module": "@jupyter-widgets/base",
       "_view_module_version": "1.2.0",
       "_view_name": "LayoutView",
       "align_content": null,
       "align_items": null,
       "align_self": null,
       "border": null,
       "bottom": null,
       "display": null,
       "flex": null,
       "flex_flow": null,
       "grid_area": null,
       "grid_auto_columns": null,
       "grid_auto_flow": null,
       "grid_auto_rows": null,
       "grid_column": null,
       "grid_gap": null,
       "grid_row": null,
       "grid_template_areas": null,
       "grid_template_columns": null,
       "grid_template_rows": null,
       "height": null,
       "justify_content": null,
       "justify_items": null,
       "left": null,
       "margin": null,
       "max_height": null,
       "max_width": null,
       "min_height": null,
       "min_width": null,
       "object_fit": null,
       "object_position": null,
       "order": null,
       "overflow": null,
       "overflow_x": null,
       "overflow_y": null,
       "padding": null,
       "right": null,
       "top": null,
       "visibility": null,
       "width": null
      }
     },
     "666b55bb6d854eb1a59119a6ece8af7b": {
      "model_module": "@jupyter-widgets/controls",
      "model_module_version": "1.5.0",
      "model_name": "ProgressStyleModel",
      "state": {
       "_model_module": "@jupyter-widgets/controls",
       "_model_module_version": "1.5.0",
       "_model_name": "ProgressStyleModel",
       "_view_count": null,
       "_view_module": "@jupyter-widgets/base",
       "_view_module_version": "1.2.0",
       "_view_name": "StyleView",
       "bar_color": null,
       "description_width": ""
      }
     },
     "68375f41ee334f8e802eb59da93a3c3d": {
      "model_module": "@jupyter-widgets/base",
      "model_module_version": "1.2.0",
      "model_name": "LayoutModel",
      "state": {
       "_model_module": "@jupyter-widgets/base",
       "_model_module_version": "1.2.0",
       "_model_name": "LayoutModel",
       "_view_count": null,
       "_view_module": "@jupyter-widgets/base",
       "_view_module_version": "1.2.0",
       "_view_name": "LayoutView",
       "align_content": null,
       "align_items": null,
       "align_self": null,
       "border": null,
       "bottom": null,
       "display": null,
       "flex": null,
       "flex_flow": null,
       "grid_area": null,
       "grid_auto_columns": null,
       "grid_auto_flow": null,
       "grid_auto_rows": null,
       "grid_column": null,
       "grid_gap": null,
       "grid_row": null,
       "grid_template_areas": null,
       "grid_template_columns": null,
       "grid_template_rows": null,
       "height": null,
       "justify_content": null,
       "justify_items": null,
       "left": null,
       "margin": null,
       "max_height": null,
       "max_width": null,
       "min_height": null,
       "min_width": null,
       "object_fit": null,
       "object_position": null,
       "order": null,
       "overflow": null,
       "overflow_x": null,
       "overflow_y": null,
       "padding": null,
       "right": null,
       "top": null,
       "visibility": null,
       "width": null
      }
     },
     "6897dd97aea3405091b733ee530f4637": {
      "model_module": "@jupyter-widgets/controls",
      "model_module_version": "1.5.0",
      "model_name": "DescriptionStyleModel",
      "state": {
       "_model_module": "@jupyter-widgets/controls",
       "_model_module_version": "1.5.0",
       "_model_name": "DescriptionStyleModel",
       "_view_count": null,
       "_view_module": "@jupyter-widgets/base",
       "_view_module_version": "1.2.0",
       "_view_name": "StyleView",
       "description_width": ""
      }
     },
     "6972d89ee6194c3a902d4714a9a6bf7b": {
      "model_module": "@jupyter-widgets/controls",
      "model_module_version": "1.5.0",
      "model_name": "DescriptionStyleModel",
      "state": {
       "_model_module": "@jupyter-widgets/controls",
       "_model_module_version": "1.5.0",
       "_model_name": "DescriptionStyleModel",
       "_view_count": null,
       "_view_module": "@jupyter-widgets/base",
       "_view_module_version": "1.2.0",
       "_view_name": "StyleView",
       "description_width": ""
      }
     },
     "698b9b800c8c45c68bf5e0c918305fe8": {
      "model_module": "@jupyter-widgets/base",
      "model_module_version": "1.2.0",
      "model_name": "LayoutModel",
      "state": {
       "_model_module": "@jupyter-widgets/base",
       "_model_module_version": "1.2.0",
       "_model_name": "LayoutModel",
       "_view_count": null,
       "_view_module": "@jupyter-widgets/base",
       "_view_module_version": "1.2.0",
       "_view_name": "LayoutView",
       "align_content": null,
       "align_items": null,
       "align_self": null,
       "border": null,
       "bottom": null,
       "display": null,
       "flex": null,
       "flex_flow": null,
       "grid_area": null,
       "grid_auto_columns": null,
       "grid_auto_flow": null,
       "grid_auto_rows": null,
       "grid_column": null,
       "grid_gap": null,
       "grid_row": null,
       "grid_template_areas": null,
       "grid_template_columns": null,
       "grid_template_rows": null,
       "height": null,
       "justify_content": null,
       "justify_items": null,
       "left": null,
       "margin": null,
       "max_height": null,
       "max_width": null,
       "min_height": null,
       "min_width": null,
       "object_fit": null,
       "object_position": null,
       "order": null,
       "overflow": null,
       "overflow_x": null,
       "overflow_y": null,
       "padding": null,
       "right": null,
       "top": null,
       "visibility": null,
       "width": null
      }
     },
     "69a96ca0b74e4723a342a7b8f8cac269": {
      "model_module": "@jupyter-widgets/controls",
      "model_module_version": "1.5.0",
      "model_name": "DescriptionStyleModel",
      "state": {
       "_model_module": "@jupyter-widgets/controls",
       "_model_module_version": "1.5.0",
       "_model_name": "DescriptionStyleModel",
       "_view_count": null,
       "_view_module": "@jupyter-widgets/base",
       "_view_module_version": "1.2.0",
       "_view_name": "StyleView",
       "description_width": ""
      }
     },
     "6b317cd7df684d42a4c0c08d89ad6fe8": {
      "model_module": "@jupyter-widgets/base",
      "model_module_version": "1.2.0",
      "model_name": "LayoutModel",
      "state": {
       "_model_module": "@jupyter-widgets/base",
       "_model_module_version": "1.2.0",
       "_model_name": "LayoutModel",
       "_view_count": null,
       "_view_module": "@jupyter-widgets/base",
       "_view_module_version": "1.2.0",
       "_view_name": "LayoutView",
       "align_content": null,
       "align_items": null,
       "align_self": null,
       "border": null,
       "bottom": null,
       "display": null,
       "flex": null,
       "flex_flow": null,
       "grid_area": null,
       "grid_auto_columns": null,
       "grid_auto_flow": null,
       "grid_auto_rows": null,
       "grid_column": null,
       "grid_gap": null,
       "grid_row": null,
       "grid_template_areas": null,
       "grid_template_columns": null,
       "grid_template_rows": null,
       "height": null,
       "justify_content": null,
       "justify_items": null,
       "left": null,
       "margin": null,
       "max_height": null,
       "max_width": null,
       "min_height": null,
       "min_width": null,
       "object_fit": null,
       "object_position": null,
       "order": null,
       "overflow": null,
       "overflow_x": null,
       "overflow_y": null,
       "padding": null,
       "right": null,
       "top": null,
       "visibility": null,
       "width": null
      }
     },
     "6b366b1a68884ca188430fd9f0a990e1": {
      "model_module": "@jupyter-widgets/controls",
      "model_module_version": "1.5.0",
      "model_name": "HTMLModel",
      "state": {
       "_dom_classes": [],
       "_model_module": "@jupyter-widgets/controls",
       "_model_module_version": "1.5.0",
       "_model_name": "HTMLModel",
       "_view_count": null,
       "_view_module": "@jupyter-widgets/controls",
       "_view_module_version": "1.5.0",
       "_view_name": "HTMLView",
       "description": "",
       "description_tooltip": null,
       "layout": "IPY_MODEL_96b9d57a337d41ea9e7ea4e2fefd605b",
       "placeholder": "​",
       "style": "IPY_MODEL_06431b847e8f404bb0ddf9d2d46b7684",
       "value": "Casting to class labels: 100%"
      }
     },
     "6b6d4148a63142e48378a93f98b22945": {
      "model_module": "@jupyter-widgets/controls",
      "model_module_version": "1.5.0",
      "model_name": "FloatProgressModel",
      "state": {
       "_dom_classes": [],
       "_model_module": "@jupyter-widgets/controls",
       "_model_module_version": "1.5.0",
       "_model_name": "FloatProgressModel",
       "_view_count": null,
       "_view_module": "@jupyter-widgets/controls",
       "_view_module_version": "1.5.0",
       "_view_name": "ProgressView",
       "bar_style": "success",
       "description": "",
       "description_tooltip": null,
       "layout": "IPY_MODEL_2f65ca2d2e534b54a9b234524b13a4b1",
       "max": 1411,
       "min": 0,
       "orientation": "horizontal",
       "style": "IPY_MODEL_c8bff406c63b4771bac38aee2e93b1ce",
       "value": 1411
      }
     },
     "6d797877e82a4ca78b2ebafa51201b1a": {
      "model_module": "@jupyter-widgets/controls",
      "model_module_version": "1.5.0",
      "model_name": "HBoxModel",
      "state": {
       "_dom_classes": [],
       "_model_module": "@jupyter-widgets/controls",
       "_model_module_version": "1.5.0",
       "_model_name": "HBoxModel",
       "_view_count": null,
       "_view_module": "@jupyter-widgets/controls",
       "_view_module_version": "1.5.0",
       "_view_name": "HBoxView",
       "box_style": "",
       "children": [
        "IPY_MODEL_48b80d4289804771b89079cb6018908f",
        "IPY_MODEL_d019df9bf3f943f7b783e81a4cd3c3cd",
        "IPY_MODEL_e1d3f8eb114f4e57862b9b1d121a2c70"
       ],
       "layout": "IPY_MODEL_698b9b800c8c45c68bf5e0c918305fe8"
      }
     },
     "6dfa9de1e81a4c4a86c22812297c32e4": {
      "model_module": "@jupyter-widgets/base",
      "model_module_version": "1.2.0",
      "model_name": "LayoutModel",
      "state": {
       "_model_module": "@jupyter-widgets/base",
       "_model_module_version": "1.2.0",
       "_model_name": "LayoutModel",
       "_view_count": null,
       "_view_module": "@jupyter-widgets/base",
       "_view_module_version": "1.2.0",
       "_view_name": "LayoutView",
       "align_content": null,
       "align_items": null,
       "align_self": null,
       "border": null,
       "bottom": null,
       "display": null,
       "flex": null,
       "flex_flow": null,
       "grid_area": null,
       "grid_auto_columns": null,
       "grid_auto_flow": null,
       "grid_auto_rows": null,
       "grid_column": null,
       "grid_gap": null,
       "grid_row": null,
       "grid_template_areas": null,
       "grid_template_columns": null,
       "grid_template_rows": null,
       "height": null,
       "justify_content": null,
       "justify_items": null,
       "left": null,
       "margin": null,
       "max_height": null,
       "max_width": null,
       "min_height": null,
       "min_width": null,
       "object_fit": null,
       "object_position": null,
       "order": null,
       "overflow": null,
       "overflow_x": null,
       "overflow_y": null,
       "padding": null,
       "right": null,
       "top": null,
       "visibility": null,
       "width": null
      }
     },
     "6e9d37af95f340799e76120f59c84353": {
      "model_module": "@jupyter-widgets/controls",
      "model_module_version": "1.5.0",
      "model_name": "FloatProgressModel",
      "state": {
       "_dom_classes": [],
       "_model_module": "@jupyter-widgets/controls",
       "_model_module_version": "1.5.0",
       "_model_name": "FloatProgressModel",
       "_view_count": null,
       "_view_module": "@jupyter-widgets/controls",
       "_view_module_version": "1.5.0",
       "_view_name": "ProgressView",
       "bar_style": "success",
       "description": "",
       "description_tooltip": null,
       "layout": "IPY_MODEL_81a8cb10586143a19dd58b0dc28b80b4",
       "max": 28,
       "min": 0,
       "orientation": "horizontal",
       "style": "IPY_MODEL_d1d85bc21b8e4c56be194269342ba51f",
       "value": 28
      }
     },
     "6f08abdf454142cf885b30d1777d8e9e": {
      "model_module": "@jupyter-widgets/controls",
      "model_module_version": "1.5.0",
      "model_name": "FloatProgressModel",
      "state": {
       "_dom_classes": [],
       "_model_module": "@jupyter-widgets/controls",
       "_model_module_version": "1.5.0",
       "_model_name": "FloatProgressModel",
       "_view_count": null,
       "_view_module": "@jupyter-widgets/controls",
       "_view_module_version": "1.5.0",
       "_view_name": "ProgressView",
       "bar_style": "success",
       "description": "",
       "description_tooltip": null,
       "layout": "IPY_MODEL_73dfa404b60c4a44b73503f66c3e318d",
       "max": 2464616,
       "min": 0,
       "orientation": "horizontal",
       "style": "IPY_MODEL_c11247a93a67476ab47f7efc1e72accf",
       "value": 2464616
      }
     },
     "6f677f107c5c41d6bd4a808bc4411204": {
      "model_module": "@jupyter-widgets/base",
      "model_module_version": "1.2.0",
      "model_name": "LayoutModel",
      "state": {
       "_model_module": "@jupyter-widgets/base",
       "_model_module_version": "1.2.0",
       "_model_name": "LayoutModel",
       "_view_count": null,
       "_view_module": "@jupyter-widgets/base",
       "_view_module_version": "1.2.0",
       "_view_name": "LayoutView",
       "align_content": null,
       "align_items": null,
       "align_self": null,
       "border": null,
       "bottom": null,
       "display": null,
       "flex": null,
       "flex_flow": null,
       "grid_area": null,
       "grid_auto_columns": null,
       "grid_auto_flow": null,
       "grid_auto_rows": null,
       "grid_column": null,
       "grid_gap": null,
       "grid_row": null,
       "grid_template_areas": null,
       "grid_template_columns": null,
       "grid_template_rows": null,
       "height": null,
       "justify_content": null,
       "justify_items": null,
       "left": null,
       "margin": null,
       "max_height": null,
       "max_width": null,
       "min_height": null,
       "min_width": null,
       "object_fit": null,
       "object_position": null,
       "order": null,
       "overflow": null,
       "overflow_x": null,
       "overflow_y": null,
       "padding": null,
       "right": null,
       "top": null,
       "visibility": null,
       "width": null
      }
     },
     "7096632cb6ae43a5b2fdb15bb4660b58": {
      "model_module": "@jupyter-widgets/controls",
      "model_module_version": "1.5.0",
      "model_name": "FloatProgressModel",
      "state": {
       "_dom_classes": [],
       "_model_module": "@jupyter-widgets/controls",
       "_model_module_version": "1.5.0",
       "_model_name": "FloatProgressModel",
       "_view_count": null,
       "_view_module": "@jupyter-widgets/controls",
       "_view_module_version": "1.5.0",
       "_view_name": "ProgressView",
       "bar_style": "success",
       "description": "",
       "description_tooltip": null,
       "layout": "IPY_MODEL_4f32b718102b4698a95d67d5ca954a2e",
       "max": 1,
       "min": 0,
       "orientation": "horizontal",
       "style": "IPY_MODEL_52e983cc8217491b813377d90171c57d",
       "value": 1
      }
     },
     "7138eab00b584233819b25e247be9b3e": {
      "model_module": "@jupyter-widgets/controls",
      "model_module_version": "1.5.0",
      "model_name": "HBoxModel",
      "state": {
       "_dom_classes": [],
       "_model_module": "@jupyter-widgets/controls",
       "_model_module_version": "1.5.0",
       "_model_name": "HBoxModel",
       "_view_count": null,
       "_view_module": "@jupyter-widgets/controls",
       "_view_module_version": "1.5.0",
       "_view_name": "HBoxView",
       "box_style": "",
       "children": [
        "IPY_MODEL_a6bd93a3816f41d0b24877b622e47a16",
        "IPY_MODEL_af2f9d8bec1e4d23b43179f026840138",
        "IPY_MODEL_e3600d4ef24548ceb50d8a7ac2921d4b"
       ],
       "layout": "IPY_MODEL_28ec925d43ce461ab0ad7fbda5e53034"
      }
     },
     "714b2e08e0c245d59459b916d7e34451": {
      "model_module": "@jupyter-widgets/controls",
      "model_module_version": "1.5.0",
      "model_name": "HBoxModel",
      "state": {
       "_dom_classes": [],
       "_model_module": "@jupyter-widgets/controls",
       "_model_module_version": "1.5.0",
       "_model_name": "HBoxModel",
       "_view_count": null,
       "_view_module": "@jupyter-widgets/controls",
       "_view_module_version": "1.5.0",
       "_view_name": "HBoxView",
       "box_style": "",
       "children": [
        "IPY_MODEL_c9ec132fd0954ffc98b3ac78acfe9693",
        "IPY_MODEL_26b64141edfc45a6a15c650124712a16",
        "IPY_MODEL_b1ea3e266cfc4f7fa09fb63900b42000"
       ],
       "layout": "IPY_MODEL_41088694e0ae4d7195245f15f6b3018f"
      }
     },
     "71e096c16725402d9078d9c165ff7955": {
      "model_module": "@jupyter-widgets/controls",
      "model_module_version": "1.5.0",
      "model_name": "HTMLModel",
      "state": {
       "_dom_classes": [],
       "_model_module": "@jupyter-widgets/controls",
       "_model_module_version": "1.5.0",
       "_model_name": "HTMLModel",
       "_view_count": null,
       "_view_module": "@jupyter-widgets/controls",
       "_view_module_version": "1.5.0",
       "_view_name": "HTMLView",
       "description": "",
       "description_tooltip": null,
       "layout": "IPY_MODEL_a192e61705c4495bbc12918dc5fa1301",
       "placeholder": "​",
       "style": "IPY_MODEL_75bfe43744014caeb6a3b5d840b792e1",
       "value": "Casting the dataset: 100%"
      }
     },
     "72af849a692942c89f8a4b4f0cd33667": {
      "model_module": "@jupyter-widgets/base",
      "model_module_version": "1.2.0",
      "model_name": "LayoutModel",
      "state": {
       "_model_module": "@jupyter-widgets/base",
       "_model_module_version": "1.2.0",
       "_model_name": "LayoutModel",
       "_view_count": null,
       "_view_module": "@jupyter-widgets/base",
       "_view_module_version": "1.2.0",
       "_view_name": "LayoutView",
       "align_content": null,
       "align_items": null,
       "align_self": null,
       "border": null,
       "bottom": null,
       "display": null,
       "flex": null,
       "flex_flow": null,
       "grid_area": null,
       "grid_auto_columns": null,
       "grid_auto_flow": null,
       "grid_auto_rows": null,
       "grid_column": null,
       "grid_gap": null,
       "grid_row": null,
       "grid_template_areas": null,
       "grid_template_columns": null,
       "grid_template_rows": null,
       "height": null,
       "justify_content": null,
       "justify_items": null,
       "left": null,
       "margin": null,
       "max_height": null,
       "max_width": null,
       "min_height": null,
       "min_width": null,
       "object_fit": null,
       "object_position": null,
       "order": null,
       "overflow": null,
       "overflow_x": null,
       "overflow_y": null,
       "padding": null,
       "right": null,
       "top": null,
       "visibility": null,
       "width": null
      }
     },
     "73414cbeae914900a07d7fc49f0f308f": {
      "model_module": "@jupyter-widgets/base",
      "model_module_version": "1.2.0",
      "model_name": "LayoutModel",
      "state": {
       "_model_module": "@jupyter-widgets/base",
       "_model_module_version": "1.2.0",
       "_model_name": "LayoutModel",
       "_view_count": null,
       "_view_module": "@jupyter-widgets/base",
       "_view_module_version": "1.2.0",
       "_view_name": "LayoutView",
       "align_content": null,
       "align_items": null,
       "align_self": null,
       "border": null,
       "bottom": null,
       "display": null,
       "flex": null,
       "flex_flow": null,
       "grid_area": null,
       "grid_auto_columns": null,
       "grid_auto_flow": null,
       "grid_auto_rows": null,
       "grid_column": null,
       "grid_gap": null,
       "grid_row": null,
       "grid_template_areas": null,
       "grid_template_columns": null,
       "grid_template_rows": null,
       "height": null,
       "justify_content": null,
       "justify_items": null,
       "left": null,
       "margin": null,
       "max_height": null,
       "max_width": null,
       "min_height": null,
       "min_width": null,
       "object_fit": null,
       "object_position": null,
       "order": null,
       "overflow": null,
       "overflow_x": null,
       "overflow_y": null,
       "padding": null,
       "right": null,
       "top": null,
       "visibility": null,
       "width": null
      }
     },
     "739cc48a87c049a593fad4567d81096e": {
      "model_module": "@jupyter-widgets/base",
      "model_module_version": "1.2.0",
      "model_name": "LayoutModel",
      "state": {
       "_model_module": "@jupyter-widgets/base",
       "_model_module_version": "1.2.0",
       "_model_name": "LayoutModel",
       "_view_count": null,
       "_view_module": "@jupyter-widgets/base",
       "_view_module_version": "1.2.0",
       "_view_name": "LayoutView",
       "align_content": null,
       "align_items": null,
       "align_self": null,
       "border": null,
       "bottom": null,
       "display": null,
       "flex": null,
       "flex_flow": null,
       "grid_area": null,
       "grid_auto_columns": null,
       "grid_auto_flow": null,
       "grid_auto_rows": null,
       "grid_column": null,
       "grid_gap": null,
       "grid_row": null,
       "grid_template_areas": null,
       "grid_template_columns": null,
       "grid_template_rows": null,
       "height": null,
       "justify_content": null,
       "justify_items": null,
       "left": null,
       "margin": null,
       "max_height": null,
       "max_width": null,
       "min_height": null,
       "min_width": null,
       "object_fit": null,
       "object_position": null,
       "order": null,
       "overflow": null,
       "overflow_x": null,
       "overflow_y": null,
       "padding": null,
       "right": null,
       "top": null,
       "visibility": null,
       "width": null
      }
     },
     "73be406edd124a79b23c3d6fa75a2ae9": {
      "model_module": "@jupyter-widgets/controls",
      "model_module_version": "1.5.0",
      "model_name": "HBoxModel",
      "state": {
       "_dom_classes": [],
       "_model_module": "@jupyter-widgets/controls",
       "_model_module_version": "1.5.0",
       "_model_name": "HBoxModel",
       "_view_count": null,
       "_view_module": "@jupyter-widgets/controls",
       "_view_module_version": "1.5.0",
       "_view_name": "HBoxView",
       "box_style": "",
       "children": [
        "IPY_MODEL_5e8ab66a76ea483cbb15776c74deab18",
        "IPY_MODEL_7096632cb6ae43a5b2fdb15bb4660b58",
        "IPY_MODEL_e02b88b9ac8a451c99334fad960a5dc3"
       ],
       "layout": "IPY_MODEL_7cecac7c15bf4943bce3fa8923227aa8"
      }
     },
     "73dfa404b60c4a44b73503f66c3e318d": {
      "model_module": "@jupyter-widgets/base",
      "model_module_version": "1.2.0",
      "model_name": "LayoutModel",
      "state": {
       "_model_module": "@jupyter-widgets/base",
       "_model_module_version": "1.2.0",
       "_model_name": "LayoutModel",
       "_view_count": null,
       "_view_module": "@jupyter-widgets/base",
       "_view_module_version": "1.2.0",
       "_view_name": "LayoutView",
       "align_content": null,
       "align_items": null,
       "align_self": null,
       "border": null,
       "bottom": null,
       "display": null,
       "flex": null,
       "flex_flow": null,
       "grid_area": null,
       "grid_auto_columns": null,
       "grid_auto_flow": null,
       "grid_auto_rows": null,
       "grid_column": null,
       "grid_gap": null,
       "grid_row": null,
       "grid_template_areas": null,
       "grid_template_columns": null,
       "grid_template_rows": null,
       "height": null,
       "justify_content": null,
       "justify_items": null,
       "left": null,
       "margin": null,
       "max_height": null,
       "max_width": null,
       "min_height": null,
       "min_width": null,
       "object_fit": null,
       "object_position": null,
       "order": null,
       "overflow": null,
       "overflow_x": null,
       "overflow_y": null,
       "padding": null,
       "right": null,
       "top": null,
       "visibility": null,
       "width": null
      }
     },
     "749ca7fbfbb44f3e854fe49fb8940684": {
      "model_module": "@jupyter-widgets/controls",
      "model_module_version": "1.5.0",
      "model_name": "DescriptionStyleModel",
      "state": {
       "_model_module": "@jupyter-widgets/controls",
       "_model_module_version": "1.5.0",
       "_model_name": "DescriptionStyleModel",
       "_view_count": null,
       "_view_module": "@jupyter-widgets/base",
       "_view_module_version": "1.2.0",
       "_view_name": "StyleView",
       "description_width": ""
      }
     },
     "74ca9acb1fad4351a43bb9cddada3077": {
      "model_module": "@jupyter-widgets/controls",
      "model_module_version": "1.5.0",
      "model_name": "DescriptionStyleModel",
      "state": {
       "_model_module": "@jupyter-widgets/controls",
       "_model_module_version": "1.5.0",
       "_model_name": "DescriptionStyleModel",
       "_view_count": null,
       "_view_module": "@jupyter-widgets/base",
       "_view_module_version": "1.2.0",
       "_view_name": "StyleView",
       "description_width": ""
      }
     },
     "75a07087d4ab4190a02bd7dcb0169755": {
      "model_module": "@jupyter-widgets/controls",
      "model_module_version": "1.5.0",
      "model_name": "HTMLModel",
      "state": {
       "_dom_classes": [],
       "_model_module": "@jupyter-widgets/controls",
       "_model_module_version": "1.5.0",
       "_model_name": "HTMLModel",
       "_view_count": null,
       "_view_module": "@jupyter-widgets/controls",
       "_view_module_version": "1.5.0",
       "_view_name": "HTMLView",
       "description": "",
       "description_tooltip": null,
       "layout": "IPY_MODEL_594d234a006043f585688a7a96e1784d",
       "placeholder": "​",
       "style": "IPY_MODEL_495584d041df4237b0025e2325e066bb",
       "value": " 1/1 [00:00&lt;00:00, 10.38it/s]"
      }
     },
     "75bfe43744014caeb6a3b5d840b792e1": {
      "model_module": "@jupyter-widgets/controls",
      "model_module_version": "1.5.0",
      "model_name": "DescriptionStyleModel",
      "state": {
       "_model_module": "@jupyter-widgets/controls",
       "_model_module_version": "1.5.0",
       "_model_name": "DescriptionStyleModel",
       "_view_count": null,
       "_view_module": "@jupyter-widgets/base",
       "_view_module_version": "1.2.0",
       "_view_name": "StyleView",
       "description_width": ""
      }
     },
     "78699cf64fc047239dad2d6b956264b6": {
      "model_module": "@jupyter-widgets/base",
      "model_module_version": "1.2.0",
      "model_name": "LayoutModel",
      "state": {
       "_model_module": "@jupyter-widgets/base",
       "_model_module_version": "1.2.0",
       "_model_name": "LayoutModel",
       "_view_count": null,
       "_view_module": "@jupyter-widgets/base",
       "_view_module_version": "1.2.0",
       "_view_name": "LayoutView",
       "align_content": null,
       "align_items": null,
       "align_self": null,
       "border": null,
       "bottom": null,
       "display": null,
       "flex": null,
       "flex_flow": null,
       "grid_area": null,
       "grid_auto_columns": null,
       "grid_auto_flow": null,
       "grid_auto_rows": null,
       "grid_column": null,
       "grid_gap": null,
       "grid_row": null,
       "grid_template_areas": null,
       "grid_template_columns": null,
       "grid_template_rows": null,
       "height": null,
       "justify_content": null,
       "justify_items": null,
       "left": null,
       "margin": null,
       "max_height": null,
       "max_width": null,
       "min_height": null,
       "min_width": null,
       "object_fit": null,
       "object_position": null,
       "order": null,
       "overflow": null,
       "overflow_x": null,
       "overflow_y": null,
       "padding": null,
       "right": null,
       "top": null,
       "visibility": null,
       "width": null
      }
     },
     "7939378d6d634d2388812a2cd2021a92": {
      "model_module": "@jupyter-widgets/controls",
      "model_module_version": "1.5.0",
      "model_name": "DescriptionStyleModel",
      "state": {
       "_model_module": "@jupyter-widgets/controls",
       "_model_module_version": "1.5.0",
       "_model_name": "DescriptionStyleModel",
       "_view_count": null,
       "_view_module": "@jupyter-widgets/base",
       "_view_module_version": "1.2.0",
       "_view_name": "StyleView",
       "description_width": ""
      }
     },
     "7976132235854605b99ecb4cb67a11d0": {
      "model_module": "@jupyter-widgets/controls",
      "model_module_version": "1.5.0",
      "model_name": "HTMLModel",
      "state": {
       "_dom_classes": [],
       "_model_module": "@jupyter-widgets/controls",
       "_model_module_version": "1.5.0",
       "_model_name": "HTMLModel",
       "_view_count": null,
       "_view_module": "@jupyter-widgets/controls",
       "_view_module_version": "1.5.0",
       "_view_name": "HTMLView",
       "description": "",
       "description_tooltip": null,
       "layout": "IPY_MODEL_35365b4de6224230a8ee71695db38caf",
       "placeholder": "​",
       "style": "IPY_MODEL_36e256d0fc5e4a59baa8d0be51523496",
       "value": "100%"
      }
     },
     "799c2c000243481c8c54ea37172d0f2d": {
      "model_module": "@jupyter-widgets/controls",
      "model_module_version": "1.5.0",
      "model_name": "HTMLModel",
      "state": {
       "_dom_classes": [],
       "_model_module": "@jupyter-widgets/controls",
       "_model_module_version": "1.5.0",
       "_model_name": "HTMLModel",
       "_view_count": null,
       "_view_module": "@jupyter-widgets/controls",
       "_view_module_version": "1.5.0",
       "_view_name": "HTMLView",
       "description": "",
       "description_tooltip": null,
       "layout": "IPY_MODEL_c4036af831eb4c97a6381ec1b96e9d40",
       "placeholder": "​",
       "style": "IPY_MODEL_b630c4acf33441f0b1b97860e625d89d",
       "value": " 10/10 [00:00&lt;00:00, 27.43ba/s]"
      }
     },
     "79d64d85fcd34bff95b371412aa9e7b0": {
      "model_module": "@jupyter-widgets/controls",
      "model_module_version": "1.5.0",
      "model_name": "HBoxModel",
      "state": {
       "_dom_classes": [],
       "_model_module": "@jupyter-widgets/controls",
       "_model_module_version": "1.5.0",
       "_model_name": "HBoxModel",
       "_view_count": null,
       "_view_module": "@jupyter-widgets/controls",
       "_view_module_version": "1.5.0",
       "_view_name": "HBoxView",
       "box_style": "",
       "children": [
        "IPY_MODEL_6b366b1a68884ca188430fd9f0a990e1",
        "IPY_MODEL_ca33fc28c4c3475e87717712ab896327",
        "IPY_MODEL_9dac0f2d4792449c953a8f4a6fd67856"
       ],
       "layout": "IPY_MODEL_08e4c089f29a45e88f50e6618991a282"
      }
     },
     "79e8ede6fc254abc924d99ee0217bf45": {
      "model_module": "@jupyter-widgets/controls",
      "model_module_version": "1.5.0",
      "model_name": "HBoxModel",
      "state": {
       "_dom_classes": [],
       "_model_module": "@jupyter-widgets/controls",
       "_model_module_version": "1.5.0",
       "_model_name": "HBoxModel",
       "_view_count": null,
       "_view_module": "@jupyter-widgets/controls",
       "_view_module_version": "1.5.0",
       "_view_name": "HBoxView",
       "box_style": "",
       "children": [
        "IPY_MODEL_4aa0c92ae8ec4397b2c603210d13fef4",
        "IPY_MODEL_de6fcc01c6f846b282375b4df102cf34",
        "IPY_MODEL_fca80c08e4c840669efd368850033685"
       ],
       "layout": "IPY_MODEL_8c9ce140e2544e9c8e24cbbe1700f554"
      }
     },
     "7a2cbdbb140a46efbf157e2918e518c2": {
      "model_module": "@jupyter-widgets/controls",
      "model_module_version": "1.5.0",
      "model_name": "DescriptionStyleModel",
      "state": {
       "_model_module": "@jupyter-widgets/controls",
       "_model_module_version": "1.5.0",
       "_model_name": "DescriptionStyleModel",
       "_view_count": null,
       "_view_module": "@jupyter-widgets/base",
       "_view_module_version": "1.2.0",
       "_view_name": "StyleView",
       "description_width": ""
      }
     },
     "7a9e29dc8a8f460d83ba1bd975cc18bf": {
      "model_module": "@jupyter-widgets/base",
      "model_module_version": "1.2.0",
      "model_name": "LayoutModel",
      "state": {
       "_model_module": "@jupyter-widgets/base",
       "_model_module_version": "1.2.0",
       "_model_name": "LayoutModel",
       "_view_count": null,
       "_view_module": "@jupyter-widgets/base",
       "_view_module_version": "1.2.0",
       "_view_name": "LayoutView",
       "align_content": null,
       "align_items": null,
       "align_self": null,
       "border": null,
       "bottom": null,
       "display": null,
       "flex": null,
       "flex_flow": null,
       "grid_area": null,
       "grid_auto_columns": null,
       "grid_auto_flow": null,
       "grid_auto_rows": null,
       "grid_column": null,
       "grid_gap": null,
       "grid_row": null,
       "grid_template_areas": null,
       "grid_template_columns": null,
       "grid_template_rows": null,
       "height": null,
       "justify_content": null,
       "justify_items": null,
       "left": null,
       "margin": null,
       "max_height": null,
       "max_width": null,
       "min_height": null,
       "min_width": null,
       "object_fit": null,
       "object_position": null,
       "order": null,
       "overflow": null,
       "overflow_x": null,
       "overflow_y": null,
       "padding": null,
       "right": null,
       "top": null,
       "visibility": null,
       "width": null
      }
     },
     "7bd824a058b0474aa77866677c2132cd": {
      "model_module": "@jupyter-widgets/base",
      "model_module_version": "1.2.0",
      "model_name": "LayoutModel",
      "state": {
       "_model_module": "@jupyter-widgets/base",
       "_model_module_version": "1.2.0",
       "_model_name": "LayoutModel",
       "_view_count": null,
       "_view_module": "@jupyter-widgets/base",
       "_view_module_version": "1.2.0",
       "_view_name": "LayoutView",
       "align_content": null,
       "align_items": null,
       "align_self": null,
       "border": null,
       "bottom": null,
       "display": null,
       "flex": null,
       "flex_flow": null,
       "grid_area": null,
       "grid_auto_columns": null,
       "grid_auto_flow": null,
       "grid_auto_rows": null,
       "grid_column": null,
       "grid_gap": null,
       "grid_row": null,
       "grid_template_areas": null,
       "grid_template_columns": null,
       "grid_template_rows": null,
       "height": null,
       "justify_content": null,
       "justify_items": null,
       "left": null,
       "margin": null,
       "max_height": null,
       "max_width": null,
       "min_height": null,
       "min_width": null,
       "object_fit": null,
       "object_position": null,
       "order": null,
       "overflow": null,
       "overflow_x": null,
       "overflow_y": null,
       "padding": null,
       "right": null,
       "top": null,
       "visibility": null,
       "width": null
      }
     },
     "7c147e3f547d47d39f3aa6f127af37f6": {
      "model_module": "@jupyter-widgets/controls",
      "model_module_version": "1.5.0",
      "model_name": "FloatProgressModel",
      "state": {
       "_dom_classes": [],
       "_model_module": "@jupyter-widgets/controls",
       "_model_module_version": "1.5.0",
       "_model_name": "FloatProgressModel",
       "_view_count": null,
       "_view_module": "@jupyter-widgets/controls",
       "_view_module_version": "1.5.0",
       "_view_name": "ProgressView",
       "bar_style": "success",
       "description": "",
       "description_tooltip": null,
       "layout": "IPY_MODEL_aa078b6e01e84320b1b46a189ab4baa8",
       "max": 28,
       "min": 0,
       "orientation": "horizontal",
       "style": "IPY_MODEL_959e0f79bedf4dd08f45fecc9e30a90c",
       "value": 28
      }
     },
     "7c347cb62c2342a0837e1e328e614208": {
      "model_module": "@jupyter-widgets/base",
      "model_module_version": "1.2.0",
      "model_name": "LayoutModel",
      "state": {
       "_model_module": "@jupyter-widgets/base",
       "_model_module_version": "1.2.0",
       "_model_name": "LayoutModel",
       "_view_count": null,
       "_view_module": "@jupyter-widgets/base",
       "_view_module_version": "1.2.0",
       "_view_name": "LayoutView",
       "align_content": null,
       "align_items": null,
       "align_self": null,
       "border": null,
       "bottom": null,
       "display": null,
       "flex": null,
       "flex_flow": null,
       "grid_area": null,
       "grid_auto_columns": null,
       "grid_auto_flow": null,
       "grid_auto_rows": null,
       "grid_column": null,
       "grid_gap": null,
       "grid_row": null,
       "grid_template_areas": null,
       "grid_template_columns": null,
       "grid_template_rows": null,
       "height": null,
       "justify_content": null,
       "justify_items": null,
       "left": null,
       "margin": null,
       "max_height": null,
       "max_width": null,
       "min_height": null,
       "min_width": null,
       "object_fit": null,
       "object_position": null,
       "order": null,
       "overflow": null,
       "overflow_x": null,
       "overflow_y": null,
       "padding": null,
       "right": null,
       "top": null,
       "visibility": null,
       "width": null
      }
     },
     "7c5056d95a7c4d17bc3ae95efb7cada2": {
      "model_module": "@jupyter-widgets/controls",
      "model_module_version": "1.5.0",
      "model_name": "ProgressStyleModel",
      "state": {
       "_model_module": "@jupyter-widgets/controls",
       "_model_module_version": "1.5.0",
       "_model_name": "ProgressStyleModel",
       "_view_count": null,
       "_view_module": "@jupyter-widgets/base",
       "_view_module_version": "1.2.0",
       "_view_name": "StyleView",
       "bar_color": null,
       "description_width": ""
      }
     },
     "7c5b9f8b5f5f41f695b64a916f7c850e": {
      "model_module": "@jupyter-widgets/base",
      "model_module_version": "1.2.0",
      "model_name": "LayoutModel",
      "state": {
       "_model_module": "@jupyter-widgets/base",
       "_model_module_version": "1.2.0",
       "_model_name": "LayoutModel",
       "_view_count": null,
       "_view_module": "@jupyter-widgets/base",
       "_view_module_version": "1.2.0",
       "_view_name": "LayoutView",
       "align_content": null,
       "align_items": null,
       "align_self": null,
       "border": null,
       "bottom": null,
       "display": null,
       "flex": null,
       "flex_flow": null,
       "grid_area": null,
       "grid_auto_columns": null,
       "grid_auto_flow": null,
       "grid_auto_rows": null,
       "grid_column": null,
       "grid_gap": null,
       "grid_row": null,
       "grid_template_areas": null,
       "grid_template_columns": null,
       "grid_template_rows": null,
       "height": null,
       "justify_content": null,
       "justify_items": null,
       "left": null,
       "margin": null,
       "max_height": null,
       "max_width": null,
       "min_height": null,
       "min_width": null,
       "object_fit": null,
       "object_position": null,
       "order": null,
       "overflow": null,
       "overflow_x": null,
       "overflow_y": null,
       "padding": null,
       "right": null,
       "top": null,
       "visibility": null,
       "width": null
      }
     },
     "7cb7014db5744683a1e7276e1ddbf9d5": {
      "model_module": "@jupyter-widgets/base",
      "model_module_version": "1.2.0",
      "model_name": "LayoutModel",
      "state": {
       "_model_module": "@jupyter-widgets/base",
       "_model_module_version": "1.2.0",
       "_model_name": "LayoutModel",
       "_view_count": null,
       "_view_module": "@jupyter-widgets/base",
       "_view_module_version": "1.2.0",
       "_view_name": "LayoutView",
       "align_content": null,
       "align_items": null,
       "align_self": null,
       "border": null,
       "bottom": null,
       "display": null,
       "flex": null,
       "flex_flow": null,
       "grid_area": null,
       "grid_auto_columns": null,
       "grid_auto_flow": null,
       "grid_auto_rows": null,
       "grid_column": null,
       "grid_gap": null,
       "grid_row": null,
       "grid_template_areas": null,
       "grid_template_columns": null,
       "grid_template_rows": null,
       "height": null,
       "justify_content": null,
       "justify_items": null,
       "left": null,
       "margin": null,
       "max_height": null,
       "max_width": null,
       "min_height": null,
       "min_width": null,
       "object_fit": null,
       "object_position": null,
       "order": null,
       "overflow": null,
       "overflow_x": null,
       "overflow_y": null,
       "padding": null,
       "right": null,
       "top": null,
       "visibility": null,
       "width": null
      }
     },
     "7cecac7c15bf4943bce3fa8923227aa8": {
      "model_module": "@jupyter-widgets/base",
      "model_module_version": "1.2.0",
      "model_name": "LayoutModel",
      "state": {
       "_model_module": "@jupyter-widgets/base",
       "_model_module_version": "1.2.0",
       "_model_name": "LayoutModel",
       "_view_count": null,
       "_view_module": "@jupyter-widgets/base",
       "_view_module_version": "1.2.0",
       "_view_name": "LayoutView",
       "align_content": null,
       "align_items": null,
       "align_self": null,
       "border": null,
       "bottom": null,
       "display": null,
       "flex": null,
       "flex_flow": null,
       "grid_area": null,
       "grid_auto_columns": null,
       "grid_auto_flow": null,
       "grid_auto_rows": null,
       "grid_column": null,
       "grid_gap": null,
       "grid_row": null,
       "grid_template_areas": null,
       "grid_template_columns": null,
       "grid_template_rows": null,
       "height": null,
       "justify_content": null,
       "justify_items": null,
       "left": null,
       "margin": null,
       "max_height": null,
       "max_width": null,
       "min_height": null,
       "min_width": null,
       "object_fit": null,
       "object_position": null,
       "order": null,
       "overflow": null,
       "overflow_x": null,
       "overflow_y": null,
       "padding": null,
       "right": null,
       "top": null,
       "visibility": null,
       "width": null
      }
     },
     "7d6753e31f3a4591bb2dcbe0a96c7958": {
      "model_module": "@jupyter-widgets/base",
      "model_module_version": "1.2.0",
      "model_name": "LayoutModel",
      "state": {
       "_model_module": "@jupyter-widgets/base",
       "_model_module_version": "1.2.0",
       "_model_name": "LayoutModel",
       "_view_count": null,
       "_view_module": "@jupyter-widgets/base",
       "_view_module_version": "1.2.0",
       "_view_name": "LayoutView",
       "align_content": null,
       "align_items": null,
       "align_self": null,
       "border": null,
       "bottom": null,
       "display": null,
       "flex": null,
       "flex_flow": null,
       "grid_area": null,
       "grid_auto_columns": null,
       "grid_auto_flow": null,
       "grid_auto_rows": null,
       "grid_column": null,
       "grid_gap": null,
       "grid_row": null,
       "grid_template_areas": null,
       "grid_template_columns": null,
       "grid_template_rows": null,
       "height": null,
       "justify_content": null,
       "justify_items": null,
       "left": null,
       "margin": null,
       "max_height": null,
       "max_width": null,
       "min_height": null,
       "min_width": null,
       "object_fit": null,
       "object_position": null,
       "order": null,
       "overflow": null,
       "overflow_x": null,
       "overflow_y": null,
       "padding": null,
       "right": null,
       "top": null,
       "visibility": null,
       "width": null
      }
     },
     "7da456a77ca2477388a44247e9c2b70e": {
      "model_module": "@jupyter-widgets/base",
      "model_module_version": "1.2.0",
      "model_name": "LayoutModel",
      "state": {
       "_model_module": "@jupyter-widgets/base",
       "_model_module_version": "1.2.0",
       "_model_name": "LayoutModel",
       "_view_count": null,
       "_view_module": "@jupyter-widgets/base",
       "_view_module_version": "1.2.0",
       "_view_name": "LayoutView",
       "align_content": null,
       "align_items": null,
       "align_self": null,
       "border": null,
       "bottom": null,
       "display": null,
       "flex": null,
       "flex_flow": null,
       "grid_area": null,
       "grid_auto_columns": null,
       "grid_auto_flow": null,
       "grid_auto_rows": null,
       "grid_column": null,
       "grid_gap": null,
       "grid_row": null,
       "grid_template_areas": null,
       "grid_template_columns": null,
       "grid_template_rows": null,
       "height": null,
       "justify_content": null,
       "justify_items": null,
       "left": null,
       "margin": null,
       "max_height": null,
       "max_width": null,
       "min_height": null,
       "min_width": null,
       "object_fit": null,
       "object_position": null,
       "order": null,
       "overflow": null,
       "overflow_x": null,
       "overflow_y": null,
       "padding": null,
       "right": null,
       "top": null,
       "visibility": null,
       "width": null
      }
     },
     "7de83ef0ad724ed39518628f33336042": {
      "model_module": "@jupyter-widgets/controls",
      "model_module_version": "1.5.0",
      "model_name": "HBoxModel",
      "state": {
       "_dom_classes": [],
       "_model_module": "@jupyter-widgets/controls",
       "_model_module_version": "1.5.0",
       "_model_name": "HBoxModel",
       "_view_count": null,
       "_view_module": "@jupyter-widgets/controls",
       "_view_module_version": "1.5.0",
       "_view_name": "HBoxView",
       "box_style": "",
       "children": [
        "IPY_MODEL_2a0706d3aa7a46ec9d30ce103819484c",
        "IPY_MODEL_9c7a58d6541e4ee8b677ba438b127c26",
        "IPY_MODEL_c89b2a36b84846d2875698d99a2fb8d1"
       ],
       "layout": "IPY_MODEL_7c5b9f8b5f5f41f695b64a916f7c850e"
      }
     },
     "7e50ecfba18e4b35b49a0f46b6c71326": {
      "model_module": "@jupyter-widgets/controls",
      "model_module_version": "1.5.0",
      "model_name": "FloatProgressModel",
      "state": {
       "_dom_classes": [],
       "_model_module": "@jupyter-widgets/controls",
       "_model_module_version": "1.5.0",
       "_model_name": "FloatProgressModel",
       "_view_count": null,
       "_view_module": "@jupyter-widgets/controls",
       "_view_module_version": "1.5.0",
       "_view_name": "ProgressView",
       "bar_style": "success",
       "description": "",
       "description_tooltip": null,
       "layout": "IPY_MODEL_4b884d8845354074901b65dfafe77ea4",
       "max": 28,
       "min": 0,
       "orientation": "horizontal",
       "style": "IPY_MODEL_53044a0c791a4aabb0c0c6349149a412",
       "value": 28
      }
     },
     "7e66052d986a41e58557188f9a1aa5da": {
      "model_module": "@jupyter-widgets/controls",
      "model_module_version": "1.5.0",
      "model_name": "HTMLModel",
      "state": {
       "_dom_classes": [],
       "_model_module": "@jupyter-widgets/controls",
       "_model_module_version": "1.5.0",
       "_model_name": "HTMLModel",
       "_view_count": null,
       "_view_module": "@jupyter-widgets/controls",
       "_view_module_version": "1.5.0",
       "_view_name": "HTMLView",
       "description": "",
       "description_tooltip": null,
       "layout": "IPY_MODEL_841305b80c49450ab26ea360fb4ac50b",
       "placeholder": "​",
       "style": "IPY_MODEL_f2e5b72983eb43a2a85aafb7acde40ac",
       "value": " 28/28 [03:11&lt;00:00,  5.44s/ba]"
      }
     },
     "7ed396a9638842a7993ffc5b3fe449e1": {
      "model_module": "@jupyter-widgets/base",
      "model_module_version": "1.2.0",
      "model_name": "LayoutModel",
      "state": {
       "_model_module": "@jupyter-widgets/base",
       "_model_module_version": "1.2.0",
       "_model_name": "LayoutModel",
       "_view_count": null,
       "_view_module": "@jupyter-widgets/base",
       "_view_module_version": "1.2.0",
       "_view_name": "LayoutView",
       "align_content": null,
       "align_items": null,
       "align_self": null,
       "border": null,
       "bottom": null,
       "display": null,
       "flex": null,
       "flex_flow": null,
       "grid_area": null,
       "grid_auto_columns": null,
       "grid_auto_flow": null,
       "grid_auto_rows": null,
       "grid_column": null,
       "grid_gap": null,
       "grid_row": null,
       "grid_template_areas": null,
       "grid_template_columns": null,
       "grid_template_rows": null,
       "height": null,
       "justify_content": null,
       "justify_items": null,
       "left": null,
       "margin": null,
       "max_height": null,
       "max_width": null,
       "min_height": null,
       "min_width": null,
       "object_fit": null,
       "object_position": null,
       "order": null,
       "overflow": null,
       "overflow_x": null,
       "overflow_y": null,
       "padding": null,
       "right": null,
       "top": null,
       "visibility": null,
       "width": null
      }
     },
     "7f215a19f4b44fa8bf8a7e9b9a00120b": {
      "model_module": "@jupyter-widgets/base",
      "model_module_version": "1.2.0",
      "model_name": "LayoutModel",
      "state": {
       "_model_module": "@jupyter-widgets/base",
       "_model_module_version": "1.2.0",
       "_model_name": "LayoutModel",
       "_view_count": null,
       "_view_module": "@jupyter-widgets/base",
       "_view_module_version": "1.2.0",
       "_view_name": "LayoutView",
       "align_content": null,
       "align_items": null,
       "align_self": null,
       "border": null,
       "bottom": null,
       "display": null,
       "flex": null,
       "flex_flow": null,
       "grid_area": null,
       "grid_auto_columns": null,
       "grid_auto_flow": null,
       "grid_auto_rows": null,
       "grid_column": null,
       "grid_gap": null,
       "grid_row": null,
       "grid_template_areas": null,
       "grid_template_columns": null,
       "grid_template_rows": null,
       "height": null,
       "justify_content": null,
       "justify_items": null,
       "left": null,
       "margin": null,
       "max_height": null,
       "max_width": null,
       "min_height": null,
       "min_width": null,
       "object_fit": null,
       "object_position": null,
       "order": null,
       "overflow": null,
       "overflow_x": null,
       "overflow_y": null,
       "padding": null,
       "right": null,
       "top": null,
       "visibility": null,
       "width": null
      }
     },
     "80df314f038543e88557be45a63f63b5": {
      "model_module": "@jupyter-widgets/base",
      "model_module_version": "1.2.0",
      "model_name": "LayoutModel",
      "state": {
       "_model_module": "@jupyter-widgets/base",
       "_model_module_version": "1.2.0",
       "_model_name": "LayoutModel",
       "_view_count": null,
       "_view_module": "@jupyter-widgets/base",
       "_view_module_version": "1.2.0",
       "_view_name": "LayoutView",
       "align_content": null,
       "align_items": null,
       "align_self": null,
       "border": null,
       "bottom": null,
       "display": null,
       "flex": null,
       "flex_flow": null,
       "grid_area": null,
       "grid_auto_columns": null,
       "grid_auto_flow": null,
       "grid_auto_rows": null,
       "grid_column": null,
       "grid_gap": null,
       "grid_row": null,
       "grid_template_areas": null,
       "grid_template_columns": null,
       "grid_template_rows": null,
       "height": null,
       "justify_content": null,
       "justify_items": null,
       "left": null,
       "margin": null,
       "max_height": null,
       "max_width": null,
       "min_height": null,
       "min_width": null,
       "object_fit": null,
       "object_position": null,
       "order": null,
       "overflow": null,
       "overflow_x": null,
       "overflow_y": null,
       "padding": null,
       "right": null,
       "top": null,
       "visibility": null,
       "width": null
      }
     },
     "8160059c57204567a052d78e9b9c682c": {
      "model_module": "@jupyter-widgets/base",
      "model_module_version": "1.2.0",
      "model_name": "LayoutModel",
      "state": {
       "_model_module": "@jupyter-widgets/base",
       "_model_module_version": "1.2.0",
       "_model_name": "LayoutModel",
       "_view_count": null,
       "_view_module": "@jupyter-widgets/base",
       "_view_module_version": "1.2.0",
       "_view_name": "LayoutView",
       "align_content": null,
       "align_items": null,
       "align_self": null,
       "border": null,
       "bottom": null,
       "display": null,
       "flex": null,
       "flex_flow": null,
       "grid_area": null,
       "grid_auto_columns": null,
       "grid_auto_flow": null,
       "grid_auto_rows": null,
       "grid_column": null,
       "grid_gap": null,
       "grid_row": null,
       "grid_template_areas": null,
       "grid_template_columns": null,
       "grid_template_rows": null,
       "height": null,
       "justify_content": null,
       "justify_items": null,
       "left": null,
       "margin": null,
       "max_height": null,
       "max_width": null,
       "min_height": null,
       "min_width": null,
       "object_fit": null,
       "object_position": null,
       "order": null,
       "overflow": null,
       "overflow_x": null,
       "overflow_y": null,
       "padding": null,
       "right": null,
       "top": null,
       "visibility": null,
       "width": null
      }
     },
     "8171b00a2b4b41979470c19584179922": {
      "model_module": "@jupyter-widgets/controls",
      "model_module_version": "1.5.0",
      "model_name": "HBoxModel",
      "state": {
       "_dom_classes": [],
       "_model_module": "@jupyter-widgets/controls",
       "_model_module_version": "1.5.0",
       "_model_name": "HBoxModel",
       "_view_count": null,
       "_view_module": "@jupyter-widgets/controls",
       "_view_module_version": "1.5.0",
       "_view_name": "HBoxView",
       "box_style": "",
       "children": [
        "IPY_MODEL_8e430e5ce1c74415a923ccde6362f9e4",
        "IPY_MODEL_d0d9687294bc41318a0b5e0ef99eb085",
        "IPY_MODEL_5c3a87b62ae849cc9866ca9a9ef5f7b4"
       ],
       "layout": "IPY_MODEL_593a47ec48c74d339eb0d13318b6c750"
      }
     },
     "8177bc73ddfe4c79acee4347753bc833": {
      "model_module": "@jupyter-widgets/base",
      "model_module_version": "1.2.0",
      "model_name": "LayoutModel",
      "state": {
       "_model_module": "@jupyter-widgets/base",
       "_model_module_version": "1.2.0",
       "_model_name": "LayoutModel",
       "_view_count": null,
       "_view_module": "@jupyter-widgets/base",
       "_view_module_version": "1.2.0",
       "_view_name": "LayoutView",
       "align_content": null,
       "align_items": null,
       "align_self": null,
       "border": null,
       "bottom": null,
       "display": null,
       "flex": null,
       "flex_flow": null,
       "grid_area": null,
       "grid_auto_columns": null,
       "grid_auto_flow": null,
       "grid_auto_rows": null,
       "grid_column": null,
       "grid_gap": null,
       "grid_row": null,
       "grid_template_areas": null,
       "grid_template_columns": null,
       "grid_template_rows": null,
       "height": null,
       "justify_content": null,
       "justify_items": null,
       "left": null,
       "margin": null,
       "max_height": null,
       "max_width": null,
       "min_height": null,
       "min_width": null,
       "object_fit": null,
       "object_position": null,
       "order": null,
       "overflow": null,
       "overflow_x": null,
       "overflow_y": null,
       "padding": null,
       "right": null,
       "top": null,
       "visibility": null,
       "width": null
      }
     },
     "8197adf5e1164bc6825298d499a32682": {
      "model_module": "@jupyter-widgets/base",
      "model_module_version": "1.2.0",
      "model_name": "LayoutModel",
      "state": {
       "_model_module": "@jupyter-widgets/base",
       "_model_module_version": "1.2.0",
       "_model_name": "LayoutModel",
       "_view_count": null,
       "_view_module": "@jupyter-widgets/base",
       "_view_module_version": "1.2.0",
       "_view_name": "LayoutView",
       "align_content": null,
       "align_items": null,
       "align_self": null,
       "border": null,
       "bottom": null,
       "display": null,
       "flex": null,
       "flex_flow": null,
       "grid_area": null,
       "grid_auto_columns": null,
       "grid_auto_flow": null,
       "grid_auto_rows": null,
       "grid_column": null,
       "grid_gap": null,
       "grid_row": null,
       "grid_template_areas": null,
       "grid_template_columns": null,
       "grid_template_rows": null,
       "height": null,
       "justify_content": null,
       "justify_items": null,
       "left": null,
       "margin": null,
       "max_height": null,
       "max_width": null,
       "min_height": null,
       "min_width": null,
       "object_fit": null,
       "object_position": null,
       "order": null,
       "overflow": null,
       "overflow_x": null,
       "overflow_y": null,
       "padding": null,
       "right": null,
       "top": null,
       "visibility": null,
       "width": null
      }
     },
     "81a8cb10586143a19dd58b0dc28b80b4": {
      "model_module": "@jupyter-widgets/base",
      "model_module_version": "1.2.0",
      "model_name": "LayoutModel",
      "state": {
       "_model_module": "@jupyter-widgets/base",
       "_model_module_version": "1.2.0",
       "_model_name": "LayoutModel",
       "_view_count": null,
       "_view_module": "@jupyter-widgets/base",
       "_view_module_version": "1.2.0",
       "_view_name": "LayoutView",
       "align_content": null,
       "align_items": null,
       "align_self": null,
       "border": null,
       "bottom": null,
       "display": null,
       "flex": null,
       "flex_flow": null,
       "grid_area": null,
       "grid_auto_columns": null,
       "grid_auto_flow": null,
       "grid_auto_rows": null,
       "grid_column": null,
       "grid_gap": null,
       "grid_row": null,
       "grid_template_areas": null,
       "grid_template_columns": null,
       "grid_template_rows": null,
       "height": null,
       "justify_content": null,
       "justify_items": null,
       "left": null,
       "margin": null,
       "max_height": null,
       "max_width": null,
       "min_height": null,
       "min_width": null,
       "object_fit": null,
       "object_position": null,
       "order": null,
       "overflow": null,
       "overflow_x": null,
       "overflow_y": null,
       "padding": null,
       "right": null,
       "top": null,
       "visibility": null,
       "width": null
      }
     },
     "822861aa427840f29a8d86d370970c79": {
      "model_module": "@jupyter-widgets/controls",
      "model_module_version": "1.5.0",
      "model_name": "DescriptionStyleModel",
      "state": {
       "_model_module": "@jupyter-widgets/controls",
       "_model_module_version": "1.5.0",
       "_model_name": "DescriptionStyleModel",
       "_view_count": null,
       "_view_module": "@jupyter-widgets/base",
       "_view_module_version": "1.2.0",
       "_view_name": "StyleView",
       "description_width": ""
      }
     },
     "82398b90a227413196da18854c6fbd66": {
      "model_module": "@jupyter-widgets/controls",
      "model_module_version": "1.5.0",
      "model_name": "DescriptionStyleModel",
      "state": {
       "_model_module": "@jupyter-widgets/controls",
       "_model_module_version": "1.5.0",
       "_model_name": "DescriptionStyleModel",
       "_view_count": null,
       "_view_module": "@jupyter-widgets/base",
       "_view_module_version": "1.2.0",
       "_view_name": "StyleView",
       "description_width": ""
      }
     },
     "83073fa57dc14bba97e570f137852686": {
      "model_module": "@jupyter-widgets/base",
      "model_module_version": "1.2.0",
      "model_name": "LayoutModel",
      "state": {
       "_model_module": "@jupyter-widgets/base",
       "_model_module_version": "1.2.0",
       "_model_name": "LayoutModel",
       "_view_count": null,
       "_view_module": "@jupyter-widgets/base",
       "_view_module_version": "1.2.0",
       "_view_name": "LayoutView",
       "align_content": null,
       "align_items": null,
       "align_self": null,
       "border": null,
       "bottom": null,
       "display": null,
       "flex": null,
       "flex_flow": null,
       "grid_area": null,
       "grid_auto_columns": null,
       "grid_auto_flow": null,
       "grid_auto_rows": null,
       "grid_column": null,
       "grid_gap": null,
       "grid_row": null,
       "grid_template_areas": null,
       "grid_template_columns": null,
       "grid_template_rows": null,
       "height": null,
       "justify_content": null,
       "justify_items": null,
       "left": null,
       "margin": null,
       "max_height": null,
       "max_width": null,
       "min_height": null,
       "min_width": null,
       "object_fit": null,
       "object_position": null,
       "order": null,
       "overflow": null,
       "overflow_x": null,
       "overflow_y": null,
       "padding": null,
       "right": null,
       "top": null,
       "visibility": null,
       "width": null
      }
     },
     "832411288c88468897684951f6b482c7": {
      "model_module": "@jupyter-widgets/controls",
      "model_module_version": "1.5.0",
      "model_name": "HTMLModel",
      "state": {
       "_dom_classes": [],
       "_model_module": "@jupyter-widgets/controls",
       "_model_module_version": "1.5.0",
       "_model_name": "HTMLModel",
       "_view_count": null,
       "_view_module": "@jupyter-widgets/controls",
       "_view_module_version": "1.5.0",
       "_view_name": "HTMLView",
       "description": "",
       "description_tooltip": null,
       "layout": "IPY_MODEL_a2646e722ae645f0bbec4fe80459004f",
       "placeholder": "​",
       "style": "IPY_MODEL_96458d62b14c4dc0bf33681a0094efe6",
       "value": " 3/3 [00:00&lt;00:00, 17.53ba/s]"
      }
     },
     "841305b80c49450ab26ea360fb4ac50b": {
      "model_module": "@jupyter-widgets/base",
      "model_module_version": "1.2.0",
      "model_name": "LayoutModel",
      "state": {
       "_model_module": "@jupyter-widgets/base",
       "_model_module_version": "1.2.0",
       "_model_name": "LayoutModel",
       "_view_count": null,
       "_view_module": "@jupyter-widgets/base",
       "_view_module_version": "1.2.0",
       "_view_name": "LayoutView",
       "align_content": null,
       "align_items": null,
       "align_self": null,
       "border": null,
       "bottom": null,
       "display": null,
       "flex": null,
       "flex_flow": null,
       "grid_area": null,
       "grid_auto_columns": null,
       "grid_auto_flow": null,
       "grid_auto_rows": null,
       "grid_column": null,
       "grid_gap": null,
       "grid_row": null,
       "grid_template_areas": null,
       "grid_template_columns": null,
       "grid_template_rows": null,
       "height": null,
       "justify_content": null,
       "justify_items": null,
       "left": null,
       "margin": null,
       "max_height": null,
       "max_width": null,
       "min_height": null,
       "min_width": null,
       "object_fit": null,
       "object_position": null,
       "order": null,
       "overflow": null,
       "overflow_x": null,
       "overflow_y": null,
       "padding": null,
       "right": null,
       "top": null,
       "visibility": null,
       "width": null
      }
     },
     "87def4708e774636ac7d879af437d376": {
      "model_module": "@jupyter-widgets/controls",
      "model_module_version": "1.5.0",
      "model_name": "DescriptionStyleModel",
      "state": {
       "_model_module": "@jupyter-widgets/controls",
       "_model_module_version": "1.5.0",
       "_model_name": "DescriptionStyleModel",
       "_view_count": null,
       "_view_module": "@jupyter-widgets/base",
       "_view_module_version": "1.2.0",
       "_view_name": "StyleView",
       "description_width": ""
      }
     },
     "880ba79011f243f3975f0dc5420b679a": {
      "model_module": "@jupyter-widgets/base",
      "model_module_version": "1.2.0",
      "model_name": "LayoutModel",
      "state": {
       "_model_module": "@jupyter-widgets/base",
       "_model_module_version": "1.2.0",
       "_model_name": "LayoutModel",
       "_view_count": null,
       "_view_module": "@jupyter-widgets/base",
       "_view_module_version": "1.2.0",
       "_view_name": "LayoutView",
       "align_content": null,
       "align_items": null,
       "align_self": null,
       "border": null,
       "bottom": null,
       "display": null,
       "flex": null,
       "flex_flow": null,
       "grid_area": null,
       "grid_auto_columns": null,
       "grid_auto_flow": null,
       "grid_auto_rows": null,
       "grid_column": null,
       "grid_gap": null,
       "grid_row": null,
       "grid_template_areas": null,
       "grid_template_columns": null,
       "grid_template_rows": null,
       "height": null,
       "justify_content": null,
       "justify_items": null,
       "left": null,
       "margin": null,
       "max_height": null,
       "max_width": null,
       "min_height": null,
       "min_width": null,
       "object_fit": null,
       "object_position": null,
       "order": null,
       "overflow": null,
       "overflow_x": null,
       "overflow_y": null,
       "padding": null,
       "right": null,
       "top": null,
       "visibility": null,
       "width": null
      }
     },
     "89d7a57548d245f19869b112287a3cd5": {
      "model_module": "@jupyter-widgets/base",
      "model_module_version": "1.2.0",
      "model_name": "LayoutModel",
      "state": {
       "_model_module": "@jupyter-widgets/base",
       "_model_module_version": "1.2.0",
       "_model_name": "LayoutModel",
       "_view_count": null,
       "_view_module": "@jupyter-widgets/base",
       "_view_module_version": "1.2.0",
       "_view_name": "LayoutView",
       "align_content": null,
       "align_items": null,
       "align_self": null,
       "border": null,
       "bottom": null,
       "display": null,
       "flex": null,
       "flex_flow": null,
       "grid_area": null,
       "grid_auto_columns": null,
       "grid_auto_flow": null,
       "grid_auto_rows": null,
       "grid_column": null,
       "grid_gap": null,
       "grid_row": null,
       "grid_template_areas": null,
       "grid_template_columns": null,
       "grid_template_rows": null,
       "height": null,
       "justify_content": null,
       "justify_items": null,
       "left": null,
       "margin": null,
       "max_height": null,
       "max_width": null,
       "min_height": null,
       "min_width": null,
       "object_fit": null,
       "object_position": null,
       "order": null,
       "overflow": null,
       "overflow_x": null,
       "overflow_y": null,
       "padding": null,
       "right": null,
       "top": null,
       "visibility": null,
       "width": null
      }
     },
     "89f8b8d88bbf4e27b73a973de73992ce": {
      "model_module": "@jupyter-widgets/controls",
      "model_module_version": "1.5.0",
      "model_name": "ProgressStyleModel",
      "state": {
       "_model_module": "@jupyter-widgets/controls",
       "_model_module_version": "1.5.0",
       "_model_name": "ProgressStyleModel",
       "_view_count": null,
       "_view_module": "@jupyter-widgets/base",
       "_view_module_version": "1.2.0",
       "_view_name": "StyleView",
       "bar_color": null,
       "description_width": ""
      }
     },
     "8bdfadc803d94095a47b0d94db1ebe28": {
      "model_module": "@jupyter-widgets/controls",
      "model_module_version": "1.5.0",
      "model_name": "HTMLModel",
      "state": {
       "_dom_classes": [],
       "_model_module": "@jupyter-widgets/controls",
       "_model_module_version": "1.5.0",
       "_model_name": "HTMLModel",
       "_view_count": null,
       "_view_module": "@jupyter-widgets/controls",
       "_view_module_version": "1.5.0",
       "_view_name": "HTMLView",
       "description": "",
       "description_tooltip": null,
       "layout": "IPY_MODEL_7f215a19f4b44fa8bf8a7e9b9a00120b",
       "placeholder": "​",
       "style": "IPY_MODEL_a5647559395948eda91772e023428c8d",
       "value": " 28/28 [03:02&lt;00:00,  5.17s/ba]"
      }
     },
     "8c45c889494a466b8e84d35c29a38eec": {
      "model_module": "@jupyter-widgets/base",
      "model_module_version": "1.2.0",
      "model_name": "LayoutModel",
      "state": {
       "_model_module": "@jupyter-widgets/base",
       "_model_module_version": "1.2.0",
       "_model_name": "LayoutModel",
       "_view_count": null,
       "_view_module": "@jupyter-widgets/base",
       "_view_module_version": "1.2.0",
       "_view_name": "LayoutView",
       "align_content": null,
       "align_items": null,
       "align_self": null,
       "border": null,
       "bottom": null,
       "display": null,
       "flex": null,
       "flex_flow": null,
       "grid_area": null,
       "grid_auto_columns": null,
       "grid_auto_flow": null,
       "grid_auto_rows": null,
       "grid_column": null,
       "grid_gap": null,
       "grid_row": null,
       "grid_template_areas": null,
       "grid_template_columns": null,
       "grid_template_rows": null,
       "height": null,
       "justify_content": null,
       "justify_items": null,
       "left": null,
       "margin": null,
       "max_height": null,
       "max_width": null,
       "min_height": null,
       "min_width": null,
       "object_fit": null,
       "object_position": null,
       "order": null,
       "overflow": null,
       "overflow_x": null,
       "overflow_y": null,
       "padding": null,
       "right": null,
       "top": null,
       "visibility": null,
       "width": null
      }
     },
     "8c90c7982f0c4a638b9853e264e71da4": {
      "model_module": "@jupyter-widgets/controls",
      "model_module_version": "1.5.0",
      "model_name": "DescriptionStyleModel",
      "state": {
       "_model_module": "@jupyter-widgets/controls",
       "_model_module_version": "1.5.0",
       "_model_name": "DescriptionStyleModel",
       "_view_count": null,
       "_view_module": "@jupyter-widgets/base",
       "_view_module_version": "1.2.0",
       "_view_name": "StyleView",
       "description_width": ""
      }
     },
     "8c9ce140e2544e9c8e24cbbe1700f554": {
      "model_module": "@jupyter-widgets/base",
      "model_module_version": "1.2.0",
      "model_name": "LayoutModel",
      "state": {
       "_model_module": "@jupyter-widgets/base",
       "_model_module_version": "1.2.0",
       "_model_name": "LayoutModel",
       "_view_count": null,
       "_view_module": "@jupyter-widgets/base",
       "_view_module_version": "1.2.0",
       "_view_name": "LayoutView",
       "align_content": null,
       "align_items": null,
       "align_self": null,
       "border": null,
       "bottom": null,
       "display": null,
       "flex": null,
       "flex_flow": null,
       "grid_area": null,
       "grid_auto_columns": null,
       "grid_auto_flow": null,
       "grid_auto_rows": null,
       "grid_column": null,
       "grid_gap": null,
       "grid_row": null,
       "grid_template_areas": null,
       "grid_template_columns": null,
       "grid_template_rows": null,
       "height": null,
       "justify_content": null,
       "justify_items": null,
       "left": null,
       "margin": null,
       "max_height": null,
       "max_width": null,
       "min_height": null,
       "min_width": null,
       "object_fit": null,
       "object_position": null,
       "order": null,
       "overflow": null,
       "overflow_x": null,
       "overflow_y": null,
       "padding": null,
       "right": null,
       "top": null,
       "visibility": null,
       "width": null
      }
     },
     "8daefb48d75642bda620524fb9396932": {
      "model_module": "@jupyter-widgets/base",
      "model_module_version": "1.2.0",
      "model_name": "LayoutModel",
      "state": {
       "_model_module": "@jupyter-widgets/base",
       "_model_module_version": "1.2.0",
       "_model_name": "LayoutModel",
       "_view_count": null,
       "_view_module": "@jupyter-widgets/base",
       "_view_module_version": "1.2.0",
       "_view_name": "LayoutView",
       "align_content": null,
       "align_items": null,
       "align_self": null,
       "border": null,
       "bottom": null,
       "display": null,
       "flex": null,
       "flex_flow": null,
       "grid_area": null,
       "grid_auto_columns": null,
       "grid_auto_flow": null,
       "grid_auto_rows": null,
       "grid_column": null,
       "grid_gap": null,
       "grid_row": null,
       "grid_template_areas": null,
       "grid_template_columns": null,
       "grid_template_rows": null,
       "height": null,
       "justify_content": null,
       "justify_items": null,
       "left": null,
       "margin": null,
       "max_height": null,
       "max_width": null,
       "min_height": null,
       "min_width": null,
       "object_fit": null,
       "object_position": null,
       "order": null,
       "overflow": null,
       "overflow_x": null,
       "overflow_y": null,
       "padding": null,
       "right": null,
       "top": null,
       "visibility": null,
       "width": null
      }
     },
     "8e16a3d3ba93455990d0b225a0c0d9c6": {
      "model_module": "@jupyter-widgets/base",
      "model_module_version": "1.2.0",
      "model_name": "LayoutModel",
      "state": {
       "_model_module": "@jupyter-widgets/base",
       "_model_module_version": "1.2.0",
       "_model_name": "LayoutModel",
       "_view_count": null,
       "_view_module": "@jupyter-widgets/base",
       "_view_module_version": "1.2.0",
       "_view_name": "LayoutView",
       "align_content": null,
       "align_items": null,
       "align_self": null,
       "border": null,
       "bottom": null,
       "display": null,
       "flex": null,
       "flex_flow": null,
       "grid_area": null,
       "grid_auto_columns": null,
       "grid_auto_flow": null,
       "grid_auto_rows": null,
       "grid_column": null,
       "grid_gap": null,
       "grid_row": null,
       "grid_template_areas": null,
       "grid_template_columns": null,
       "grid_template_rows": null,
       "height": null,
       "justify_content": null,
       "justify_items": null,
       "left": null,
       "margin": null,
       "max_height": null,
       "max_width": null,
       "min_height": null,
       "min_width": null,
       "object_fit": null,
       "object_position": null,
       "order": null,
       "overflow": null,
       "overflow_x": null,
       "overflow_y": null,
       "padding": null,
       "right": null,
       "top": null,
       "visibility": null,
       "width": null
      }
     },
     "8e430e5ce1c74415a923ccde6362f9e4": {
      "model_module": "@jupyter-widgets/controls",
      "model_module_version": "1.5.0",
      "model_name": "HTMLModel",
      "state": {
       "_dom_classes": [],
       "_model_module": "@jupyter-widgets/controls",
       "_model_module_version": "1.5.0",
       "_model_name": "HTMLModel",
       "_view_count": null,
       "_view_module": "@jupyter-widgets/controls",
       "_view_module_version": "1.5.0",
       "_view_name": "HTMLView",
       "description": "",
       "description_tooltip": null,
       "layout": "IPY_MODEL_39e12f305fdc4f758ac4ffcfdc1b7ba9",
       "placeholder": "​",
       "style": "IPY_MODEL_6897dd97aea3405091b733ee530f4637",
       "value": "Casting the dataset: 100%"
      }
     },
     "8f34374d1f14476099b4af3afba49ea8": {
      "model_module": "@jupyter-widgets/base",
      "model_module_version": "1.2.0",
      "model_name": "LayoutModel",
      "state": {
       "_model_module": "@jupyter-widgets/base",
       "_model_module_version": "1.2.0",
       "_model_name": "LayoutModel",
       "_view_count": null,
       "_view_module": "@jupyter-widgets/base",
       "_view_module_version": "1.2.0",
       "_view_name": "LayoutView",
       "align_content": null,
       "align_items": null,
       "align_self": null,
       "border": null,
       "bottom": null,
       "display": null,
       "flex": null,
       "flex_flow": null,
       "grid_area": null,
       "grid_auto_columns": null,
       "grid_auto_flow": null,
       "grid_auto_rows": null,
       "grid_column": null,
       "grid_gap": null,
       "grid_row": null,
       "grid_template_areas": null,
       "grid_template_columns": null,
       "grid_template_rows": null,
       "height": null,
       "justify_content": null,
       "justify_items": null,
       "left": null,
       "margin": null,
       "max_height": null,
       "max_width": null,
       "min_height": null,
       "min_width": null,
       "object_fit": null,
       "object_position": null,
       "order": null,
       "overflow": null,
       "overflow_x": null,
       "overflow_y": null,
       "padding": null,
       "right": null,
       "top": null,
       "visibility": null,
       "width": null
      }
     },
     "8f45a655d1264713af94a7cc1e719366": {
      "model_module": "@jupyter-widgets/base",
      "model_module_version": "1.2.0",
      "model_name": "LayoutModel",
      "state": {
       "_model_module": "@jupyter-widgets/base",
       "_model_module_version": "1.2.0",
       "_model_name": "LayoutModel",
       "_view_count": null,
       "_view_module": "@jupyter-widgets/base",
       "_view_module_version": "1.2.0",
       "_view_name": "LayoutView",
       "align_content": null,
       "align_items": null,
       "align_self": null,
       "border": null,
       "bottom": null,
       "display": null,
       "flex": null,
       "flex_flow": null,
       "grid_area": null,
       "grid_auto_columns": null,
       "grid_auto_flow": null,
       "grid_auto_rows": null,
       "grid_column": null,
       "grid_gap": null,
       "grid_row": null,
       "grid_template_areas": null,
       "grid_template_columns": null,
       "grid_template_rows": null,
       "height": null,
       "justify_content": null,
       "justify_items": null,
       "left": null,
       "margin": null,
       "max_height": null,
       "max_width": null,
       "min_height": null,
       "min_width": null,
       "object_fit": null,
       "object_position": null,
       "order": null,
       "overflow": null,
       "overflow_x": null,
       "overflow_y": null,
       "padding": null,
       "right": null,
       "top": null,
       "visibility": null,
       "width": null
      }
     },
     "8fbadcfb2e3b43949e4243d690311c13": {
      "model_module": "@jupyter-widgets/controls",
      "model_module_version": "1.5.0",
      "model_name": "DescriptionStyleModel",
      "state": {
       "_model_module": "@jupyter-widgets/controls",
       "_model_module_version": "1.5.0",
       "_model_name": "DescriptionStyleModel",
       "_view_count": null,
       "_view_module": "@jupyter-widgets/base",
       "_view_module_version": "1.2.0",
       "_view_name": "StyleView",
       "description_width": ""
      }
     },
     "90430ce53e1e469987996301bbb479bc": {
      "model_module": "@jupyter-widgets/base",
      "model_module_version": "1.2.0",
      "model_name": "LayoutModel",
      "state": {
       "_model_module": "@jupyter-widgets/base",
       "_model_module_version": "1.2.0",
       "_model_name": "LayoutModel",
       "_view_count": null,
       "_view_module": "@jupyter-widgets/base",
       "_view_module_version": "1.2.0",
       "_view_name": "LayoutView",
       "align_content": null,
       "align_items": null,
       "align_self": null,
       "border": null,
       "bottom": null,
       "display": null,
       "flex": null,
       "flex_flow": null,
       "grid_area": null,
       "grid_auto_columns": null,
       "grid_auto_flow": null,
       "grid_auto_rows": null,
       "grid_column": null,
       "grid_gap": null,
       "grid_row": null,
       "grid_template_areas": null,
       "grid_template_columns": null,
       "grid_template_rows": null,
       "height": null,
       "justify_content": null,
       "justify_items": null,
       "left": null,
       "margin": null,
       "max_height": null,
       "max_width": null,
       "min_height": null,
       "min_width": null,
       "object_fit": null,
       "object_position": null,
       "order": null,
       "overflow": null,
       "overflow_x": null,
       "overflow_y": null,
       "padding": null,
       "right": null,
       "top": null,
       "visibility": null,
       "width": null
      }
     },
     "91d67307d33443c599cccaf5152ec326": {
      "model_module": "@jupyter-widgets/controls",
      "model_module_version": "1.5.0",
      "model_name": "HBoxModel",
      "state": {
       "_dom_classes": [],
       "_model_module": "@jupyter-widgets/controls",
       "_model_module_version": "1.5.0",
       "_model_name": "HBoxModel",
       "_view_count": null,
       "_view_module": "@jupyter-widgets/controls",
       "_view_module_version": "1.5.0",
       "_view_name": "HBoxView",
       "box_style": "",
       "children": [
        "IPY_MODEL_370568388bff48cb90f2b080925e99b1",
        "IPY_MODEL_7e50ecfba18e4b35b49a0f46b6c71326",
        "IPY_MODEL_0736458c44da4cbf8884b91694e2b1fc"
       ],
       "layout": "IPY_MODEL_4c8ea63f3e9543a9880d080087e0c40a"
      }
     },
     "93b83764f8f74c4aa7b191347303a373": {
      "model_module": "@jupyter-widgets/controls",
      "model_module_version": "1.5.0",
      "model_name": "HTMLModel",
      "state": {
       "_dom_classes": [],
       "_model_module": "@jupyter-widgets/controls",
       "_model_module_version": "1.5.0",
       "_model_name": "HTMLModel",
       "_view_count": null,
       "_view_module": "@jupyter-widgets/controls",
       "_view_module_version": "1.5.0",
       "_view_name": "HTMLView",
       "description": "",
       "description_tooltip": null,
       "layout": "IPY_MODEL_e2c05b6ac1d6487ab07b75c4e54f4a76",
       "placeholder": "​",
       "style": "IPY_MODEL_13574720d59e442183a66c83300ca2c2",
       "value": " 10/10 [00:51&lt;00:00,  4.52s/ba]"
      }
     },
     "9430ade7a7054d6cad8a3b142a428b0c": {
      "model_module": "@jupyter-widgets/base",
      "model_module_version": "1.2.0",
      "model_name": "LayoutModel",
      "state": {
       "_model_module": "@jupyter-widgets/base",
       "_model_module_version": "1.2.0",
       "_model_name": "LayoutModel",
       "_view_count": null,
       "_view_module": "@jupyter-widgets/base",
       "_view_module_version": "1.2.0",
       "_view_name": "LayoutView",
       "align_content": null,
       "align_items": null,
       "align_self": null,
       "border": null,
       "bottom": null,
       "display": null,
       "flex": null,
       "flex_flow": null,
       "grid_area": null,
       "grid_auto_columns": null,
       "grid_auto_flow": null,
       "grid_auto_rows": null,
       "grid_column": null,
       "grid_gap": null,
       "grid_row": null,
       "grid_template_areas": null,
       "grid_template_columns": null,
       "grid_template_rows": null,
       "height": null,
       "justify_content": null,
       "justify_items": null,
       "left": null,
       "margin": null,
       "max_height": null,
       "max_width": null,
       "min_height": null,
       "min_width": null,
       "object_fit": null,
       "object_position": null,
       "order": null,
       "overflow": null,
       "overflow_x": null,
       "overflow_y": null,
       "padding": null,
       "right": null,
       "top": null,
       "visibility": null,
       "width": null
      }
     },
     "944ea73bdc7f4d728f3e4d33458d942a": {
      "model_module": "@jupyter-widgets/base",
      "model_module_version": "1.2.0",
      "model_name": "LayoutModel",
      "state": {
       "_model_module": "@jupyter-widgets/base",
       "_model_module_version": "1.2.0",
       "_model_name": "LayoutModel",
       "_view_count": null,
       "_view_module": "@jupyter-widgets/base",
       "_view_module_version": "1.2.0",
       "_view_name": "LayoutView",
       "align_content": null,
       "align_items": null,
       "align_self": null,
       "border": null,
       "bottom": null,
       "display": null,
       "flex": null,
       "flex_flow": null,
       "grid_area": null,
       "grid_auto_columns": null,
       "grid_auto_flow": null,
       "grid_auto_rows": null,
       "grid_column": null,
       "grid_gap": null,
       "grid_row": null,
       "grid_template_areas": null,
       "grid_template_columns": null,
       "grid_template_rows": null,
       "height": null,
       "justify_content": null,
       "justify_items": null,
       "left": null,
       "margin": null,
       "max_height": null,
       "max_width": null,
       "min_height": null,
       "min_width": null,
       "object_fit": null,
       "object_position": null,
       "order": null,
       "overflow": null,
       "overflow_x": null,
       "overflow_y": null,
       "padding": null,
       "right": null,
       "top": null,
       "visibility": null,
       "width": null
      }
     },
     "94a2fb209d544fee8cdfb2ab78fe35c2": {
      "model_module": "@jupyter-widgets/base",
      "model_module_version": "1.2.0",
      "model_name": "LayoutModel",
      "state": {
       "_model_module": "@jupyter-widgets/base",
       "_model_module_version": "1.2.0",
       "_model_name": "LayoutModel",
       "_view_count": null,
       "_view_module": "@jupyter-widgets/base",
       "_view_module_version": "1.2.0",
       "_view_name": "LayoutView",
       "align_content": null,
       "align_items": null,
       "align_self": null,
       "border": null,
       "bottom": null,
       "display": null,
       "flex": null,
       "flex_flow": null,
       "grid_area": null,
       "grid_auto_columns": null,
       "grid_auto_flow": null,
       "grid_auto_rows": null,
       "grid_column": null,
       "grid_gap": null,
       "grid_row": null,
       "grid_template_areas": null,
       "grid_template_columns": null,
       "grid_template_rows": null,
       "height": null,
       "justify_content": null,
       "justify_items": null,
       "left": null,
       "margin": null,
       "max_height": null,
       "max_width": null,
       "min_height": null,
       "min_width": null,
       "object_fit": null,
       "object_position": null,
       "order": null,
       "overflow": null,
       "overflow_x": null,
       "overflow_y": null,
       "padding": null,
       "right": null,
       "top": null,
       "visibility": null,
       "width": null
      }
     },
     "94ec5ad587db49b8960c08142e28851c": {
      "model_module": "@jupyter-widgets/controls",
      "model_module_version": "1.5.0",
      "model_name": "DescriptionStyleModel",
      "state": {
       "_model_module": "@jupyter-widgets/controls",
       "_model_module_version": "1.5.0",
       "_model_name": "DescriptionStyleModel",
       "_view_count": null,
       "_view_module": "@jupyter-widgets/base",
       "_view_module_version": "1.2.0",
       "_view_name": "StyleView",
       "description_width": ""
      }
     },
     "959e0f79bedf4dd08f45fecc9e30a90c": {
      "model_module": "@jupyter-widgets/controls",
      "model_module_version": "1.5.0",
      "model_name": "ProgressStyleModel",
      "state": {
       "_model_module": "@jupyter-widgets/controls",
       "_model_module_version": "1.5.0",
       "_model_name": "ProgressStyleModel",
       "_view_count": null,
       "_view_module": "@jupyter-widgets/base",
       "_view_module_version": "1.2.0",
       "_view_name": "StyleView",
       "bar_color": null,
       "description_width": ""
      }
     },
     "96458d62b14c4dc0bf33681a0094efe6": {
      "model_module": "@jupyter-widgets/controls",
      "model_module_version": "1.5.0",
      "model_name": "DescriptionStyleModel",
      "state": {
       "_model_module": "@jupyter-widgets/controls",
       "_model_module_version": "1.5.0",
       "_model_name": "DescriptionStyleModel",
       "_view_count": null,
       "_view_module": "@jupyter-widgets/base",
       "_view_module_version": "1.2.0",
       "_view_name": "StyleView",
       "description_width": ""
      }
     },
     "96b9d57a337d41ea9e7ea4e2fefd605b": {
      "model_module": "@jupyter-widgets/base",
      "model_module_version": "1.2.0",
      "model_name": "LayoutModel",
      "state": {
       "_model_module": "@jupyter-widgets/base",
       "_model_module_version": "1.2.0",
       "_model_name": "LayoutModel",
       "_view_count": null,
       "_view_module": "@jupyter-widgets/base",
       "_view_module_version": "1.2.0",
       "_view_name": "LayoutView",
       "align_content": null,
       "align_items": null,
       "align_self": null,
       "border": null,
       "bottom": null,
       "display": null,
       "flex": null,
       "flex_flow": null,
       "grid_area": null,
       "grid_auto_columns": null,
       "grid_auto_flow": null,
       "grid_auto_rows": null,
       "grid_column": null,
       "grid_gap": null,
       "grid_row": null,
       "grid_template_areas": null,
       "grid_template_columns": null,
       "grid_template_rows": null,
       "height": null,
       "justify_content": null,
       "justify_items": null,
       "left": null,
       "margin": null,
       "max_height": null,
       "max_width": null,
       "min_height": null,
       "min_width": null,
       "object_fit": null,
       "object_position": null,
       "order": null,
       "overflow": null,
       "overflow_x": null,
       "overflow_y": null,
       "padding": null,
       "right": null,
       "top": null,
       "visibility": null,
       "width": null
      }
     },
     "9837aa94bebb4cb7a9341f71faf73da1": {
      "model_module": "@jupyter-widgets/controls",
      "model_module_version": "1.5.0",
      "model_name": "FloatProgressModel",
      "state": {
       "_dom_classes": [],
       "_model_module": "@jupyter-widgets/controls",
       "_model_module_version": "1.5.0",
       "_model_name": "FloatProgressModel",
       "_view_count": null,
       "_view_module": "@jupyter-widgets/controls",
       "_view_module_version": "1.5.0",
       "_view_name": "ProgressView",
       "bar_style": "success",
       "description": "",
       "description_tooltip": null,
       "layout": "IPY_MODEL_8177bc73ddfe4c79acee4347753bc833",
       "max": 1,
       "min": 0,
       "orientation": "horizontal",
       "style": "IPY_MODEL_5228137a9aaf466187eb09161031a1f7",
       "value": 1
      }
     },
     "98557234edea4926af9f7c75898416ef": {
      "model_module": "@jupyter-widgets/base",
      "model_module_version": "1.2.0",
      "model_name": "LayoutModel",
      "state": {
       "_model_module": "@jupyter-widgets/base",
       "_model_module_version": "1.2.0",
       "_model_name": "LayoutModel",
       "_view_count": null,
       "_view_module": "@jupyter-widgets/base",
       "_view_module_version": "1.2.0",
       "_view_name": "LayoutView",
       "align_content": null,
       "align_items": null,
       "align_self": null,
       "border": null,
       "bottom": null,
       "display": null,
       "flex": null,
       "flex_flow": null,
       "grid_area": null,
       "grid_auto_columns": null,
       "grid_auto_flow": null,
       "grid_auto_rows": null,
       "grid_column": null,
       "grid_gap": null,
       "grid_row": null,
       "grid_template_areas": null,
       "grid_template_columns": null,
       "grid_template_rows": null,
       "height": null,
       "justify_content": null,
       "justify_items": null,
       "left": null,
       "margin": null,
       "max_height": null,
       "max_width": null,
       "min_height": null,
       "min_width": null,
       "object_fit": null,
       "object_position": null,
       "order": null,
       "overflow": null,
       "overflow_x": null,
       "overflow_y": null,
       "padding": null,
       "right": null,
       "top": null,
       "visibility": null,
       "width": null
      }
     },
     "9899a3f9a5044acbb1c079a1d81c73a9": {
      "model_module": "@jupyter-widgets/base",
      "model_module_version": "1.2.0",
      "model_name": "LayoutModel",
      "state": {
       "_model_module": "@jupyter-widgets/base",
       "_model_module_version": "1.2.0",
       "_model_name": "LayoutModel",
       "_view_count": null,
       "_view_module": "@jupyter-widgets/base",
       "_view_module_version": "1.2.0",
       "_view_name": "LayoutView",
       "align_content": null,
       "align_items": null,
       "align_self": null,
       "border": null,
       "bottom": null,
       "display": null,
       "flex": null,
       "flex_flow": null,
       "grid_area": null,
       "grid_auto_columns": null,
       "grid_auto_flow": null,
       "grid_auto_rows": null,
       "grid_column": null,
       "grid_gap": null,
       "grid_row": null,
       "grid_template_areas": null,
       "grid_template_columns": null,
       "grid_template_rows": null,
       "height": null,
       "justify_content": null,
       "justify_items": null,
       "left": null,
       "margin": null,
       "max_height": null,
       "max_width": null,
       "min_height": null,
       "min_width": null,
       "object_fit": null,
       "object_position": null,
       "order": null,
       "overflow": null,
       "overflow_x": null,
       "overflow_y": null,
       "padding": null,
       "right": null,
       "top": null,
       "visibility": null,
       "width": null
      }
     },
     "9912b271c7ec4a87a6fa9a5738589a1e": {
      "model_module": "@jupyter-widgets/base",
      "model_module_version": "1.2.0",
      "model_name": "LayoutModel",
      "state": {
       "_model_module": "@jupyter-widgets/base",
       "_model_module_version": "1.2.0",
       "_model_name": "LayoutModel",
       "_view_count": null,
       "_view_module": "@jupyter-widgets/base",
       "_view_module_version": "1.2.0",
       "_view_name": "LayoutView",
       "align_content": null,
       "align_items": null,
       "align_self": null,
       "border": null,
       "bottom": null,
       "display": null,
       "flex": null,
       "flex_flow": null,
       "grid_area": null,
       "grid_auto_columns": null,
       "grid_auto_flow": null,
       "grid_auto_rows": null,
       "grid_column": null,
       "grid_gap": null,
       "grid_row": null,
       "grid_template_areas": null,
       "grid_template_columns": null,
       "grid_template_rows": null,
       "height": null,
       "justify_content": null,
       "justify_items": null,
       "left": null,
       "margin": null,
       "max_height": null,
       "max_width": null,
       "min_height": null,
       "min_width": null,
       "object_fit": null,
       "object_position": null,
       "order": null,
       "overflow": null,
       "overflow_x": null,
       "overflow_y": null,
       "padding": null,
       "right": null,
       "top": null,
       "visibility": null,
       "width": null
      }
     },
     "99a3dd6bda604547b78bafe8f0737822": {
      "model_module": "@jupyter-widgets/controls",
      "model_module_version": "1.5.0",
      "model_name": "DescriptionStyleModel",
      "state": {
       "_model_module": "@jupyter-widgets/controls",
       "_model_module_version": "1.5.0",
       "_model_name": "DescriptionStyleModel",
       "_view_count": null,
       "_view_module": "@jupyter-widgets/base",
       "_view_module_version": "1.2.0",
       "_view_name": "StyleView",
       "description_width": ""
      }
     },
     "9c7a58d6541e4ee8b677ba438b127c26": {
      "model_module": "@jupyter-widgets/controls",
      "model_module_version": "1.5.0",
      "model_name": "FloatProgressModel",
      "state": {
       "_dom_classes": [],
       "_model_module": "@jupyter-widgets/controls",
       "_model_module_version": "1.5.0",
       "_model_name": "FloatProgressModel",
       "_view_count": null,
       "_view_module": "@jupyter-widgets/controls",
       "_view_module_version": "1.5.0",
       "_view_name": "ProgressView",
       "bar_style": "success",
       "description": "",
       "description_tooltip": null,
       "layout": "IPY_MODEL_df1ff76ec64d4b00ab28b010ccae8957",
       "max": 10,
       "min": 0,
       "orientation": "horizontal",
       "style": "IPY_MODEL_a9e80634c4b8451d9b083f23616b6dd6",
       "value": 10
      }
     },
     "9c7f41b6419f42f887a2ad61f3ee5d60": {
      "model_module": "@jupyter-widgets/controls",
      "model_module_version": "1.5.0",
      "model_name": "HTMLModel",
      "state": {
       "_dom_classes": [],
       "_model_module": "@jupyter-widgets/controls",
       "_model_module_version": "1.5.0",
       "_model_name": "HTMLModel",
       "_view_count": null,
       "_view_module": "@jupyter-widgets/controls",
       "_view_module_version": "1.5.0",
       "_view_name": "HTMLView",
       "description": "",
       "description_tooltip": null,
       "layout": "IPY_MODEL_0c39254f6632492ca974c49d2b9a9043",
       "placeholder": "​",
       "style": "IPY_MODEL_2b2cc1839da3437d9c0a77f1d371bf8e",
       "value": " 1/1 [00:00&lt;00:00, 11.63ba/s]"
      }
     },
     "9cee0199d0e64b4f87be25228f003976": {
      "model_module": "@jupyter-widgets/controls",
      "model_module_version": "1.5.0",
      "model_name": "HTMLModel",
      "state": {
       "_dom_classes": [],
       "_model_module": "@jupyter-widgets/controls",
       "_model_module_version": "1.5.0",
       "_model_name": "HTMLModel",
       "_view_count": null,
       "_view_module": "@jupyter-widgets/controls",
       "_view_module_version": "1.5.0",
       "_view_name": "HTMLView",
       "description": "",
       "description_tooltip": null,
       "layout": "IPY_MODEL_596d44f91ee245508585be5587fcc4ee",
       "placeholder": "​",
       "style": "IPY_MODEL_1f53f6b7cae54ea1ba83c98bc9de2cd9",
       "value": "100%"
      }
     },
     "9cfb2ba2de3e4dcb9b8950cbf94ea8db": {
      "model_module": "@jupyter-widgets/base",
      "model_module_version": "1.2.0",
      "model_name": "LayoutModel",
      "state": {
       "_model_module": "@jupyter-widgets/base",
       "_model_module_version": "1.2.0",
       "_model_name": "LayoutModel",
       "_view_count": null,
       "_view_module": "@jupyter-widgets/base",
       "_view_module_version": "1.2.0",
       "_view_name": "LayoutView",
       "align_content": null,
       "align_items": null,
       "align_self": null,
       "border": null,
       "bottom": null,
       "display": null,
       "flex": null,
       "flex_flow": null,
       "grid_area": null,
       "grid_auto_columns": null,
       "grid_auto_flow": null,
       "grid_auto_rows": null,
       "grid_column": null,
       "grid_gap": null,
       "grid_row": null,
       "grid_template_areas": null,
       "grid_template_columns": null,
       "grid_template_rows": null,
       "height": null,
       "justify_content": null,
       "justify_items": null,
       "left": null,
       "margin": null,
       "max_height": null,
       "max_width": null,
       "min_height": null,
       "min_width": null,
       "object_fit": null,
       "object_position": null,
       "order": null,
       "overflow": null,
       "overflow_x": null,
       "overflow_y": null,
       "padding": null,
       "right": null,
       "top": null,
       "visibility": null,
       "width": null
      }
     },
     "9d5b6894f17845e1b02bc16d48e3c32f": {
      "model_module": "@jupyter-widgets/controls",
      "model_module_version": "1.5.0",
      "model_name": "HTMLModel",
      "state": {
       "_dom_classes": [],
       "_model_module": "@jupyter-widgets/controls",
       "_model_module_version": "1.5.0",
       "_model_name": "HTMLModel",
       "_view_count": null,
       "_view_module": "@jupyter-widgets/controls",
       "_view_module_version": "1.5.0",
       "_view_name": "HTMLView",
       "description": "",
       "description_tooltip": null,
       "layout": "IPY_MODEL_c7261d239bd7447c8de596c38190a43f",
       "placeholder": "​",
       "style": "IPY_MODEL_215adab9c4074eb4aa362edded6010c7",
       "value": "Casting to class labels: 100%"
      }
     },
     "9daab76a23b0444b855285d8c4ff9550": {
      "model_module": "@jupyter-widgets/base",
      "model_module_version": "1.2.0",
      "model_name": "LayoutModel",
      "state": {
       "_model_module": "@jupyter-widgets/base",
       "_model_module_version": "1.2.0",
       "_model_name": "LayoutModel",
       "_view_count": null,
       "_view_module": "@jupyter-widgets/base",
       "_view_module_version": "1.2.0",
       "_view_name": "LayoutView",
       "align_content": null,
       "align_items": null,
       "align_self": null,
       "border": null,
       "bottom": null,
       "display": null,
       "flex": null,
       "flex_flow": null,
       "grid_area": null,
       "grid_auto_columns": null,
       "grid_auto_flow": null,
       "grid_auto_rows": null,
       "grid_column": null,
       "grid_gap": null,
       "grid_row": null,
       "grid_template_areas": null,
       "grid_template_columns": null,
       "grid_template_rows": null,
       "height": null,
       "justify_content": null,
       "justify_items": null,
       "left": null,
       "margin": null,
       "max_height": null,
       "max_width": null,
       "min_height": null,
       "min_width": null,
       "object_fit": null,
       "object_position": null,
       "order": null,
       "overflow": null,
       "overflow_x": null,
       "overflow_y": null,
       "padding": null,
       "right": null,
       "top": null,
       "visibility": null,
       "width": null
      }
     },
     "9dac0f2d4792449c953a8f4a6fd67856": {
      "model_module": "@jupyter-widgets/controls",
      "model_module_version": "1.5.0",
      "model_name": "HTMLModel",
      "state": {
       "_dom_classes": [],
       "_model_module": "@jupyter-widgets/controls",
       "_model_module_version": "1.5.0",
       "_model_name": "HTMLModel",
       "_view_count": null,
       "_view_module": "@jupyter-widgets/controls",
       "_view_module_version": "1.5.0",
       "_view_name": "HTMLView",
       "description": "",
       "description_tooltip": null,
       "layout": "IPY_MODEL_3773c4c62c3e48a2b6b87d1374b8c6ef",
       "placeholder": "​",
       "style": "IPY_MODEL_0216377ef816459396c35cbfb0ba7ade",
       "value": " 10/10 [00:00&lt;00:00, 99.95ba/s]"
      }
     },
     "9ebae16cd7a345c88260f7853c2dbf46": {
      "model_module": "@jupyter-widgets/controls",
      "model_module_version": "1.5.0",
      "model_name": "HTMLModel",
      "state": {
       "_dom_classes": [],
       "_model_module": "@jupyter-widgets/controls",
       "_model_module_version": "1.5.0",
       "_model_name": "HTMLModel",
       "_view_count": null,
       "_view_module": "@jupyter-widgets/controls",
       "_view_module_version": "1.5.0",
       "_view_name": "HTMLView",
       "description": "",
       "description_tooltip": null,
       "layout": "IPY_MODEL_d589063afb4d4da7ad5fc799284bc40e",
       "placeholder": "​",
       "style": "IPY_MODEL_3917dc66c45e4c9699e58b45f97d63ed",
       "value": "100%"
      }
     },
     "9f0da113ff964bf99cbab654b45e81b1": {
      "model_module": "@jupyter-widgets/controls",
      "model_module_version": "1.5.0",
      "model_name": "DescriptionStyleModel",
      "state": {
       "_model_module": "@jupyter-widgets/controls",
       "_model_module_version": "1.5.0",
       "_model_name": "DescriptionStyleModel",
       "_view_count": null,
       "_view_module": "@jupyter-widgets/base",
       "_view_module_version": "1.2.0",
       "_view_name": "StyleView",
       "description_width": ""
      }
     },
     "9f91eb493edc4579915c13f8147f89e9": {
      "model_module": "@jupyter-widgets/controls",
      "model_module_version": "1.5.0",
      "model_name": "VBoxModel",
      "state": {
       "_dom_classes": [],
       "_model_module": "@jupyter-widgets/controls",
       "_model_module_version": "1.5.0",
       "_model_name": "VBoxModel",
       "_view_count": null,
       "_view_module": "@jupyter-widgets/controls",
       "_view_module_version": "1.5.0",
       "_view_name": "VBoxView",
       "box_style": "",
       "children": [
        "IPY_MODEL_c89e0f0c2cf24727945c9269366ebfe6",
        "IPY_MODEL_f134bfcb1fa745e1800ef3d80435d32a"
       ],
       "layout": "IPY_MODEL_98557234edea4926af9f7c75898416ef"
      }
     },
     "a0743be6bde34853a2635491014dcb74": {
      "model_module": "@jupyter-widgets/controls",
      "model_module_version": "1.5.0",
      "model_name": "DescriptionStyleModel",
      "state": {
       "_model_module": "@jupyter-widgets/controls",
       "_model_module_version": "1.5.0",
       "_model_name": "DescriptionStyleModel",
       "_view_count": null,
       "_view_module": "@jupyter-widgets/base",
       "_view_module_version": "1.2.0",
       "_view_name": "StyleView",
       "description_width": ""
      }
     },
     "a09839e688fa47b4bfb26c9c6636f3e7": {
      "model_module": "@jupyter-widgets/controls",
      "model_module_version": "1.5.0",
      "model_name": "HTMLModel",
      "state": {
       "_dom_classes": [],
       "_model_module": "@jupyter-widgets/controls",
       "_model_module_version": "1.5.0",
       "_model_name": "HTMLModel",
       "_view_count": null,
       "_view_module": "@jupyter-widgets/controls",
       "_view_module_version": "1.5.0",
       "_view_name": "HTMLView",
       "description": "",
       "description_tooltip": null,
       "layout": "IPY_MODEL_68375f41ee334f8e802eb59da93a3c3d",
       "placeholder": "​",
       "style": "IPY_MODEL_b922ea85888d476ea91c4683e5bcd685",
       "value": "100%"
      }
     },
     "a0b50c2abc1140698dff4cf856463a41": {
      "model_module": "@jupyter-widgets/controls",
      "model_module_version": "1.5.0",
      "model_name": "HBoxModel",
      "state": {
       "_dom_classes": [],
       "_model_module": "@jupyter-widgets/controls",
       "_model_module_version": "1.5.0",
       "_model_name": "HBoxModel",
       "_view_count": null,
       "_view_module": "@jupyter-widgets/controls",
       "_view_module_version": "1.5.0",
       "_view_name": "HBoxView",
       "box_style": "",
       "children": [
        "IPY_MODEL_c1ea7b76982f4882a40c1aac7019f602",
        "IPY_MODEL_f72641ddae404b91bc00e96cb15250c4",
        "IPY_MODEL_bfbe9b51e3574921886bec9e554e299b"
       ],
       "layout": "IPY_MODEL_c693bbb100114578be966af412562a60"
      }
     },
     "a1090525804145eab5251de56027d751": {
      "model_module": "@jupyter-widgets/controls",
      "model_module_version": "1.5.0",
      "model_name": "HTMLModel",
      "state": {
       "_dom_classes": [],
       "_model_module": "@jupyter-widgets/controls",
       "_model_module_version": "1.5.0",
       "_model_name": "HTMLModel",
       "_view_count": null,
       "_view_module": "@jupyter-widgets/controls",
       "_view_module_version": "1.5.0",
       "_view_name": "HTMLView",
       "description": "",
       "description_tooltip": null,
       "layout": "IPY_MODEL_f151d4ca49744fbcb96cfd63962f9653",
       "placeholder": "​",
       "style": "IPY_MODEL_822861aa427840f29a8d86d370970c79",
       "value": " 28/28 [00:00&lt;00:00, 111.89ba/s]"
      }
     },
     "a192e61705c4495bbc12918dc5fa1301": {
      "model_module": "@jupyter-widgets/base",
      "model_module_version": "1.2.0",
      "model_name": "LayoutModel",
      "state": {
       "_model_module": "@jupyter-widgets/base",
       "_model_module_version": "1.2.0",
       "_model_name": "LayoutModel",
       "_view_count": null,
       "_view_module": "@jupyter-widgets/base",
       "_view_module_version": "1.2.0",
       "_view_name": "LayoutView",
       "align_content": null,
       "align_items": null,
       "align_self": null,
       "border": null,
       "bottom": null,
       "display": null,
       "flex": null,
       "flex_flow": null,
       "grid_area": null,
       "grid_auto_columns": null,
       "grid_auto_flow": null,
       "grid_auto_rows": null,
       "grid_column": null,
       "grid_gap": null,
       "grid_row": null,
       "grid_template_areas": null,
       "grid_template_columns": null,
       "grid_template_rows": null,
       "height": null,
       "justify_content": null,
       "justify_items": null,
       "left": null,
       "margin": null,
       "max_height": null,
       "max_width": null,
       "min_height": null,
       "min_width": null,
       "object_fit": null,
       "object_position": null,
       "order": null,
       "overflow": null,
       "overflow_x": null,
       "overflow_y": null,
       "padding": null,
       "right": null,
       "top": null,
       "visibility": null,
       "width": null
      }
     },
     "a201d44a19c844ffa04102a2a14622a5": {
      "model_module": "@jupyter-widgets/controls",
      "model_module_version": "1.5.0",
      "model_name": "ProgressStyleModel",
      "state": {
       "_model_module": "@jupyter-widgets/controls",
       "_model_module_version": "1.5.0",
       "_model_name": "ProgressStyleModel",
       "_view_count": null,
       "_view_module": "@jupyter-widgets/base",
       "_view_module_version": "1.2.0",
       "_view_name": "StyleView",
       "bar_color": null,
       "description_width": ""
      }
     },
     "a2646e722ae645f0bbec4fe80459004f": {
      "model_module": "@jupyter-widgets/base",
      "model_module_version": "1.2.0",
      "model_name": "LayoutModel",
      "state": {
       "_model_module": "@jupyter-widgets/base",
       "_model_module_version": "1.2.0",
       "_model_name": "LayoutModel",
       "_view_count": null,
       "_view_module": "@jupyter-widgets/base",
       "_view_module_version": "1.2.0",
       "_view_name": "LayoutView",
       "align_content": null,
       "align_items": null,
       "align_self": null,
       "border": null,
       "bottom": null,
       "display": null,
       "flex": null,
       "flex_flow": null,
       "grid_area": null,
       "grid_auto_columns": null,
       "grid_auto_flow": null,
       "grid_auto_rows": null,
       "grid_column": null,
       "grid_gap": null,
       "grid_row": null,
       "grid_template_areas": null,
       "grid_template_columns": null,
       "grid_template_rows": null,
       "height": null,
       "justify_content": null,
       "justify_items": null,
       "left": null,
       "margin": null,
       "max_height": null,
       "max_width": null,
       "min_height": null,
       "min_width": null,
       "object_fit": null,
       "object_position": null,
       "order": null,
       "overflow": null,
       "overflow_x": null,
       "overflow_y": null,
       "padding": null,
       "right": null,
       "top": null,
       "visibility": null,
       "width": null
      }
     },
     "a338e2379bea41479ddf1c472c7a1603": {
      "model_module": "@jupyter-widgets/controls",
      "model_module_version": "1.5.0",
      "model_name": "HBoxModel",
      "state": {
       "_dom_classes": [],
       "_model_module": "@jupyter-widgets/controls",
       "_model_module_version": "1.5.0",
       "_model_name": "HBoxModel",
       "_view_count": null,
       "_view_module": "@jupyter-widgets/controls",
       "_view_module_version": "1.5.0",
       "_view_name": "HBoxView",
       "box_style": "",
       "children": [
        "IPY_MODEL_a09839e688fa47b4bfb26c9c6636f3e7",
        "IPY_MODEL_10c7983c7d0a4fadb54afc12c9980635",
        "IPY_MODEL_8bdfadc803d94095a47b0d94db1ebe28"
       ],
       "layout": "IPY_MODEL_41aa8384f12a453b96d8e11f3ab50855"
      }
     },
     "a3affd7cf754462aa706797260bc7267": {
      "model_module": "@jupyter-widgets/controls",
      "model_module_version": "1.5.0",
      "model_name": "HTMLModel",
      "state": {
       "_dom_classes": [],
       "_model_module": "@jupyter-widgets/controls",
       "_model_module_version": "1.5.0",
       "_model_name": "HTMLModel",
       "_view_count": null,
       "_view_module": "@jupyter-widgets/controls",
       "_view_module_version": "1.5.0",
       "_view_name": "HTMLView",
       "description": "",
       "description_tooltip": null,
       "layout": "IPY_MODEL_73414cbeae914900a07d7fc49f0f308f",
       "placeholder": "​",
       "style": "IPY_MODEL_b46e4386554b49a9ad0831557faf4371",
       "value": " 10/10 [00:00&lt;00:00, 78.27ba/s]"
      }
     },
     "a3c5da2a278c42e3bcdcc358aba4b919": {
      "model_module": "@jupyter-widgets/controls",
      "model_module_version": "1.5.0",
      "model_name": "HBoxModel",
      "state": {
       "_dom_classes": [],
       "_model_module": "@jupyter-widgets/controls",
       "_model_module_version": "1.5.0",
       "_model_name": "HBoxModel",
       "_view_count": null,
       "_view_module": "@jupyter-widgets/controls",
       "_view_module_version": "1.5.0",
       "_view_name": "HBoxView",
       "box_style": "",
       "children": [
        "IPY_MODEL_bc587d3b1c4f42768a7f0dfd6aabf60a",
        "IPY_MODEL_530f1233ba9b49d586dff68ef6c09e55",
        "IPY_MODEL_9c7f41b6419f42f887a2ad61f3ee5d60"
       ],
       "layout": "IPY_MODEL_10da8fd37590490689ce95e2e573f66a"
      }
     },
     "a5580c83e3d14449a7f9481c55f02c63": {
      "model_module": "@jupyter-widgets/base",
      "model_module_version": "1.2.0",
      "model_name": "LayoutModel",
      "state": {
       "_model_module": "@jupyter-widgets/base",
       "_model_module_version": "1.2.0",
       "_model_name": "LayoutModel",
       "_view_count": null,
       "_view_module": "@jupyter-widgets/base",
       "_view_module_version": "1.2.0",
       "_view_name": "LayoutView",
       "align_content": null,
       "align_items": null,
       "align_self": null,
       "border": null,
       "bottom": null,
       "display": null,
       "flex": null,
       "flex_flow": null,
       "grid_area": null,
       "grid_auto_columns": null,
       "grid_auto_flow": null,
       "grid_auto_rows": null,
       "grid_column": null,
       "grid_gap": null,
       "grid_row": null,
       "grid_template_areas": null,
       "grid_template_columns": null,
       "grid_template_rows": null,
       "height": null,
       "justify_content": null,
       "justify_items": null,
       "left": null,
       "margin": null,
       "max_height": null,
       "max_width": null,
       "min_height": null,
       "min_width": null,
       "object_fit": null,
       "object_position": null,
       "order": null,
       "overflow": null,
       "overflow_x": null,
       "overflow_y": null,
       "padding": null,
       "right": null,
       "top": null,
       "visibility": null,
       "width": null
      }
     },
     "a5647559395948eda91772e023428c8d": {
      "model_module": "@jupyter-widgets/controls",
      "model_module_version": "1.5.0",
      "model_name": "DescriptionStyleModel",
      "state": {
       "_model_module": "@jupyter-widgets/controls",
       "_model_module_version": "1.5.0",
       "_model_name": "DescriptionStyleModel",
       "_view_count": null,
       "_view_module": "@jupyter-widgets/base",
       "_view_module_version": "1.2.0",
       "_view_name": "StyleView",
       "description_width": ""
      }
     },
     "a64db42dcecc4230b1677168ab320069": {
      "model_module": "@jupyter-widgets/controls",
      "model_module_version": "1.5.0",
      "model_name": "ProgressStyleModel",
      "state": {
       "_model_module": "@jupyter-widgets/controls",
       "_model_module_version": "1.5.0",
       "_model_name": "ProgressStyleModel",
       "_view_count": null,
       "_view_module": "@jupyter-widgets/base",
       "_view_module_version": "1.2.0",
       "_view_name": "StyleView",
       "bar_color": null,
       "description_width": ""
      }
     },
     "a6bd93a3816f41d0b24877b622e47a16": {
      "model_module": "@jupyter-widgets/controls",
      "model_module_version": "1.5.0",
      "model_name": "HTMLModel",
      "state": {
       "_dom_classes": [],
       "_model_module": "@jupyter-widgets/controls",
       "_model_module_version": "1.5.0",
       "_model_name": "HTMLModel",
       "_view_count": null,
       "_view_module": "@jupyter-widgets/controls",
       "_view_module_version": "1.5.0",
       "_view_name": "HTMLView",
       "description": "",
       "description_tooltip": null,
       "layout": "IPY_MODEL_0f12fcb64b794997a2611ce4153d1f4d",
       "placeholder": "​",
       "style": "IPY_MODEL_b434c5c8003a44d880c781620082d3ab",
       "value": "Casting the dataset: 100%"
      }
     },
     "a818acc79f474e8999241ee9d133a3a9": {
      "model_module": "@jupyter-widgets/controls",
      "model_module_version": "1.5.0",
      "model_name": "HBoxModel",
      "state": {
       "_dom_classes": [],
       "_model_module": "@jupyter-widgets/controls",
       "_model_module_version": "1.5.0",
       "_model_name": "HBoxModel",
       "_view_count": null,
       "_view_module": "@jupyter-widgets/controls",
       "_view_module_version": "1.5.0",
       "_view_name": "HBoxView",
       "box_style": "",
       "children": [
        "IPY_MODEL_62d9140a550747708a678f9d7e7399d0",
        "IPY_MODEL_626228eda616413098f7bd79d3a5c24a",
        "IPY_MODEL_832411288c88468897684951f6b482c7"
       ],
       "layout": "IPY_MODEL_7d6753e31f3a4591bb2dcbe0a96c7958"
      }
     },
     "a9e80634c4b8451d9b083f23616b6dd6": {
      "model_module": "@jupyter-widgets/controls",
      "model_module_version": "1.5.0",
      "model_name": "ProgressStyleModel",
      "state": {
       "_model_module": "@jupyter-widgets/controls",
       "_model_module_version": "1.5.0",
       "_model_name": "ProgressStyleModel",
       "_view_count": null,
       "_view_module": "@jupyter-widgets/base",
       "_view_module_version": "1.2.0",
       "_view_name": "StyleView",
       "bar_color": null,
       "description_width": ""
      }
     },
     "aa078b6e01e84320b1b46a189ab4baa8": {
      "model_module": "@jupyter-widgets/base",
      "model_module_version": "1.2.0",
      "model_name": "LayoutModel",
      "state": {
       "_model_module": "@jupyter-widgets/base",
       "_model_module_version": "1.2.0",
       "_model_name": "LayoutModel",
       "_view_count": null,
       "_view_module": "@jupyter-widgets/base",
       "_view_module_version": "1.2.0",
       "_view_name": "LayoutView",
       "align_content": null,
       "align_items": null,
       "align_self": null,
       "border": null,
       "bottom": null,
       "display": null,
       "flex": null,
       "flex_flow": null,
       "grid_area": null,
       "grid_auto_columns": null,
       "grid_auto_flow": null,
       "grid_auto_rows": null,
       "grid_column": null,
       "grid_gap": null,
       "grid_row": null,
       "grid_template_areas": null,
       "grid_template_columns": null,
       "grid_template_rows": null,
       "height": null,
       "justify_content": null,
       "justify_items": null,
       "left": null,
       "margin": null,
       "max_height": null,
       "max_width": null,
       "min_height": null,
       "min_width": null,
       "object_fit": null,
       "object_position": null,
       "order": null,
       "overflow": null,
       "overflow_x": null,
       "overflow_y": null,
       "padding": null,
       "right": null,
       "top": null,
       "visibility": null,
       "width": null
      }
     },
     "accc367f9c1b4d939c0aa2514ea9e320": {
      "model_module": "@jupyter-widgets/base",
      "model_module_version": "1.2.0",
      "model_name": "LayoutModel",
      "state": {
       "_model_module": "@jupyter-widgets/base",
       "_model_module_version": "1.2.0",
       "_model_name": "LayoutModel",
       "_view_count": null,
       "_view_module": "@jupyter-widgets/base",
       "_view_module_version": "1.2.0",
       "_view_name": "LayoutView",
       "align_content": null,
       "align_items": null,
       "align_self": null,
       "border": null,
       "bottom": null,
       "display": null,
       "flex": null,
       "flex_flow": null,
       "grid_area": null,
       "grid_auto_columns": null,
       "grid_auto_flow": null,
       "grid_auto_rows": null,
       "grid_column": null,
       "grid_gap": null,
       "grid_row": null,
       "grid_template_areas": null,
       "grid_template_columns": null,
       "grid_template_rows": null,
       "height": null,
       "justify_content": null,
       "justify_items": null,
       "left": null,
       "margin": null,
       "max_height": null,
       "max_width": null,
       "min_height": null,
       "min_width": null,
       "object_fit": null,
       "object_position": null,
       "order": null,
       "overflow": null,
       "overflow_x": null,
       "overflow_y": null,
       "padding": null,
       "right": null,
       "top": null,
       "visibility": null,
       "width": null
      }
     },
     "aceb10ef9ecd45729acc9fe277a810e1": {
      "model_module": "@jupyter-widgets/controls",
      "model_module_version": "1.5.0",
      "model_name": "FloatProgressModel",
      "state": {
       "_dom_classes": [],
       "_model_module": "@jupyter-widgets/controls",
       "_model_module_version": "1.5.0",
       "_model_name": "FloatProgressModel",
       "_view_count": null,
       "_view_module": "@jupyter-widgets/controls",
       "_view_module_version": "1.5.0",
       "_view_name": "ProgressView",
       "bar_style": "success",
       "description": "",
       "description_tooltip": null,
       "layout": "IPY_MODEL_a5580c83e3d14449a7f9481c55f02c63",
       "max": 579,
       "min": 0,
       "orientation": "horizontal",
       "style": "IPY_MODEL_7c5056d95a7c4d17bc3ae95efb7cada2",
       "value": 579
      }
     },
     "ad5b6b2cde12486ba95c397bdf581f63": {
      "model_module": "@jupyter-widgets/controls",
      "model_module_version": "1.5.0",
      "model_name": "HBoxModel",
      "state": {
       "_dom_classes": [],
       "_model_module": "@jupyter-widgets/controls",
       "_model_module_version": "1.5.0",
       "_model_name": "HBoxModel",
       "_view_count": null,
       "_view_module": "@jupyter-widgets/controls",
       "_view_module_version": "1.5.0",
       "_view_name": "HBoxView",
       "box_style": "",
       "children": [
        "IPY_MODEL_bca19fad889a4c4b86da9bc37f27f48f",
        "IPY_MODEL_7c147e3f547d47d39f3aa6f127af37f6",
        "IPY_MODEL_a1090525804145eab5251de56027d751"
       ],
       "layout": "IPY_MODEL_008ec805300b408c9caa1cfe9bab0074"
      }
     },
     "af0ecc0e6a964cf39a928882016865bd": {
      "model_module": "@jupyter-widgets/controls",
      "model_module_version": "1.5.0",
      "model_name": "HBoxModel",
      "state": {
       "_dom_classes": [],
       "_model_module": "@jupyter-widgets/controls",
       "_model_module_version": "1.5.0",
       "_model_name": "HBoxModel",
       "_view_count": null,
       "_view_module": "@jupyter-widgets/controls",
       "_view_module_version": "1.5.0",
       "_view_name": "HBoxView",
       "box_style": "",
       "children": [
        "IPY_MODEL_0267da7b2180424da62b14209a666663",
        "IPY_MODEL_472a20fda5fe4668b59a3a0fa0a5fbf3",
        "IPY_MODEL_e2bc7bcfcda54ddaad642a5bf0755812"
       ],
       "layout": "IPY_MODEL_50b77503f1e64644b003bc8a5da4b769"
      }
     },
     "af2f9d8bec1e4d23b43179f026840138": {
      "model_module": "@jupyter-widgets/controls",
      "model_module_version": "1.5.0",
      "model_name": "FloatProgressModel",
      "state": {
       "_dom_classes": [],
       "_model_module": "@jupyter-widgets/controls",
       "_model_module_version": "1.5.0",
       "_model_name": "FloatProgressModel",
       "_view_count": null,
       "_view_module": "@jupyter-widgets/controls",
       "_view_module_version": "1.5.0",
       "_view_name": "ProgressView",
       "bar_style": "success",
       "description": "",
       "description_tooltip": null,
       "layout": "IPY_MODEL_4e922b88144e411ab99837ae3fa52bcb",
       "max": 1,
       "min": 0,
       "orientation": "horizontal",
       "style": "IPY_MODEL_62d5422655e745149d5b9b22b63ddd7f",
       "value": 1
      }
     },
     "b08e146563d54ad38ac56bfcb4c89b95": {
      "model_module": "@jupyter-widgets/controls",
      "model_module_version": "1.5.0",
      "model_name": "HTMLModel",
      "state": {
       "_dom_classes": [],
       "_model_module": "@jupyter-widgets/controls",
       "_model_module_version": "1.5.0",
       "_model_name": "HTMLModel",
       "_view_count": null,
       "_view_module": "@jupyter-widgets/controls",
       "_view_module_version": "1.5.0",
       "_view_name": "HTMLView",
       "description": "",
       "description_tooltip": null,
       "layout": "IPY_MODEL_f202e11f15254aa79e74f94e593e3dc3",
       "placeholder": "​",
       "style": "IPY_MODEL_fd746690089c4e9f8682eec0186be257",
       "value": " 10/10 [00:51&lt;00:00,  4.43s/ba]"
      }
     },
     "b11a8102761448b6a9dcda8605719fe1": {
      "model_module": "@jupyter-widgets/controls",
      "model_module_version": "1.5.0",
      "model_name": "HBoxModel",
      "state": {
       "_dom_classes": [],
       "_model_module": "@jupyter-widgets/controls",
       "_model_module_version": "1.5.0",
       "_model_name": "HBoxModel",
       "_view_count": null,
       "_view_module": "@jupyter-widgets/controls",
       "_view_module_version": "1.5.0",
       "_view_name": "HBoxView",
       "box_style": "",
       "children": [
        "IPY_MODEL_9ebae16cd7a345c88260f7853c2dbf46",
        "IPY_MODEL_cba7d662ab294d16a324bd1339e7db57",
        "IPY_MODEL_39dbf04840fd47d59c8b3174bc7a4d9b"
       ],
       "layout": "IPY_MODEL_45e8fb5080444c2897e1bc2154d7040d"
      }
     },
     "b19581a7b4bb4fb1952fc0fb458d56b5": {
      "model_module": "@jupyter-widgets/controls",
      "model_module_version": "1.5.0",
      "model_name": "HTMLModel",
      "state": {
       "_dom_classes": [],
       "_model_module": "@jupyter-widgets/controls",
       "_model_module_version": "1.5.0",
       "_model_name": "HTMLModel",
       "_view_count": null,
       "_view_module": "@jupyter-widgets/controls",
       "_view_module_version": "1.5.0",
       "_view_name": "HTMLView",
       "description": "",
       "description_tooltip": null,
       "layout": "IPY_MODEL_cf6e51afcd2644b4a9bc41ac12abcb97",
       "placeholder": "​",
       "style": "IPY_MODEL_15fcf93d1a2c4fab84765a869d51bbee",
       "value": "Casting the dataset: 100%"
      }
     },
     "b1ea3e266cfc4f7fa09fb63900b42000": {
      "model_module": "@jupyter-widgets/controls",
      "model_module_version": "1.5.0",
      "model_name": "HTMLModel",
      "state": {
       "_dom_classes": [],
       "_model_module": "@jupyter-widgets/controls",
       "_model_module_version": "1.5.0",
       "_model_name": "HTMLModel",
       "_view_count": null,
       "_view_module": "@jupyter-widgets/controls",
       "_view_module_version": "1.5.0",
       "_view_name": "HTMLView",
       "description": "",
       "description_tooltip": null,
       "layout": "IPY_MODEL_094f55e1983e4d8aac802248fdf5da31",
       "placeholder": "​",
       "style": "IPY_MODEL_4cc78f07cbf54aaaad91dd5090eac3ab",
       "value": " 1/1 [00:00&lt;00:00,  8.52ba/s]"
      }
     },
     "b2fce2e3bef744878753bfe7eb23b4ef": {
      "model_module": "@jupyter-widgets/base",
      "model_module_version": "1.2.0",
      "model_name": "LayoutModel",
      "state": {
       "_model_module": "@jupyter-widgets/base",
       "_model_module_version": "1.2.0",
       "_model_name": "LayoutModel",
       "_view_count": null,
       "_view_module": "@jupyter-widgets/base",
       "_view_module_version": "1.2.0",
       "_view_name": "LayoutView",
       "align_content": null,
       "align_items": null,
       "align_self": null,
       "border": null,
       "bottom": null,
       "display": null,
       "flex": null,
       "flex_flow": null,
       "grid_area": null,
       "grid_auto_columns": null,
       "grid_auto_flow": null,
       "grid_auto_rows": null,
       "grid_column": null,
       "grid_gap": null,
       "grid_row": null,
       "grid_template_areas": null,
       "grid_template_columns": null,
       "grid_template_rows": null,
       "height": null,
       "justify_content": null,
       "justify_items": null,
       "left": null,
       "margin": null,
       "max_height": null,
       "max_width": null,
       "min_height": null,
       "min_width": null,
       "object_fit": null,
       "object_position": null,
       "order": null,
       "overflow": null,
       "overflow_x": null,
       "overflow_y": null,
       "padding": null,
       "right": null,
       "top": null,
       "visibility": null,
       "width": null
      }
     },
     "b32d4582c166408fa44ae1b5220b1243": {
      "model_module": "@jupyter-widgets/controls",
      "model_module_version": "1.5.0",
      "model_name": "DescriptionStyleModel",
      "state": {
       "_model_module": "@jupyter-widgets/controls",
       "_model_module_version": "1.5.0",
       "_model_name": "DescriptionStyleModel",
       "_view_count": null,
       "_view_module": "@jupyter-widgets/base",
       "_view_module_version": "1.2.0",
       "_view_name": "StyleView",
       "description_width": ""
      }
     },
     "b434c5c8003a44d880c781620082d3ab": {
      "model_module": "@jupyter-widgets/controls",
      "model_module_version": "1.5.0",
      "model_name": "DescriptionStyleModel",
      "state": {
       "_model_module": "@jupyter-widgets/controls",
       "_model_module_version": "1.5.0",
       "_model_name": "DescriptionStyleModel",
       "_view_count": null,
       "_view_module": "@jupyter-widgets/base",
       "_view_module_version": "1.2.0",
       "_view_name": "StyleView",
       "description_width": ""
      }
     },
     "b46e4386554b49a9ad0831557faf4371": {
      "model_module": "@jupyter-widgets/controls",
      "model_module_version": "1.5.0",
      "model_name": "DescriptionStyleModel",
      "state": {
       "_model_module": "@jupyter-widgets/controls",
       "_model_module_version": "1.5.0",
       "_model_name": "DescriptionStyleModel",
       "_view_count": null,
       "_view_module": "@jupyter-widgets/base",
       "_view_module_version": "1.2.0",
       "_view_name": "StyleView",
       "description_width": ""
      }
     },
     "b4d8ef9d570c4a069ea517aadb3db813": {
      "model_module": "@jupyter-widgets/controls",
      "model_module_version": "1.5.0",
      "model_name": "DescriptionStyleModel",
      "state": {
       "_model_module": "@jupyter-widgets/controls",
       "_model_module_version": "1.5.0",
       "_model_name": "DescriptionStyleModel",
       "_view_count": null,
       "_view_module": "@jupyter-widgets/base",
       "_view_module_version": "1.2.0",
       "_view_name": "StyleView",
       "description_width": ""
      }
     },
     "b4eecbba70724f70bbb709920239f017": {
      "model_module": "@jupyter-widgets/base",
      "model_module_version": "1.2.0",
      "model_name": "LayoutModel",
      "state": {
       "_model_module": "@jupyter-widgets/base",
       "_model_module_version": "1.2.0",
       "_model_name": "LayoutModel",
       "_view_count": null,
       "_view_module": "@jupyter-widgets/base",
       "_view_module_version": "1.2.0",
       "_view_name": "LayoutView",
       "align_content": null,
       "align_items": null,
       "align_self": null,
       "border": null,
       "bottom": null,
       "display": null,
       "flex": null,
       "flex_flow": null,
       "grid_area": null,
       "grid_auto_columns": null,
       "grid_auto_flow": null,
       "grid_auto_rows": null,
       "grid_column": null,
       "grid_gap": null,
       "grid_row": null,
       "grid_template_areas": null,
       "grid_template_columns": null,
       "grid_template_rows": null,
       "height": null,
       "justify_content": null,
       "justify_items": null,
       "left": null,
       "margin": null,
       "max_height": null,
       "max_width": null,
       "min_height": null,
       "min_width": null,
       "object_fit": null,
       "object_position": null,
       "order": null,
       "overflow": null,
       "overflow_x": null,
       "overflow_y": null,
       "padding": null,
       "right": null,
       "top": null,
       "visibility": null,
       "width": null
      }
     },
     "b582b91bbf344397aa1ed76ac814d64e": {
      "model_module": "@jupyter-widgets/base",
      "model_module_version": "1.2.0",
      "model_name": "LayoutModel",
      "state": {
       "_model_module": "@jupyter-widgets/base",
       "_model_module_version": "1.2.0",
       "_model_name": "LayoutModel",
       "_view_count": null,
       "_view_module": "@jupyter-widgets/base",
       "_view_module_version": "1.2.0",
       "_view_name": "LayoutView",
       "align_content": null,
       "align_items": null,
       "align_self": null,
       "border": null,
       "bottom": null,
       "display": null,
       "flex": null,
       "flex_flow": null,
       "grid_area": null,
       "grid_auto_columns": null,
       "grid_auto_flow": null,
       "grid_auto_rows": null,
       "grid_column": null,
       "grid_gap": null,
       "grid_row": null,
       "grid_template_areas": null,
       "grid_template_columns": null,
       "grid_template_rows": null,
       "height": null,
       "justify_content": null,
       "justify_items": null,
       "left": null,
       "margin": null,
       "max_height": null,
       "max_width": null,
       "min_height": null,
       "min_width": null,
       "object_fit": null,
       "object_position": null,
       "order": null,
       "overflow": null,
       "overflow_x": null,
       "overflow_y": null,
       "padding": null,
       "right": null,
       "top": null,
       "visibility": null,
       "width": null
      }
     },
     "b630c4acf33441f0b1b97860e625d89d": {
      "model_module": "@jupyter-widgets/controls",
      "model_module_version": "1.5.0",
      "model_name": "DescriptionStyleModel",
      "state": {
       "_model_module": "@jupyter-widgets/controls",
       "_model_module_version": "1.5.0",
       "_model_name": "DescriptionStyleModel",
       "_view_count": null,
       "_view_module": "@jupyter-widgets/base",
       "_view_module_version": "1.2.0",
       "_view_name": "StyleView",
       "description_width": ""
      }
     },
     "b6f19d4cbaab4c85ab66607fcda7a089": {
      "model_module": "@jupyter-widgets/controls",
      "model_module_version": "1.5.0",
      "model_name": "HTMLModel",
      "state": {
       "_dom_classes": [],
       "_model_module": "@jupyter-widgets/controls",
       "_model_module_version": "1.5.0",
       "_model_name": "HTMLModel",
       "_view_count": null,
       "_view_module": "@jupyter-widgets/controls",
       "_view_module_version": "1.5.0",
       "_view_name": "HTMLView",
       "description": "",
       "description_tooltip": null,
       "layout": "IPY_MODEL_7bd824a058b0474aa77866677c2132cd",
       "placeholder": "​",
       "style": "IPY_MODEL_cc38f00da03d4f8589b5dd5088e32d1d",
       "value": "Casting to class labels: 100%"
      }
     },
     "b768022304284070a77ce0964126d699": {
      "model_module": "@jupyter-widgets/base",
      "model_module_version": "1.2.0",
      "model_name": "LayoutModel",
      "state": {
       "_model_module": "@jupyter-widgets/base",
       "_model_module_version": "1.2.0",
       "_model_name": "LayoutModel",
       "_view_count": null,
       "_view_module": "@jupyter-widgets/base",
       "_view_module_version": "1.2.0",
       "_view_name": "LayoutView",
       "align_content": null,
       "align_items": null,
       "align_self": null,
       "border": null,
       "bottom": null,
       "display": null,
       "flex": null,
       "flex_flow": null,
       "grid_area": null,
       "grid_auto_columns": null,
       "grid_auto_flow": null,
       "grid_auto_rows": null,
       "grid_column": null,
       "grid_gap": null,
       "grid_row": null,
       "grid_template_areas": null,
       "grid_template_columns": null,
       "grid_template_rows": null,
       "height": null,
       "justify_content": null,
       "justify_items": null,
       "left": null,
       "margin": null,
       "max_height": null,
       "max_width": null,
       "min_height": null,
       "min_width": null,
       "object_fit": null,
       "object_position": null,
       "order": null,
       "overflow": null,
       "overflow_x": null,
       "overflow_y": null,
       "padding": null,
       "right": null,
       "top": null,
       "visibility": null,
       "width": null
      }
     },
     "b778e5a12f5242a8ba2402b5e4e98d2c": {
      "model_module": "@jupyter-widgets/base",
      "model_module_version": "1.2.0",
      "model_name": "LayoutModel",
      "state": {
       "_model_module": "@jupyter-widgets/base",
       "_model_module_version": "1.2.0",
       "_model_name": "LayoutModel",
       "_view_count": null,
       "_view_module": "@jupyter-widgets/base",
       "_view_module_version": "1.2.0",
       "_view_name": "LayoutView",
       "align_content": null,
       "align_items": null,
       "align_self": null,
       "border": null,
       "bottom": null,
       "display": null,
       "flex": null,
       "flex_flow": null,
       "grid_area": null,
       "grid_auto_columns": null,
       "grid_auto_flow": null,
       "grid_auto_rows": null,
       "grid_column": null,
       "grid_gap": null,
       "grid_row": null,
       "grid_template_areas": null,
       "grid_template_columns": null,
       "grid_template_rows": null,
       "height": null,
       "justify_content": null,
       "justify_items": null,
       "left": null,
       "margin": null,
       "max_height": null,
       "max_width": null,
       "min_height": null,
       "min_width": null,
       "object_fit": null,
       "object_position": null,
       "order": null,
       "overflow": null,
       "overflow_x": null,
       "overflow_y": null,
       "padding": null,
       "right": null,
       "top": null,
       "visibility": null,
       "width": null
      }
     },
     "b79340cf515f4bf9925f9f9c57918f1b": {
      "model_module": "@jupyter-widgets/controls",
      "model_module_version": "1.5.0",
      "model_name": "HTMLModel",
      "state": {
       "_dom_classes": [],
       "_model_module": "@jupyter-widgets/controls",
       "_model_module_version": "1.5.0",
       "_model_name": "HTMLModel",
       "_view_count": null,
       "_view_module": "@jupyter-widgets/controls",
       "_view_module_version": "1.5.0",
       "_view_name": "HTMLView",
       "description": "",
       "description_tooltip": null,
       "layout": "IPY_MODEL_4d53c08e66534ebe988aaa790dab12ab",
       "placeholder": "​",
       "style": "IPY_MODEL_8fbadcfb2e3b43949e4243d690311c13",
       "value": " 28/28 [00:00&lt;00:00, 115.40ba/s]"
      }
     },
     "b84adc9ba93a4474b9585197bfa71381": {
      "model_module": "@jupyter-widgets/controls",
      "model_module_version": "1.5.0",
      "model_name": "DescriptionStyleModel",
      "state": {
       "_model_module": "@jupyter-widgets/controls",
       "_model_module_version": "1.5.0",
       "_model_name": "DescriptionStyleModel",
       "_view_count": null,
       "_view_module": "@jupyter-widgets/base",
       "_view_module_version": "1.2.0",
       "_view_name": "StyleView",
       "description_width": ""
      }
     },
     "b8eeb72dc87b4feb925cd4fae37bc7d1": {
      "model_module": "@jupyter-widgets/controls",
      "model_module_version": "1.5.0",
      "model_name": "HBoxModel",
      "state": {
       "_dom_classes": [],
       "_model_module": "@jupyter-widgets/controls",
       "_model_module_version": "1.5.0",
       "_model_name": "HBoxModel",
       "_view_count": null,
       "_view_module": "@jupyter-widgets/controls",
       "_view_module_version": "1.5.0",
       "_view_name": "HBoxView",
       "box_style": "",
       "children": [
        "IPY_MODEL_9cee0199d0e64b4f87be25228f003976",
        "IPY_MODEL_225ce9eb478c42009b8bbb0b53e2ed67",
        "IPY_MODEL_1ffb2cf2cf3e4955b52dc2bea1239152"
       ],
       "layout": "IPY_MODEL_e51e44b0393541cf988dcaa150df6791"
      }
     },
     "b922ea85888d476ea91c4683e5bcd685": {
      "model_module": "@jupyter-widgets/controls",
      "model_module_version": "1.5.0",
      "model_name": "DescriptionStyleModel",
      "state": {
       "_model_module": "@jupyter-widgets/controls",
       "_model_module_version": "1.5.0",
       "_model_name": "DescriptionStyleModel",
       "_view_count": null,
       "_view_module": "@jupyter-widgets/base",
       "_view_module_version": "1.2.0",
       "_view_name": "StyleView",
       "description_width": ""
      }
     },
     "ba6f2618198642929776560cd3d0f923": {
      "model_module": "@jupyter-widgets/base",
      "model_module_version": "1.2.0",
      "model_name": "LayoutModel",
      "state": {
       "_model_module": "@jupyter-widgets/base",
       "_model_module_version": "1.2.0",
       "_model_name": "LayoutModel",
       "_view_count": null,
       "_view_module": "@jupyter-widgets/base",
       "_view_module_version": "1.2.0",
       "_view_name": "LayoutView",
       "align_content": null,
       "align_items": null,
       "align_self": null,
       "border": null,
       "bottom": null,
       "display": null,
       "flex": null,
       "flex_flow": null,
       "grid_area": null,
       "grid_auto_columns": null,
       "grid_auto_flow": null,
       "grid_auto_rows": null,
       "grid_column": null,
       "grid_gap": null,
       "grid_row": null,
       "grid_template_areas": null,
       "grid_template_columns": null,
       "grid_template_rows": null,
       "height": null,
       "justify_content": null,
       "justify_items": null,
       "left": null,
       "margin": null,
       "max_height": null,
       "max_width": null,
       "min_height": null,
       "min_width": null,
       "object_fit": null,
       "object_position": null,
       "order": null,
       "overflow": null,
       "overflow_x": null,
       "overflow_y": null,
       "padding": null,
       "right": null,
       "top": null,
       "visibility": null,
       "width": null
      }
     },
     "bb4c5fda76ce4c44af405dead35061c3": {
      "model_module": "@jupyter-widgets/base",
      "model_module_version": "1.2.0",
      "model_name": "LayoutModel",
      "state": {
       "_model_module": "@jupyter-widgets/base",
       "_model_module_version": "1.2.0",
       "_model_name": "LayoutModel",
       "_view_count": null,
       "_view_module": "@jupyter-widgets/base",
       "_view_module_version": "1.2.0",
       "_view_name": "LayoutView",
       "align_content": null,
       "align_items": null,
       "align_self": null,
       "border": null,
       "bottom": null,
       "display": null,
       "flex": null,
       "flex_flow": null,
       "grid_area": null,
       "grid_auto_columns": null,
       "grid_auto_flow": null,
       "grid_auto_rows": null,
       "grid_column": null,
       "grid_gap": null,
       "grid_row": null,
       "grid_template_areas": null,
       "grid_template_columns": null,
       "grid_template_rows": null,
       "height": null,
       "justify_content": null,
       "justify_items": null,
       "left": null,
       "margin": null,
       "max_height": null,
       "max_width": null,
       "min_height": null,
       "min_width": null,
       "object_fit": null,
       "object_position": null,
       "order": null,
       "overflow": null,
       "overflow_x": null,
       "overflow_y": null,
       "padding": null,
       "right": null,
       "top": null,
       "visibility": null,
       "width": null
      }
     },
     "bb5e2a35aaa04176b3ea41557b6d63d0": {
      "model_module": "@jupyter-widgets/controls",
      "model_module_version": "1.5.0",
      "model_name": "ProgressStyleModel",
      "state": {
       "_model_module": "@jupyter-widgets/controls",
       "_model_module_version": "1.5.0",
       "_model_name": "ProgressStyleModel",
       "_view_count": null,
       "_view_module": "@jupyter-widgets/base",
       "_view_module_version": "1.2.0",
       "_view_name": "StyleView",
       "bar_color": null,
       "description_width": ""
      }
     },
     "bc225f7ceaa2440baf7ac8bf614ae63f": {
      "model_module": "@jupyter-widgets/controls",
      "model_module_version": "1.5.0",
      "model_name": "DescriptionStyleModel",
      "state": {
       "_model_module": "@jupyter-widgets/controls",
       "_model_module_version": "1.5.0",
       "_model_name": "DescriptionStyleModel",
       "_view_count": null,
       "_view_module": "@jupyter-widgets/base",
       "_view_module_version": "1.2.0",
       "_view_name": "StyleView",
       "description_width": ""
      }
     },
     "bc4cee8993c64b70a2d5fe36feea8102": {
      "model_module": "@jupyter-widgets/base",
      "model_module_version": "1.2.0",
      "model_name": "LayoutModel",
      "state": {
       "_model_module": "@jupyter-widgets/base",
       "_model_module_version": "1.2.0",
       "_model_name": "LayoutModel",
       "_view_count": null,
       "_view_module": "@jupyter-widgets/base",
       "_view_module_version": "1.2.0",
       "_view_name": "LayoutView",
       "align_content": null,
       "align_items": null,
       "align_self": null,
       "border": null,
       "bottom": null,
       "display": null,
       "flex": null,
       "flex_flow": null,
       "grid_area": null,
       "grid_auto_columns": null,
       "grid_auto_flow": null,
       "grid_auto_rows": null,
       "grid_column": null,
       "grid_gap": null,
       "grid_row": null,
       "grid_template_areas": null,
       "grid_template_columns": null,
       "grid_template_rows": null,
       "height": null,
       "justify_content": null,
       "justify_items": null,
       "left": null,
       "margin": null,
       "max_height": null,
       "max_width": null,
       "min_height": null,
       "min_width": null,
       "object_fit": null,
       "object_position": null,
       "order": null,
       "overflow": null,
       "overflow_x": null,
       "overflow_y": null,
       "padding": null,
       "right": null,
       "top": null,
       "visibility": null,
       "width": null
      }
     },
     "bc587d3b1c4f42768a7f0dfd6aabf60a": {
      "model_module": "@jupyter-widgets/controls",
      "model_module_version": "1.5.0",
      "model_name": "HTMLModel",
      "state": {
       "_dom_classes": [],
       "_model_module": "@jupyter-widgets/controls",
       "_model_module_version": "1.5.0",
       "_model_name": "HTMLModel",
       "_view_count": null,
       "_view_module": "@jupyter-widgets/controls",
       "_view_module_version": "1.5.0",
       "_view_name": "HTMLView",
       "description": "",
       "description_tooltip": null,
       "layout": "IPY_MODEL_9899a3f9a5044acbb1c079a1d81c73a9",
       "placeholder": "​",
       "style": "IPY_MODEL_3f8dc0961d21456c96ad4e93144bc525",
       "value": "100%"
      }
     },
     "bca19fad889a4c4b86da9bc37f27f48f": {
      "model_module": "@jupyter-widgets/controls",
      "model_module_version": "1.5.0",
      "model_name": "HTMLModel",
      "state": {
       "_dom_classes": [],
       "_model_module": "@jupyter-widgets/controls",
       "_model_module_version": "1.5.0",
       "_model_name": "HTMLModel",
       "_view_count": null,
       "_view_module": "@jupyter-widgets/controls",
       "_view_module_version": "1.5.0",
       "_view_name": "HTMLView",
       "description": "",
       "description_tooltip": null,
       "layout": "IPY_MODEL_13e755ea89b642718e76313817616ad8",
       "placeholder": "​",
       "style": "IPY_MODEL_206708fcaa1f42c68ea3387167a0a5b4",
       "value": "Casting to class labels: 100%"
      }
     },
     "bdcc55a4301b4e519bb3e9e787885eb4": {
      "model_module": "@jupyter-widgets/base",
      "model_module_version": "1.2.0",
      "model_name": "LayoutModel",
      "state": {
       "_model_module": "@jupyter-widgets/base",
       "_model_module_version": "1.2.0",
       "_model_name": "LayoutModel",
       "_view_count": null,
       "_view_module": "@jupyter-widgets/base",
       "_view_module_version": "1.2.0",
       "_view_name": "LayoutView",
       "align_content": null,
       "align_items": null,
       "align_self": null,
       "border": null,
       "bottom": null,
       "display": null,
       "flex": null,
       "flex_flow": null,
       "grid_area": null,
       "grid_auto_columns": null,
       "grid_auto_flow": null,
       "grid_auto_rows": null,
       "grid_column": null,
       "grid_gap": null,
       "grid_row": null,
       "grid_template_areas": null,
       "grid_template_columns": null,
       "grid_template_rows": null,
       "height": null,
       "justify_content": null,
       "justify_items": null,
       "left": null,
       "margin": null,
       "max_height": null,
       "max_width": null,
       "min_height": null,
       "min_width": null,
       "object_fit": null,
       "object_position": null,
       "order": null,
       "overflow": null,
       "overflow_x": null,
       "overflow_y": null,
       "padding": null,
       "right": null,
       "top": null,
       "visibility": null,
       "width": null
      }
     },
     "be24aa0f3f8a4855991e6337bc38ce0a": {
      "model_module": "@jupyter-widgets/controls",
      "model_module_version": "1.5.0",
      "model_name": "ProgressStyleModel",
      "state": {
       "_model_module": "@jupyter-widgets/controls",
       "_model_module_version": "1.5.0",
       "_model_name": "ProgressStyleModel",
       "_view_count": null,
       "_view_module": "@jupyter-widgets/base",
       "_view_module_version": "1.2.0",
       "_view_name": "StyleView",
       "bar_color": null,
       "description_width": ""
      }
     },
     "bef38407f4384a27bb6f65eacf3e8cfd": {
      "model_module": "@jupyter-widgets/controls",
      "model_module_version": "1.5.0",
      "model_name": "FloatProgressModel",
      "state": {
       "_dom_classes": [],
       "_model_module": "@jupyter-widgets/controls",
       "_model_module_version": "1.5.0",
       "_model_name": "FloatProgressModel",
       "_view_count": null,
       "_view_module": "@jupyter-widgets/controls",
       "_view_module_version": "1.5.0",
       "_view_name": "ProgressView",
       "bar_style": "success",
       "description": "",
       "description_tooltip": null,
       "layout": "IPY_MODEL_48610c6b53b7476ba61b8b354746991b",
       "max": 10,
       "min": 0,
       "orientation": "horizontal",
       "style": "IPY_MODEL_19f55ebe900c440195a3dcfd9af35312",
       "value": 10
      }
     },
     "bf1ac698c5414786b7a985837339e46c": {
      "model_module": "@jupyter-widgets/base",
      "model_module_version": "1.2.0",
      "model_name": "LayoutModel",
      "state": {
       "_model_module": "@jupyter-widgets/base",
       "_model_module_version": "1.2.0",
       "_model_name": "LayoutModel",
       "_view_count": null,
       "_view_module": "@jupyter-widgets/base",
       "_view_module_version": "1.2.0",
       "_view_name": "LayoutView",
       "align_content": null,
       "align_items": null,
       "align_self": null,
       "border": null,
       "bottom": null,
       "display": null,
       "flex": null,
       "flex_flow": null,
       "grid_area": null,
       "grid_auto_columns": null,
       "grid_auto_flow": null,
       "grid_auto_rows": null,
       "grid_column": null,
       "grid_gap": null,
       "grid_row": null,
       "grid_template_areas": null,
       "grid_template_columns": null,
       "grid_template_rows": null,
       "height": null,
       "justify_content": null,
       "justify_items": null,
       "left": null,
       "margin": null,
       "max_height": null,
       "max_width": null,
       "min_height": null,
       "min_width": null,
       "object_fit": null,
       "object_position": null,
       "order": null,
       "overflow": null,
       "overflow_x": null,
       "overflow_y": null,
       "padding": null,
       "right": null,
       "top": null,
       "visibility": null,
       "width": null
      }
     },
     "bfbe9b51e3574921886bec9e554e299b": {
      "model_module": "@jupyter-widgets/controls",
      "model_module_version": "1.5.0",
      "model_name": "HTMLModel",
      "state": {
       "_dom_classes": [],
       "_model_module": "@jupyter-widgets/controls",
       "_model_module_version": "1.5.0",
       "_model_name": "HTMLModel",
       "_view_count": null,
       "_view_module": "@jupyter-widgets/controls",
       "_view_module_version": "1.5.0",
       "_view_name": "HTMLView",
       "description": "",
       "description_tooltip": null,
       "layout": "IPY_MODEL_b2fce2e3bef744878753bfe7eb23b4ef",
       "placeholder": "​",
       "style": "IPY_MODEL_4f0c7226b1584227b5742ef205f4581c",
       "value": " 1/1 [00:00&lt;00:00, 15.04ba/s]"
      }
     },
     "c053d6d7b3aa436497b5fe220efba302": {
      "model_module": "@jupyter-widgets/controls",
      "model_module_version": "1.5.0",
      "model_name": "DescriptionStyleModel",
      "state": {
       "_model_module": "@jupyter-widgets/controls",
       "_model_module_version": "1.5.0",
       "_model_name": "DescriptionStyleModel",
       "_view_count": null,
       "_view_module": "@jupyter-widgets/base",
       "_view_module_version": "1.2.0",
       "_view_name": "StyleView",
       "description_width": ""
      }
     },
     "c0c8c3900a1a4dffa4f6313ddc5e99ad": {
      "model_module": "@jupyter-widgets/controls",
      "model_module_version": "1.5.0",
      "model_name": "HTMLModel",
      "state": {
       "_dom_classes": [],
       "_model_module": "@jupyter-widgets/controls",
       "_model_module_version": "1.5.0",
       "_model_name": "HTMLModel",
       "_view_count": null,
       "_view_module": "@jupyter-widgets/controls",
       "_view_module_version": "1.5.0",
       "_view_name": "HTMLView",
       "description": "",
       "description_tooltip": null,
       "layout": "IPY_MODEL_bdcc55a4301b4e519bb3e9e787885eb4",
       "placeholder": "​",
       "style": "IPY_MODEL_749ca7fbfbb44f3e854fe49fb8940684",
       "value": "Downloading: 100%"
      }
     },
     "c11247a93a67476ab47f7efc1e72accf": {
      "model_module": "@jupyter-widgets/controls",
      "model_module_version": "1.5.0",
      "model_name": "ProgressStyleModel",
      "state": {
       "_model_module": "@jupyter-widgets/controls",
       "_model_module_version": "1.5.0",
       "_model_name": "ProgressStyleModel",
       "_view_count": null,
       "_view_module": "@jupyter-widgets/base",
       "_view_module_version": "1.2.0",
       "_view_name": "StyleView",
       "bar_color": null,
       "description_width": ""
      }
     },
     "c1b9182e802e40d9a3cc193c4921de6d": {
      "model_module": "@jupyter-widgets/controls",
      "model_module_version": "1.5.0",
      "model_name": "HTMLModel",
      "state": {
       "_dom_classes": [],
       "_model_module": "@jupyter-widgets/controls",
       "_model_module_version": "1.5.0",
       "_model_name": "HTMLModel",
       "_view_count": null,
       "_view_module": "@jupyter-widgets/controls",
       "_view_module_version": "1.5.0",
       "_view_name": "HTMLView",
       "description": "",
       "description_tooltip": null,
       "layout": "IPY_MODEL_e919d06c137345cd9ae57fbedfacb39e",
       "placeholder": "​",
       "style": "IPY_MODEL_a0743be6bde34853a2635491014dcb74",
       "value": "Batches: 100%"
      }
     },
     "c1ea7b76982f4882a40c1aac7019f602": {
      "model_module": "@jupyter-widgets/controls",
      "model_module_version": "1.5.0",
      "model_name": "HTMLModel",
      "state": {
       "_dom_classes": [],
       "_model_module": "@jupyter-widgets/controls",
       "_model_module_version": "1.5.0",
       "_model_name": "HTMLModel",
       "_view_count": null,
       "_view_module": "@jupyter-widgets/controls",
       "_view_module_version": "1.5.0",
       "_view_name": "HTMLView",
       "description": "",
       "description_tooltip": null,
       "layout": "IPY_MODEL_f4b5f3be63c546e09b6f816e0207fbe7",
       "placeholder": "​",
       "style": "IPY_MODEL_e266b380893c43c3b3faa002f23b6f57",
       "value": "Casting the dataset: 100%"
      }
     },
     "c27b55efef994a97ae3bd06502202a25": {
      "model_module": "@jupyter-widgets/controls",
      "model_module_version": "1.5.0",
      "model_name": "FloatProgressModel",
      "state": {
       "_dom_classes": [],
       "_model_module": "@jupyter-widgets/controls",
       "_model_module_version": "1.5.0",
       "_model_name": "FloatProgressModel",
       "_view_count": null,
       "_view_module": "@jupyter-widgets/controls",
       "_view_module_version": "1.5.0",
       "_view_name": "ProgressView",
       "bar_style": "success",
       "description": "",
       "description_tooltip": null,
       "layout": "IPY_MODEL_b768022304284070a77ce0964126d699",
       "max": 28,
       "min": 0,
       "orientation": "horizontal",
       "style": "IPY_MODEL_5899231d725e4ddaafd495a8e5bb8f66",
       "value": 28
      }
     },
     "c2f36768a369428ab3c66091c9093590": {
      "model_module": "@jupyter-widgets/controls",
      "model_module_version": "1.5.0",
      "model_name": "DescriptionStyleModel",
      "state": {
       "_model_module": "@jupyter-widgets/controls",
       "_model_module_version": "1.5.0",
       "_model_name": "DescriptionStyleModel",
       "_view_count": null,
       "_view_module": "@jupyter-widgets/base",
       "_view_module_version": "1.2.0",
       "_view_name": "StyleView",
       "description_width": ""
      }
     },
     "c4036af831eb4c97a6381ec1b96e9d40": {
      "model_module": "@jupyter-widgets/base",
      "model_module_version": "1.2.0",
      "model_name": "LayoutModel",
      "state": {
       "_model_module": "@jupyter-widgets/base",
       "_model_module_version": "1.2.0",
       "_model_name": "LayoutModel",
       "_view_count": null,
       "_view_module": "@jupyter-widgets/base",
       "_view_module_version": "1.2.0",
       "_view_name": "LayoutView",
       "align_content": null,
       "align_items": null,
       "align_self": null,
       "border": null,
       "bottom": null,
       "display": null,
       "flex": null,
       "flex_flow": null,
       "grid_area": null,
       "grid_auto_columns": null,
       "grid_auto_flow": null,
       "grid_auto_rows": null,
       "grid_column": null,
       "grid_gap": null,
       "grid_row": null,
       "grid_template_areas": null,
       "grid_template_columns": null,
       "grid_template_rows": null,
       "height": null,
       "justify_content": null,
       "justify_items": null,
       "left": null,
       "margin": null,
       "max_height": null,
       "max_width": null,
       "min_height": null,
       "min_width": null,
       "object_fit": null,
       "object_position": null,
       "order": null,
       "overflow": null,
       "overflow_x": null,
       "overflow_y": null,
       "padding": null,
       "right": null,
       "top": null,
       "visibility": null,
       "width": null
      }
     },
     "c4cc75ac09e6497fa41a15de361b925c": {
      "model_module": "@jupyter-widgets/base",
      "model_module_version": "1.2.0",
      "model_name": "LayoutModel",
      "state": {
       "_model_module": "@jupyter-widgets/base",
       "_model_module_version": "1.2.0",
       "_model_name": "LayoutModel",
       "_view_count": null,
       "_view_module": "@jupyter-widgets/base",
       "_view_module_version": "1.2.0",
       "_view_name": "LayoutView",
       "align_content": null,
       "align_items": null,
       "align_self": null,
       "border": null,
       "bottom": null,
       "display": null,
       "flex": null,
       "flex_flow": null,
       "grid_area": null,
       "grid_auto_columns": null,
       "grid_auto_flow": null,
       "grid_auto_rows": null,
       "grid_column": null,
       "grid_gap": null,
       "grid_row": null,
       "grid_template_areas": null,
       "grid_template_columns": null,
       "grid_template_rows": null,
       "height": null,
       "justify_content": null,
       "justify_items": null,
       "left": null,
       "margin": null,
       "max_height": null,
       "max_width": null,
       "min_height": null,
       "min_width": null,
       "object_fit": null,
       "object_position": null,
       "order": null,
       "overflow": null,
       "overflow_x": null,
       "overflow_y": null,
       "padding": null,
       "right": null,
       "top": null,
       "visibility": null,
       "width": null
      }
     },
     "c693bbb100114578be966af412562a60": {
      "model_module": "@jupyter-widgets/base",
      "model_module_version": "1.2.0",
      "model_name": "LayoutModel",
      "state": {
       "_model_module": "@jupyter-widgets/base",
       "_model_module_version": "1.2.0",
       "_model_name": "LayoutModel",
       "_view_count": null,
       "_view_module": "@jupyter-widgets/base",
       "_view_module_version": "1.2.0",
       "_view_name": "LayoutView",
       "align_content": null,
       "align_items": null,
       "align_self": null,
       "border": null,
       "bottom": null,
       "display": null,
       "flex": null,
       "flex_flow": null,
       "grid_area": null,
       "grid_auto_columns": null,
       "grid_auto_flow": null,
       "grid_auto_rows": null,
       "grid_column": null,
       "grid_gap": null,
       "grid_row": null,
       "grid_template_areas": null,
       "grid_template_columns": null,
       "grid_template_rows": null,
       "height": null,
       "justify_content": null,
       "justify_items": null,
       "left": null,
       "margin": null,
       "max_height": null,
       "max_width": null,
       "min_height": null,
       "min_width": null,
       "object_fit": null,
       "object_position": null,
       "order": null,
       "overflow": null,
       "overflow_x": null,
       "overflow_y": null,
       "padding": null,
       "right": null,
       "top": null,
       "visibility": null,
       "width": null
      }
     },
     "c6e002ffd4014b699c7d6978ff9a0c6a": {
      "model_module": "@jupyter-widgets/controls",
      "model_module_version": "1.5.0",
      "model_name": "DescriptionStyleModel",
      "state": {
       "_model_module": "@jupyter-widgets/controls",
       "_model_module_version": "1.5.0",
       "_model_name": "DescriptionStyleModel",
       "_view_count": null,
       "_view_module": "@jupyter-widgets/base",
       "_view_module_version": "1.2.0",
       "_view_name": "StyleView",
       "description_width": ""
      }
     },
     "c7261d239bd7447c8de596c38190a43f": {
      "model_module": "@jupyter-widgets/base",
      "model_module_version": "1.2.0",
      "model_name": "LayoutModel",
      "state": {
       "_model_module": "@jupyter-widgets/base",
       "_model_module_version": "1.2.0",
       "_model_name": "LayoutModel",
       "_view_count": null,
       "_view_module": "@jupyter-widgets/base",
       "_view_module_version": "1.2.0",
       "_view_name": "LayoutView",
       "align_content": null,
       "align_items": null,
       "align_self": null,
       "border": null,
       "bottom": null,
       "display": null,
       "flex": null,
       "flex_flow": null,
       "grid_area": null,
       "grid_auto_columns": null,
       "grid_auto_flow": null,
       "grid_auto_rows": null,
       "grid_column": null,
       "grid_gap": null,
       "grid_row": null,
       "grid_template_areas": null,
       "grid_template_columns": null,
       "grid_template_rows": null,
       "height": null,
       "justify_content": null,
       "justify_items": null,
       "left": null,
       "margin": null,
       "max_height": null,
       "max_width": null,
       "min_height": null,
       "min_width": null,
       "object_fit": null,
       "object_position": null,
       "order": null,
       "overflow": null,
       "overflow_x": null,
       "overflow_y": null,
       "padding": null,
       "right": null,
       "top": null,
       "visibility": null,
       "width": null
      }
     },
     "c88eca18b8364c048435c2483f550b65": {
      "model_module": "@jupyter-widgets/base",
      "model_module_version": "1.2.0",
      "model_name": "LayoutModel",
      "state": {
       "_model_module": "@jupyter-widgets/base",
       "_model_module_version": "1.2.0",
       "_model_name": "LayoutModel",
       "_view_count": null,
       "_view_module": "@jupyter-widgets/base",
       "_view_module_version": "1.2.0",
       "_view_name": "LayoutView",
       "align_content": null,
       "align_items": null,
       "align_self": null,
       "border": null,
       "bottom": null,
       "display": null,
       "flex": null,
       "flex_flow": null,
       "grid_area": null,
       "grid_auto_columns": null,
       "grid_auto_flow": null,
       "grid_auto_rows": null,
       "grid_column": null,
       "grid_gap": null,
       "grid_row": null,
       "grid_template_areas": null,
       "grid_template_columns": null,
       "grid_template_rows": null,
       "height": null,
       "justify_content": null,
       "justify_items": null,
       "left": null,
       "margin": null,
       "max_height": null,
       "max_width": null,
       "min_height": null,
       "min_width": null,
       "object_fit": null,
       "object_position": null,
       "order": null,
       "overflow": null,
       "overflow_x": null,
       "overflow_y": null,
       "padding": null,
       "right": null,
       "top": null,
       "visibility": null,
       "width": null
      }
     },
     "c89b2a36b84846d2875698d99a2fb8d1": {
      "model_module": "@jupyter-widgets/controls",
      "model_module_version": "1.5.0",
      "model_name": "HTMLModel",
      "state": {
       "_dom_classes": [],
       "_model_module": "@jupyter-widgets/controls",
       "_model_module_version": "1.5.0",
       "_model_name": "HTMLModel",
       "_view_count": null,
       "_view_module": "@jupyter-widgets/controls",
       "_view_module_version": "1.5.0",
       "_view_name": "HTMLView",
       "description": "",
       "description_tooltip": null,
       "layout": "IPY_MODEL_06f705b0588f4cb9915fcb285f6c4bc4",
       "placeholder": "​",
       "style": "IPY_MODEL_8c90c7982f0c4a638b9853e264e71da4",
       "value": " 10/10 [00:54&lt;00:00,  4.72s/ba]"
      }
     },
     "c89e0f0c2cf24727945c9269366ebfe6": {
      "model_module": "@jupyter-widgets/controls",
      "model_module_version": "1.5.0",
      "model_name": "LabelModel",
      "state": {
       "_dom_classes": [],
       "_model_module": "@jupyter-widgets/controls",
       "_model_module_version": "1.5.0",
       "_model_name": "LabelModel",
       "_view_count": null,
       "_view_module": "@jupyter-widgets/controls",
       "_view_module_version": "1.5.0",
       "_view_name": "LabelView",
       "description": "",
       "description_tooltip": null,
       "layout": "IPY_MODEL_6b317cd7df684d42a4c0c08d89ad6fe8",
       "placeholder": "​",
       "style": "IPY_MODEL_e9e60308e73f4cf194d31a919df6f944",
       "value": ""
      }
     },
     "c8b3667155b74a2bab6f6b2a171f0b31": {
      "model_module": "@jupyter-widgets/controls",
      "model_module_version": "1.5.0",
      "model_name": "HBoxModel",
      "state": {
       "_dom_classes": [],
       "_model_module": "@jupyter-widgets/controls",
       "_model_module_version": "1.5.0",
       "_model_name": "HBoxModel",
       "_view_count": null,
       "_view_module": "@jupyter-widgets/controls",
       "_view_module_version": "1.5.0",
       "_view_name": "HBoxView",
       "box_style": "",
       "children": [
        "IPY_MODEL_2e1986c7b75a43a4850e3d555abe1fd1",
        "IPY_MODEL_25caff8412d24e6dbb5d617059ee8795",
        "IPY_MODEL_ed0d77d769f84cffb462ba084bccbd8c"
       ],
       "layout": "IPY_MODEL_2d05bbc573674786b3d6acf1b52d2292"
      }
     },
     "c8bff406c63b4771bac38aee2e93b1ce": {
      "model_module": "@jupyter-widgets/controls",
      "model_module_version": "1.5.0",
      "model_name": "ProgressStyleModel",
      "state": {
       "_model_module": "@jupyter-widgets/controls",
       "_model_module_version": "1.5.0",
       "_model_name": "ProgressStyleModel",
       "_view_count": null,
       "_view_module": "@jupyter-widgets/base",
       "_view_module_version": "1.2.0",
       "_view_name": "StyleView",
       "bar_color": null,
       "description_width": ""
      }
     },
     "c9ec132fd0954ffc98b3ac78acfe9693": {
      "model_module": "@jupyter-widgets/controls",
      "model_module_version": "1.5.0",
      "model_name": "HTMLModel",
      "state": {
       "_dom_classes": [],
       "_model_module": "@jupyter-widgets/controls",
       "_model_module_version": "1.5.0",
       "_model_name": "HTMLModel",
       "_view_count": null,
       "_view_module": "@jupyter-widgets/controls",
       "_view_module_version": "1.5.0",
       "_view_name": "HTMLView",
       "description": "",
       "description_tooltip": null,
       "layout": "IPY_MODEL_369b51ff07424a4aa993bc5d396ca2bd",
       "placeholder": "​",
       "style": "IPY_MODEL_82398b90a227413196da18854c6fbd66",
       "value": "100%"
      }
     },
     "c9eef009f34c4b08a22d426454dda41f": {
      "model_module": "@jupyter-widgets/controls",
      "model_module_version": "1.5.0",
      "model_name": "DescriptionStyleModel",
      "state": {
       "_model_module": "@jupyter-widgets/controls",
       "_model_module_version": "1.5.0",
       "_model_name": "DescriptionStyleModel",
       "_view_count": null,
       "_view_module": "@jupyter-widgets/base",
       "_view_module_version": "1.2.0",
       "_view_name": "StyleView",
       "description_width": ""
      }
     },
     "ca33fc28c4c3475e87717712ab896327": {
      "model_module": "@jupyter-widgets/controls",
      "model_module_version": "1.5.0",
      "model_name": "FloatProgressModel",
      "state": {
       "_dom_classes": [],
       "_model_module": "@jupyter-widgets/controls",
       "_model_module_version": "1.5.0",
       "_model_name": "FloatProgressModel",
       "_view_count": null,
       "_view_module": "@jupyter-widgets/controls",
       "_view_module_version": "1.5.0",
       "_view_name": "ProgressView",
       "bar_style": "success",
       "description": "",
       "description_tooltip": null,
       "layout": "IPY_MODEL_de1ee4694b8f4f77807f82837646a3e1",
       "max": 10,
       "min": 0,
       "orientation": "horizontal",
       "style": "IPY_MODEL_479e16ea9ac145b6b06e359976310e70",
       "value": 10
      }
     },
     "cb86d77b4d7646adbb9b0071cf01f9ec": {
      "model_module": "@jupyter-widgets/controls",
      "model_module_version": "1.5.0",
      "model_name": "DescriptionStyleModel",
      "state": {
       "_model_module": "@jupyter-widgets/controls",
       "_model_module_version": "1.5.0",
       "_model_name": "DescriptionStyleModel",
       "_view_count": null,
       "_view_module": "@jupyter-widgets/base",
       "_view_module_version": "1.2.0",
       "_view_name": "StyleView",
       "description_width": ""
      }
     },
     "cba7d662ab294d16a324bd1339e7db57": {
      "model_module": "@jupyter-widgets/controls",
      "model_module_version": "1.5.0",
      "model_name": "FloatProgressModel",
      "state": {
       "_dom_classes": [],
       "_model_module": "@jupyter-widgets/controls",
       "_model_module_version": "1.5.0",
       "_model_name": "FloatProgressModel",
       "_view_count": null,
       "_view_module": "@jupyter-widgets/controls",
       "_view_module_version": "1.5.0",
       "_view_name": "ProgressView",
       "bar_style": "success",
       "description": "",
       "description_tooltip": null,
       "layout": "IPY_MODEL_78699cf64fc047239dad2d6b956264b6",
       "max": 10,
       "min": 0,
       "orientation": "horizontal",
       "style": "IPY_MODEL_013955a32f274ff4a668c5add5752354",
       "value": 10
      }
     },
     "cc38f00da03d4f8589b5dd5088e32d1d": {
      "model_module": "@jupyter-widgets/controls",
      "model_module_version": "1.5.0",
      "model_name": "DescriptionStyleModel",
      "state": {
       "_model_module": "@jupyter-widgets/controls",
       "_model_module_version": "1.5.0",
       "_model_name": "DescriptionStyleModel",
       "_view_count": null,
       "_view_module": "@jupyter-widgets/base",
       "_view_module_version": "1.2.0",
       "_view_name": "StyleView",
       "description_width": ""
      }
     },
     "cef9411d85094199be5fa1a990a9073d": {
      "model_module": "@jupyter-widgets/controls",
      "model_module_version": "1.5.0",
      "model_name": "HTMLModel",
      "state": {
       "_dom_classes": [],
       "_model_module": "@jupyter-widgets/controls",
       "_model_module_version": "1.5.0",
       "_model_name": "HTMLModel",
       "_view_count": null,
       "_view_module": "@jupyter-widgets/controls",
       "_view_module_version": "1.5.0",
       "_view_name": "HTMLView",
       "description": "",
       "description_tooltip": null,
       "layout": "IPY_MODEL_e5fdd5820dc749d48dc4bb3ce9c629f7",
       "placeholder": "​",
       "style": "IPY_MODEL_f479440ad245418a8cd348fc4b41621a",
       "value": "Downloading builder script: "
      }
     },
     "cf6e51afcd2644b4a9bc41ac12abcb97": {
      "model_module": "@jupyter-widgets/base",
      "model_module_version": "1.2.0",
      "model_name": "LayoutModel",
      "state": {
       "_model_module": "@jupyter-widgets/base",
       "_model_module_version": "1.2.0",
       "_model_name": "LayoutModel",
       "_view_count": null,
       "_view_module": "@jupyter-widgets/base",
       "_view_module_version": "1.2.0",
       "_view_name": "LayoutView",
       "align_content": null,
       "align_items": null,
       "align_self": null,
       "border": null,
       "bottom": null,
       "display": null,
       "flex": null,
       "flex_flow": null,
       "grid_area": null,
       "grid_auto_columns": null,
       "grid_auto_flow": null,
       "grid_auto_rows": null,
       "grid_column": null,
       "grid_gap": null,
       "grid_row": null,
       "grid_template_areas": null,
       "grid_template_columns": null,
       "grid_template_rows": null,
       "height": null,
       "justify_content": null,
       "justify_items": null,
       "left": null,
       "margin": null,
       "max_height": null,
       "max_width": null,
       "min_height": null,
       "min_width": null,
       "object_fit": null,
       "object_position": null,
       "order": null,
       "overflow": null,
       "overflow_x": null,
       "overflow_y": null,
       "padding": null,
       "right": null,
       "top": null,
       "visibility": null,
       "width": null
      }
     },
     "d019df9bf3f943f7b783e81a4cd3c3cd": {
      "model_module": "@jupyter-widgets/controls",
      "model_module_version": "1.5.0",
      "model_name": "FloatProgressModel",
      "state": {
       "_dom_classes": [],
       "_model_module": "@jupyter-widgets/controls",
       "_model_module_version": "1.5.0",
       "_model_name": "FloatProgressModel",
       "_view_count": null,
       "_view_module": "@jupyter-widgets/controls",
       "_view_module_version": "1.5.0",
       "_view_name": "ProgressView",
       "bar_style": "success",
       "description": "",
       "description_tooltip": null,
       "layout": "IPY_MODEL_7da456a77ca2477388a44247e9c2b70e",
       "max": 52,
       "min": 0,
       "orientation": "horizontal",
       "style": "IPY_MODEL_fab3909a08294514a3b57a4cb70b446a",
       "value": 52
      }
     },
     "d0d9687294bc41318a0b5e0ef99eb085": {
      "model_module": "@jupyter-widgets/controls",
      "model_module_version": "1.5.0",
      "model_name": "FloatProgressModel",
      "state": {
       "_dom_classes": [],
       "_model_module": "@jupyter-widgets/controls",
       "_model_module_version": "1.5.0",
       "_model_name": "FloatProgressModel",
       "_view_count": null,
       "_view_module": "@jupyter-widgets/controls",
       "_view_module_version": "1.5.0",
       "_view_name": "ProgressView",
       "bar_style": "success",
       "description": "",
       "description_tooltip": null,
       "layout": "IPY_MODEL_8f34374d1f14476099b4af3afba49ea8",
       "max": 1,
       "min": 0,
       "orientation": "horizontal",
       "style": "IPY_MODEL_a64db42dcecc4230b1677168ab320069",
       "value": 1
      }
     },
     "d1d85bc21b8e4c56be194269342ba51f": {
      "model_module": "@jupyter-widgets/controls",
      "model_module_version": "1.5.0",
      "model_name": "ProgressStyleModel",
      "state": {
       "_model_module": "@jupyter-widgets/controls",
       "_model_module_version": "1.5.0",
       "_model_name": "ProgressStyleModel",
       "_view_count": null,
       "_view_module": "@jupyter-widgets/base",
       "_view_module_version": "1.2.0",
       "_view_name": "StyleView",
       "bar_color": null,
       "description_width": ""
      }
     },
     "d4354a41791747b1a2fbcadb84b2e702": {
      "model_module": "@jupyter-widgets/controls",
      "model_module_version": "1.5.0",
      "model_name": "HBoxModel",
      "state": {
       "_dom_classes": [],
       "_model_module": "@jupyter-widgets/controls",
       "_model_module_version": "1.5.0",
       "_model_name": "HBoxModel",
       "_view_count": null,
       "_view_module": "@jupyter-widgets/controls",
       "_view_module_version": "1.5.0",
       "_view_name": "HBoxView",
       "box_style": "",
       "children": [
        "IPY_MODEL_71e096c16725402d9078d9c165ff7955",
        "IPY_MODEL_4afa07b7063e40e78260c2b2be477e0b",
        "IPY_MODEL_ef29d781ac924635b40f48e8a73004a2"
       ],
       "layout": "IPY_MODEL_3ae07ec5944d451db4bd757489eff6c1"
      }
     },
     "d44f23d8f6e14bdcb8e93571b28da70e": {
      "model_module": "@jupyter-widgets/controls",
      "model_module_version": "1.5.0",
      "model_name": "DescriptionStyleModel",
      "state": {
       "_model_module": "@jupyter-widgets/controls",
       "_model_module_version": "1.5.0",
       "_model_name": "DescriptionStyleModel",
       "_view_count": null,
       "_view_module": "@jupyter-widgets/base",
       "_view_module_version": "1.2.0",
       "_view_name": "StyleView",
       "description_width": ""
      }
     },
     "d589063afb4d4da7ad5fc799284bc40e": {
      "model_module": "@jupyter-widgets/base",
      "model_module_version": "1.2.0",
      "model_name": "LayoutModel",
      "state": {
       "_model_module": "@jupyter-widgets/base",
       "_model_module_version": "1.2.0",
       "_model_name": "LayoutModel",
       "_view_count": null,
       "_view_module": "@jupyter-widgets/base",
       "_view_module_version": "1.2.0",
       "_view_name": "LayoutView",
       "align_content": null,
       "align_items": null,
       "align_self": null,
       "border": null,
       "bottom": null,
       "display": null,
       "flex": null,
       "flex_flow": null,
       "grid_area": null,
       "grid_auto_columns": null,
       "grid_auto_flow": null,
       "grid_auto_rows": null,
       "grid_column": null,
       "grid_gap": null,
       "grid_row": null,
       "grid_template_areas": null,
       "grid_template_columns": null,
       "grid_template_rows": null,
       "height": null,
       "justify_content": null,
       "justify_items": null,
       "left": null,
       "margin": null,
       "max_height": null,
       "max_width": null,
       "min_height": null,
       "min_width": null,
       "object_fit": null,
       "object_position": null,
       "order": null,
       "overflow": null,
       "overflow_x": null,
       "overflow_y": null,
       "padding": null,
       "right": null,
       "top": null,
       "visibility": null,
       "width": null
      }
     },
     "d5a61ff9406b432481570b04ba1ddda9": {
      "model_module": "@jupyter-widgets/controls",
      "model_module_version": "1.5.0",
      "model_name": "HTMLModel",
      "state": {
       "_dom_classes": [],
       "_model_module": "@jupyter-widgets/controls",
       "_model_module_version": "1.5.0",
       "_model_name": "HTMLModel",
       "_view_count": null,
       "_view_module": "@jupyter-widgets/controls",
       "_view_module_version": "1.5.0",
       "_view_name": "HTMLView",
       "description": "",
       "description_tooltip": null,
       "layout": "IPY_MODEL_1604da7300514f09a0dac08b87b999f9",
       "placeholder": "​",
       "style": "IPY_MODEL_51a1baca8133486bb42654a0ef6489d6",
       "value": " 28/28 [00:00&lt;00:00, 98.91ba/s]"
      }
     },
     "d5cb23564b914f6ba65b049b243f0cb1": {
      "model_module": "@jupyter-widgets/controls",
      "model_module_version": "1.5.0",
      "model_name": "DescriptionStyleModel",
      "state": {
       "_model_module": "@jupyter-widgets/controls",
       "_model_module_version": "1.5.0",
       "_model_name": "DescriptionStyleModel",
       "_view_count": null,
       "_view_module": "@jupyter-widgets/base",
       "_view_module_version": "1.2.0",
       "_view_name": "StyleView",
       "description_width": ""
      }
     },
     "d73f0864529746a799d42c8201118f61": {
      "model_module": "@jupyter-widgets/controls",
      "model_module_version": "1.5.0",
      "model_name": "HBoxModel",
      "state": {
       "_dom_classes": [],
       "_model_module": "@jupyter-widgets/controls",
       "_model_module_version": "1.5.0",
       "_model_name": "HBoxModel",
       "_view_count": null,
       "_view_module": "@jupyter-widgets/controls",
       "_view_module_version": "1.5.0",
       "_view_name": "HBoxView",
       "box_style": "",
       "children": [
        "IPY_MODEL_cef9411d85094199be5fa1a990a9073d",
        "IPY_MODEL_6b6d4148a63142e48378a93f98b22945",
        "IPY_MODEL_4b92447a4b7443048b8b13b47b15cec3"
       ],
       "layout": "IPY_MODEL_0fdb6be9b7e845f9baa915a47cb1afaa"
      }
     },
     "d7a175eb533b4794aa09683a631f7529": {
      "model_module": "@jupyter-widgets/base",
      "model_module_version": "1.2.0",
      "model_name": "LayoutModel",
      "state": {
       "_model_module": "@jupyter-widgets/base",
       "_model_module_version": "1.2.0",
       "_model_name": "LayoutModel",
       "_view_count": null,
       "_view_module": "@jupyter-widgets/base",
       "_view_module_version": "1.2.0",
       "_view_name": "LayoutView",
       "align_content": null,
       "align_items": null,
       "align_self": null,
       "border": null,
       "bottom": null,
       "display": null,
       "flex": null,
       "flex_flow": null,
       "grid_area": null,
       "grid_auto_columns": null,
       "grid_auto_flow": null,
       "grid_auto_rows": null,
       "grid_column": null,
       "grid_gap": null,
       "grid_row": null,
       "grid_template_areas": null,
       "grid_template_columns": null,
       "grid_template_rows": null,
       "height": null,
       "justify_content": null,
       "justify_items": null,
       "left": null,
       "margin": null,
       "max_height": null,
       "max_width": null,
       "min_height": null,
       "min_width": null,
       "object_fit": null,
       "object_position": null,
       "order": null,
       "overflow": null,
       "overflow_x": null,
       "overflow_y": null,
       "padding": null,
       "right": null,
       "top": null,
       "visibility": null,
       "width": null
      }
     },
     "da0a35f2ba9440669be9a506b6ffc899": {
      "model_module": "@jupyter-widgets/controls",
      "model_module_version": "1.5.0",
      "model_name": "HBoxModel",
      "state": {
       "_dom_classes": [],
       "_model_module": "@jupyter-widgets/controls",
       "_model_module_version": "1.5.0",
       "_model_name": "HBoxModel",
       "_view_count": null,
       "_view_module": "@jupyter-widgets/controls",
       "_view_module_version": "1.5.0",
       "_view_name": "HBoxView",
       "box_style": "",
       "children": [
        "IPY_MODEL_7976132235854605b99ecb4cb67a11d0",
        "IPY_MODEL_0f7cc96498aa48668c0e5f0e36bccea4",
        "IPY_MODEL_0ce39e348bf94dd7ab87b1753eb404c1"
       ],
       "layout": "IPY_MODEL_89d7a57548d245f19869b112287a3cd5"
      }
     },
     "db8bff02690e40a6861ae2501fbe966e": {
      "model_module": "@jupyter-widgets/controls",
      "model_module_version": "1.5.0",
      "model_name": "FloatProgressModel",
      "state": {
       "_dom_classes": [],
       "_model_module": "@jupyter-widgets/controls",
       "_model_module_version": "1.5.0",
       "_model_name": "FloatProgressModel",
       "_view_count": null,
       "_view_module": "@jupyter-widgets/controls",
       "_view_module_version": "1.5.0",
       "_view_name": "ProgressView",
       "bar_style": "success",
       "description": "",
       "description_tooltip": null,
       "layout": "IPY_MODEL_9912b271c7ec4a87a6fa9a5738589a1e",
       "max": 1,
       "min": 0,
       "orientation": "horizontal",
       "style": "IPY_MODEL_be24aa0f3f8a4855991e6337bc38ce0a",
       "value": 1
      }
     },
     "dca0f1e5a1094eb3af4f385c79f2c764": {
      "model_module": "@jupyter-widgets/controls",
      "model_module_version": "1.5.0",
      "model_name": "DescriptionStyleModel",
      "state": {
       "_model_module": "@jupyter-widgets/controls",
       "_model_module_version": "1.5.0",
       "_model_name": "DescriptionStyleModel",
       "_view_count": null,
       "_view_module": "@jupyter-widgets/base",
       "_view_module_version": "1.2.0",
       "_view_name": "StyleView",
       "description_width": ""
      }
     },
     "de1ee4694b8f4f77807f82837646a3e1": {
      "model_module": "@jupyter-widgets/base",
      "model_module_version": "1.2.0",
      "model_name": "LayoutModel",
      "state": {
       "_model_module": "@jupyter-widgets/base",
       "_model_module_version": "1.2.0",
       "_model_name": "LayoutModel",
       "_view_count": null,
       "_view_module": "@jupyter-widgets/base",
       "_view_module_version": "1.2.0",
       "_view_name": "LayoutView",
       "align_content": null,
       "align_items": null,
       "align_self": null,
       "border": null,
       "bottom": null,
       "display": null,
       "flex": null,
       "flex_flow": null,
       "grid_area": null,
       "grid_auto_columns": null,
       "grid_auto_flow": null,
       "grid_auto_rows": null,
       "grid_column": null,
       "grid_gap": null,
       "grid_row": null,
       "grid_template_areas": null,
       "grid_template_columns": null,
       "grid_template_rows": null,
       "height": null,
       "justify_content": null,
       "justify_items": null,
       "left": null,
       "margin": null,
       "max_height": null,
       "max_width": null,
       "min_height": null,
       "min_width": null,
       "object_fit": null,
       "object_position": null,
       "order": null,
       "overflow": null,
       "overflow_x": null,
       "overflow_y": null,
       "padding": null,
       "right": null,
       "top": null,
       "visibility": null,
       "width": null
      }
     },
     "de6fcc01c6f846b282375b4df102cf34": {
      "model_module": "@jupyter-widgets/controls",
      "model_module_version": "1.5.0",
      "model_name": "FloatProgressModel",
      "state": {
       "_dom_classes": [],
       "_model_module": "@jupyter-widgets/controls",
       "_model_module_version": "1.5.0",
       "_model_name": "FloatProgressModel",
       "_view_count": null,
       "_view_module": "@jupyter-widgets/controls",
       "_view_module_version": "1.5.0",
       "_view_name": "ProgressView",
       "bar_style": "success",
       "description": "",
       "description_tooltip": null,
       "layout": "IPY_MODEL_2b342bcf8cf948ec83350bb075facd52",
       "max": 10,
       "min": 0,
       "orientation": "horizontal",
       "style": "IPY_MODEL_3c7973bfdaac45bc87936d8219149a8b",
       "value": 10
      }
     },
     "deca92a2fe8045a380383299a97a7b6c": {
      "model_module": "@jupyter-widgets/controls",
      "model_module_version": "1.5.0",
      "model_name": "HTMLModel",
      "state": {
       "_dom_classes": [],
       "_model_module": "@jupyter-widgets/controls",
       "_model_module_version": "1.5.0",
       "_model_name": "HTMLModel",
       "_view_count": null,
       "_view_module": "@jupyter-widgets/controls",
       "_view_module_version": "1.5.0",
       "_view_name": "HTMLView",
       "description": "",
       "description_tooltip": null,
       "layout": "IPY_MODEL_8c45c889494a466b8e84d35c29a38eec",
       "placeholder": "​",
       "style": "IPY_MODEL_610a697c2b2c4a8ca895bcee288192d8",
       "value": "Casting to class labels: 100%"
      }
     },
     "df1ff76ec64d4b00ab28b010ccae8957": {
      "model_module": "@jupyter-widgets/base",
      "model_module_version": "1.2.0",
      "model_name": "LayoutModel",
      "state": {
       "_model_module": "@jupyter-widgets/base",
       "_model_module_version": "1.2.0",
       "_model_name": "LayoutModel",
       "_view_count": null,
       "_view_module": "@jupyter-widgets/base",
       "_view_module_version": "1.2.0",
       "_view_name": "LayoutView",
       "align_content": null,
       "align_items": null,
       "align_self": null,
       "border": null,
       "bottom": null,
       "display": null,
       "flex": null,
       "flex_flow": null,
       "grid_area": null,
       "grid_auto_columns": null,
       "grid_auto_flow": null,
       "grid_auto_rows": null,
       "grid_column": null,
       "grid_gap": null,
       "grid_row": null,
       "grid_template_areas": null,
       "grid_template_columns": null,
       "grid_template_rows": null,
       "height": null,
       "justify_content": null,
       "justify_items": null,
       "left": null,
       "margin": null,
       "max_height": null,
       "max_width": null,
       "min_height": null,
       "min_width": null,
       "object_fit": null,
       "object_position": null,
       "order": null,
       "overflow": null,
       "overflow_x": null,
       "overflow_y": null,
       "padding": null,
       "right": null,
       "top": null,
       "visibility": null,
       "width": null
      }
     },
     "dfa5ae9e6937454daf6a10522cf50710": {
      "model_module": "@jupyter-widgets/base",
      "model_module_version": "1.2.0",
      "model_name": "LayoutModel",
      "state": {
       "_model_module": "@jupyter-widgets/base",
       "_model_module_version": "1.2.0",
       "_model_name": "LayoutModel",
       "_view_count": null,
       "_view_module": "@jupyter-widgets/base",
       "_view_module_version": "1.2.0",
       "_view_name": "LayoutView",
       "align_content": null,
       "align_items": null,
       "align_self": null,
       "border": null,
       "bottom": null,
       "display": null,
       "flex": null,
       "flex_flow": null,
       "grid_area": null,
       "grid_auto_columns": null,
       "grid_auto_flow": null,
       "grid_auto_rows": null,
       "grid_column": null,
       "grid_gap": null,
       "grid_row": null,
       "grid_template_areas": null,
       "grid_template_columns": null,
       "grid_template_rows": null,
       "height": null,
       "justify_content": null,
       "justify_items": null,
       "left": null,
       "margin": null,
       "max_height": null,
       "max_width": null,
       "min_height": null,
       "min_width": null,
       "object_fit": null,
       "object_position": null,
       "order": null,
       "overflow": null,
       "overflow_x": null,
       "overflow_y": null,
       "padding": null,
       "right": null,
       "top": null,
       "visibility": null,
       "width": null
      }
     },
     "e02b88b9ac8a451c99334fad960a5dc3": {
      "model_module": "@jupyter-widgets/controls",
      "model_module_version": "1.5.0",
      "model_name": "HTMLModel",
      "state": {
       "_dom_classes": [],
       "_model_module": "@jupyter-widgets/controls",
       "_model_module_version": "1.5.0",
       "_model_name": "HTMLModel",
       "_view_count": null,
       "_view_module": "@jupyter-widgets/controls",
       "_view_module_version": "1.5.0",
       "_view_name": "HTMLView",
       "description": "",
       "description_tooltip": null,
       "layout": "IPY_MODEL_2d10bab08800493698585a14a7db697d",
       "placeholder": "​",
       "style": "IPY_MODEL_04600af0107e497c9ddac4ebe57d4906",
       "value": " 1/1 [00:00&lt;00:00, 11.94ba/s]"
      }
     },
     "e1d3f8eb114f4e57862b9b1d121a2c70": {
      "model_module": "@jupyter-widgets/controls",
      "model_module_version": "1.5.0",
      "model_name": "HTMLModel",
      "state": {
       "_dom_classes": [],
       "_model_module": "@jupyter-widgets/controls",
       "_model_module_version": "1.5.0",
       "_model_name": "HTMLModel",
       "_view_count": null,
       "_view_module": "@jupyter-widgets/controls",
       "_view_module_version": "1.5.0",
       "_view_name": "HTMLView",
       "description": "",
       "description_tooltip": null,
       "layout": "IPY_MODEL_b582b91bbf344397aa1ed76ac814d64e",
       "placeholder": "​",
       "style": "IPY_MODEL_7a2cbdbb140a46efbf157e2918e518c2",
       "value": " 52.0/52.0 [00:00&lt;00:00, 1.51kB/s]"
      }
     },
     "e266b380893c43c3b3faa002f23b6f57": {
      "model_module": "@jupyter-widgets/controls",
      "model_module_version": "1.5.0",
      "model_name": "DescriptionStyleModel",
      "state": {
       "_model_module": "@jupyter-widgets/controls",
       "_model_module_version": "1.5.0",
       "_model_name": "DescriptionStyleModel",
       "_view_count": null,
       "_view_module": "@jupyter-widgets/base",
       "_view_module_version": "1.2.0",
       "_view_name": "StyleView",
       "description_width": ""
      }
     },
     "e2bc7bcfcda54ddaad642a5bf0755812": {
      "model_module": "@jupyter-widgets/controls",
      "model_module_version": "1.5.0",
      "model_name": "HTMLModel",
      "state": {
       "_dom_classes": [],
       "_model_module": "@jupyter-widgets/controls",
       "_model_module_version": "1.5.0",
       "_model_name": "HTMLModel",
       "_view_count": null,
       "_view_module": "@jupyter-widgets/controls",
       "_view_module_version": "1.5.0",
       "_view_name": "HTMLView",
       "description": "",
       "description_tooltip": null,
       "layout": "IPY_MODEL_7cb7014db5744683a1e7276e1ddbf9d5",
       "placeholder": "​",
       "style": "IPY_MODEL_c2f36768a369428ab3c66091c9093590",
       "value": " 354M/354M [00:13&lt;00:00, 32.0MB/s]"
      }
     },
     "e2c05b6ac1d6487ab07b75c4e54f4a76": {
      "model_module": "@jupyter-widgets/base",
      "model_module_version": "1.2.0",
      "model_name": "LayoutModel",
      "state": {
       "_model_module": "@jupyter-widgets/base",
       "_model_module_version": "1.2.0",
       "_model_name": "LayoutModel",
       "_view_count": null,
       "_view_module": "@jupyter-widgets/base",
       "_view_module_version": "1.2.0",
       "_view_name": "LayoutView",
       "align_content": null,
       "align_items": null,
       "align_self": null,
       "border": null,
       "bottom": null,
       "display": null,
       "flex": null,
       "flex_flow": null,
       "grid_area": null,
       "grid_auto_columns": null,
       "grid_auto_flow": null,
       "grid_auto_rows": null,
       "grid_column": null,
       "grid_gap": null,
       "grid_row": null,
       "grid_template_areas": null,
       "grid_template_columns": null,
       "grid_template_rows": null,
       "height": null,
       "justify_content": null,
       "justify_items": null,
       "left": null,
       "margin": null,
       "max_height": null,
       "max_width": null,
       "min_height": null,
       "min_width": null,
       "object_fit": null,
       "object_position": null,
       "order": null,
       "overflow": null,
       "overflow_x": null,
       "overflow_y": null,
       "padding": null,
       "right": null,
       "top": null,
       "visibility": null,
       "width": null
      }
     },
     "e3600d4ef24548ceb50d8a7ac2921d4b": {
      "model_module": "@jupyter-widgets/controls",
      "model_module_version": "1.5.0",
      "model_name": "HTMLModel",
      "state": {
       "_dom_classes": [],
       "_model_module": "@jupyter-widgets/controls",
       "_model_module_version": "1.5.0",
       "_model_name": "HTMLModel",
       "_view_count": null,
       "_view_module": "@jupyter-widgets/controls",
       "_view_module_version": "1.5.0",
       "_view_name": "HTMLView",
       "description": "",
       "description_tooltip": null,
       "layout": "IPY_MODEL_273b67c18aed408898bf855c1b91aac5",
       "placeholder": "​",
       "style": "IPY_MODEL_39df142c57ee45e4a6aa29f2db6f398d",
       "value": " 1/1 [00:00&lt;00:00, 14.98ba/s]"
      }
     },
     "e51e44b0393541cf988dcaa150df6791": {
      "model_module": "@jupyter-widgets/base",
      "model_module_version": "1.2.0",
      "model_name": "LayoutModel",
      "state": {
       "_model_module": "@jupyter-widgets/base",
       "_model_module_version": "1.2.0",
       "_model_name": "LayoutModel",
       "_view_count": null,
       "_view_module": "@jupyter-widgets/base",
       "_view_module_version": "1.2.0",
       "_view_name": "LayoutView",
       "align_content": null,
       "align_items": null,
       "align_self": null,
       "border": null,
       "bottom": null,
       "display": null,
       "flex": null,
       "flex_flow": null,
       "grid_area": null,
       "grid_auto_columns": null,
       "grid_auto_flow": null,
       "grid_auto_rows": null,
       "grid_column": null,
       "grid_gap": null,
       "grid_row": null,
       "grid_template_areas": null,
       "grid_template_columns": null,
       "grid_template_rows": null,
       "height": null,
       "justify_content": null,
       "justify_items": null,
       "left": null,
       "margin": null,
       "max_height": null,
       "max_width": null,
       "min_height": null,
       "min_width": null,
       "object_fit": null,
       "object_position": null,
       "order": null,
       "overflow": null,
       "overflow_x": null,
       "overflow_y": null,
       "padding": null,
       "right": null,
       "top": null,
       "visibility": null,
       "width": null
      }
     },
     "e5fdd5820dc749d48dc4bb3ce9c629f7": {
      "model_module": "@jupyter-widgets/base",
      "model_module_version": "1.2.0",
      "model_name": "LayoutModel",
      "state": {
       "_model_module": "@jupyter-widgets/base",
       "_model_module_version": "1.2.0",
       "_model_name": "LayoutModel",
       "_view_count": null,
       "_view_module": "@jupyter-widgets/base",
       "_view_module_version": "1.2.0",
       "_view_name": "LayoutView",
       "align_content": null,
       "align_items": null,
       "align_self": null,
       "border": null,
       "bottom": null,
       "display": null,
       "flex": null,
       "flex_flow": null,
       "grid_area": null,
       "grid_auto_columns": null,
       "grid_auto_flow": null,
       "grid_auto_rows": null,
       "grid_column": null,
       "grid_gap": null,
       "grid_row": null,
       "grid_template_areas": null,
       "grid_template_columns": null,
       "grid_template_rows": null,
       "height": null,
       "justify_content": null,
       "justify_items": null,
       "left": null,
       "margin": null,
       "max_height": null,
       "max_width": null,
       "min_height": null,
       "min_width": null,
       "object_fit": null,
       "object_position": null,
       "order": null,
       "overflow": null,
       "overflow_x": null,
       "overflow_y": null,
       "padding": null,
       "right": null,
       "top": null,
       "visibility": null,
       "width": null
      }
     },
     "e7d78e7f6521452db654c8d770db4d7a": {
      "model_module": "@jupyter-widgets/controls",
      "model_module_version": "1.5.0",
      "model_name": "ProgressStyleModel",
      "state": {
       "_model_module": "@jupyter-widgets/controls",
       "_model_module_version": "1.5.0",
       "_model_name": "ProgressStyleModel",
       "_view_count": null,
       "_view_module": "@jupyter-widgets/base",
       "_view_module_version": "1.2.0",
       "_view_name": "StyleView",
       "bar_color": null,
       "description_width": ""
      }
     },
     "e7db0b1324d44c5dbc04dcc9028cc3ee": {
      "model_module": "@jupyter-widgets/base",
      "model_module_version": "1.2.0",
      "model_name": "LayoutModel",
      "state": {
       "_model_module": "@jupyter-widgets/base",
       "_model_module_version": "1.2.0",
       "_model_name": "LayoutModel",
       "_view_count": null,
       "_view_module": "@jupyter-widgets/base",
       "_view_module_version": "1.2.0",
       "_view_name": "LayoutView",
       "align_content": null,
       "align_items": null,
       "align_self": null,
       "border": null,
       "bottom": null,
       "display": null,
       "flex": null,
       "flex_flow": null,
       "grid_area": null,
       "grid_auto_columns": null,
       "grid_auto_flow": null,
       "grid_auto_rows": null,
       "grid_column": null,
       "grid_gap": null,
       "grid_row": null,
       "grid_template_areas": null,
       "grid_template_columns": null,
       "grid_template_rows": null,
       "height": null,
       "justify_content": null,
       "justify_items": null,
       "left": null,
       "margin": null,
       "max_height": null,
       "max_width": null,
       "min_height": null,
       "min_width": null,
       "object_fit": null,
       "object_position": null,
       "order": null,
       "overflow": null,
       "overflow_x": null,
       "overflow_y": null,
       "padding": null,
       "right": null,
       "top": null,
       "visibility": null,
       "width": null
      }
     },
     "e919d06c137345cd9ae57fbedfacb39e": {
      "model_module": "@jupyter-widgets/base",
      "model_module_version": "1.2.0",
      "model_name": "LayoutModel",
      "state": {
       "_model_module": "@jupyter-widgets/base",
       "_model_module_version": "1.2.0",
       "_model_name": "LayoutModel",
       "_view_count": null,
       "_view_module": "@jupyter-widgets/base",
       "_view_module_version": "1.2.0",
       "_view_name": "LayoutView",
       "align_content": null,
       "align_items": null,
       "align_self": null,
       "border": null,
       "bottom": null,
       "display": null,
       "flex": null,
       "flex_flow": null,
       "grid_area": null,
       "grid_auto_columns": null,
       "grid_auto_flow": null,
       "grid_auto_rows": null,
       "grid_column": null,
       "grid_gap": null,
       "grid_row": null,
       "grid_template_areas": null,
       "grid_template_columns": null,
       "grid_template_rows": null,
       "height": null,
       "justify_content": null,
       "justify_items": null,
       "left": null,
       "margin": null,
       "max_height": null,
       "max_width": null,
       "min_height": null,
       "min_width": null,
       "object_fit": null,
       "object_position": null,
       "order": null,
       "overflow": null,
       "overflow_x": null,
       "overflow_y": null,
       "padding": null,
       "right": null,
       "top": null,
       "visibility": null,
       "width": null
      }
     },
     "e939c14c31c0467abbfc7ee84afb1b77": {
      "model_module": "@jupyter-widgets/base",
      "model_module_version": "1.2.0",
      "model_name": "LayoutModel",
      "state": {
       "_model_module": "@jupyter-widgets/base",
       "_model_module_version": "1.2.0",
       "_model_name": "LayoutModel",
       "_view_count": null,
       "_view_module": "@jupyter-widgets/base",
       "_view_module_version": "1.2.0",
       "_view_name": "LayoutView",
       "align_content": null,
       "align_items": null,
       "align_self": null,
       "border": null,
       "bottom": null,
       "display": null,
       "flex": null,
       "flex_flow": null,
       "grid_area": null,
       "grid_auto_columns": null,
       "grid_auto_flow": null,
       "grid_auto_rows": null,
       "grid_column": null,
       "grid_gap": null,
       "grid_row": null,
       "grid_template_areas": null,
       "grid_template_columns": null,
       "grid_template_rows": null,
       "height": null,
       "justify_content": null,
       "justify_items": null,
       "left": null,
       "margin": null,
       "max_height": null,
       "max_width": null,
       "min_height": null,
       "min_width": null,
       "object_fit": null,
       "object_position": null,
       "order": null,
       "overflow": null,
       "overflow_x": null,
       "overflow_y": null,
       "padding": null,
       "right": null,
       "top": null,
       "visibility": null,
       "width": null
      }
     },
     "e9e60308e73f4cf194d31a919df6f944": {
      "model_module": "@jupyter-widgets/controls",
      "model_module_version": "1.5.0",
      "model_name": "DescriptionStyleModel",
      "state": {
       "_model_module": "@jupyter-widgets/controls",
       "_model_module_version": "1.5.0",
       "_model_name": "DescriptionStyleModel",
       "_view_count": null,
       "_view_module": "@jupyter-widgets/base",
       "_view_module_version": "1.2.0",
       "_view_name": "StyleView",
       "description_width": ""
      }
     },
     "eae78773c21343fd96f2e5de97e9b4c5": {
      "model_module": "@jupyter-widgets/controls",
      "model_module_version": "1.5.0",
      "model_name": "HTMLModel",
      "state": {
       "_dom_classes": [],
       "_model_module": "@jupyter-widgets/controls",
       "_model_module_version": "1.5.0",
       "_model_name": "HTMLModel",
       "_view_count": null,
       "_view_module": "@jupyter-widgets/controls",
       "_view_module_version": "1.5.0",
       "_view_name": "HTMLView",
       "description": "",
       "description_tooltip": null,
       "layout": "IPY_MODEL_e7db0b1324d44c5dbc04dcc9028cc3ee",
       "placeholder": "​",
       "style": "IPY_MODEL_bc225f7ceaa2440baf7ac8bf614ae63f",
       "value": " 579/579 [00:00&lt;00:00, 15.6kB/s]"
      }
     },
     "ed0d77d769f84cffb462ba084bccbd8c": {
      "model_module": "@jupyter-widgets/controls",
      "model_module_version": "1.5.0",
      "model_name": "HTMLModel",
      "state": {
       "_dom_classes": [],
       "_model_module": "@jupyter-widgets/controls",
       "_model_module_version": "1.5.0",
       "_model_name": "HTMLModel",
       "_view_count": null,
       "_view_module": "@jupyter-widgets/controls",
       "_view_module_version": "1.5.0",
       "_view_name": "HTMLView",
       "description": "",
       "description_tooltip": null,
       "layout": "IPY_MODEL_90430ce53e1e469987996301bbb479bc",
       "placeholder": "​",
       "style": "IPY_MODEL_3fb9c6fe345d474f80264507c65eb564",
       "value": " 3/3 [00:00&lt;00:00, 18.20ba/s]"
      }
     },
     "ed6a22d46ba4422293b01600ca137ac2": {
      "model_module": "@jupyter-widgets/base",
      "model_module_version": "1.2.0",
      "model_name": "LayoutModel",
      "state": {
       "_model_module": "@jupyter-widgets/base",
       "_model_module_version": "1.2.0",
       "_model_name": "LayoutModel",
       "_view_count": null,
       "_view_module": "@jupyter-widgets/base",
       "_view_module_version": "1.2.0",
       "_view_name": "LayoutView",
       "align_content": null,
       "align_items": null,
       "align_self": null,
       "border": null,
       "bottom": null,
       "display": null,
       "flex": null,
       "flex_flow": null,
       "grid_area": null,
       "grid_auto_columns": null,
       "grid_auto_flow": null,
       "grid_auto_rows": null,
       "grid_column": null,
       "grid_gap": null,
       "grid_row": null,
       "grid_template_areas": null,
       "grid_template_columns": null,
       "grid_template_rows": null,
       "height": null,
       "justify_content": null,
       "justify_items": null,
       "left": null,
       "margin": null,
       "max_height": null,
       "max_width": null,
       "min_height": null,
       "min_width": null,
       "object_fit": null,
       "object_position": null,
       "order": null,
       "overflow": null,
       "overflow_x": null,
       "overflow_y": null,
       "padding": null,
       "right": null,
       "top": null,
       "visibility": null,
       "width": null
      }
     },
     "ed9340fb56034bf38cffaa18b4ca25b2": {
      "model_module": "@jupyter-widgets/controls",
      "model_module_version": "1.5.0",
      "model_name": "ProgressStyleModel",
      "state": {
       "_model_module": "@jupyter-widgets/controls",
       "_model_module_version": "1.5.0",
       "_model_name": "ProgressStyleModel",
       "_view_count": null,
       "_view_module": "@jupyter-widgets/base",
       "_view_module_version": "1.2.0",
       "_view_name": "StyleView",
       "bar_color": null,
       "description_width": ""
      }
     },
     "ef29d781ac924635b40f48e8a73004a2": {
      "model_module": "@jupyter-widgets/controls",
      "model_module_version": "1.5.0",
      "model_name": "HTMLModel",
      "state": {
       "_dom_classes": [],
       "_model_module": "@jupyter-widgets/controls",
       "_model_module_version": "1.5.0",
       "_model_name": "HTMLModel",
       "_view_count": null,
       "_view_module": "@jupyter-widgets/controls",
       "_view_module_version": "1.5.0",
       "_view_name": "HTMLView",
       "description": "",
       "description_tooltip": null,
       "layout": "IPY_MODEL_2c29352331da42e1b85222d51cefd9ff",
       "placeholder": "​",
       "style": "IPY_MODEL_94ec5ad587db49b8960c08142e28851c",
       "value": " 3/3 [00:00&lt;00:00, 16.79ba/s]"
      }
     },
     "ef5f86f0efb145daaeff9c2f44246fc6": {
      "model_module": "@jupyter-widgets/base",
      "model_module_version": "1.2.0",
      "model_name": "LayoutModel",
      "state": {
       "_model_module": "@jupyter-widgets/base",
       "_model_module_version": "1.2.0",
       "_model_name": "LayoutModel",
       "_view_count": null,
       "_view_module": "@jupyter-widgets/base",
       "_view_module_version": "1.2.0",
       "_view_name": "LayoutView",
       "align_content": null,
       "align_items": null,
       "align_self": null,
       "border": null,
       "bottom": null,
       "display": null,
       "flex": null,
       "flex_flow": null,
       "grid_area": null,
       "grid_auto_columns": null,
       "grid_auto_flow": null,
       "grid_auto_rows": null,
       "grid_column": null,
       "grid_gap": null,
       "grid_row": null,
       "grid_template_areas": null,
       "grid_template_columns": null,
       "grid_template_rows": null,
       "height": null,
       "justify_content": null,
       "justify_items": null,
       "left": null,
       "margin": null,
       "max_height": null,
       "max_width": null,
       "min_height": null,
       "min_width": null,
       "object_fit": null,
       "object_position": null,
       "order": null,
       "overflow": null,
       "overflow_x": null,
       "overflow_y": null,
       "padding": null,
       "right": null,
       "top": null,
       "visibility": null,
       "width": null
      }
     },
     "f1271e33ded344e298e3bb44e7eadc8c": {
      "model_module": "@jupyter-widgets/controls",
      "model_module_version": "1.5.0",
      "model_name": "HTMLModel",
      "state": {
       "_dom_classes": [],
       "_model_module": "@jupyter-widgets/controls",
       "_model_module_version": "1.5.0",
       "_model_name": "HTMLModel",
       "_view_count": null,
       "_view_module": "@jupyter-widgets/controls",
       "_view_module_version": "1.5.0",
       "_view_name": "HTMLView",
       "description": "",
       "description_tooltip": null,
       "layout": "IPY_MODEL_ba6f2618198642929776560cd3d0f923",
       "placeholder": "​",
       "style": "IPY_MODEL_b84adc9ba93a4474b9585197bfa71381",
       "value": "100%"
      }
     },
     "f134bfcb1fa745e1800ef3d80435d32a": {
      "model_module": "@jupyter-widgets/controls",
      "model_module_version": "1.5.0",
      "model_name": "FloatProgressModel",
      "state": {
       "_dom_classes": [],
       "_model_module": "@jupyter-widgets/controls",
       "_model_module_version": "1.5.0",
       "_model_name": "FloatProgressModel",
       "_view_count": null,
       "_view_module": "@jupyter-widgets/controls",
       "_view_module_version": "1.5.0",
       "_view_name": "ProgressView",
       "bar_style": "",
       "description": "",
       "description_tooltip": null,
       "layout": "IPY_MODEL_8160059c57204567a052d78e9b9c682c",
       "max": 1,
       "min": 0,
       "orientation": "horizontal",
       "style": "IPY_MODEL_43c0d3bada88478f8ddd8900f581b0f7",
       "value": 0
      }
     },
     "f151d4ca49744fbcb96cfd63962f9653": {
      "model_module": "@jupyter-widgets/base",
      "model_module_version": "1.2.0",
      "model_name": "LayoutModel",
      "state": {
       "_model_module": "@jupyter-widgets/base",
       "_model_module_version": "1.2.0",
       "_model_name": "LayoutModel",
       "_view_count": null,
       "_view_module": "@jupyter-widgets/base",
       "_view_module_version": "1.2.0",
       "_view_name": "LayoutView",
       "align_content": null,
       "align_items": null,
       "align_self": null,
       "border": null,
       "bottom": null,
       "display": null,
       "flex": null,
       "flex_flow": null,
       "grid_area": null,
       "grid_auto_columns": null,
       "grid_auto_flow": null,
       "grid_auto_rows": null,
       "grid_column": null,
       "grid_gap": null,
       "grid_row": null,
       "grid_template_areas": null,
       "grid_template_columns": null,
       "grid_template_rows": null,
       "height": null,
       "justify_content": null,
       "justify_items": null,
       "left": null,
       "margin": null,
       "max_height": null,
       "max_width": null,
       "min_height": null,
       "min_width": null,
       "object_fit": null,
       "object_position": null,
       "order": null,
       "overflow": null,
       "overflow_x": null,
       "overflow_y": null,
       "padding": null,
       "right": null,
       "top": null,
       "visibility": null,
       "width": null
      }
     },
     "f202e11f15254aa79e74f94e593e3dc3": {
      "model_module": "@jupyter-widgets/base",
      "model_module_version": "1.2.0",
      "model_name": "LayoutModel",
      "state": {
       "_model_module": "@jupyter-widgets/base",
       "_model_module_version": "1.2.0",
       "_model_name": "LayoutModel",
       "_view_count": null,
       "_view_module": "@jupyter-widgets/base",
       "_view_module_version": "1.2.0",
       "_view_name": "LayoutView",
       "align_content": null,
       "align_items": null,
       "align_self": null,
       "border": null,
       "bottom": null,
       "display": null,
       "flex": null,
       "flex_flow": null,
       "grid_area": null,
       "grid_auto_columns": null,
       "grid_auto_flow": null,
       "grid_auto_rows": null,
       "grid_column": null,
       "grid_gap": null,
       "grid_row": null,
       "grid_template_areas": null,
       "grid_template_columns": null,
       "grid_template_rows": null,
       "height": null,
       "justify_content": null,
       "justify_items": null,
       "left": null,
       "margin": null,
       "max_height": null,
       "max_width": null,
       "min_height": null,
       "min_width": null,
       "object_fit": null,
       "object_position": null,
       "order": null,
       "overflow": null,
       "overflow_x": null,
       "overflow_y": null,
       "padding": null,
       "right": null,
       "top": null,
       "visibility": null,
       "width": null
      }
     },
     "f270bdb478eb4d6d87d18c2a50dd2a6b": {
      "model_module": "@jupyter-widgets/controls",
      "model_module_version": "1.5.0",
      "model_name": "FloatProgressModel",
      "state": {
       "_dom_classes": [],
       "_model_module": "@jupyter-widgets/controls",
       "_model_module_version": "1.5.0",
       "_model_name": "FloatProgressModel",
       "_view_count": null,
       "_view_module": "@jupyter-widgets/controls",
       "_view_module_version": "1.5.0",
       "_view_name": "ProgressView",
       "bar_style": "success",
       "description": "",
       "description_tooltip": null,
       "layout": "IPY_MODEL_2ad6c4dd6f80435bb7dc2e498f0c5e8e",
       "max": 10,
       "min": 0,
       "orientation": "horizontal",
       "style": "IPY_MODEL_a201d44a19c844ffa04102a2a14622a5",
       "value": 10
      }
     },
     "f2e5b72983eb43a2a85aafb7acde40ac": {
      "model_module": "@jupyter-widgets/controls",
      "model_module_version": "1.5.0",
      "model_name": "DescriptionStyleModel",
      "state": {
       "_model_module": "@jupyter-widgets/controls",
       "_model_module_version": "1.5.0",
       "_model_name": "DescriptionStyleModel",
       "_view_count": null,
       "_view_module": "@jupyter-widgets/base",
       "_view_module_version": "1.2.0",
       "_view_name": "StyleView",
       "description_width": ""
      }
     },
     "f479440ad245418a8cd348fc4b41621a": {
      "model_module": "@jupyter-widgets/controls",
      "model_module_version": "1.5.0",
      "model_name": "DescriptionStyleModel",
      "state": {
       "_model_module": "@jupyter-widgets/controls",
       "_model_module_version": "1.5.0",
       "_model_name": "DescriptionStyleModel",
       "_view_count": null,
       "_view_module": "@jupyter-widgets/base",
       "_view_module_version": "1.2.0",
       "_view_name": "StyleView",
       "description_width": ""
      }
     },
     "f4b5f3be63c546e09b6f816e0207fbe7": {
      "model_module": "@jupyter-widgets/base",
      "model_module_version": "1.2.0",
      "model_name": "LayoutModel",
      "state": {
       "_model_module": "@jupyter-widgets/base",
       "_model_module_version": "1.2.0",
       "_model_name": "LayoutModel",
       "_view_count": null,
       "_view_module": "@jupyter-widgets/base",
       "_view_module_version": "1.2.0",
       "_view_name": "LayoutView",
       "align_content": null,
       "align_items": null,
       "align_self": null,
       "border": null,
       "bottom": null,
       "display": null,
       "flex": null,
       "flex_flow": null,
       "grid_area": null,
       "grid_auto_columns": null,
       "grid_auto_flow": null,
       "grid_auto_rows": null,
       "grid_column": null,
       "grid_gap": null,
       "grid_row": null,
       "grid_template_areas": null,
       "grid_template_columns": null,
       "grid_template_rows": null,
       "height": null,
       "justify_content": null,
       "justify_items": null,
       "left": null,
       "margin": null,
       "max_height": null,
       "max_width": null,
       "min_height": null,
       "min_width": null,
       "object_fit": null,
       "object_position": null,
       "order": null,
       "overflow": null,
       "overflow_x": null,
       "overflow_y": null,
       "padding": null,
       "right": null,
       "top": null,
       "visibility": null,
       "width": null
      }
     },
     "f4bc555060484d298736b4ad8c6d5ecf": {
      "model_module": "@jupyter-widgets/controls",
      "model_module_version": "1.5.0",
      "model_name": "HTMLModel",
      "state": {
       "_dom_classes": [],
       "_model_module": "@jupyter-widgets/controls",
       "_model_module_version": "1.5.0",
       "_model_name": "HTMLModel",
       "_view_count": null,
       "_view_module": "@jupyter-widgets/controls",
       "_view_module_version": "1.5.0",
       "_view_name": "HTMLView",
       "description": "",
       "description_tooltip": null,
       "layout": "IPY_MODEL_7c347cb62c2342a0837e1e328e614208",
       "placeholder": "​",
       "style": "IPY_MODEL_394ab9dac6f2451d85200af17b7e15e9",
       "value": "Downloading: 100%"
      }
     },
     "f5759e59ac944953bf92fb8025baa312": {
      "model_module": "@jupyter-widgets/controls",
      "model_module_version": "1.5.0",
      "model_name": "DescriptionStyleModel",
      "state": {
       "_model_module": "@jupyter-widgets/controls",
       "_model_module_version": "1.5.0",
       "_model_name": "DescriptionStyleModel",
       "_view_count": null,
       "_view_module": "@jupyter-widgets/base",
       "_view_module_version": "1.2.0",
       "_view_name": "StyleView",
       "description_width": ""
      }
     },
     "f661bc1f50374e61bc80d8c0fcbb2774": {
      "model_module": "@jupyter-widgets/base",
      "model_module_version": "1.2.0",
      "model_name": "LayoutModel",
      "state": {
       "_model_module": "@jupyter-widgets/base",
       "_model_module_version": "1.2.0",
       "_model_name": "LayoutModel",
       "_view_count": null,
       "_view_module": "@jupyter-widgets/base",
       "_view_module_version": "1.2.0",
       "_view_name": "LayoutView",
       "align_content": null,
       "align_items": null,
       "align_self": null,
       "border": null,
       "bottom": null,
       "display": null,
       "flex": null,
       "flex_flow": null,
       "grid_area": null,
       "grid_auto_columns": null,
       "grid_auto_flow": null,
       "grid_auto_rows": null,
       "grid_column": null,
       "grid_gap": null,
       "grid_row": null,
       "grid_template_areas": null,
       "grid_template_columns": null,
       "grid_template_rows": null,
       "height": null,
       "justify_content": null,
       "justify_items": null,
       "left": null,
       "margin": null,
       "max_height": null,
       "max_width": null,
       "min_height": null,
       "min_width": null,
       "object_fit": null,
       "object_position": null,
       "order": null,
       "overflow": null,
       "overflow_x": null,
       "overflow_y": null,
       "padding": null,
       "right": null,
       "top": null,
       "visibility": null,
       "width": null
      }
     },
     "f72641ddae404b91bc00e96cb15250c4": {
      "model_module": "@jupyter-widgets/controls",
      "model_module_version": "1.5.0",
      "model_name": "FloatProgressModel",
      "state": {
       "_dom_classes": [],
       "_model_module": "@jupyter-widgets/controls",
       "_model_module_version": "1.5.0",
       "_model_name": "FloatProgressModel",
       "_view_count": null,
       "_view_module": "@jupyter-widgets/controls",
       "_view_module_version": "1.5.0",
       "_view_name": "ProgressView",
       "bar_style": "success",
       "description": "",
       "description_tooltip": null,
       "layout": "IPY_MODEL_16fca567e0594666913bcfec4427ff01",
       "max": 1,
       "min": 0,
       "orientation": "horizontal",
       "style": "IPY_MODEL_e7d78e7f6521452db654c8d770db4d7a",
       "value": 1
      }
     },
     "f733f6b646ab4238a9abb9a062d62096": {
      "model_module": "@jupyter-widgets/controls",
      "model_module_version": "1.5.0",
      "model_name": "DescriptionStyleModel",
      "state": {
       "_model_module": "@jupyter-widgets/controls",
       "_model_module_version": "1.5.0",
       "_model_name": "DescriptionStyleModel",
       "_view_count": null,
       "_view_module": "@jupyter-widgets/base",
       "_view_module_version": "1.2.0",
       "_view_name": "StyleView",
       "description_width": ""
      }
     },
     "f7c4563bd5ba4b918d75a6dba1a6a337": {
      "model_module": "@jupyter-widgets/controls",
      "model_module_version": "1.5.0",
      "model_name": "HTMLModel",
      "state": {
       "_dom_classes": [],
       "_model_module": "@jupyter-widgets/controls",
       "_model_module_version": "1.5.0",
       "_model_name": "HTMLModel",
       "_view_count": null,
       "_view_module": "@jupyter-widgets/controls",
       "_view_module_version": "1.5.0",
       "_view_name": "HTMLView",
       "description": "",
       "description_tooltip": null,
       "layout": "IPY_MODEL_638c66a59ea34c2080382db1354e1c64",
       "placeholder": "​",
       "style": "IPY_MODEL_69a96ca0b74e4723a342a7b8f8cac269",
       "value": " 2.35M/2.35M [00:00&lt;00:00, 19.1MB/s]"
      }
     },
     "f88d545bd07243d09979444c3e2aa343": {
      "model_module": "@jupyter-widgets/controls",
      "model_module_version": "1.5.0",
      "model_name": "HBoxModel",
      "state": {
       "_dom_classes": [],
       "_model_module": "@jupyter-widgets/controls",
       "_model_module_version": "1.5.0",
       "_model_name": "HBoxModel",
       "_view_count": null,
       "_view_module": "@jupyter-widgets/controls",
       "_view_module_version": "1.5.0",
       "_view_name": "HBoxView",
       "box_style": "",
       "children": [
        "IPY_MODEL_f4bc555060484d298736b4ad8c6d5ecf",
        "IPY_MODEL_6f08abdf454142cf885b30d1777d8e9e",
        "IPY_MODEL_f7c4563bd5ba4b918d75a6dba1a6a337"
       ],
       "layout": "IPY_MODEL_bf1ac698c5414786b7a985837339e46c"
      }
     },
     "f98dbb0d802c4cbd95f3ac5ab76afcbf": {
      "model_module": "@jupyter-widgets/controls",
      "model_module_version": "1.5.0",
      "model_name": "HTMLModel",
      "state": {
       "_dom_classes": [],
       "_model_module": "@jupyter-widgets/controls",
       "_model_module_version": "1.5.0",
       "_model_name": "HTMLModel",
       "_view_count": null,
       "_view_module": "@jupyter-widgets/controls",
       "_view_module_version": "1.5.0",
       "_view_name": "HTMLView",
       "description": "",
       "description_tooltip": null,
       "layout": "IPY_MODEL_9430ade7a7054d6cad8a3b142a428b0c",
       "placeholder": "​",
       "style": "IPY_MODEL_dca0f1e5a1094eb3af4f385c79f2c764",
       "value": "100%"
      }
     },
     "fab3909a08294514a3b57a4cb70b446a": {
      "model_module": "@jupyter-widgets/controls",
      "model_module_version": "1.5.0",
      "model_name": "ProgressStyleModel",
      "state": {
       "_model_module": "@jupyter-widgets/controls",
       "_model_module_version": "1.5.0",
       "_model_name": "ProgressStyleModel",
       "_view_count": null,
       "_view_module": "@jupyter-widgets/base",
       "_view_module_version": "1.2.0",
       "_view_name": "StyleView",
       "bar_color": null,
       "description_width": ""
      }
     },
     "fca80c08e4c840669efd368850033685": {
      "model_module": "@jupyter-widgets/controls",
      "model_module_version": "1.5.0",
      "model_name": "HTMLModel",
      "state": {
       "_dom_classes": [],
       "_model_module": "@jupyter-widgets/controls",
       "_model_module_version": "1.5.0",
       "_model_name": "HTMLModel",
       "_view_count": null,
       "_view_module": "@jupyter-widgets/controls",
       "_view_module_version": "1.5.0",
       "_view_name": "HTMLView",
       "description": "",
       "description_tooltip": null,
       "layout": "IPY_MODEL_b778e5a12f5242a8ba2402b5e4e98d2c",
       "placeholder": "​",
       "style": "IPY_MODEL_cb86d77b4d7646adbb9b0071cf01f9ec",
       "value": " 10/10 [00:00&lt;00:00, 89.75ba/s]"
      }
     },
     "fd746690089c4e9f8682eec0186be257": {
      "model_module": "@jupyter-widgets/controls",
      "model_module_version": "1.5.0",
      "model_name": "DescriptionStyleModel",
      "state": {
       "_model_module": "@jupyter-widgets/controls",
       "_model_module_version": "1.5.0",
       "_model_name": "DescriptionStyleModel",
       "_view_count": null,
       "_view_module": "@jupyter-widgets/base",
       "_view_module_version": "1.2.0",
       "_view_name": "StyleView",
       "description_width": ""
      }
     },
     "ff9eea1419b847168a22607ece80390a": {
      "model_module": "@jupyter-widgets/base",
      "model_module_version": "1.2.0",
      "model_name": "LayoutModel",
      "state": {
       "_model_module": "@jupyter-widgets/base",
       "_model_module_version": "1.2.0",
       "_model_name": "LayoutModel",
       "_view_count": null,
       "_view_module": "@jupyter-widgets/base",
       "_view_module_version": "1.2.0",
       "_view_name": "LayoutView",
       "align_content": null,
       "align_items": null,
       "align_self": null,
       "border": null,
       "bottom": null,
       "display": null,
       "flex": null,
       "flex_flow": null,
       "grid_area": null,
       "grid_auto_columns": null,
       "grid_auto_flow": null,
       "grid_auto_rows": null,
       "grid_column": null,
       "grid_gap": null,
       "grid_row": null,
       "grid_template_areas": null,
       "grid_template_columns": null,
       "grid_template_rows": null,
       "height": null,
       "justify_content": null,
       "justify_items": null,
       "left": null,
       "margin": null,
       "max_height": null,
       "max_width": null,
       "min_height": null,
       "min_width": null,
       "object_fit": null,
       "object_position": null,
       "order": null,
       "overflow": null,
       "overflow_x": null,
       "overflow_y": null,
       "padding": null,
       "right": null,
       "top": null,
       "visibility": null,
       "width": null
      }
     }
    },
    "version_major": 2,
    "version_minor": 0
   }
  }
 },
 "nbformat": 4,
 "nbformat_minor": 5
}
